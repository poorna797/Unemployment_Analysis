{
 "cells": [
  {
   "cell_type": "code",
   "execution_count": 1,
   "id": "ec62ebec",
   "metadata": {},
   "outputs": [],
   "source": [
    "#importing the libraries\n",
    "import numpy as np\n",
    "import pandas as pd\n",
    "from matplotlib import pyplot as plt\n",
    "import seaborn as sns\n",
    "import plotly.express as px\n",
    "import datetime as dt"
   ]
  },
  {
   "cell_type": "code",
   "execution_count": 2,
   "id": "ab3dfdfd",
   "metadata": {},
   "outputs": [],
   "source": [
    "#importing the dataset\n",
    "df = pd.read_csv(r'/home/rguktongole/Downloads/Unemployment_Rate_upto_11_2020.csv')"
   ]
  },
  {
   "cell_type": "code",
   "execution_count": null,
   "id": "a50602c3",
   "metadata": {},
   "outputs": [],
   "source": []
  },
  {
   "cell_type": "code",
   "execution_count": 3,
   "id": "96dc08b0",
   "metadata": {},
   "outputs": [
    {
     "data": {
      "text/html": [
       "<div>\n",
       "<style scoped>\n",
       "    .dataframe tbody tr th:only-of-type {\n",
       "        vertical-align: middle;\n",
       "    }\n",
       "\n",
       "    .dataframe tbody tr th {\n",
       "        vertical-align: top;\n",
       "    }\n",
       "\n",
       "    .dataframe thead th {\n",
       "        text-align: right;\n",
       "    }\n",
       "</style>\n",
       "<table border=\"1\" class=\"dataframe\">\n",
       "  <thead>\n",
       "    <tr style=\"text-align: right;\">\n",
       "      <th></th>\n",
       "      <th>Region</th>\n",
       "      <th>Date</th>\n",
       "      <th>Frequency</th>\n",
       "      <th>Estimated Unemployment Rate (%)</th>\n",
       "      <th>Estimated Employed</th>\n",
       "      <th>Estimated Labour Participation Rate (%)</th>\n",
       "      <th>Region.1</th>\n",
       "      <th>longitude</th>\n",
       "      <th>latitude</th>\n",
       "    </tr>\n",
       "  </thead>\n",
       "  <tbody>\n",
       "    <tr>\n",
       "      <th>0</th>\n",
       "      <td>Andhra Pradesh</td>\n",
       "      <td>31-01-2020</td>\n",
       "      <td>M</td>\n",
       "      <td>5.48</td>\n",
       "      <td>16635535</td>\n",
       "      <td>41.02</td>\n",
       "      <td>South</td>\n",
       "      <td>15.9129</td>\n",
       "      <td>79.74</td>\n",
       "    </tr>\n",
       "    <tr>\n",
       "      <th>1</th>\n",
       "      <td>Andhra Pradesh</td>\n",
       "      <td>29-02-2020</td>\n",
       "      <td>M</td>\n",
       "      <td>5.83</td>\n",
       "      <td>16545652</td>\n",
       "      <td>40.90</td>\n",
       "      <td>South</td>\n",
       "      <td>15.9129</td>\n",
       "      <td>79.74</td>\n",
       "    </tr>\n",
       "    <tr>\n",
       "      <th>2</th>\n",
       "      <td>Andhra Pradesh</td>\n",
       "      <td>31-03-2020</td>\n",
       "      <td>M</td>\n",
       "      <td>5.79</td>\n",
       "      <td>15881197</td>\n",
       "      <td>39.18</td>\n",
       "      <td>South</td>\n",
       "      <td>15.9129</td>\n",
       "      <td>79.74</td>\n",
       "    </tr>\n",
       "    <tr>\n",
       "      <th>3</th>\n",
       "      <td>Andhra Pradesh</td>\n",
       "      <td>30-04-2020</td>\n",
       "      <td>M</td>\n",
       "      <td>20.51</td>\n",
       "      <td>11336911</td>\n",
       "      <td>33.10</td>\n",
       "      <td>South</td>\n",
       "      <td>15.9129</td>\n",
       "      <td>79.74</td>\n",
       "    </tr>\n",
       "    <tr>\n",
       "      <th>4</th>\n",
       "      <td>Andhra Pradesh</td>\n",
       "      <td>31-05-2020</td>\n",
       "      <td>M</td>\n",
       "      <td>17.43</td>\n",
       "      <td>12988845</td>\n",
       "      <td>36.46</td>\n",
       "      <td>South</td>\n",
       "      <td>15.9129</td>\n",
       "      <td>79.74</td>\n",
       "    </tr>\n",
       "  </tbody>\n",
       "</table>\n",
       "</div>"
      ],
      "text/plain": [
       "           Region         Date  Frequency   Estimated Unemployment Rate (%)  \\\n",
       "0  Andhra Pradesh   31-01-2020          M                              5.48   \n",
       "1  Andhra Pradesh   29-02-2020          M                              5.83   \n",
       "2  Andhra Pradesh   31-03-2020          M                              5.79   \n",
       "3  Andhra Pradesh   30-04-2020          M                             20.51   \n",
       "4  Andhra Pradesh   31-05-2020          M                             17.43   \n",
       "\n",
       "    Estimated Employed   Estimated Labour Participation Rate (%) Region.1  \\\n",
       "0             16635535                                     41.02    South   \n",
       "1             16545652                                     40.90    South   \n",
       "2             15881197                                     39.18    South   \n",
       "3             11336911                                     33.10    South   \n",
       "4             12988845                                     36.46    South   \n",
       "\n",
       "   longitude  latitude  \n",
       "0    15.9129     79.74  \n",
       "1    15.9129     79.74  \n",
       "2    15.9129     79.74  \n",
       "3    15.9129     79.74  \n",
       "4    15.9129     79.74  "
      ]
     },
     "execution_count": 3,
     "metadata": {},
     "output_type": "execute_result"
    }
   ],
   "source": [
    "#exploratory data analysis\n",
    "df.head()"
   ]
  },
  {
   "cell_type": "code",
   "execution_count": 4,
   "id": "9e7f5464",
   "metadata": {},
   "outputs": [
    {
     "data": {
      "text/html": [
       "<div>\n",
       "<style scoped>\n",
       "    .dataframe tbody tr th:only-of-type {\n",
       "        vertical-align: middle;\n",
       "    }\n",
       "\n",
       "    .dataframe tbody tr th {\n",
       "        vertical-align: top;\n",
       "    }\n",
       "\n",
       "    .dataframe thead th {\n",
       "        text-align: right;\n",
       "    }\n",
       "</style>\n",
       "<table border=\"1\" class=\"dataframe\">\n",
       "  <thead>\n",
       "    <tr style=\"text-align: right;\">\n",
       "      <th></th>\n",
       "      <th>Region</th>\n",
       "      <th>Date</th>\n",
       "      <th>Frequency</th>\n",
       "      <th>Estimated Unemployment Rate (%)</th>\n",
       "      <th>Estimated Employed</th>\n",
       "      <th>Estimated Labour Participation Rate (%)</th>\n",
       "      <th>Region.1</th>\n",
       "      <th>longitude</th>\n",
       "      <th>latitude</th>\n",
       "    </tr>\n",
       "  </thead>\n",
       "  <tbody>\n",
       "    <tr>\n",
       "      <th>262</th>\n",
       "      <td>West Bengal</td>\n",
       "      <td>30-06-2020</td>\n",
       "      <td>M</td>\n",
       "      <td>7.29</td>\n",
       "      <td>30726310</td>\n",
       "      <td>40.39</td>\n",
       "      <td>East</td>\n",
       "      <td>22.9868</td>\n",
       "      <td>87.855</td>\n",
       "    </tr>\n",
       "    <tr>\n",
       "      <th>263</th>\n",
       "      <td>West Bengal</td>\n",
       "      <td>31-07-2020</td>\n",
       "      <td>M</td>\n",
       "      <td>6.83</td>\n",
       "      <td>35372506</td>\n",
       "      <td>46.17</td>\n",
       "      <td>East</td>\n",
       "      <td>22.9868</td>\n",
       "      <td>87.855</td>\n",
       "    </tr>\n",
       "    <tr>\n",
       "      <th>264</th>\n",
       "      <td>West Bengal</td>\n",
       "      <td>31-08-2020</td>\n",
       "      <td>M</td>\n",
       "      <td>14.87</td>\n",
       "      <td>33298644</td>\n",
       "      <td>47.48</td>\n",
       "      <td>East</td>\n",
       "      <td>22.9868</td>\n",
       "      <td>87.855</td>\n",
       "    </tr>\n",
       "    <tr>\n",
       "      <th>265</th>\n",
       "      <td>West Bengal</td>\n",
       "      <td>30-09-2020</td>\n",
       "      <td>M</td>\n",
       "      <td>9.35</td>\n",
       "      <td>35707239</td>\n",
       "      <td>47.73</td>\n",
       "      <td>East</td>\n",
       "      <td>22.9868</td>\n",
       "      <td>87.855</td>\n",
       "    </tr>\n",
       "    <tr>\n",
       "      <th>266</th>\n",
       "      <td>West Bengal</td>\n",
       "      <td>31-10-2020</td>\n",
       "      <td>M</td>\n",
       "      <td>9.98</td>\n",
       "      <td>33962549</td>\n",
       "      <td>45.63</td>\n",
       "      <td>East</td>\n",
       "      <td>22.9868</td>\n",
       "      <td>87.855</td>\n",
       "    </tr>\n",
       "  </tbody>\n",
       "</table>\n",
       "</div>"
      ],
      "text/plain": [
       "          Region         Date  Frequency   Estimated Unemployment Rate (%)  \\\n",
       "262  West Bengal   30-06-2020          M                              7.29   \n",
       "263  West Bengal   31-07-2020          M                              6.83   \n",
       "264  West Bengal   31-08-2020          M                             14.87   \n",
       "265  West Bengal   30-09-2020          M                              9.35   \n",
       "266  West Bengal   31-10-2020          M                              9.98   \n",
       "\n",
       "      Estimated Employed   Estimated Labour Participation Rate (%) Region.1  \\\n",
       "262             30726310                                     40.39     East   \n",
       "263             35372506                                     46.17     East   \n",
       "264             33298644                                     47.48     East   \n",
       "265             35707239                                     47.73     East   \n",
       "266             33962549                                     45.63     East   \n",
       "\n",
       "     longitude  latitude  \n",
       "262    22.9868    87.855  \n",
       "263    22.9868    87.855  \n",
       "264    22.9868    87.855  \n",
       "265    22.9868    87.855  \n",
       "266    22.9868    87.855  "
      ]
     },
     "execution_count": 4,
     "metadata": {},
     "output_type": "execute_result"
    }
   ],
   "source": [
    "df.tail()"
   ]
  },
  {
   "cell_type": "code",
   "execution_count": 5,
   "id": "126459e6",
   "metadata": {},
   "outputs": [
    {
     "name": "stdout",
     "output_type": "stream",
     "text": [
      "<class 'pandas.core.frame.DataFrame'>\n",
      "RangeIndex: 267 entries, 0 to 266\n",
      "Data columns (total 9 columns):\n",
      " #   Column                                    Non-Null Count  Dtype  \n",
      "---  ------                                    --------------  -----  \n",
      " 0   Region                                    267 non-null    object \n",
      " 1    Date                                     267 non-null    object \n",
      " 2    Frequency                                267 non-null    object \n",
      " 3    Estimated Unemployment Rate (%)          267 non-null    float64\n",
      " 4    Estimated Employed                       267 non-null    int64  \n",
      " 5    Estimated Labour Participation Rate (%)  267 non-null    float64\n",
      " 6   Region.1                                  267 non-null    object \n",
      " 7   longitude                                 267 non-null    float64\n",
      " 8   latitude                                  267 non-null    float64\n",
      "dtypes: float64(4), int64(1), object(4)\n",
      "memory usage: 18.9+ KB\n"
     ]
    }
   ],
   "source": [
    "df.info()"
   ]
  },
  {
   "cell_type": "code",
   "execution_count": 6,
   "id": "6ef0177d",
   "metadata": {},
   "outputs": [
    {
     "data": {
      "text/plain": [
       "Region                                      0\n",
       " Date                                       0\n",
       " Frequency                                  0\n",
       " Estimated Unemployment Rate (%)            0\n",
       " Estimated Employed                         0\n",
       " Estimated Labour Participation Rate (%)    0\n",
       "Region.1                                    0\n",
       "longitude                                   0\n",
       "latitude                                    0\n",
       "dtype: int64"
      ]
     },
     "execution_count": 6,
     "metadata": {},
     "output_type": "execute_result"
    }
   ],
   "source": [
    "df.isnull().sum()"
   ]
  },
  {
   "cell_type": "code",
   "execution_count": 7,
   "id": "ba44ca37",
   "metadata": {},
   "outputs": [
    {
     "data": {
      "text/html": [
       "<div>\n",
       "<style scoped>\n",
       "    .dataframe tbody tr th:only-of-type {\n",
       "        vertical-align: middle;\n",
       "    }\n",
       "\n",
       "    .dataframe tbody tr th {\n",
       "        vertical-align: top;\n",
       "    }\n",
       "\n",
       "    .dataframe thead th {\n",
       "        text-align: right;\n",
       "    }\n",
       "</style>\n",
       "<table border=\"1\" class=\"dataframe\">\n",
       "  <thead>\n",
       "    <tr style=\"text-align: right;\">\n",
       "      <th></th>\n",
       "      <th>count</th>\n",
       "      <th>mean</th>\n",
       "      <th>std</th>\n",
       "      <th>min</th>\n",
       "      <th>25%</th>\n",
       "      <th>50%</th>\n",
       "      <th>75%</th>\n",
       "      <th>max</th>\n",
       "    </tr>\n",
       "  </thead>\n",
       "  <tbody>\n",
       "    <tr>\n",
       "      <th>Estimated Unemployment Rate (%)</th>\n",
       "      <td>267.0</td>\n",
       "      <td>1.223693e+01</td>\n",
       "      <td>1.080328e+01</td>\n",
       "      <td>0.5000</td>\n",
       "      <td>4.845000e+00</td>\n",
       "      <td>9.650000e+00</td>\n",
       "      <td>1.675500e+01</td>\n",
       "      <td>7.585000e+01</td>\n",
       "    </tr>\n",
       "    <tr>\n",
       "      <th>Estimated Employed</th>\n",
       "      <td>267.0</td>\n",
       "      <td>1.396211e+07</td>\n",
       "      <td>1.336632e+07</td>\n",
       "      <td>117542.0000</td>\n",
       "      <td>2.838930e+06</td>\n",
       "      <td>9.732417e+06</td>\n",
       "      <td>2.187869e+07</td>\n",
       "      <td>5.943376e+07</td>\n",
       "    </tr>\n",
       "    <tr>\n",
       "      <th>Estimated Labour Participation Rate (%)</th>\n",
       "      <td>267.0</td>\n",
       "      <td>4.168157e+01</td>\n",
       "      <td>7.845419e+00</td>\n",
       "      <td>16.7700</td>\n",
       "      <td>3.726500e+01</td>\n",
       "      <td>4.039000e+01</td>\n",
       "      <td>4.405500e+01</td>\n",
       "      <td>6.969000e+01</td>\n",
       "    </tr>\n",
       "    <tr>\n",
       "      <th>longitude</th>\n",
       "      <td>267.0</td>\n",
       "      <td>2.282605e+01</td>\n",
       "      <td>6.270731e+00</td>\n",
       "      <td>10.8505</td>\n",
       "      <td>1.811240e+01</td>\n",
       "      <td>2.361020e+01</td>\n",
       "      <td>2.727840e+01</td>\n",
       "      <td>3.377820e+01</td>\n",
       "    </tr>\n",
       "    <tr>\n",
       "      <th>latitude</th>\n",
       "      <td>267.0</td>\n",
       "      <td>8.053242e+01</td>\n",
       "      <td>5.831738e+00</td>\n",
       "      <td>71.1924</td>\n",
       "      <td>7.608560e+01</td>\n",
       "      <td>7.901930e+01</td>\n",
       "      <td>8.527990e+01</td>\n",
       "      <td>9.293760e+01</td>\n",
       "    </tr>\n",
       "  </tbody>\n",
       "</table>\n",
       "</div>"
      ],
      "text/plain": [
       "                                          count          mean           std  \\\n",
       " Estimated Unemployment Rate (%)          267.0  1.223693e+01  1.080328e+01   \n",
       " Estimated Employed                       267.0  1.396211e+07  1.336632e+07   \n",
       " Estimated Labour Participation Rate (%)  267.0  4.168157e+01  7.845419e+00   \n",
       "longitude                                 267.0  2.282605e+01  6.270731e+00   \n",
       "latitude                                  267.0  8.053242e+01  5.831738e+00   \n",
       "\n",
       "                                                  min           25%  \\\n",
       " Estimated Unemployment Rate (%)               0.5000  4.845000e+00   \n",
       " Estimated Employed                       117542.0000  2.838930e+06   \n",
       " Estimated Labour Participation Rate (%)      16.7700  3.726500e+01   \n",
       "longitude                                     10.8505  1.811240e+01   \n",
       "latitude                                      71.1924  7.608560e+01   \n",
       "\n",
       "                                                   50%           75%  \\\n",
       " Estimated Unemployment Rate (%)          9.650000e+00  1.675500e+01   \n",
       " Estimated Employed                       9.732417e+06  2.187869e+07   \n",
       " Estimated Labour Participation Rate (%)  4.039000e+01  4.405500e+01   \n",
       "longitude                                 2.361020e+01  2.727840e+01   \n",
       "latitude                                  7.901930e+01  8.527990e+01   \n",
       "\n",
       "                                                   max  \n",
       " Estimated Unemployment Rate (%)          7.585000e+01  \n",
       " Estimated Employed                       5.943376e+07  \n",
       " Estimated Labour Participation Rate (%)  6.969000e+01  \n",
       "longitude                                 3.377820e+01  \n",
       "latitude                                  9.293760e+01  "
      ]
     },
     "execution_count": 7,
     "metadata": {},
     "output_type": "execute_result"
    }
   ],
   "source": [
    "df.describe().T"
   ]
  },
  {
   "cell_type": "code",
   "execution_count": 8,
   "id": "22eed678",
   "metadata": {},
   "outputs": [
    {
     "data": {
      "text/plain": [
       "Index(['Region', ' Date', ' Frequency', ' Estimated Unemployment Rate (%)',\n",
       "       ' Estimated Employed', ' Estimated Labour Participation Rate (%)',\n",
       "       'Region.1', 'longitude', 'latitude'],\n",
       "      dtype='object')"
      ]
     },
     "execution_count": 8,
     "metadata": {},
     "output_type": "execute_result"
    }
   ],
   "source": [
    "df.columns"
   ]
  },
  {
   "cell_type": "code",
   "execution_count": 9,
   "id": "f4829525",
   "metadata": {},
   "outputs": [],
   "source": [
    "#removing the leading and trailing spaces from the columns\n",
    "df = df.rename(columns={' Date': 'Date',' Frequency':'Frequency',\n",
    "                        ' Estimated Unemployment Rate (%)':'EstimatedUnemploymentRate',\n",
    "                        ' Estimated Employed':'EstimatedEmployed',\n",
    "                        ' Estimated Labour Participation Rate (%)':'EstimatedLabourParticipationRate(%)',\n",
    "                       'Region.1':'Direction'})\n"
   ]
  },
  {
   "cell_type": "code",
   "execution_count": 10,
   "id": "2c114032",
   "metadata": {},
   "outputs": [
    {
     "data": {
      "text/html": [
       "<div>\n",
       "<style scoped>\n",
       "    .dataframe tbody tr th:only-of-type {\n",
       "        vertical-align: middle;\n",
       "    }\n",
       "\n",
       "    .dataframe tbody tr th {\n",
       "        vertical-align: top;\n",
       "    }\n",
       "\n",
       "    .dataframe thead th {\n",
       "        text-align: right;\n",
       "    }\n",
       "</style>\n",
       "<table border=\"1\" class=\"dataframe\">\n",
       "  <thead>\n",
       "    <tr style=\"text-align: right;\">\n",
       "      <th></th>\n",
       "      <th>Region</th>\n",
       "      <th>Date</th>\n",
       "      <th>Frequency</th>\n",
       "      <th>EstimatedUnemploymentRate</th>\n",
       "      <th>EstimatedEmployed</th>\n",
       "      <th>EstimatedLabourParticipationRate(%)</th>\n",
       "      <th>Direction</th>\n",
       "      <th>longitude</th>\n",
       "      <th>latitude</th>\n",
       "    </tr>\n",
       "  </thead>\n",
       "  <tbody>\n",
       "    <tr>\n",
       "      <th>0</th>\n",
       "      <td>Andhra Pradesh</td>\n",
       "      <td>31-01-2020</td>\n",
       "      <td>M</td>\n",
       "      <td>5.48</td>\n",
       "      <td>16635535</td>\n",
       "      <td>41.02</td>\n",
       "      <td>South</td>\n",
       "      <td>15.9129</td>\n",
       "      <td>79.74</td>\n",
       "    </tr>\n",
       "  </tbody>\n",
       "</table>\n",
       "</div>"
      ],
      "text/plain": [
       "           Region         Date Frequency  EstimatedUnemploymentRate  \\\n",
       "0  Andhra Pradesh   31-01-2020         M                       5.48   \n",
       "\n",
       "   EstimatedEmployed  EstimatedLabourParticipationRate(%) Direction  \\\n",
       "0           16635535                                41.02     South   \n",
       "\n",
       "   longitude  latitude  \n",
       "0    15.9129     79.74  "
      ]
     },
     "execution_count": 10,
     "metadata": {},
     "output_type": "execute_result"
    }
   ],
   "source": [
    "#checking for the removal of the leading and trailing space from the dataframe\n",
    "df.head(1)"
   ]
  },
  {
   "cell_type": "code",
   "execution_count": 11,
   "id": "115db56e",
   "metadata": {},
   "outputs": [],
   "source": [
    "#changing the data type of date column\n",
    "df['Date'] = pd.to_datetime(df['Date'])"
   ]
  },
  {
   "cell_type": "code",
   "execution_count": 12,
   "id": "58b0201d",
   "metadata": {},
   "outputs": [
    {
     "name": "stdout",
     "output_type": "stream",
     "text": [
      "<class 'pandas.core.series.Series'>\n",
      "RangeIndex: 267 entries, 0 to 266\n",
      "Series name: Date\n",
      "Non-Null Count  Dtype         \n",
      "--------------  -----         \n",
      "267 non-null    datetime64[ns]\n",
      "dtypes: datetime64[ns](1)\n",
      "memory usage: 2.2 KB\n"
     ]
    }
   ],
   "source": [
    "df['Date'].info()"
   ]
  },
  {
   "cell_type": "code",
   "execution_count": 13,
   "id": "120aca64",
   "metadata": {},
   "outputs": [
    {
     "data": {
      "text/plain": [
       "Timestamp('2020-10-31 00:00:00')"
      ]
     },
     "execution_count": 13,
     "metadata": {},
     "output_type": "execute_result"
    }
   ],
   "source": [
    "df['Date'].max()"
   ]
  },
  {
   "cell_type": "code",
   "execution_count": 14,
   "id": "7634a58f",
   "metadata": {},
   "outputs": [
    {
     "data": {
      "text/plain": [
       "Timestamp('2020-01-31 00:00:00')"
      ]
     },
     "execution_count": 14,
     "metadata": {},
     "output_type": "execute_result"
    }
   ],
   "source": [
    "df['Date'].min()"
   ]
  },
  {
   "cell_type": "code",
   "execution_count": 15,
   "id": "a2ef3200",
   "metadata": {},
   "outputs": [],
   "source": [
    "#separing the date column\n",
    "df['year'] = df['Date'].dt.year\n",
    "df['month'] = df['Date'].dt.month\n",
    "df['day'] = df['Date'].dt.day "
   ]
  },
  {
   "cell_type": "code",
   "execution_count": 16,
   "id": "e4c4afe0",
   "metadata": {},
   "outputs": [
    {
     "data": {
      "text/html": [
       "<div>\n",
       "<style scoped>\n",
       "    .dataframe tbody tr th:only-of-type {\n",
       "        vertical-align: middle;\n",
       "    }\n",
       "\n",
       "    .dataframe tbody tr th {\n",
       "        vertical-align: top;\n",
       "    }\n",
       "\n",
       "    .dataframe thead th {\n",
       "        text-align: right;\n",
       "    }\n",
       "</style>\n",
       "<table border=\"1\" class=\"dataframe\">\n",
       "  <thead>\n",
       "    <tr style=\"text-align: right;\">\n",
       "      <th></th>\n",
       "      <th>Region</th>\n",
       "      <th>Date</th>\n",
       "      <th>Frequency</th>\n",
       "      <th>EstimatedUnemploymentRate</th>\n",
       "      <th>EstimatedEmployed</th>\n",
       "      <th>EstimatedLabourParticipationRate(%)</th>\n",
       "      <th>Direction</th>\n",
       "      <th>longitude</th>\n",
       "      <th>latitude</th>\n",
       "      <th>year</th>\n",
       "      <th>month</th>\n",
       "      <th>day</th>\n",
       "    </tr>\n",
       "  </thead>\n",
       "  <tbody>\n",
       "    <tr>\n",
       "      <th>0</th>\n",
       "      <td>Andhra Pradesh</td>\n",
       "      <td>2020-01-31</td>\n",
       "      <td>M</td>\n",
       "      <td>5.48</td>\n",
       "      <td>16635535</td>\n",
       "      <td>41.02</td>\n",
       "      <td>South</td>\n",
       "      <td>15.9129</td>\n",
       "      <td>79.74</td>\n",
       "      <td>2020</td>\n",
       "      <td>1</td>\n",
       "      <td>31</td>\n",
       "    </tr>\n",
       "    <tr>\n",
       "      <th>1</th>\n",
       "      <td>Andhra Pradesh</td>\n",
       "      <td>2020-02-29</td>\n",
       "      <td>M</td>\n",
       "      <td>5.83</td>\n",
       "      <td>16545652</td>\n",
       "      <td>40.90</td>\n",
       "      <td>South</td>\n",
       "      <td>15.9129</td>\n",
       "      <td>79.74</td>\n",
       "      <td>2020</td>\n",
       "      <td>2</td>\n",
       "      <td>29</td>\n",
       "    </tr>\n",
       "    <tr>\n",
       "      <th>2</th>\n",
       "      <td>Andhra Pradesh</td>\n",
       "      <td>2020-03-31</td>\n",
       "      <td>M</td>\n",
       "      <td>5.79</td>\n",
       "      <td>15881197</td>\n",
       "      <td>39.18</td>\n",
       "      <td>South</td>\n",
       "      <td>15.9129</td>\n",
       "      <td>79.74</td>\n",
       "      <td>2020</td>\n",
       "      <td>3</td>\n",
       "      <td>31</td>\n",
       "    </tr>\n",
       "  </tbody>\n",
       "</table>\n",
       "</div>"
      ],
      "text/plain": [
       "           Region       Date Frequency  EstimatedUnemploymentRate  \\\n",
       "0  Andhra Pradesh 2020-01-31         M                       5.48   \n",
       "1  Andhra Pradesh 2020-02-29         M                       5.83   \n",
       "2  Andhra Pradesh 2020-03-31         M                       5.79   \n",
       "\n",
       "   EstimatedEmployed  EstimatedLabourParticipationRate(%) Direction  \\\n",
       "0           16635535                                41.02     South   \n",
       "1           16545652                                40.90     South   \n",
       "2           15881197                                39.18     South   \n",
       "\n",
       "   longitude  latitude  year  month  day  \n",
       "0    15.9129     79.74  2020      1   31  \n",
       "1    15.9129     79.74  2020      2   29  \n",
       "2    15.9129     79.74  2020      3   31  "
      ]
     },
     "execution_count": 16,
     "metadata": {},
     "output_type": "execute_result"
    }
   ],
   "source": [
    "df.head(3)"
   ]
  },
  {
   "cell_type": "code",
   "execution_count": 17,
   "id": "0d0ec697",
   "metadata": {},
   "outputs": [
    {
     "data": {
      "text/plain": [
       "2020    267\n",
       "Name: year, dtype: int64"
      ]
     },
     "execution_count": 17,
     "metadata": {},
     "output_type": "execute_result"
    }
   ],
   "source": [
    "df['year'].value_counts()"
   ]
  },
  {
   "cell_type": "code",
   "execution_count": 18,
   "id": "dba132b2",
   "metadata": {},
   "outputs": [
    {
     "data": {
      "text/plain": [
       "3     27\n",
       "5     27\n",
       "6     27\n",
       "7     27\n",
       "8     27\n",
       "9     27\n",
       "10    27\n",
       "1     26\n",
       "2     26\n",
       "4     26\n",
       "Name: month, dtype: int64"
      ]
     },
     "execution_count": 18,
     "metadata": {},
     "output_type": "execute_result"
    }
   ],
   "source": [
    "df['month'].value_counts()"
   ]
  },
  {
   "cell_type": "code",
   "execution_count": 19,
   "id": "bee8ea51",
   "metadata": {},
   "outputs": [],
   "source": [
    "#replacing the month values to its names\n",
    "df.replace({'month':{1:'january',2:'february',3:'march',4:'april',5:'may',6:'june',7:'july',8:'august',9:'september',10:'october'}},inplace=True)"
   ]
  },
  {
   "cell_type": "code",
   "execution_count": 20,
   "id": "ad16c288",
   "metadata": {},
   "outputs": [
    {
     "data": {
      "text/html": [
       "<div>\n",
       "<style scoped>\n",
       "    .dataframe tbody tr th:only-of-type {\n",
       "        vertical-align: middle;\n",
       "    }\n",
       "\n",
       "    .dataframe tbody tr th {\n",
       "        vertical-align: top;\n",
       "    }\n",
       "\n",
       "    .dataframe thead th {\n",
       "        text-align: right;\n",
       "    }\n",
       "</style>\n",
       "<table border=\"1\" class=\"dataframe\">\n",
       "  <thead>\n",
       "    <tr style=\"text-align: right;\">\n",
       "      <th></th>\n",
       "      <th>Region</th>\n",
       "      <th>Date</th>\n",
       "      <th>Frequency</th>\n",
       "      <th>EstimatedUnemploymentRate</th>\n",
       "      <th>EstimatedEmployed</th>\n",
       "      <th>EstimatedLabourParticipationRate(%)</th>\n",
       "      <th>Direction</th>\n",
       "      <th>longitude</th>\n",
       "      <th>latitude</th>\n",
       "      <th>year</th>\n",
       "      <th>month</th>\n",
       "      <th>day</th>\n",
       "    </tr>\n",
       "  </thead>\n",
       "  <tbody>\n",
       "    <tr>\n",
       "      <th>0</th>\n",
       "      <td>Andhra Pradesh</td>\n",
       "      <td>2020-01-31</td>\n",
       "      <td>M</td>\n",
       "      <td>5.48</td>\n",
       "      <td>16635535</td>\n",
       "      <td>41.02</td>\n",
       "      <td>South</td>\n",
       "      <td>15.9129</td>\n",
       "      <td>79.74</td>\n",
       "      <td>2020</td>\n",
       "      <td>january</td>\n",
       "      <td>31</td>\n",
       "    </tr>\n",
       "    <tr>\n",
       "      <th>1</th>\n",
       "      <td>Andhra Pradesh</td>\n",
       "      <td>2020-02-29</td>\n",
       "      <td>M</td>\n",
       "      <td>5.83</td>\n",
       "      <td>16545652</td>\n",
       "      <td>40.90</td>\n",
       "      <td>South</td>\n",
       "      <td>15.9129</td>\n",
       "      <td>79.74</td>\n",
       "      <td>2020</td>\n",
       "      <td>february</td>\n",
       "      <td>29</td>\n",
       "    </tr>\n",
       "    <tr>\n",
       "      <th>2</th>\n",
       "      <td>Andhra Pradesh</td>\n",
       "      <td>2020-03-31</td>\n",
       "      <td>M</td>\n",
       "      <td>5.79</td>\n",
       "      <td>15881197</td>\n",
       "      <td>39.18</td>\n",
       "      <td>South</td>\n",
       "      <td>15.9129</td>\n",
       "      <td>79.74</td>\n",
       "      <td>2020</td>\n",
       "      <td>march</td>\n",
       "      <td>31</td>\n",
       "    </tr>\n",
       "    <tr>\n",
       "      <th>3</th>\n",
       "      <td>Andhra Pradesh</td>\n",
       "      <td>2020-04-30</td>\n",
       "      <td>M</td>\n",
       "      <td>20.51</td>\n",
       "      <td>11336911</td>\n",
       "      <td>33.10</td>\n",
       "      <td>South</td>\n",
       "      <td>15.9129</td>\n",
       "      <td>79.74</td>\n",
       "      <td>2020</td>\n",
       "      <td>april</td>\n",
       "      <td>30</td>\n",
       "    </tr>\n",
       "    <tr>\n",
       "      <th>4</th>\n",
       "      <td>Andhra Pradesh</td>\n",
       "      <td>2020-05-31</td>\n",
       "      <td>M</td>\n",
       "      <td>17.43</td>\n",
       "      <td>12988845</td>\n",
       "      <td>36.46</td>\n",
       "      <td>South</td>\n",
       "      <td>15.9129</td>\n",
       "      <td>79.74</td>\n",
       "      <td>2020</td>\n",
       "      <td>may</td>\n",
       "      <td>31</td>\n",
       "    </tr>\n",
       "  </tbody>\n",
       "</table>\n",
       "</div>"
      ],
      "text/plain": [
       "           Region       Date Frequency  EstimatedUnemploymentRate  \\\n",
       "0  Andhra Pradesh 2020-01-31         M                       5.48   \n",
       "1  Andhra Pradesh 2020-02-29         M                       5.83   \n",
       "2  Andhra Pradesh 2020-03-31         M                       5.79   \n",
       "3  Andhra Pradesh 2020-04-30         M                      20.51   \n",
       "4  Andhra Pradesh 2020-05-31         M                      17.43   \n",
       "\n",
       "   EstimatedEmployed  EstimatedLabourParticipationRate(%) Direction  \\\n",
       "0           16635535                                41.02     South   \n",
       "1           16545652                                40.90     South   \n",
       "2           15881197                                39.18     South   \n",
       "3           11336911                                33.10     South   \n",
       "4           12988845                                36.46     South   \n",
       "\n",
       "   longitude  latitude  year     month  day  \n",
       "0    15.9129     79.74  2020   january   31  \n",
       "1    15.9129     79.74  2020  february   29  \n",
       "2    15.9129     79.74  2020     march   31  \n",
       "3    15.9129     79.74  2020     april   30  \n",
       "4    15.9129     79.74  2020       may   31  "
      ]
     },
     "execution_count": 20,
     "metadata": {},
     "output_type": "execute_result"
    }
   ],
   "source": [
    "df.head(5)"
   ]
  },
  {
   "cell_type": "code",
   "execution_count": 21,
   "id": "a04cc2b2",
   "metadata": {},
   "outputs": [
    {
     "data": {
      "text/plain": [
       "Index(['Region', 'Date', 'Frequency', 'EstimatedUnemploymentRate',\n",
       "       'EstimatedEmployed', 'EstimatedLabourParticipationRate(%)', 'Direction',\n",
       "       'longitude', 'latitude', 'year', 'month', 'day'],\n",
       "      dtype='object')"
      ]
     },
     "execution_count": 21,
     "metadata": {},
     "output_type": "execute_result"
    }
   ],
   "source": [
    "df.columns"
   ]
  },
  {
   "cell_type": "code",
   "execution_count": 43,
   "id": "32cede48",
   "metadata": {},
   "outputs": [
    {
     "data": {
      "application/vnd.plotly.v1+json": {
       "config": {
        "plotlyServerURL": "https://plot.ly"
       },
       "data": [
        {
         "domain": {
          "x": [
           0,
           1
          ],
          "y": [
           0,
           1
          ]
         },
         "hole": 0.9,
         "hovertemplate": "label=%{label}<br>value=%{value}<extra></extra>",
         "labels": [
          "North",
          "South",
          "West",
          "East",
          "Northeast"
         ],
         "legendgroup": "",
         "name": "",
         "showlegend": true,
         "type": "pie",
         "values": [
          79,
          60,
          50,
          40,
          38
         ]
        }
       ],
       "layout": {
        "height": 400,
        "legend": {
         "tracegroupgap": 0
        },
        "margin": {
         "t": 60
        },
        "template": {
         "data": {
          "bar": [
           {
            "error_x": {
             "color": "#2a3f5f"
            },
            "error_y": {
             "color": "#2a3f5f"
            },
            "marker": {
             "line": {
              "color": "#E5ECF6",
              "width": 0.5
             },
             "pattern": {
              "fillmode": "overlay",
              "size": 10,
              "solidity": 0.2
             }
            },
            "type": "bar"
           }
          ],
          "barpolar": [
           {
            "marker": {
             "line": {
              "color": "#E5ECF6",
              "width": 0.5
             },
             "pattern": {
              "fillmode": "overlay",
              "size": 10,
              "solidity": 0.2
             }
            },
            "type": "barpolar"
           }
          ],
          "carpet": [
           {
            "aaxis": {
             "endlinecolor": "#2a3f5f",
             "gridcolor": "white",
             "linecolor": "white",
             "minorgridcolor": "white",
             "startlinecolor": "#2a3f5f"
            },
            "baxis": {
             "endlinecolor": "#2a3f5f",
             "gridcolor": "white",
             "linecolor": "white",
             "minorgridcolor": "white",
             "startlinecolor": "#2a3f5f"
            },
            "type": "carpet"
           }
          ],
          "choropleth": [
           {
            "colorbar": {
             "outlinewidth": 0,
             "ticks": ""
            },
            "type": "choropleth"
           }
          ],
          "contour": [
           {
            "colorbar": {
             "outlinewidth": 0,
             "ticks": ""
            },
            "colorscale": [
             [
              0,
              "#0d0887"
             ],
             [
              0.1111111111111111,
              "#46039f"
             ],
             [
              0.2222222222222222,
              "#7201a8"
             ],
             [
              0.3333333333333333,
              "#9c179e"
             ],
             [
              0.4444444444444444,
              "#bd3786"
             ],
             [
              0.5555555555555556,
              "#d8576b"
             ],
             [
              0.6666666666666666,
              "#ed7953"
             ],
             [
              0.7777777777777778,
              "#fb9f3a"
             ],
             [
              0.8888888888888888,
              "#fdca26"
             ],
             [
              1,
              "#f0f921"
             ]
            ],
            "type": "contour"
           }
          ],
          "contourcarpet": [
           {
            "colorbar": {
             "outlinewidth": 0,
             "ticks": ""
            },
            "type": "contourcarpet"
           }
          ],
          "heatmap": [
           {
            "colorbar": {
             "outlinewidth": 0,
             "ticks": ""
            },
            "colorscale": [
             [
              0,
              "#0d0887"
             ],
             [
              0.1111111111111111,
              "#46039f"
             ],
             [
              0.2222222222222222,
              "#7201a8"
             ],
             [
              0.3333333333333333,
              "#9c179e"
             ],
             [
              0.4444444444444444,
              "#bd3786"
             ],
             [
              0.5555555555555556,
              "#d8576b"
             ],
             [
              0.6666666666666666,
              "#ed7953"
             ],
             [
              0.7777777777777778,
              "#fb9f3a"
             ],
             [
              0.8888888888888888,
              "#fdca26"
             ],
             [
              1,
              "#f0f921"
             ]
            ],
            "type": "heatmap"
           }
          ],
          "heatmapgl": [
           {
            "colorbar": {
             "outlinewidth": 0,
             "ticks": ""
            },
            "colorscale": [
             [
              0,
              "#0d0887"
             ],
             [
              0.1111111111111111,
              "#46039f"
             ],
             [
              0.2222222222222222,
              "#7201a8"
             ],
             [
              0.3333333333333333,
              "#9c179e"
             ],
             [
              0.4444444444444444,
              "#bd3786"
             ],
             [
              0.5555555555555556,
              "#d8576b"
             ],
             [
              0.6666666666666666,
              "#ed7953"
             ],
             [
              0.7777777777777778,
              "#fb9f3a"
             ],
             [
              0.8888888888888888,
              "#fdca26"
             ],
             [
              1,
              "#f0f921"
             ]
            ],
            "type": "heatmapgl"
           }
          ],
          "histogram": [
           {
            "marker": {
             "pattern": {
              "fillmode": "overlay",
              "size": 10,
              "solidity": 0.2
             }
            },
            "type": "histogram"
           }
          ],
          "histogram2d": [
           {
            "colorbar": {
             "outlinewidth": 0,
             "ticks": ""
            },
            "colorscale": [
             [
              0,
              "#0d0887"
             ],
             [
              0.1111111111111111,
              "#46039f"
             ],
             [
              0.2222222222222222,
              "#7201a8"
             ],
             [
              0.3333333333333333,
              "#9c179e"
             ],
             [
              0.4444444444444444,
              "#bd3786"
             ],
             [
              0.5555555555555556,
              "#d8576b"
             ],
             [
              0.6666666666666666,
              "#ed7953"
             ],
             [
              0.7777777777777778,
              "#fb9f3a"
             ],
             [
              0.8888888888888888,
              "#fdca26"
             ],
             [
              1,
              "#f0f921"
             ]
            ],
            "type": "histogram2d"
           }
          ],
          "histogram2dcontour": [
           {
            "colorbar": {
             "outlinewidth": 0,
             "ticks": ""
            },
            "colorscale": [
             [
              0,
              "#0d0887"
             ],
             [
              0.1111111111111111,
              "#46039f"
             ],
             [
              0.2222222222222222,
              "#7201a8"
             ],
             [
              0.3333333333333333,
              "#9c179e"
             ],
             [
              0.4444444444444444,
              "#bd3786"
             ],
             [
              0.5555555555555556,
              "#d8576b"
             ],
             [
              0.6666666666666666,
              "#ed7953"
             ],
             [
              0.7777777777777778,
              "#fb9f3a"
             ],
             [
              0.8888888888888888,
              "#fdca26"
             ],
             [
              1,
              "#f0f921"
             ]
            ],
            "type": "histogram2dcontour"
           }
          ],
          "mesh3d": [
           {
            "colorbar": {
             "outlinewidth": 0,
             "ticks": ""
            },
            "type": "mesh3d"
           }
          ],
          "parcoords": [
           {
            "line": {
             "colorbar": {
              "outlinewidth": 0,
              "ticks": ""
             }
            },
            "type": "parcoords"
           }
          ],
          "pie": [
           {
            "automargin": true,
            "type": "pie"
           }
          ],
          "scatter": [
           {
            "fillpattern": {
             "fillmode": "overlay",
             "size": 10,
             "solidity": 0.2
            },
            "type": "scatter"
           }
          ],
          "scatter3d": [
           {
            "line": {
             "colorbar": {
              "outlinewidth": 0,
              "ticks": ""
             }
            },
            "marker": {
             "colorbar": {
              "outlinewidth": 0,
              "ticks": ""
             }
            },
            "type": "scatter3d"
           }
          ],
          "scattercarpet": [
           {
            "marker": {
             "colorbar": {
              "outlinewidth": 0,
              "ticks": ""
             }
            },
            "type": "scattercarpet"
           }
          ],
          "scattergeo": [
           {
            "marker": {
             "colorbar": {
              "outlinewidth": 0,
              "ticks": ""
             }
            },
            "type": "scattergeo"
           }
          ],
          "scattergl": [
           {
            "marker": {
             "colorbar": {
              "outlinewidth": 0,
              "ticks": ""
             }
            },
            "type": "scattergl"
           }
          ],
          "scattermapbox": [
           {
            "marker": {
             "colorbar": {
              "outlinewidth": 0,
              "ticks": ""
             }
            },
            "type": "scattermapbox"
           }
          ],
          "scatterpolar": [
           {
            "marker": {
             "colorbar": {
              "outlinewidth": 0,
              "ticks": ""
             }
            },
            "type": "scatterpolar"
           }
          ],
          "scatterpolargl": [
           {
            "marker": {
             "colorbar": {
              "outlinewidth": 0,
              "ticks": ""
             }
            },
            "type": "scatterpolargl"
           }
          ],
          "scatterternary": [
           {
            "marker": {
             "colorbar": {
              "outlinewidth": 0,
              "ticks": ""
             }
            },
            "type": "scatterternary"
           }
          ],
          "surface": [
           {
            "colorbar": {
             "outlinewidth": 0,
             "ticks": ""
            },
            "colorscale": [
             [
              0,
              "#0d0887"
             ],
             [
              0.1111111111111111,
              "#46039f"
             ],
             [
              0.2222222222222222,
              "#7201a8"
             ],
             [
              0.3333333333333333,
              "#9c179e"
             ],
             [
              0.4444444444444444,
              "#bd3786"
             ],
             [
              0.5555555555555556,
              "#d8576b"
             ],
             [
              0.6666666666666666,
              "#ed7953"
             ],
             [
              0.7777777777777778,
              "#fb9f3a"
             ],
             [
              0.8888888888888888,
              "#fdca26"
             ],
             [
              1,
              "#f0f921"
             ]
            ],
            "type": "surface"
           }
          ],
          "table": [
           {
            "cells": {
             "fill": {
              "color": "#EBF0F8"
             },
             "line": {
              "color": "white"
             }
            },
            "header": {
             "fill": {
              "color": "#C8D4E3"
             },
             "line": {
              "color": "white"
             }
            },
            "type": "table"
           }
          ]
         },
         "layout": {
          "annotationdefaults": {
           "arrowcolor": "#2a3f5f",
           "arrowhead": 0,
           "arrowwidth": 1
          },
          "autotypenumbers": "strict",
          "coloraxis": {
           "colorbar": {
            "outlinewidth": 0,
            "ticks": ""
           }
          },
          "colorscale": {
           "diverging": [
            [
             0,
             "#8e0152"
            ],
            [
             0.1,
             "#c51b7d"
            ],
            [
             0.2,
             "#de77ae"
            ],
            [
             0.3,
             "#f1b6da"
            ],
            [
             0.4,
             "#fde0ef"
            ],
            [
             0.5,
             "#f7f7f7"
            ],
            [
             0.6,
             "#e6f5d0"
            ],
            [
             0.7,
             "#b8e186"
            ],
            [
             0.8,
             "#7fbc41"
            ],
            [
             0.9,
             "#4d9221"
            ],
            [
             1,
             "#276419"
            ]
           ],
           "sequential": [
            [
             0,
             "#0d0887"
            ],
            [
             0.1111111111111111,
             "#46039f"
            ],
            [
             0.2222222222222222,
             "#7201a8"
            ],
            [
             0.3333333333333333,
             "#9c179e"
            ],
            [
             0.4444444444444444,
             "#bd3786"
            ],
            [
             0.5555555555555556,
             "#d8576b"
            ],
            [
             0.6666666666666666,
             "#ed7953"
            ],
            [
             0.7777777777777778,
             "#fb9f3a"
            ],
            [
             0.8888888888888888,
             "#fdca26"
            ],
            [
             1,
             "#f0f921"
            ]
           ],
           "sequentialminus": [
            [
             0,
             "#0d0887"
            ],
            [
             0.1111111111111111,
             "#46039f"
            ],
            [
             0.2222222222222222,
             "#7201a8"
            ],
            [
             0.3333333333333333,
             "#9c179e"
            ],
            [
             0.4444444444444444,
             "#bd3786"
            ],
            [
             0.5555555555555556,
             "#d8576b"
            ],
            [
             0.6666666666666666,
             "#ed7953"
            ],
            [
             0.7777777777777778,
             "#fb9f3a"
            ],
            [
             0.8888888888888888,
             "#fdca26"
            ],
            [
             1,
             "#f0f921"
            ]
           ]
          },
          "colorway": [
           "#636efa",
           "#EF553B",
           "#00cc96",
           "#ab63fa",
           "#FFA15A",
           "#19d3f3",
           "#FF6692",
           "#B6E880",
           "#FF97FF",
           "#FECB52"
          ],
          "font": {
           "color": "#2a3f5f"
          },
          "geo": {
           "bgcolor": "white",
           "lakecolor": "white",
           "landcolor": "#E5ECF6",
           "showlakes": true,
           "showland": true,
           "subunitcolor": "white"
          },
          "hoverlabel": {
           "align": "left"
          },
          "hovermode": "closest",
          "mapbox": {
           "style": "light"
          },
          "paper_bgcolor": "white",
          "plot_bgcolor": "#E5ECF6",
          "polar": {
           "angularaxis": {
            "gridcolor": "white",
            "linecolor": "white",
            "ticks": ""
           },
           "bgcolor": "#E5ECF6",
           "radialaxis": {
            "gridcolor": "white",
            "linecolor": "white",
            "ticks": ""
           }
          },
          "scene": {
           "xaxis": {
            "backgroundcolor": "#E5ECF6",
            "gridcolor": "white",
            "gridwidth": 2,
            "linecolor": "white",
            "showbackground": true,
            "ticks": "",
            "zerolinecolor": "white"
           },
           "yaxis": {
            "backgroundcolor": "#E5ECF6",
            "gridcolor": "white",
            "gridwidth": 2,
            "linecolor": "white",
            "showbackground": true,
            "ticks": "",
            "zerolinecolor": "white"
           },
           "zaxis": {
            "backgroundcolor": "#E5ECF6",
            "gridcolor": "white",
            "gridwidth": 2,
            "linecolor": "white",
            "showbackground": true,
            "ticks": "",
            "zerolinecolor": "white"
           }
          },
          "shapedefaults": {
           "line": {
            "color": "#2a3f5f"
           }
          },
          "ternary": {
           "aaxis": {
            "gridcolor": "white",
            "linecolor": "white",
            "ticks": ""
           },
           "baxis": {
            "gridcolor": "white",
            "linecolor": "white",
            "ticks": ""
           },
           "bgcolor": "#E5ECF6",
           "caxis": {
            "gridcolor": "white",
            "linecolor": "white",
            "ticks": ""
           }
          },
          "title": {
           "x": 0.05
          },
          "xaxis": {
           "automargin": true,
           "gridcolor": "white",
           "linecolor": "white",
           "ticks": "",
           "title": {
            "standoff": 15
           },
           "zerolinecolor": "white",
           "zerolinewidth": 2
          },
          "yaxis": {
           "automargin": true,
           "gridcolor": "white",
           "linecolor": "white",
           "ticks": "",
           "title": {
            "standoff": 15
           },
           "zerolinecolor": "white",
           "zerolinewidth": 2
          }
         }
        },
        "title": {
         "text": "Information about the regions based on the direction"
        },
        "width": 500
       }
      },
      "text/html": [
       "<div>                            <div id=\"5c825759-bf63-4e26-b097-f5a67dcca4fe\" class=\"plotly-graph-div\" style=\"height:400px; width:500px;\"></div>            <script type=\"text/javascript\">                require([\"plotly\"], function(Plotly) {                    window.PLOTLYENV=window.PLOTLYENV || {};                                    if (document.getElementById(\"5c825759-bf63-4e26-b097-f5a67dcca4fe\")) {                    Plotly.newPlot(                        \"5c825759-bf63-4e26-b097-f5a67dcca4fe\",                        [{\"domain\":{\"x\":[0.0,1.0],\"y\":[0.0,1.0]},\"hole\":0.9,\"hovertemplate\":\"label=%{label}\\u003cbr\\u003evalue=%{value}\\u003cextra\\u003e\\u003c\\u002fextra\\u003e\",\"labels\":[\"North\",\"South\",\"West\",\"East\",\"Northeast\"],\"legendgroup\":\"\",\"name\":\"\",\"showlegend\":true,\"values\":[79,60,50,40,38],\"type\":\"pie\"}],                        {\"template\":{\"data\":{\"histogram2dcontour\":[{\"type\":\"histogram2dcontour\",\"colorbar\":{\"outlinewidth\":0,\"ticks\":\"\"},\"colorscale\":[[0.0,\"#0d0887\"],[0.1111111111111111,\"#46039f\"],[0.2222222222222222,\"#7201a8\"],[0.3333333333333333,\"#9c179e\"],[0.4444444444444444,\"#bd3786\"],[0.5555555555555556,\"#d8576b\"],[0.6666666666666666,\"#ed7953\"],[0.7777777777777778,\"#fb9f3a\"],[0.8888888888888888,\"#fdca26\"],[1.0,\"#f0f921\"]]}],\"choropleth\":[{\"type\":\"choropleth\",\"colorbar\":{\"outlinewidth\":0,\"ticks\":\"\"}}],\"histogram2d\":[{\"type\":\"histogram2d\",\"colorbar\":{\"outlinewidth\":0,\"ticks\":\"\"},\"colorscale\":[[0.0,\"#0d0887\"],[0.1111111111111111,\"#46039f\"],[0.2222222222222222,\"#7201a8\"],[0.3333333333333333,\"#9c179e\"],[0.4444444444444444,\"#bd3786\"],[0.5555555555555556,\"#d8576b\"],[0.6666666666666666,\"#ed7953\"],[0.7777777777777778,\"#fb9f3a\"],[0.8888888888888888,\"#fdca26\"],[1.0,\"#f0f921\"]]}],\"heatmap\":[{\"type\":\"heatmap\",\"colorbar\":{\"outlinewidth\":0,\"ticks\":\"\"},\"colorscale\":[[0.0,\"#0d0887\"],[0.1111111111111111,\"#46039f\"],[0.2222222222222222,\"#7201a8\"],[0.3333333333333333,\"#9c179e\"],[0.4444444444444444,\"#bd3786\"],[0.5555555555555556,\"#d8576b\"],[0.6666666666666666,\"#ed7953\"],[0.7777777777777778,\"#fb9f3a\"],[0.8888888888888888,\"#fdca26\"],[1.0,\"#f0f921\"]]}],\"heatmapgl\":[{\"type\":\"heatmapgl\",\"colorbar\":{\"outlinewidth\":0,\"ticks\":\"\"},\"colorscale\":[[0.0,\"#0d0887\"],[0.1111111111111111,\"#46039f\"],[0.2222222222222222,\"#7201a8\"],[0.3333333333333333,\"#9c179e\"],[0.4444444444444444,\"#bd3786\"],[0.5555555555555556,\"#d8576b\"],[0.6666666666666666,\"#ed7953\"],[0.7777777777777778,\"#fb9f3a\"],[0.8888888888888888,\"#fdca26\"],[1.0,\"#f0f921\"]]}],\"contourcarpet\":[{\"type\":\"contourcarpet\",\"colorbar\":{\"outlinewidth\":0,\"ticks\":\"\"}}],\"contour\":[{\"type\":\"contour\",\"colorbar\":{\"outlinewidth\":0,\"ticks\":\"\"},\"colorscale\":[[0.0,\"#0d0887\"],[0.1111111111111111,\"#46039f\"],[0.2222222222222222,\"#7201a8\"],[0.3333333333333333,\"#9c179e\"],[0.4444444444444444,\"#bd3786\"],[0.5555555555555556,\"#d8576b\"],[0.6666666666666666,\"#ed7953\"],[0.7777777777777778,\"#fb9f3a\"],[0.8888888888888888,\"#fdca26\"],[1.0,\"#f0f921\"]]}],\"surface\":[{\"type\":\"surface\",\"colorbar\":{\"outlinewidth\":0,\"ticks\":\"\"},\"colorscale\":[[0.0,\"#0d0887\"],[0.1111111111111111,\"#46039f\"],[0.2222222222222222,\"#7201a8\"],[0.3333333333333333,\"#9c179e\"],[0.4444444444444444,\"#bd3786\"],[0.5555555555555556,\"#d8576b\"],[0.6666666666666666,\"#ed7953\"],[0.7777777777777778,\"#fb9f3a\"],[0.8888888888888888,\"#fdca26\"],[1.0,\"#f0f921\"]]}],\"mesh3d\":[{\"type\":\"mesh3d\",\"colorbar\":{\"outlinewidth\":0,\"ticks\":\"\"}}],\"scatter\":[{\"fillpattern\":{\"fillmode\":\"overlay\",\"size\":10,\"solidity\":0.2},\"type\":\"scatter\"}],\"parcoords\":[{\"type\":\"parcoords\",\"line\":{\"colorbar\":{\"outlinewidth\":0,\"ticks\":\"\"}}}],\"scatterpolargl\":[{\"type\":\"scatterpolargl\",\"marker\":{\"colorbar\":{\"outlinewidth\":0,\"ticks\":\"\"}}}],\"bar\":[{\"error_x\":{\"color\":\"#2a3f5f\"},\"error_y\":{\"color\":\"#2a3f5f\"},\"marker\":{\"line\":{\"color\":\"#E5ECF6\",\"width\":0.5},\"pattern\":{\"fillmode\":\"overlay\",\"size\":10,\"solidity\":0.2}},\"type\":\"bar\"}],\"scattergeo\":[{\"type\":\"scattergeo\",\"marker\":{\"colorbar\":{\"outlinewidth\":0,\"ticks\":\"\"}}}],\"scatterpolar\":[{\"type\":\"scatterpolar\",\"marker\":{\"colorbar\":{\"outlinewidth\":0,\"ticks\":\"\"}}}],\"histogram\":[{\"marker\":{\"pattern\":{\"fillmode\":\"overlay\",\"size\":10,\"solidity\":0.2}},\"type\":\"histogram\"}],\"scattergl\":[{\"type\":\"scattergl\",\"marker\":{\"colorbar\":{\"outlinewidth\":0,\"ticks\":\"\"}}}],\"scatter3d\":[{\"type\":\"scatter3d\",\"line\":{\"colorbar\":{\"outlinewidth\":0,\"ticks\":\"\"}},\"marker\":{\"colorbar\":{\"outlinewidth\":0,\"ticks\":\"\"}}}],\"scattermapbox\":[{\"type\":\"scattermapbox\",\"marker\":{\"colorbar\":{\"outlinewidth\":0,\"ticks\":\"\"}}}],\"scatterternary\":[{\"type\":\"scatterternary\",\"marker\":{\"colorbar\":{\"outlinewidth\":0,\"ticks\":\"\"}}}],\"scattercarpet\":[{\"type\":\"scattercarpet\",\"marker\":{\"colorbar\":{\"outlinewidth\":0,\"ticks\":\"\"}}}],\"carpet\":[{\"aaxis\":{\"endlinecolor\":\"#2a3f5f\",\"gridcolor\":\"white\",\"linecolor\":\"white\",\"minorgridcolor\":\"white\",\"startlinecolor\":\"#2a3f5f\"},\"baxis\":{\"endlinecolor\":\"#2a3f5f\",\"gridcolor\":\"white\",\"linecolor\":\"white\",\"minorgridcolor\":\"white\",\"startlinecolor\":\"#2a3f5f\"},\"type\":\"carpet\"}],\"table\":[{\"cells\":{\"fill\":{\"color\":\"#EBF0F8\"},\"line\":{\"color\":\"white\"}},\"header\":{\"fill\":{\"color\":\"#C8D4E3\"},\"line\":{\"color\":\"white\"}},\"type\":\"table\"}],\"barpolar\":[{\"marker\":{\"line\":{\"color\":\"#E5ECF6\",\"width\":0.5},\"pattern\":{\"fillmode\":\"overlay\",\"size\":10,\"solidity\":0.2}},\"type\":\"barpolar\"}],\"pie\":[{\"automargin\":true,\"type\":\"pie\"}]},\"layout\":{\"autotypenumbers\":\"strict\",\"colorway\":[\"#636efa\",\"#EF553B\",\"#00cc96\",\"#ab63fa\",\"#FFA15A\",\"#19d3f3\",\"#FF6692\",\"#B6E880\",\"#FF97FF\",\"#FECB52\"],\"font\":{\"color\":\"#2a3f5f\"},\"hovermode\":\"closest\",\"hoverlabel\":{\"align\":\"left\"},\"paper_bgcolor\":\"white\",\"plot_bgcolor\":\"#E5ECF6\",\"polar\":{\"bgcolor\":\"#E5ECF6\",\"angularaxis\":{\"gridcolor\":\"white\",\"linecolor\":\"white\",\"ticks\":\"\"},\"radialaxis\":{\"gridcolor\":\"white\",\"linecolor\":\"white\",\"ticks\":\"\"}},\"ternary\":{\"bgcolor\":\"#E5ECF6\",\"aaxis\":{\"gridcolor\":\"white\",\"linecolor\":\"white\",\"ticks\":\"\"},\"baxis\":{\"gridcolor\":\"white\",\"linecolor\":\"white\",\"ticks\":\"\"},\"caxis\":{\"gridcolor\":\"white\",\"linecolor\":\"white\",\"ticks\":\"\"}},\"coloraxis\":{\"colorbar\":{\"outlinewidth\":0,\"ticks\":\"\"}},\"colorscale\":{\"sequential\":[[0.0,\"#0d0887\"],[0.1111111111111111,\"#46039f\"],[0.2222222222222222,\"#7201a8\"],[0.3333333333333333,\"#9c179e\"],[0.4444444444444444,\"#bd3786\"],[0.5555555555555556,\"#d8576b\"],[0.6666666666666666,\"#ed7953\"],[0.7777777777777778,\"#fb9f3a\"],[0.8888888888888888,\"#fdca26\"],[1.0,\"#f0f921\"]],\"sequentialminus\":[[0.0,\"#0d0887\"],[0.1111111111111111,\"#46039f\"],[0.2222222222222222,\"#7201a8\"],[0.3333333333333333,\"#9c179e\"],[0.4444444444444444,\"#bd3786\"],[0.5555555555555556,\"#d8576b\"],[0.6666666666666666,\"#ed7953\"],[0.7777777777777778,\"#fb9f3a\"],[0.8888888888888888,\"#fdca26\"],[1.0,\"#f0f921\"]],\"diverging\":[[0,\"#8e0152\"],[0.1,\"#c51b7d\"],[0.2,\"#de77ae\"],[0.3,\"#f1b6da\"],[0.4,\"#fde0ef\"],[0.5,\"#f7f7f7\"],[0.6,\"#e6f5d0\"],[0.7,\"#b8e186\"],[0.8,\"#7fbc41\"],[0.9,\"#4d9221\"],[1,\"#276419\"]]},\"xaxis\":{\"gridcolor\":\"white\",\"linecolor\":\"white\",\"ticks\":\"\",\"title\":{\"standoff\":15},\"zerolinecolor\":\"white\",\"automargin\":true,\"zerolinewidth\":2},\"yaxis\":{\"gridcolor\":\"white\",\"linecolor\":\"white\",\"ticks\":\"\",\"title\":{\"standoff\":15},\"zerolinecolor\":\"white\",\"automargin\":true,\"zerolinewidth\":2},\"scene\":{\"xaxis\":{\"backgroundcolor\":\"#E5ECF6\",\"gridcolor\":\"white\",\"linecolor\":\"white\",\"showbackground\":true,\"ticks\":\"\",\"zerolinecolor\":\"white\",\"gridwidth\":2},\"yaxis\":{\"backgroundcolor\":\"#E5ECF6\",\"gridcolor\":\"white\",\"linecolor\":\"white\",\"showbackground\":true,\"ticks\":\"\",\"zerolinecolor\":\"white\",\"gridwidth\":2},\"zaxis\":{\"backgroundcolor\":\"#E5ECF6\",\"gridcolor\":\"white\",\"linecolor\":\"white\",\"showbackground\":true,\"ticks\":\"\",\"zerolinecolor\":\"white\",\"gridwidth\":2}},\"shapedefaults\":{\"line\":{\"color\":\"#2a3f5f\"}},\"annotationdefaults\":{\"arrowcolor\":\"#2a3f5f\",\"arrowhead\":0,\"arrowwidth\":1},\"geo\":{\"bgcolor\":\"white\",\"landcolor\":\"#E5ECF6\",\"subunitcolor\":\"white\",\"showland\":true,\"showlakes\":true,\"lakecolor\":\"white\"},\"title\":{\"x\":0.05},\"mapbox\":{\"style\":\"light\"}}},\"legend\":{\"tracegroupgap\":0},\"margin\":{\"t\":60},\"width\":500,\"height\":400,\"title\":{\"text\":\"Information about the regions based on the direction\"}},                        {\"responsive\": true}                    ).then(function(){\n",
       "                            \n",
       "var gd = document.getElementById('5c825759-bf63-4e26-b097-f5a67dcca4fe');\n",
       "var x = new MutationObserver(function (mutations, observer) {{\n",
       "        var display = window.getComputedStyle(gd).display;\n",
       "        if (!display || display === 'none') {{\n",
       "            console.log([gd, 'removed!']);\n",
       "            Plotly.purge(gd);\n",
       "            observer.disconnect();\n",
       "        }}\n",
       "}});\n",
       "\n",
       "// Listen for the removal of the full notebook cells\n",
       "var notebookContainer = gd.closest('#notebook-container');\n",
       "if (notebookContainer) {{\n",
       "    x.observe(notebookContainer, {childList: true});\n",
       "}}\n",
       "\n",
       "// Listen for the clearing of the current output cell\n",
       "var outputEl = gd.closest('.output');\n",
       "if (outputEl) {{\n",
       "    x.observe(outputEl, {childList: true});\n",
       "}}\n",
       "\n",
       "                        })                };                });            </script>        </div>"
      ]
     },
     "metadata": {},
     "output_type": "display_data"
    }
   ],
   "source": [
    "fg = df['Direction'].value_counts()\n",
    "fd = fg.values\n",
    "gh = fg.index\n",
    "dc = px.pie(df,values=fd,names=gh,hole=0.9)\n",
    "dc.update_layout(width=500,height=400,title='Information about the regions based on the direction')\n",
    "dc.show()"
   ]
  },
  {
   "cell_type": "code",
   "execution_count": 44,
   "id": "cd77663e",
   "metadata": {},
   "outputs": [
    {
     "data": {
      "application/vnd.plotly.v1+json": {
       "config": {
        "plotlyServerURL": "https://plot.ly"
       },
       "data": [
        {
         "domain": {
          "x": [
           0,
           1
          ],
          "y": [
           0,
           1
          ]
         },
         "hole": 0.4,
         "hovertemplate": "label=%{label}<br>value=%{value}<extra></extra>",
         "labels": [
          "Andhra Pradesh",
          "Assam",
          "Uttarakhand",
          "Uttar Pradesh",
          "Tripura",
          "Telangana",
          "Tamil Nadu",
          "Rajasthan",
          "Punjab",
          "Puducherry",
          "Odisha",
          "Meghalaya",
          "Maharashtra",
          "Madhya Pradesh",
          "Kerala",
          "Karnataka",
          "Jharkhand",
          "Himachal Pradesh",
          "Haryana",
          "Gujarat",
          "Goa",
          "Delhi",
          "Chhattisgarh",
          "Bihar",
          "West Bengal",
          "Jammu & Kashmir",
          "Sikkim"
         ],
         "legendgroup": "",
         "name": "",
         "showlegend": true,
         "type": "pie",
         "values": [
          10,
          10,
          10,
          10,
          10,
          10,
          10,
          10,
          10,
          10,
          10,
          10,
          10,
          10,
          10,
          10,
          10,
          10,
          10,
          10,
          10,
          10,
          10,
          10,
          10,
          9,
          8
         ]
        }
       ],
       "layout": {
        "height": 400,
        "legend": {
         "tracegroupgap": 0
        },
        "margin": {
         "t": 60
        },
        "template": {
         "data": {
          "bar": [
           {
            "error_x": {
             "color": "#2a3f5f"
            },
            "error_y": {
             "color": "#2a3f5f"
            },
            "marker": {
             "line": {
              "color": "#E5ECF6",
              "width": 0.5
             },
             "pattern": {
              "fillmode": "overlay",
              "size": 10,
              "solidity": 0.2
             }
            },
            "type": "bar"
           }
          ],
          "barpolar": [
           {
            "marker": {
             "line": {
              "color": "#E5ECF6",
              "width": 0.5
             },
             "pattern": {
              "fillmode": "overlay",
              "size": 10,
              "solidity": 0.2
             }
            },
            "type": "barpolar"
           }
          ],
          "carpet": [
           {
            "aaxis": {
             "endlinecolor": "#2a3f5f",
             "gridcolor": "white",
             "linecolor": "white",
             "minorgridcolor": "white",
             "startlinecolor": "#2a3f5f"
            },
            "baxis": {
             "endlinecolor": "#2a3f5f",
             "gridcolor": "white",
             "linecolor": "white",
             "minorgridcolor": "white",
             "startlinecolor": "#2a3f5f"
            },
            "type": "carpet"
           }
          ],
          "choropleth": [
           {
            "colorbar": {
             "outlinewidth": 0,
             "ticks": ""
            },
            "type": "choropleth"
           }
          ],
          "contour": [
           {
            "colorbar": {
             "outlinewidth": 0,
             "ticks": ""
            },
            "colorscale": [
             [
              0,
              "#0d0887"
             ],
             [
              0.1111111111111111,
              "#46039f"
             ],
             [
              0.2222222222222222,
              "#7201a8"
             ],
             [
              0.3333333333333333,
              "#9c179e"
             ],
             [
              0.4444444444444444,
              "#bd3786"
             ],
             [
              0.5555555555555556,
              "#d8576b"
             ],
             [
              0.6666666666666666,
              "#ed7953"
             ],
             [
              0.7777777777777778,
              "#fb9f3a"
             ],
             [
              0.8888888888888888,
              "#fdca26"
             ],
             [
              1,
              "#f0f921"
             ]
            ],
            "type": "contour"
           }
          ],
          "contourcarpet": [
           {
            "colorbar": {
             "outlinewidth": 0,
             "ticks": ""
            },
            "type": "contourcarpet"
           }
          ],
          "heatmap": [
           {
            "colorbar": {
             "outlinewidth": 0,
             "ticks": ""
            },
            "colorscale": [
             [
              0,
              "#0d0887"
             ],
             [
              0.1111111111111111,
              "#46039f"
             ],
             [
              0.2222222222222222,
              "#7201a8"
             ],
             [
              0.3333333333333333,
              "#9c179e"
             ],
             [
              0.4444444444444444,
              "#bd3786"
             ],
             [
              0.5555555555555556,
              "#d8576b"
             ],
             [
              0.6666666666666666,
              "#ed7953"
             ],
             [
              0.7777777777777778,
              "#fb9f3a"
             ],
             [
              0.8888888888888888,
              "#fdca26"
             ],
             [
              1,
              "#f0f921"
             ]
            ],
            "type": "heatmap"
           }
          ],
          "heatmapgl": [
           {
            "colorbar": {
             "outlinewidth": 0,
             "ticks": ""
            },
            "colorscale": [
             [
              0,
              "#0d0887"
             ],
             [
              0.1111111111111111,
              "#46039f"
             ],
             [
              0.2222222222222222,
              "#7201a8"
             ],
             [
              0.3333333333333333,
              "#9c179e"
             ],
             [
              0.4444444444444444,
              "#bd3786"
             ],
             [
              0.5555555555555556,
              "#d8576b"
             ],
             [
              0.6666666666666666,
              "#ed7953"
             ],
             [
              0.7777777777777778,
              "#fb9f3a"
             ],
             [
              0.8888888888888888,
              "#fdca26"
             ],
             [
              1,
              "#f0f921"
             ]
            ],
            "type": "heatmapgl"
           }
          ],
          "histogram": [
           {
            "marker": {
             "pattern": {
              "fillmode": "overlay",
              "size": 10,
              "solidity": 0.2
             }
            },
            "type": "histogram"
           }
          ],
          "histogram2d": [
           {
            "colorbar": {
             "outlinewidth": 0,
             "ticks": ""
            },
            "colorscale": [
             [
              0,
              "#0d0887"
             ],
             [
              0.1111111111111111,
              "#46039f"
             ],
             [
              0.2222222222222222,
              "#7201a8"
             ],
             [
              0.3333333333333333,
              "#9c179e"
             ],
             [
              0.4444444444444444,
              "#bd3786"
             ],
             [
              0.5555555555555556,
              "#d8576b"
             ],
             [
              0.6666666666666666,
              "#ed7953"
             ],
             [
              0.7777777777777778,
              "#fb9f3a"
             ],
             [
              0.8888888888888888,
              "#fdca26"
             ],
             [
              1,
              "#f0f921"
             ]
            ],
            "type": "histogram2d"
           }
          ],
          "histogram2dcontour": [
           {
            "colorbar": {
             "outlinewidth": 0,
             "ticks": ""
            },
            "colorscale": [
             [
              0,
              "#0d0887"
             ],
             [
              0.1111111111111111,
              "#46039f"
             ],
             [
              0.2222222222222222,
              "#7201a8"
             ],
             [
              0.3333333333333333,
              "#9c179e"
             ],
             [
              0.4444444444444444,
              "#bd3786"
             ],
             [
              0.5555555555555556,
              "#d8576b"
             ],
             [
              0.6666666666666666,
              "#ed7953"
             ],
             [
              0.7777777777777778,
              "#fb9f3a"
             ],
             [
              0.8888888888888888,
              "#fdca26"
             ],
             [
              1,
              "#f0f921"
             ]
            ],
            "type": "histogram2dcontour"
           }
          ],
          "mesh3d": [
           {
            "colorbar": {
             "outlinewidth": 0,
             "ticks": ""
            },
            "type": "mesh3d"
           }
          ],
          "parcoords": [
           {
            "line": {
             "colorbar": {
              "outlinewidth": 0,
              "ticks": ""
             }
            },
            "type": "parcoords"
           }
          ],
          "pie": [
           {
            "automargin": true,
            "type": "pie"
           }
          ],
          "scatter": [
           {
            "fillpattern": {
             "fillmode": "overlay",
             "size": 10,
             "solidity": 0.2
            },
            "type": "scatter"
           }
          ],
          "scatter3d": [
           {
            "line": {
             "colorbar": {
              "outlinewidth": 0,
              "ticks": ""
             }
            },
            "marker": {
             "colorbar": {
              "outlinewidth": 0,
              "ticks": ""
             }
            },
            "type": "scatter3d"
           }
          ],
          "scattercarpet": [
           {
            "marker": {
             "colorbar": {
              "outlinewidth": 0,
              "ticks": ""
             }
            },
            "type": "scattercarpet"
           }
          ],
          "scattergeo": [
           {
            "marker": {
             "colorbar": {
              "outlinewidth": 0,
              "ticks": ""
             }
            },
            "type": "scattergeo"
           }
          ],
          "scattergl": [
           {
            "marker": {
             "colorbar": {
              "outlinewidth": 0,
              "ticks": ""
             }
            },
            "type": "scattergl"
           }
          ],
          "scattermapbox": [
           {
            "marker": {
             "colorbar": {
              "outlinewidth": 0,
              "ticks": ""
             }
            },
            "type": "scattermapbox"
           }
          ],
          "scatterpolar": [
           {
            "marker": {
             "colorbar": {
              "outlinewidth": 0,
              "ticks": ""
             }
            },
            "type": "scatterpolar"
           }
          ],
          "scatterpolargl": [
           {
            "marker": {
             "colorbar": {
              "outlinewidth": 0,
              "ticks": ""
             }
            },
            "type": "scatterpolargl"
           }
          ],
          "scatterternary": [
           {
            "marker": {
             "colorbar": {
              "outlinewidth": 0,
              "ticks": ""
             }
            },
            "type": "scatterternary"
           }
          ],
          "surface": [
           {
            "colorbar": {
             "outlinewidth": 0,
             "ticks": ""
            },
            "colorscale": [
             [
              0,
              "#0d0887"
             ],
             [
              0.1111111111111111,
              "#46039f"
             ],
             [
              0.2222222222222222,
              "#7201a8"
             ],
             [
              0.3333333333333333,
              "#9c179e"
             ],
             [
              0.4444444444444444,
              "#bd3786"
             ],
             [
              0.5555555555555556,
              "#d8576b"
             ],
             [
              0.6666666666666666,
              "#ed7953"
             ],
             [
              0.7777777777777778,
              "#fb9f3a"
             ],
             [
              0.8888888888888888,
              "#fdca26"
             ],
             [
              1,
              "#f0f921"
             ]
            ],
            "type": "surface"
           }
          ],
          "table": [
           {
            "cells": {
             "fill": {
              "color": "#EBF0F8"
             },
             "line": {
              "color": "white"
             }
            },
            "header": {
             "fill": {
              "color": "#C8D4E3"
             },
             "line": {
              "color": "white"
             }
            },
            "type": "table"
           }
          ]
         },
         "layout": {
          "annotationdefaults": {
           "arrowcolor": "#2a3f5f",
           "arrowhead": 0,
           "arrowwidth": 1
          },
          "autotypenumbers": "strict",
          "coloraxis": {
           "colorbar": {
            "outlinewidth": 0,
            "ticks": ""
           }
          },
          "colorscale": {
           "diverging": [
            [
             0,
             "#8e0152"
            ],
            [
             0.1,
             "#c51b7d"
            ],
            [
             0.2,
             "#de77ae"
            ],
            [
             0.3,
             "#f1b6da"
            ],
            [
             0.4,
             "#fde0ef"
            ],
            [
             0.5,
             "#f7f7f7"
            ],
            [
             0.6,
             "#e6f5d0"
            ],
            [
             0.7,
             "#b8e186"
            ],
            [
             0.8,
             "#7fbc41"
            ],
            [
             0.9,
             "#4d9221"
            ],
            [
             1,
             "#276419"
            ]
           ],
           "sequential": [
            [
             0,
             "#0d0887"
            ],
            [
             0.1111111111111111,
             "#46039f"
            ],
            [
             0.2222222222222222,
             "#7201a8"
            ],
            [
             0.3333333333333333,
             "#9c179e"
            ],
            [
             0.4444444444444444,
             "#bd3786"
            ],
            [
             0.5555555555555556,
             "#d8576b"
            ],
            [
             0.6666666666666666,
             "#ed7953"
            ],
            [
             0.7777777777777778,
             "#fb9f3a"
            ],
            [
             0.8888888888888888,
             "#fdca26"
            ],
            [
             1,
             "#f0f921"
            ]
           ],
           "sequentialminus": [
            [
             0,
             "#0d0887"
            ],
            [
             0.1111111111111111,
             "#46039f"
            ],
            [
             0.2222222222222222,
             "#7201a8"
            ],
            [
             0.3333333333333333,
             "#9c179e"
            ],
            [
             0.4444444444444444,
             "#bd3786"
            ],
            [
             0.5555555555555556,
             "#d8576b"
            ],
            [
             0.6666666666666666,
             "#ed7953"
            ],
            [
             0.7777777777777778,
             "#fb9f3a"
            ],
            [
             0.8888888888888888,
             "#fdca26"
            ],
            [
             1,
             "#f0f921"
            ]
           ]
          },
          "colorway": [
           "#636efa",
           "#EF553B",
           "#00cc96",
           "#ab63fa",
           "#FFA15A",
           "#19d3f3",
           "#FF6692",
           "#B6E880",
           "#FF97FF",
           "#FECB52"
          ],
          "font": {
           "color": "#2a3f5f"
          },
          "geo": {
           "bgcolor": "white",
           "lakecolor": "white",
           "landcolor": "#E5ECF6",
           "showlakes": true,
           "showland": true,
           "subunitcolor": "white"
          },
          "hoverlabel": {
           "align": "left"
          },
          "hovermode": "closest",
          "mapbox": {
           "style": "light"
          },
          "paper_bgcolor": "white",
          "plot_bgcolor": "#E5ECF6",
          "polar": {
           "angularaxis": {
            "gridcolor": "white",
            "linecolor": "white",
            "ticks": ""
           },
           "bgcolor": "#E5ECF6",
           "radialaxis": {
            "gridcolor": "white",
            "linecolor": "white",
            "ticks": ""
           }
          },
          "scene": {
           "xaxis": {
            "backgroundcolor": "#E5ECF6",
            "gridcolor": "white",
            "gridwidth": 2,
            "linecolor": "white",
            "showbackground": true,
            "ticks": "",
            "zerolinecolor": "white"
           },
           "yaxis": {
            "backgroundcolor": "#E5ECF6",
            "gridcolor": "white",
            "gridwidth": 2,
            "linecolor": "white",
            "showbackground": true,
            "ticks": "",
            "zerolinecolor": "white"
           },
           "zaxis": {
            "backgroundcolor": "#E5ECF6",
            "gridcolor": "white",
            "gridwidth": 2,
            "linecolor": "white",
            "showbackground": true,
            "ticks": "",
            "zerolinecolor": "white"
           }
          },
          "shapedefaults": {
           "line": {
            "color": "#2a3f5f"
           }
          },
          "ternary": {
           "aaxis": {
            "gridcolor": "white",
            "linecolor": "white",
            "ticks": ""
           },
           "baxis": {
            "gridcolor": "white",
            "linecolor": "white",
            "ticks": ""
           },
           "bgcolor": "#E5ECF6",
           "caxis": {
            "gridcolor": "white",
            "linecolor": "white",
            "ticks": ""
           }
          },
          "title": {
           "x": 0.05
          },
          "xaxis": {
           "automargin": true,
           "gridcolor": "white",
           "linecolor": "white",
           "ticks": "",
           "title": {
            "standoff": 15
           },
           "zerolinecolor": "white",
           "zerolinewidth": 2
          },
          "yaxis": {
           "automargin": true,
           "gridcolor": "white",
           "linecolor": "white",
           "ticks": "",
           "title": {
            "standoff": 15
           },
           "zerolinecolor": "white",
           "zerolinewidth": 2
          }
         }
        },
        "title": {
         "text": "Information about the Region"
        },
        "width": 500
       }
      },
      "text/html": [
       "<div>                            <div id=\"2418a6ad-0a2b-498a-acc8-ee2031a12349\" class=\"plotly-graph-div\" style=\"height:400px; width:500px;\"></div>            <script type=\"text/javascript\">                require([\"plotly\"], function(Plotly) {                    window.PLOTLYENV=window.PLOTLYENV || {};                                    if (document.getElementById(\"2418a6ad-0a2b-498a-acc8-ee2031a12349\")) {                    Plotly.newPlot(                        \"2418a6ad-0a2b-498a-acc8-ee2031a12349\",                        [{\"domain\":{\"x\":[0.0,1.0],\"y\":[0.0,1.0]},\"hole\":0.4,\"hovertemplate\":\"label=%{label}\\u003cbr\\u003evalue=%{value}\\u003cextra\\u003e\\u003c\\u002fextra\\u003e\",\"labels\":[\"Andhra Pradesh\",\"Assam\",\"Uttarakhand\",\"Uttar Pradesh\",\"Tripura\",\"Telangana\",\"Tamil Nadu\",\"Rajasthan\",\"Punjab\",\"Puducherry\",\"Odisha\",\"Meghalaya\",\"Maharashtra\",\"Madhya Pradesh\",\"Kerala\",\"Karnataka\",\"Jharkhand\",\"Himachal Pradesh\",\"Haryana\",\"Gujarat\",\"Goa\",\"Delhi\",\"Chhattisgarh\",\"Bihar\",\"West Bengal\",\"Jammu & Kashmir\",\"Sikkim\"],\"legendgroup\":\"\",\"name\":\"\",\"showlegend\":true,\"values\":[10,10,10,10,10,10,10,10,10,10,10,10,10,10,10,10,10,10,10,10,10,10,10,10,10,9,8],\"type\":\"pie\"}],                        {\"template\":{\"data\":{\"histogram2dcontour\":[{\"type\":\"histogram2dcontour\",\"colorbar\":{\"outlinewidth\":0,\"ticks\":\"\"},\"colorscale\":[[0.0,\"#0d0887\"],[0.1111111111111111,\"#46039f\"],[0.2222222222222222,\"#7201a8\"],[0.3333333333333333,\"#9c179e\"],[0.4444444444444444,\"#bd3786\"],[0.5555555555555556,\"#d8576b\"],[0.6666666666666666,\"#ed7953\"],[0.7777777777777778,\"#fb9f3a\"],[0.8888888888888888,\"#fdca26\"],[1.0,\"#f0f921\"]]}],\"choropleth\":[{\"type\":\"choropleth\",\"colorbar\":{\"outlinewidth\":0,\"ticks\":\"\"}}],\"histogram2d\":[{\"type\":\"histogram2d\",\"colorbar\":{\"outlinewidth\":0,\"ticks\":\"\"},\"colorscale\":[[0.0,\"#0d0887\"],[0.1111111111111111,\"#46039f\"],[0.2222222222222222,\"#7201a8\"],[0.3333333333333333,\"#9c179e\"],[0.4444444444444444,\"#bd3786\"],[0.5555555555555556,\"#d8576b\"],[0.6666666666666666,\"#ed7953\"],[0.7777777777777778,\"#fb9f3a\"],[0.8888888888888888,\"#fdca26\"],[1.0,\"#f0f921\"]]}],\"heatmap\":[{\"type\":\"heatmap\",\"colorbar\":{\"outlinewidth\":0,\"ticks\":\"\"},\"colorscale\":[[0.0,\"#0d0887\"],[0.1111111111111111,\"#46039f\"],[0.2222222222222222,\"#7201a8\"],[0.3333333333333333,\"#9c179e\"],[0.4444444444444444,\"#bd3786\"],[0.5555555555555556,\"#d8576b\"],[0.6666666666666666,\"#ed7953\"],[0.7777777777777778,\"#fb9f3a\"],[0.8888888888888888,\"#fdca26\"],[1.0,\"#f0f921\"]]}],\"heatmapgl\":[{\"type\":\"heatmapgl\",\"colorbar\":{\"outlinewidth\":0,\"ticks\":\"\"},\"colorscale\":[[0.0,\"#0d0887\"],[0.1111111111111111,\"#46039f\"],[0.2222222222222222,\"#7201a8\"],[0.3333333333333333,\"#9c179e\"],[0.4444444444444444,\"#bd3786\"],[0.5555555555555556,\"#d8576b\"],[0.6666666666666666,\"#ed7953\"],[0.7777777777777778,\"#fb9f3a\"],[0.8888888888888888,\"#fdca26\"],[1.0,\"#f0f921\"]]}],\"contourcarpet\":[{\"type\":\"contourcarpet\",\"colorbar\":{\"outlinewidth\":0,\"ticks\":\"\"}}],\"contour\":[{\"type\":\"contour\",\"colorbar\":{\"outlinewidth\":0,\"ticks\":\"\"},\"colorscale\":[[0.0,\"#0d0887\"],[0.1111111111111111,\"#46039f\"],[0.2222222222222222,\"#7201a8\"],[0.3333333333333333,\"#9c179e\"],[0.4444444444444444,\"#bd3786\"],[0.5555555555555556,\"#d8576b\"],[0.6666666666666666,\"#ed7953\"],[0.7777777777777778,\"#fb9f3a\"],[0.8888888888888888,\"#fdca26\"],[1.0,\"#f0f921\"]]}],\"surface\":[{\"type\":\"surface\",\"colorbar\":{\"outlinewidth\":0,\"ticks\":\"\"},\"colorscale\":[[0.0,\"#0d0887\"],[0.1111111111111111,\"#46039f\"],[0.2222222222222222,\"#7201a8\"],[0.3333333333333333,\"#9c179e\"],[0.4444444444444444,\"#bd3786\"],[0.5555555555555556,\"#d8576b\"],[0.6666666666666666,\"#ed7953\"],[0.7777777777777778,\"#fb9f3a\"],[0.8888888888888888,\"#fdca26\"],[1.0,\"#f0f921\"]]}],\"mesh3d\":[{\"type\":\"mesh3d\",\"colorbar\":{\"outlinewidth\":0,\"ticks\":\"\"}}],\"scatter\":[{\"fillpattern\":{\"fillmode\":\"overlay\",\"size\":10,\"solidity\":0.2},\"type\":\"scatter\"}],\"parcoords\":[{\"type\":\"parcoords\",\"line\":{\"colorbar\":{\"outlinewidth\":0,\"ticks\":\"\"}}}],\"scatterpolargl\":[{\"type\":\"scatterpolargl\",\"marker\":{\"colorbar\":{\"outlinewidth\":0,\"ticks\":\"\"}}}],\"bar\":[{\"error_x\":{\"color\":\"#2a3f5f\"},\"error_y\":{\"color\":\"#2a3f5f\"},\"marker\":{\"line\":{\"color\":\"#E5ECF6\",\"width\":0.5},\"pattern\":{\"fillmode\":\"overlay\",\"size\":10,\"solidity\":0.2}},\"type\":\"bar\"}],\"scattergeo\":[{\"type\":\"scattergeo\",\"marker\":{\"colorbar\":{\"outlinewidth\":0,\"ticks\":\"\"}}}],\"scatterpolar\":[{\"type\":\"scatterpolar\",\"marker\":{\"colorbar\":{\"outlinewidth\":0,\"ticks\":\"\"}}}],\"histogram\":[{\"marker\":{\"pattern\":{\"fillmode\":\"overlay\",\"size\":10,\"solidity\":0.2}},\"type\":\"histogram\"}],\"scattergl\":[{\"type\":\"scattergl\",\"marker\":{\"colorbar\":{\"outlinewidth\":0,\"ticks\":\"\"}}}],\"scatter3d\":[{\"type\":\"scatter3d\",\"line\":{\"colorbar\":{\"outlinewidth\":0,\"ticks\":\"\"}},\"marker\":{\"colorbar\":{\"outlinewidth\":0,\"ticks\":\"\"}}}],\"scattermapbox\":[{\"type\":\"scattermapbox\",\"marker\":{\"colorbar\":{\"outlinewidth\":0,\"ticks\":\"\"}}}],\"scatterternary\":[{\"type\":\"scatterternary\",\"marker\":{\"colorbar\":{\"outlinewidth\":0,\"ticks\":\"\"}}}],\"scattercarpet\":[{\"type\":\"scattercarpet\",\"marker\":{\"colorbar\":{\"outlinewidth\":0,\"ticks\":\"\"}}}],\"carpet\":[{\"aaxis\":{\"endlinecolor\":\"#2a3f5f\",\"gridcolor\":\"white\",\"linecolor\":\"white\",\"minorgridcolor\":\"white\",\"startlinecolor\":\"#2a3f5f\"},\"baxis\":{\"endlinecolor\":\"#2a3f5f\",\"gridcolor\":\"white\",\"linecolor\":\"white\",\"minorgridcolor\":\"white\",\"startlinecolor\":\"#2a3f5f\"},\"type\":\"carpet\"}],\"table\":[{\"cells\":{\"fill\":{\"color\":\"#EBF0F8\"},\"line\":{\"color\":\"white\"}},\"header\":{\"fill\":{\"color\":\"#C8D4E3\"},\"line\":{\"color\":\"white\"}},\"type\":\"table\"}],\"barpolar\":[{\"marker\":{\"line\":{\"color\":\"#E5ECF6\",\"width\":0.5},\"pattern\":{\"fillmode\":\"overlay\",\"size\":10,\"solidity\":0.2}},\"type\":\"barpolar\"}],\"pie\":[{\"automargin\":true,\"type\":\"pie\"}]},\"layout\":{\"autotypenumbers\":\"strict\",\"colorway\":[\"#636efa\",\"#EF553B\",\"#00cc96\",\"#ab63fa\",\"#FFA15A\",\"#19d3f3\",\"#FF6692\",\"#B6E880\",\"#FF97FF\",\"#FECB52\"],\"font\":{\"color\":\"#2a3f5f\"},\"hovermode\":\"closest\",\"hoverlabel\":{\"align\":\"left\"},\"paper_bgcolor\":\"white\",\"plot_bgcolor\":\"#E5ECF6\",\"polar\":{\"bgcolor\":\"#E5ECF6\",\"angularaxis\":{\"gridcolor\":\"white\",\"linecolor\":\"white\",\"ticks\":\"\"},\"radialaxis\":{\"gridcolor\":\"white\",\"linecolor\":\"white\",\"ticks\":\"\"}},\"ternary\":{\"bgcolor\":\"#E5ECF6\",\"aaxis\":{\"gridcolor\":\"white\",\"linecolor\":\"white\",\"ticks\":\"\"},\"baxis\":{\"gridcolor\":\"white\",\"linecolor\":\"white\",\"ticks\":\"\"},\"caxis\":{\"gridcolor\":\"white\",\"linecolor\":\"white\",\"ticks\":\"\"}},\"coloraxis\":{\"colorbar\":{\"outlinewidth\":0,\"ticks\":\"\"}},\"colorscale\":{\"sequential\":[[0.0,\"#0d0887\"],[0.1111111111111111,\"#46039f\"],[0.2222222222222222,\"#7201a8\"],[0.3333333333333333,\"#9c179e\"],[0.4444444444444444,\"#bd3786\"],[0.5555555555555556,\"#d8576b\"],[0.6666666666666666,\"#ed7953\"],[0.7777777777777778,\"#fb9f3a\"],[0.8888888888888888,\"#fdca26\"],[1.0,\"#f0f921\"]],\"sequentialminus\":[[0.0,\"#0d0887\"],[0.1111111111111111,\"#46039f\"],[0.2222222222222222,\"#7201a8\"],[0.3333333333333333,\"#9c179e\"],[0.4444444444444444,\"#bd3786\"],[0.5555555555555556,\"#d8576b\"],[0.6666666666666666,\"#ed7953\"],[0.7777777777777778,\"#fb9f3a\"],[0.8888888888888888,\"#fdca26\"],[1.0,\"#f0f921\"]],\"diverging\":[[0,\"#8e0152\"],[0.1,\"#c51b7d\"],[0.2,\"#de77ae\"],[0.3,\"#f1b6da\"],[0.4,\"#fde0ef\"],[0.5,\"#f7f7f7\"],[0.6,\"#e6f5d0\"],[0.7,\"#b8e186\"],[0.8,\"#7fbc41\"],[0.9,\"#4d9221\"],[1,\"#276419\"]]},\"xaxis\":{\"gridcolor\":\"white\",\"linecolor\":\"white\",\"ticks\":\"\",\"title\":{\"standoff\":15},\"zerolinecolor\":\"white\",\"automargin\":true,\"zerolinewidth\":2},\"yaxis\":{\"gridcolor\":\"white\",\"linecolor\":\"white\",\"ticks\":\"\",\"title\":{\"standoff\":15},\"zerolinecolor\":\"white\",\"automargin\":true,\"zerolinewidth\":2},\"scene\":{\"xaxis\":{\"backgroundcolor\":\"#E5ECF6\",\"gridcolor\":\"white\",\"linecolor\":\"white\",\"showbackground\":true,\"ticks\":\"\",\"zerolinecolor\":\"white\",\"gridwidth\":2},\"yaxis\":{\"backgroundcolor\":\"#E5ECF6\",\"gridcolor\":\"white\",\"linecolor\":\"white\",\"showbackground\":true,\"ticks\":\"\",\"zerolinecolor\":\"white\",\"gridwidth\":2},\"zaxis\":{\"backgroundcolor\":\"#E5ECF6\",\"gridcolor\":\"white\",\"linecolor\":\"white\",\"showbackground\":true,\"ticks\":\"\",\"zerolinecolor\":\"white\",\"gridwidth\":2}},\"shapedefaults\":{\"line\":{\"color\":\"#2a3f5f\"}},\"annotationdefaults\":{\"arrowcolor\":\"#2a3f5f\",\"arrowhead\":0,\"arrowwidth\":1},\"geo\":{\"bgcolor\":\"white\",\"landcolor\":\"#E5ECF6\",\"subunitcolor\":\"white\",\"showland\":true,\"showlakes\":true,\"lakecolor\":\"white\"},\"title\":{\"x\":0.05},\"mapbox\":{\"style\":\"light\"}}},\"legend\":{\"tracegroupgap\":0},\"margin\":{\"t\":60},\"width\":500,\"height\":400,\"title\":{\"text\":\"Information about the Region\"}},                        {\"responsive\": true}                    ).then(function(){\n",
       "                            \n",
       "var gd = document.getElementById('2418a6ad-0a2b-498a-acc8-ee2031a12349');\n",
       "var x = new MutationObserver(function (mutations, observer) {{\n",
       "        var display = window.getComputedStyle(gd).display;\n",
       "        if (!display || display === 'none') {{\n",
       "            console.log([gd, 'removed!']);\n",
       "            Plotly.purge(gd);\n",
       "            observer.disconnect();\n",
       "        }}\n",
       "}});\n",
       "\n",
       "// Listen for the removal of the full notebook cells\n",
       "var notebookContainer = gd.closest('#notebook-container');\n",
       "if (notebookContainer) {{\n",
       "    x.observe(notebookContainer, {childList: true});\n",
       "}}\n",
       "\n",
       "// Listen for the clearing of the current output cell\n",
       "var outputEl = gd.closest('.output');\n",
       "if (outputEl) {{\n",
       "    x.observe(outputEl, {childList: true});\n",
       "}}\n",
       "\n",
       "                        })                };                });            </script>        </div>"
      ]
     },
     "metadata": {},
     "output_type": "display_data"
    }
   ],
   "source": [
    "fg = df['Region'].value_counts()\n",
    "fd = fg.values\n",
    "gh = fg.index\n",
    "dc = px.pie(df,values=fd,names=gh,hole=0.4)\n",
    "dc.update_layout(width=500,height=400,title='Information about the Region')\n",
    "dc.show()"
   ]
  },
  {
   "cell_type": "code",
   "execution_count": 24,
   "id": "e4312734",
   "metadata": {},
   "outputs": [
    {
     "data": {
      "text/plain": [
       "Index(['Region', 'Date', 'Frequency', 'EstimatedUnemploymentRate',\n",
       "       'EstimatedEmployed', 'EstimatedLabourParticipationRate(%)', 'Direction',\n",
       "       'longitude', 'latitude', 'year', 'month', 'day'],\n",
       "      dtype='object')"
      ]
     },
     "execution_count": 24,
     "metadata": {},
     "output_type": "execute_result"
    }
   ],
   "source": [
    "df.columns"
   ]
  },
  {
   "cell_type": "code",
   "execution_count": 25,
   "id": "11894952",
   "metadata": {},
   "outputs": [
    {
     "data": {
      "application/vnd.plotly.v1+json": {
       "config": {
        "plotlyServerURL": "https://plot.ly"
       },
       "data": [
        {
         "domain": {
          "x": [
           0,
           1
          ],
          "y": [
           0,
           1
          ]
         },
         "hole": 0.5,
         "hovertemplate": "label=%{label}<br>value=%{value}<extra></extra>",
         "labels": [
          "march",
          "may",
          "june",
          "july",
          "august",
          "september",
          "october",
          "january",
          "february",
          "april"
         ],
         "legendgroup": "",
         "name": "",
         "showlegend": true,
         "type": "pie",
         "values": [
          27,
          27,
          27,
          27,
          27,
          27,
          27,
          26,
          26,
          26
         ]
        }
       ],
       "layout": {
        "height": 400,
        "legend": {
         "tracegroupgap": 0
        },
        "margin": {
         "t": 60
        },
        "template": {
         "data": {
          "bar": [
           {
            "error_x": {
             "color": "#2a3f5f"
            },
            "error_y": {
             "color": "#2a3f5f"
            },
            "marker": {
             "line": {
              "color": "#E5ECF6",
              "width": 0.5
             },
             "pattern": {
              "fillmode": "overlay",
              "size": 10,
              "solidity": 0.2
             }
            },
            "type": "bar"
           }
          ],
          "barpolar": [
           {
            "marker": {
             "line": {
              "color": "#E5ECF6",
              "width": 0.5
             },
             "pattern": {
              "fillmode": "overlay",
              "size": 10,
              "solidity": 0.2
             }
            },
            "type": "barpolar"
           }
          ],
          "carpet": [
           {
            "aaxis": {
             "endlinecolor": "#2a3f5f",
             "gridcolor": "white",
             "linecolor": "white",
             "minorgridcolor": "white",
             "startlinecolor": "#2a3f5f"
            },
            "baxis": {
             "endlinecolor": "#2a3f5f",
             "gridcolor": "white",
             "linecolor": "white",
             "minorgridcolor": "white",
             "startlinecolor": "#2a3f5f"
            },
            "type": "carpet"
           }
          ],
          "choropleth": [
           {
            "colorbar": {
             "outlinewidth": 0,
             "ticks": ""
            },
            "type": "choropleth"
           }
          ],
          "contour": [
           {
            "colorbar": {
             "outlinewidth": 0,
             "ticks": ""
            },
            "colorscale": [
             [
              0,
              "#0d0887"
             ],
             [
              0.1111111111111111,
              "#46039f"
             ],
             [
              0.2222222222222222,
              "#7201a8"
             ],
             [
              0.3333333333333333,
              "#9c179e"
             ],
             [
              0.4444444444444444,
              "#bd3786"
             ],
             [
              0.5555555555555556,
              "#d8576b"
             ],
             [
              0.6666666666666666,
              "#ed7953"
             ],
             [
              0.7777777777777778,
              "#fb9f3a"
             ],
             [
              0.8888888888888888,
              "#fdca26"
             ],
             [
              1,
              "#f0f921"
             ]
            ],
            "type": "contour"
           }
          ],
          "contourcarpet": [
           {
            "colorbar": {
             "outlinewidth": 0,
             "ticks": ""
            },
            "type": "contourcarpet"
           }
          ],
          "heatmap": [
           {
            "colorbar": {
             "outlinewidth": 0,
             "ticks": ""
            },
            "colorscale": [
             [
              0,
              "#0d0887"
             ],
             [
              0.1111111111111111,
              "#46039f"
             ],
             [
              0.2222222222222222,
              "#7201a8"
             ],
             [
              0.3333333333333333,
              "#9c179e"
             ],
             [
              0.4444444444444444,
              "#bd3786"
             ],
             [
              0.5555555555555556,
              "#d8576b"
             ],
             [
              0.6666666666666666,
              "#ed7953"
             ],
             [
              0.7777777777777778,
              "#fb9f3a"
             ],
             [
              0.8888888888888888,
              "#fdca26"
             ],
             [
              1,
              "#f0f921"
             ]
            ],
            "type": "heatmap"
           }
          ],
          "heatmapgl": [
           {
            "colorbar": {
             "outlinewidth": 0,
             "ticks": ""
            },
            "colorscale": [
             [
              0,
              "#0d0887"
             ],
             [
              0.1111111111111111,
              "#46039f"
             ],
             [
              0.2222222222222222,
              "#7201a8"
             ],
             [
              0.3333333333333333,
              "#9c179e"
             ],
             [
              0.4444444444444444,
              "#bd3786"
             ],
             [
              0.5555555555555556,
              "#d8576b"
             ],
             [
              0.6666666666666666,
              "#ed7953"
             ],
             [
              0.7777777777777778,
              "#fb9f3a"
             ],
             [
              0.8888888888888888,
              "#fdca26"
             ],
             [
              1,
              "#f0f921"
             ]
            ],
            "type": "heatmapgl"
           }
          ],
          "histogram": [
           {
            "marker": {
             "pattern": {
              "fillmode": "overlay",
              "size": 10,
              "solidity": 0.2
             }
            },
            "type": "histogram"
           }
          ],
          "histogram2d": [
           {
            "colorbar": {
             "outlinewidth": 0,
             "ticks": ""
            },
            "colorscale": [
             [
              0,
              "#0d0887"
             ],
             [
              0.1111111111111111,
              "#46039f"
             ],
             [
              0.2222222222222222,
              "#7201a8"
             ],
             [
              0.3333333333333333,
              "#9c179e"
             ],
             [
              0.4444444444444444,
              "#bd3786"
             ],
             [
              0.5555555555555556,
              "#d8576b"
             ],
             [
              0.6666666666666666,
              "#ed7953"
             ],
             [
              0.7777777777777778,
              "#fb9f3a"
             ],
             [
              0.8888888888888888,
              "#fdca26"
             ],
             [
              1,
              "#f0f921"
             ]
            ],
            "type": "histogram2d"
           }
          ],
          "histogram2dcontour": [
           {
            "colorbar": {
             "outlinewidth": 0,
             "ticks": ""
            },
            "colorscale": [
             [
              0,
              "#0d0887"
             ],
             [
              0.1111111111111111,
              "#46039f"
             ],
             [
              0.2222222222222222,
              "#7201a8"
             ],
             [
              0.3333333333333333,
              "#9c179e"
             ],
             [
              0.4444444444444444,
              "#bd3786"
             ],
             [
              0.5555555555555556,
              "#d8576b"
             ],
             [
              0.6666666666666666,
              "#ed7953"
             ],
             [
              0.7777777777777778,
              "#fb9f3a"
             ],
             [
              0.8888888888888888,
              "#fdca26"
             ],
             [
              1,
              "#f0f921"
             ]
            ],
            "type": "histogram2dcontour"
           }
          ],
          "mesh3d": [
           {
            "colorbar": {
             "outlinewidth": 0,
             "ticks": ""
            },
            "type": "mesh3d"
           }
          ],
          "parcoords": [
           {
            "line": {
             "colorbar": {
              "outlinewidth": 0,
              "ticks": ""
             }
            },
            "type": "parcoords"
           }
          ],
          "pie": [
           {
            "automargin": true,
            "type": "pie"
           }
          ],
          "scatter": [
           {
            "fillpattern": {
             "fillmode": "overlay",
             "size": 10,
             "solidity": 0.2
            },
            "type": "scatter"
           }
          ],
          "scatter3d": [
           {
            "line": {
             "colorbar": {
              "outlinewidth": 0,
              "ticks": ""
             }
            },
            "marker": {
             "colorbar": {
              "outlinewidth": 0,
              "ticks": ""
             }
            },
            "type": "scatter3d"
           }
          ],
          "scattercarpet": [
           {
            "marker": {
             "colorbar": {
              "outlinewidth": 0,
              "ticks": ""
             }
            },
            "type": "scattercarpet"
           }
          ],
          "scattergeo": [
           {
            "marker": {
             "colorbar": {
              "outlinewidth": 0,
              "ticks": ""
             }
            },
            "type": "scattergeo"
           }
          ],
          "scattergl": [
           {
            "marker": {
             "colorbar": {
              "outlinewidth": 0,
              "ticks": ""
             }
            },
            "type": "scattergl"
           }
          ],
          "scattermapbox": [
           {
            "marker": {
             "colorbar": {
              "outlinewidth": 0,
              "ticks": ""
             }
            },
            "type": "scattermapbox"
           }
          ],
          "scatterpolar": [
           {
            "marker": {
             "colorbar": {
              "outlinewidth": 0,
              "ticks": ""
             }
            },
            "type": "scatterpolar"
           }
          ],
          "scatterpolargl": [
           {
            "marker": {
             "colorbar": {
              "outlinewidth": 0,
              "ticks": ""
             }
            },
            "type": "scatterpolargl"
           }
          ],
          "scatterternary": [
           {
            "marker": {
             "colorbar": {
              "outlinewidth": 0,
              "ticks": ""
             }
            },
            "type": "scatterternary"
           }
          ],
          "surface": [
           {
            "colorbar": {
             "outlinewidth": 0,
             "ticks": ""
            },
            "colorscale": [
             [
              0,
              "#0d0887"
             ],
             [
              0.1111111111111111,
              "#46039f"
             ],
             [
              0.2222222222222222,
              "#7201a8"
             ],
             [
              0.3333333333333333,
              "#9c179e"
             ],
             [
              0.4444444444444444,
              "#bd3786"
             ],
             [
              0.5555555555555556,
              "#d8576b"
             ],
             [
              0.6666666666666666,
              "#ed7953"
             ],
             [
              0.7777777777777778,
              "#fb9f3a"
             ],
             [
              0.8888888888888888,
              "#fdca26"
             ],
             [
              1,
              "#f0f921"
             ]
            ],
            "type": "surface"
           }
          ],
          "table": [
           {
            "cells": {
             "fill": {
              "color": "#EBF0F8"
             },
             "line": {
              "color": "white"
             }
            },
            "header": {
             "fill": {
              "color": "#C8D4E3"
             },
             "line": {
              "color": "white"
             }
            },
            "type": "table"
           }
          ]
         },
         "layout": {
          "annotationdefaults": {
           "arrowcolor": "#2a3f5f",
           "arrowhead": 0,
           "arrowwidth": 1
          },
          "autotypenumbers": "strict",
          "coloraxis": {
           "colorbar": {
            "outlinewidth": 0,
            "ticks": ""
           }
          },
          "colorscale": {
           "diverging": [
            [
             0,
             "#8e0152"
            ],
            [
             0.1,
             "#c51b7d"
            ],
            [
             0.2,
             "#de77ae"
            ],
            [
             0.3,
             "#f1b6da"
            ],
            [
             0.4,
             "#fde0ef"
            ],
            [
             0.5,
             "#f7f7f7"
            ],
            [
             0.6,
             "#e6f5d0"
            ],
            [
             0.7,
             "#b8e186"
            ],
            [
             0.8,
             "#7fbc41"
            ],
            [
             0.9,
             "#4d9221"
            ],
            [
             1,
             "#276419"
            ]
           ],
           "sequential": [
            [
             0,
             "#0d0887"
            ],
            [
             0.1111111111111111,
             "#46039f"
            ],
            [
             0.2222222222222222,
             "#7201a8"
            ],
            [
             0.3333333333333333,
             "#9c179e"
            ],
            [
             0.4444444444444444,
             "#bd3786"
            ],
            [
             0.5555555555555556,
             "#d8576b"
            ],
            [
             0.6666666666666666,
             "#ed7953"
            ],
            [
             0.7777777777777778,
             "#fb9f3a"
            ],
            [
             0.8888888888888888,
             "#fdca26"
            ],
            [
             1,
             "#f0f921"
            ]
           ],
           "sequentialminus": [
            [
             0,
             "#0d0887"
            ],
            [
             0.1111111111111111,
             "#46039f"
            ],
            [
             0.2222222222222222,
             "#7201a8"
            ],
            [
             0.3333333333333333,
             "#9c179e"
            ],
            [
             0.4444444444444444,
             "#bd3786"
            ],
            [
             0.5555555555555556,
             "#d8576b"
            ],
            [
             0.6666666666666666,
             "#ed7953"
            ],
            [
             0.7777777777777778,
             "#fb9f3a"
            ],
            [
             0.8888888888888888,
             "#fdca26"
            ],
            [
             1,
             "#f0f921"
            ]
           ]
          },
          "colorway": [
           "#636efa",
           "#EF553B",
           "#00cc96",
           "#ab63fa",
           "#FFA15A",
           "#19d3f3",
           "#FF6692",
           "#B6E880",
           "#FF97FF",
           "#FECB52"
          ],
          "font": {
           "color": "#2a3f5f"
          },
          "geo": {
           "bgcolor": "white",
           "lakecolor": "white",
           "landcolor": "#E5ECF6",
           "showlakes": true,
           "showland": true,
           "subunitcolor": "white"
          },
          "hoverlabel": {
           "align": "left"
          },
          "hovermode": "closest",
          "mapbox": {
           "style": "light"
          },
          "paper_bgcolor": "white",
          "plot_bgcolor": "#E5ECF6",
          "polar": {
           "angularaxis": {
            "gridcolor": "white",
            "linecolor": "white",
            "ticks": ""
           },
           "bgcolor": "#E5ECF6",
           "radialaxis": {
            "gridcolor": "white",
            "linecolor": "white",
            "ticks": ""
           }
          },
          "scene": {
           "xaxis": {
            "backgroundcolor": "#E5ECF6",
            "gridcolor": "white",
            "gridwidth": 2,
            "linecolor": "white",
            "showbackground": true,
            "ticks": "",
            "zerolinecolor": "white"
           },
           "yaxis": {
            "backgroundcolor": "#E5ECF6",
            "gridcolor": "white",
            "gridwidth": 2,
            "linecolor": "white",
            "showbackground": true,
            "ticks": "",
            "zerolinecolor": "white"
           },
           "zaxis": {
            "backgroundcolor": "#E5ECF6",
            "gridcolor": "white",
            "gridwidth": 2,
            "linecolor": "white",
            "showbackground": true,
            "ticks": "",
            "zerolinecolor": "white"
           }
          },
          "shapedefaults": {
           "line": {
            "color": "#2a3f5f"
           }
          },
          "ternary": {
           "aaxis": {
            "gridcolor": "white",
            "linecolor": "white",
            "ticks": ""
           },
           "baxis": {
            "gridcolor": "white",
            "linecolor": "white",
            "ticks": ""
           },
           "bgcolor": "#E5ECF6",
           "caxis": {
            "gridcolor": "white",
            "linecolor": "white",
            "ticks": ""
           }
          },
          "title": {
           "x": 0.05
          },
          "xaxis": {
           "automargin": true,
           "gridcolor": "white",
           "linecolor": "white",
           "ticks": "",
           "title": {
            "standoff": 15
           },
           "zerolinecolor": "white",
           "zerolinewidth": 2
          },
          "yaxis": {
           "automargin": true,
           "gridcolor": "white",
           "linecolor": "white",
           "ticks": "",
           "title": {
            "standoff": 15
           },
           "zerolinecolor": "white",
           "zerolinewidth": 2
          }
         }
        },
        "title": {
         "text": "Information about the month"
        },
        "width": 500
       }
      },
      "text/html": [
       "<div>                            <div id=\"165e30b4-b4e7-4ef8-8e05-a382d521c911\" class=\"plotly-graph-div\" style=\"height:400px; width:500px;\"></div>            <script type=\"text/javascript\">                require([\"plotly\"], function(Plotly) {                    window.PLOTLYENV=window.PLOTLYENV || {};                                    if (document.getElementById(\"165e30b4-b4e7-4ef8-8e05-a382d521c911\")) {                    Plotly.newPlot(                        \"165e30b4-b4e7-4ef8-8e05-a382d521c911\",                        [{\"domain\":{\"x\":[0.0,1.0],\"y\":[0.0,1.0]},\"hole\":0.5,\"hovertemplate\":\"label=%{label}\\u003cbr\\u003evalue=%{value}\\u003cextra\\u003e\\u003c\\u002fextra\\u003e\",\"labels\":[\"march\",\"may\",\"june\",\"july\",\"august\",\"september\",\"october\",\"january\",\"february\",\"april\"],\"legendgroup\":\"\",\"name\":\"\",\"showlegend\":true,\"values\":[27,27,27,27,27,27,27,26,26,26],\"type\":\"pie\"}],                        {\"template\":{\"data\":{\"histogram2dcontour\":[{\"type\":\"histogram2dcontour\",\"colorbar\":{\"outlinewidth\":0,\"ticks\":\"\"},\"colorscale\":[[0.0,\"#0d0887\"],[0.1111111111111111,\"#46039f\"],[0.2222222222222222,\"#7201a8\"],[0.3333333333333333,\"#9c179e\"],[0.4444444444444444,\"#bd3786\"],[0.5555555555555556,\"#d8576b\"],[0.6666666666666666,\"#ed7953\"],[0.7777777777777778,\"#fb9f3a\"],[0.8888888888888888,\"#fdca26\"],[1.0,\"#f0f921\"]]}],\"choropleth\":[{\"type\":\"choropleth\",\"colorbar\":{\"outlinewidth\":0,\"ticks\":\"\"}}],\"histogram2d\":[{\"type\":\"histogram2d\",\"colorbar\":{\"outlinewidth\":0,\"ticks\":\"\"},\"colorscale\":[[0.0,\"#0d0887\"],[0.1111111111111111,\"#46039f\"],[0.2222222222222222,\"#7201a8\"],[0.3333333333333333,\"#9c179e\"],[0.4444444444444444,\"#bd3786\"],[0.5555555555555556,\"#d8576b\"],[0.6666666666666666,\"#ed7953\"],[0.7777777777777778,\"#fb9f3a\"],[0.8888888888888888,\"#fdca26\"],[1.0,\"#f0f921\"]]}],\"heatmap\":[{\"type\":\"heatmap\",\"colorbar\":{\"outlinewidth\":0,\"ticks\":\"\"},\"colorscale\":[[0.0,\"#0d0887\"],[0.1111111111111111,\"#46039f\"],[0.2222222222222222,\"#7201a8\"],[0.3333333333333333,\"#9c179e\"],[0.4444444444444444,\"#bd3786\"],[0.5555555555555556,\"#d8576b\"],[0.6666666666666666,\"#ed7953\"],[0.7777777777777778,\"#fb9f3a\"],[0.8888888888888888,\"#fdca26\"],[1.0,\"#f0f921\"]]}],\"heatmapgl\":[{\"type\":\"heatmapgl\",\"colorbar\":{\"outlinewidth\":0,\"ticks\":\"\"},\"colorscale\":[[0.0,\"#0d0887\"],[0.1111111111111111,\"#46039f\"],[0.2222222222222222,\"#7201a8\"],[0.3333333333333333,\"#9c179e\"],[0.4444444444444444,\"#bd3786\"],[0.5555555555555556,\"#d8576b\"],[0.6666666666666666,\"#ed7953\"],[0.7777777777777778,\"#fb9f3a\"],[0.8888888888888888,\"#fdca26\"],[1.0,\"#f0f921\"]]}],\"contourcarpet\":[{\"type\":\"contourcarpet\",\"colorbar\":{\"outlinewidth\":0,\"ticks\":\"\"}}],\"contour\":[{\"type\":\"contour\",\"colorbar\":{\"outlinewidth\":0,\"ticks\":\"\"},\"colorscale\":[[0.0,\"#0d0887\"],[0.1111111111111111,\"#46039f\"],[0.2222222222222222,\"#7201a8\"],[0.3333333333333333,\"#9c179e\"],[0.4444444444444444,\"#bd3786\"],[0.5555555555555556,\"#d8576b\"],[0.6666666666666666,\"#ed7953\"],[0.7777777777777778,\"#fb9f3a\"],[0.8888888888888888,\"#fdca26\"],[1.0,\"#f0f921\"]]}],\"surface\":[{\"type\":\"surface\",\"colorbar\":{\"outlinewidth\":0,\"ticks\":\"\"},\"colorscale\":[[0.0,\"#0d0887\"],[0.1111111111111111,\"#46039f\"],[0.2222222222222222,\"#7201a8\"],[0.3333333333333333,\"#9c179e\"],[0.4444444444444444,\"#bd3786\"],[0.5555555555555556,\"#d8576b\"],[0.6666666666666666,\"#ed7953\"],[0.7777777777777778,\"#fb9f3a\"],[0.8888888888888888,\"#fdca26\"],[1.0,\"#f0f921\"]]}],\"mesh3d\":[{\"type\":\"mesh3d\",\"colorbar\":{\"outlinewidth\":0,\"ticks\":\"\"}}],\"scatter\":[{\"fillpattern\":{\"fillmode\":\"overlay\",\"size\":10,\"solidity\":0.2},\"type\":\"scatter\"}],\"parcoords\":[{\"type\":\"parcoords\",\"line\":{\"colorbar\":{\"outlinewidth\":0,\"ticks\":\"\"}}}],\"scatterpolargl\":[{\"type\":\"scatterpolargl\",\"marker\":{\"colorbar\":{\"outlinewidth\":0,\"ticks\":\"\"}}}],\"bar\":[{\"error_x\":{\"color\":\"#2a3f5f\"},\"error_y\":{\"color\":\"#2a3f5f\"},\"marker\":{\"line\":{\"color\":\"#E5ECF6\",\"width\":0.5},\"pattern\":{\"fillmode\":\"overlay\",\"size\":10,\"solidity\":0.2}},\"type\":\"bar\"}],\"scattergeo\":[{\"type\":\"scattergeo\",\"marker\":{\"colorbar\":{\"outlinewidth\":0,\"ticks\":\"\"}}}],\"scatterpolar\":[{\"type\":\"scatterpolar\",\"marker\":{\"colorbar\":{\"outlinewidth\":0,\"ticks\":\"\"}}}],\"histogram\":[{\"marker\":{\"pattern\":{\"fillmode\":\"overlay\",\"size\":10,\"solidity\":0.2}},\"type\":\"histogram\"}],\"scattergl\":[{\"type\":\"scattergl\",\"marker\":{\"colorbar\":{\"outlinewidth\":0,\"ticks\":\"\"}}}],\"scatter3d\":[{\"type\":\"scatter3d\",\"line\":{\"colorbar\":{\"outlinewidth\":0,\"ticks\":\"\"}},\"marker\":{\"colorbar\":{\"outlinewidth\":0,\"ticks\":\"\"}}}],\"scattermapbox\":[{\"type\":\"scattermapbox\",\"marker\":{\"colorbar\":{\"outlinewidth\":0,\"ticks\":\"\"}}}],\"scatterternary\":[{\"type\":\"scatterternary\",\"marker\":{\"colorbar\":{\"outlinewidth\":0,\"ticks\":\"\"}}}],\"scattercarpet\":[{\"type\":\"scattercarpet\",\"marker\":{\"colorbar\":{\"outlinewidth\":0,\"ticks\":\"\"}}}],\"carpet\":[{\"aaxis\":{\"endlinecolor\":\"#2a3f5f\",\"gridcolor\":\"white\",\"linecolor\":\"white\",\"minorgridcolor\":\"white\",\"startlinecolor\":\"#2a3f5f\"},\"baxis\":{\"endlinecolor\":\"#2a3f5f\",\"gridcolor\":\"white\",\"linecolor\":\"white\",\"minorgridcolor\":\"white\",\"startlinecolor\":\"#2a3f5f\"},\"type\":\"carpet\"}],\"table\":[{\"cells\":{\"fill\":{\"color\":\"#EBF0F8\"},\"line\":{\"color\":\"white\"}},\"header\":{\"fill\":{\"color\":\"#C8D4E3\"},\"line\":{\"color\":\"white\"}},\"type\":\"table\"}],\"barpolar\":[{\"marker\":{\"line\":{\"color\":\"#E5ECF6\",\"width\":0.5},\"pattern\":{\"fillmode\":\"overlay\",\"size\":10,\"solidity\":0.2}},\"type\":\"barpolar\"}],\"pie\":[{\"automargin\":true,\"type\":\"pie\"}]},\"layout\":{\"autotypenumbers\":\"strict\",\"colorway\":[\"#636efa\",\"#EF553B\",\"#00cc96\",\"#ab63fa\",\"#FFA15A\",\"#19d3f3\",\"#FF6692\",\"#B6E880\",\"#FF97FF\",\"#FECB52\"],\"font\":{\"color\":\"#2a3f5f\"},\"hovermode\":\"closest\",\"hoverlabel\":{\"align\":\"left\"},\"paper_bgcolor\":\"white\",\"plot_bgcolor\":\"#E5ECF6\",\"polar\":{\"bgcolor\":\"#E5ECF6\",\"angularaxis\":{\"gridcolor\":\"white\",\"linecolor\":\"white\",\"ticks\":\"\"},\"radialaxis\":{\"gridcolor\":\"white\",\"linecolor\":\"white\",\"ticks\":\"\"}},\"ternary\":{\"bgcolor\":\"#E5ECF6\",\"aaxis\":{\"gridcolor\":\"white\",\"linecolor\":\"white\",\"ticks\":\"\"},\"baxis\":{\"gridcolor\":\"white\",\"linecolor\":\"white\",\"ticks\":\"\"},\"caxis\":{\"gridcolor\":\"white\",\"linecolor\":\"white\",\"ticks\":\"\"}},\"coloraxis\":{\"colorbar\":{\"outlinewidth\":0,\"ticks\":\"\"}},\"colorscale\":{\"sequential\":[[0.0,\"#0d0887\"],[0.1111111111111111,\"#46039f\"],[0.2222222222222222,\"#7201a8\"],[0.3333333333333333,\"#9c179e\"],[0.4444444444444444,\"#bd3786\"],[0.5555555555555556,\"#d8576b\"],[0.6666666666666666,\"#ed7953\"],[0.7777777777777778,\"#fb9f3a\"],[0.8888888888888888,\"#fdca26\"],[1.0,\"#f0f921\"]],\"sequentialminus\":[[0.0,\"#0d0887\"],[0.1111111111111111,\"#46039f\"],[0.2222222222222222,\"#7201a8\"],[0.3333333333333333,\"#9c179e\"],[0.4444444444444444,\"#bd3786\"],[0.5555555555555556,\"#d8576b\"],[0.6666666666666666,\"#ed7953\"],[0.7777777777777778,\"#fb9f3a\"],[0.8888888888888888,\"#fdca26\"],[1.0,\"#f0f921\"]],\"diverging\":[[0,\"#8e0152\"],[0.1,\"#c51b7d\"],[0.2,\"#de77ae\"],[0.3,\"#f1b6da\"],[0.4,\"#fde0ef\"],[0.5,\"#f7f7f7\"],[0.6,\"#e6f5d0\"],[0.7,\"#b8e186\"],[0.8,\"#7fbc41\"],[0.9,\"#4d9221\"],[1,\"#276419\"]]},\"xaxis\":{\"gridcolor\":\"white\",\"linecolor\":\"white\",\"ticks\":\"\",\"title\":{\"standoff\":15},\"zerolinecolor\":\"white\",\"automargin\":true,\"zerolinewidth\":2},\"yaxis\":{\"gridcolor\":\"white\",\"linecolor\":\"white\",\"ticks\":\"\",\"title\":{\"standoff\":15},\"zerolinecolor\":\"white\",\"automargin\":true,\"zerolinewidth\":2},\"scene\":{\"xaxis\":{\"backgroundcolor\":\"#E5ECF6\",\"gridcolor\":\"white\",\"linecolor\":\"white\",\"showbackground\":true,\"ticks\":\"\",\"zerolinecolor\":\"white\",\"gridwidth\":2},\"yaxis\":{\"backgroundcolor\":\"#E5ECF6\",\"gridcolor\":\"white\",\"linecolor\":\"white\",\"showbackground\":true,\"ticks\":\"\",\"zerolinecolor\":\"white\",\"gridwidth\":2},\"zaxis\":{\"backgroundcolor\":\"#E5ECF6\",\"gridcolor\":\"white\",\"linecolor\":\"white\",\"showbackground\":true,\"ticks\":\"\",\"zerolinecolor\":\"white\",\"gridwidth\":2}},\"shapedefaults\":{\"line\":{\"color\":\"#2a3f5f\"}},\"annotationdefaults\":{\"arrowcolor\":\"#2a3f5f\",\"arrowhead\":0,\"arrowwidth\":1},\"geo\":{\"bgcolor\":\"white\",\"landcolor\":\"#E5ECF6\",\"subunitcolor\":\"white\",\"showland\":true,\"showlakes\":true,\"lakecolor\":\"white\"},\"title\":{\"x\":0.05},\"mapbox\":{\"style\":\"light\"}}},\"legend\":{\"tracegroupgap\":0},\"margin\":{\"t\":60},\"width\":500,\"height\":400,\"title\":{\"text\":\"Information about the month\"}},                        {\"responsive\": true}                    ).then(function(){\n",
       "                            \n",
       "var gd = document.getElementById('165e30b4-b4e7-4ef8-8e05-a382d521c911');\n",
       "var x = new MutationObserver(function (mutations, observer) {{\n",
       "        var display = window.getComputedStyle(gd).display;\n",
       "        if (!display || display === 'none') {{\n",
       "            console.log([gd, 'removed!']);\n",
       "            Plotly.purge(gd);\n",
       "            observer.disconnect();\n",
       "        }}\n",
       "}});\n",
       "\n",
       "// Listen for the removal of the full notebook cells\n",
       "var notebookContainer = gd.closest('#notebook-container');\n",
       "if (notebookContainer) {{\n",
       "    x.observe(notebookContainer, {childList: true});\n",
       "}}\n",
       "\n",
       "// Listen for the clearing of the current output cell\n",
       "var outputEl = gd.closest('.output');\n",
       "if (outputEl) {{\n",
       "    x.observe(outputEl, {childList: true});\n",
       "}}\n",
       "\n",
       "                        })                };                });            </script>        </div>"
      ]
     },
     "metadata": {},
     "output_type": "display_data"
    }
   ],
   "source": [
    "fg = df['month'].value_counts()\n",
    "fd = fg.values\n",
    "gh = fg.index\n",
    "dc = px.pie(df,values=fd,names=gh,hole=0.5)\n",
    "dc.update_layout(width=500,height=400,title='Information about the month')\n",
    "dc.show()"
   ]
  },
  {
   "cell_type": "code",
   "execution_count": 26,
   "id": "10b5542a",
   "metadata": {},
   "outputs": [
    {
     "data": {
      "application/vnd.plotly.v1+json": {
       "config": {
        "plotlyServerURL": "https://plot.ly"
       },
       "data": [
        {
         "domain": {
          "x": [
           0,
           1
          ],
          "y": [
           0,
           1
          ]
         },
         "hole": 0.5,
         "hovertemplate": "label=%{label}<br>value=%{value}<extra></extra>",
         "labels": [
          2020
         ],
         "legendgroup": "",
         "name": "",
         "showlegend": true,
         "type": "pie",
         "values": [
          267
         ]
        }
       ],
       "layout": {
        "height": 400,
        "legend": {
         "tracegroupgap": 0
        },
        "margin": {
         "t": 60
        },
        "template": {
         "data": {
          "bar": [
           {
            "error_x": {
             "color": "#2a3f5f"
            },
            "error_y": {
             "color": "#2a3f5f"
            },
            "marker": {
             "line": {
              "color": "#E5ECF6",
              "width": 0.5
             },
             "pattern": {
              "fillmode": "overlay",
              "size": 10,
              "solidity": 0.2
             }
            },
            "type": "bar"
           }
          ],
          "barpolar": [
           {
            "marker": {
             "line": {
              "color": "#E5ECF6",
              "width": 0.5
             },
             "pattern": {
              "fillmode": "overlay",
              "size": 10,
              "solidity": 0.2
             }
            },
            "type": "barpolar"
           }
          ],
          "carpet": [
           {
            "aaxis": {
             "endlinecolor": "#2a3f5f",
             "gridcolor": "white",
             "linecolor": "white",
             "minorgridcolor": "white",
             "startlinecolor": "#2a3f5f"
            },
            "baxis": {
             "endlinecolor": "#2a3f5f",
             "gridcolor": "white",
             "linecolor": "white",
             "minorgridcolor": "white",
             "startlinecolor": "#2a3f5f"
            },
            "type": "carpet"
           }
          ],
          "choropleth": [
           {
            "colorbar": {
             "outlinewidth": 0,
             "ticks": ""
            },
            "type": "choropleth"
           }
          ],
          "contour": [
           {
            "colorbar": {
             "outlinewidth": 0,
             "ticks": ""
            },
            "colorscale": [
             [
              0,
              "#0d0887"
             ],
             [
              0.1111111111111111,
              "#46039f"
             ],
             [
              0.2222222222222222,
              "#7201a8"
             ],
             [
              0.3333333333333333,
              "#9c179e"
             ],
             [
              0.4444444444444444,
              "#bd3786"
             ],
             [
              0.5555555555555556,
              "#d8576b"
             ],
             [
              0.6666666666666666,
              "#ed7953"
             ],
             [
              0.7777777777777778,
              "#fb9f3a"
             ],
             [
              0.8888888888888888,
              "#fdca26"
             ],
             [
              1,
              "#f0f921"
             ]
            ],
            "type": "contour"
           }
          ],
          "contourcarpet": [
           {
            "colorbar": {
             "outlinewidth": 0,
             "ticks": ""
            },
            "type": "contourcarpet"
           }
          ],
          "heatmap": [
           {
            "colorbar": {
             "outlinewidth": 0,
             "ticks": ""
            },
            "colorscale": [
             [
              0,
              "#0d0887"
             ],
             [
              0.1111111111111111,
              "#46039f"
             ],
             [
              0.2222222222222222,
              "#7201a8"
             ],
             [
              0.3333333333333333,
              "#9c179e"
             ],
             [
              0.4444444444444444,
              "#bd3786"
             ],
             [
              0.5555555555555556,
              "#d8576b"
             ],
             [
              0.6666666666666666,
              "#ed7953"
             ],
             [
              0.7777777777777778,
              "#fb9f3a"
             ],
             [
              0.8888888888888888,
              "#fdca26"
             ],
             [
              1,
              "#f0f921"
             ]
            ],
            "type": "heatmap"
           }
          ],
          "heatmapgl": [
           {
            "colorbar": {
             "outlinewidth": 0,
             "ticks": ""
            },
            "colorscale": [
             [
              0,
              "#0d0887"
             ],
             [
              0.1111111111111111,
              "#46039f"
             ],
             [
              0.2222222222222222,
              "#7201a8"
             ],
             [
              0.3333333333333333,
              "#9c179e"
             ],
             [
              0.4444444444444444,
              "#bd3786"
             ],
             [
              0.5555555555555556,
              "#d8576b"
             ],
             [
              0.6666666666666666,
              "#ed7953"
             ],
             [
              0.7777777777777778,
              "#fb9f3a"
             ],
             [
              0.8888888888888888,
              "#fdca26"
             ],
             [
              1,
              "#f0f921"
             ]
            ],
            "type": "heatmapgl"
           }
          ],
          "histogram": [
           {
            "marker": {
             "pattern": {
              "fillmode": "overlay",
              "size": 10,
              "solidity": 0.2
             }
            },
            "type": "histogram"
           }
          ],
          "histogram2d": [
           {
            "colorbar": {
             "outlinewidth": 0,
             "ticks": ""
            },
            "colorscale": [
             [
              0,
              "#0d0887"
             ],
             [
              0.1111111111111111,
              "#46039f"
             ],
             [
              0.2222222222222222,
              "#7201a8"
             ],
             [
              0.3333333333333333,
              "#9c179e"
             ],
             [
              0.4444444444444444,
              "#bd3786"
             ],
             [
              0.5555555555555556,
              "#d8576b"
             ],
             [
              0.6666666666666666,
              "#ed7953"
             ],
             [
              0.7777777777777778,
              "#fb9f3a"
             ],
             [
              0.8888888888888888,
              "#fdca26"
             ],
             [
              1,
              "#f0f921"
             ]
            ],
            "type": "histogram2d"
           }
          ],
          "histogram2dcontour": [
           {
            "colorbar": {
             "outlinewidth": 0,
             "ticks": ""
            },
            "colorscale": [
             [
              0,
              "#0d0887"
             ],
             [
              0.1111111111111111,
              "#46039f"
             ],
             [
              0.2222222222222222,
              "#7201a8"
             ],
             [
              0.3333333333333333,
              "#9c179e"
             ],
             [
              0.4444444444444444,
              "#bd3786"
             ],
             [
              0.5555555555555556,
              "#d8576b"
             ],
             [
              0.6666666666666666,
              "#ed7953"
             ],
             [
              0.7777777777777778,
              "#fb9f3a"
             ],
             [
              0.8888888888888888,
              "#fdca26"
             ],
             [
              1,
              "#f0f921"
             ]
            ],
            "type": "histogram2dcontour"
           }
          ],
          "mesh3d": [
           {
            "colorbar": {
             "outlinewidth": 0,
             "ticks": ""
            },
            "type": "mesh3d"
           }
          ],
          "parcoords": [
           {
            "line": {
             "colorbar": {
              "outlinewidth": 0,
              "ticks": ""
             }
            },
            "type": "parcoords"
           }
          ],
          "pie": [
           {
            "automargin": true,
            "type": "pie"
           }
          ],
          "scatter": [
           {
            "fillpattern": {
             "fillmode": "overlay",
             "size": 10,
             "solidity": 0.2
            },
            "type": "scatter"
           }
          ],
          "scatter3d": [
           {
            "line": {
             "colorbar": {
              "outlinewidth": 0,
              "ticks": ""
             }
            },
            "marker": {
             "colorbar": {
              "outlinewidth": 0,
              "ticks": ""
             }
            },
            "type": "scatter3d"
           }
          ],
          "scattercarpet": [
           {
            "marker": {
             "colorbar": {
              "outlinewidth": 0,
              "ticks": ""
             }
            },
            "type": "scattercarpet"
           }
          ],
          "scattergeo": [
           {
            "marker": {
             "colorbar": {
              "outlinewidth": 0,
              "ticks": ""
             }
            },
            "type": "scattergeo"
           }
          ],
          "scattergl": [
           {
            "marker": {
             "colorbar": {
              "outlinewidth": 0,
              "ticks": ""
             }
            },
            "type": "scattergl"
           }
          ],
          "scattermapbox": [
           {
            "marker": {
             "colorbar": {
              "outlinewidth": 0,
              "ticks": ""
             }
            },
            "type": "scattermapbox"
           }
          ],
          "scatterpolar": [
           {
            "marker": {
             "colorbar": {
              "outlinewidth": 0,
              "ticks": ""
             }
            },
            "type": "scatterpolar"
           }
          ],
          "scatterpolargl": [
           {
            "marker": {
             "colorbar": {
              "outlinewidth": 0,
              "ticks": ""
             }
            },
            "type": "scatterpolargl"
           }
          ],
          "scatterternary": [
           {
            "marker": {
             "colorbar": {
              "outlinewidth": 0,
              "ticks": ""
             }
            },
            "type": "scatterternary"
           }
          ],
          "surface": [
           {
            "colorbar": {
             "outlinewidth": 0,
             "ticks": ""
            },
            "colorscale": [
             [
              0,
              "#0d0887"
             ],
             [
              0.1111111111111111,
              "#46039f"
             ],
             [
              0.2222222222222222,
              "#7201a8"
             ],
             [
              0.3333333333333333,
              "#9c179e"
             ],
             [
              0.4444444444444444,
              "#bd3786"
             ],
             [
              0.5555555555555556,
              "#d8576b"
             ],
             [
              0.6666666666666666,
              "#ed7953"
             ],
             [
              0.7777777777777778,
              "#fb9f3a"
             ],
             [
              0.8888888888888888,
              "#fdca26"
             ],
             [
              1,
              "#f0f921"
             ]
            ],
            "type": "surface"
           }
          ],
          "table": [
           {
            "cells": {
             "fill": {
              "color": "#EBF0F8"
             },
             "line": {
              "color": "white"
             }
            },
            "header": {
             "fill": {
              "color": "#C8D4E3"
             },
             "line": {
              "color": "white"
             }
            },
            "type": "table"
           }
          ]
         },
         "layout": {
          "annotationdefaults": {
           "arrowcolor": "#2a3f5f",
           "arrowhead": 0,
           "arrowwidth": 1
          },
          "autotypenumbers": "strict",
          "coloraxis": {
           "colorbar": {
            "outlinewidth": 0,
            "ticks": ""
           }
          },
          "colorscale": {
           "diverging": [
            [
             0,
             "#8e0152"
            ],
            [
             0.1,
             "#c51b7d"
            ],
            [
             0.2,
             "#de77ae"
            ],
            [
             0.3,
             "#f1b6da"
            ],
            [
             0.4,
             "#fde0ef"
            ],
            [
             0.5,
             "#f7f7f7"
            ],
            [
             0.6,
             "#e6f5d0"
            ],
            [
             0.7,
             "#b8e186"
            ],
            [
             0.8,
             "#7fbc41"
            ],
            [
             0.9,
             "#4d9221"
            ],
            [
             1,
             "#276419"
            ]
           ],
           "sequential": [
            [
             0,
             "#0d0887"
            ],
            [
             0.1111111111111111,
             "#46039f"
            ],
            [
             0.2222222222222222,
             "#7201a8"
            ],
            [
             0.3333333333333333,
             "#9c179e"
            ],
            [
             0.4444444444444444,
             "#bd3786"
            ],
            [
             0.5555555555555556,
             "#d8576b"
            ],
            [
             0.6666666666666666,
             "#ed7953"
            ],
            [
             0.7777777777777778,
             "#fb9f3a"
            ],
            [
             0.8888888888888888,
             "#fdca26"
            ],
            [
             1,
             "#f0f921"
            ]
           ],
           "sequentialminus": [
            [
             0,
             "#0d0887"
            ],
            [
             0.1111111111111111,
             "#46039f"
            ],
            [
             0.2222222222222222,
             "#7201a8"
            ],
            [
             0.3333333333333333,
             "#9c179e"
            ],
            [
             0.4444444444444444,
             "#bd3786"
            ],
            [
             0.5555555555555556,
             "#d8576b"
            ],
            [
             0.6666666666666666,
             "#ed7953"
            ],
            [
             0.7777777777777778,
             "#fb9f3a"
            ],
            [
             0.8888888888888888,
             "#fdca26"
            ],
            [
             1,
             "#f0f921"
            ]
           ]
          },
          "colorway": [
           "#636efa",
           "#EF553B",
           "#00cc96",
           "#ab63fa",
           "#FFA15A",
           "#19d3f3",
           "#FF6692",
           "#B6E880",
           "#FF97FF",
           "#FECB52"
          ],
          "font": {
           "color": "#2a3f5f"
          },
          "geo": {
           "bgcolor": "white",
           "lakecolor": "white",
           "landcolor": "#E5ECF6",
           "showlakes": true,
           "showland": true,
           "subunitcolor": "white"
          },
          "hoverlabel": {
           "align": "left"
          },
          "hovermode": "closest",
          "mapbox": {
           "style": "light"
          },
          "paper_bgcolor": "white",
          "plot_bgcolor": "#E5ECF6",
          "polar": {
           "angularaxis": {
            "gridcolor": "white",
            "linecolor": "white",
            "ticks": ""
           },
           "bgcolor": "#E5ECF6",
           "radialaxis": {
            "gridcolor": "white",
            "linecolor": "white",
            "ticks": ""
           }
          },
          "scene": {
           "xaxis": {
            "backgroundcolor": "#E5ECF6",
            "gridcolor": "white",
            "gridwidth": 2,
            "linecolor": "white",
            "showbackground": true,
            "ticks": "",
            "zerolinecolor": "white"
           },
           "yaxis": {
            "backgroundcolor": "#E5ECF6",
            "gridcolor": "white",
            "gridwidth": 2,
            "linecolor": "white",
            "showbackground": true,
            "ticks": "",
            "zerolinecolor": "white"
           },
           "zaxis": {
            "backgroundcolor": "#E5ECF6",
            "gridcolor": "white",
            "gridwidth": 2,
            "linecolor": "white",
            "showbackground": true,
            "ticks": "",
            "zerolinecolor": "white"
           }
          },
          "shapedefaults": {
           "line": {
            "color": "#2a3f5f"
           }
          },
          "ternary": {
           "aaxis": {
            "gridcolor": "white",
            "linecolor": "white",
            "ticks": ""
           },
           "baxis": {
            "gridcolor": "white",
            "linecolor": "white",
            "ticks": ""
           },
           "bgcolor": "#E5ECF6",
           "caxis": {
            "gridcolor": "white",
            "linecolor": "white",
            "ticks": ""
           }
          },
          "title": {
           "x": 0.05
          },
          "xaxis": {
           "automargin": true,
           "gridcolor": "white",
           "linecolor": "white",
           "ticks": "",
           "title": {
            "standoff": 15
           },
           "zerolinecolor": "white",
           "zerolinewidth": 2
          },
          "yaxis": {
           "automargin": true,
           "gridcolor": "white",
           "linecolor": "white",
           "ticks": "",
           "title": {
            "standoff": 15
           },
           "zerolinecolor": "white",
           "zerolinewidth": 2
          }
         }
        },
        "title": {
         "text": "Information about the year"
        },
        "width": 500
       }
      },
      "text/html": [
       "<div>                            <div id=\"7778a453-454b-410a-b0f3-ba22b8216394\" class=\"plotly-graph-div\" style=\"height:400px; width:500px;\"></div>            <script type=\"text/javascript\">                require([\"plotly\"], function(Plotly) {                    window.PLOTLYENV=window.PLOTLYENV || {};                                    if (document.getElementById(\"7778a453-454b-410a-b0f3-ba22b8216394\")) {                    Plotly.newPlot(                        \"7778a453-454b-410a-b0f3-ba22b8216394\",                        [{\"domain\":{\"x\":[0.0,1.0],\"y\":[0.0,1.0]},\"hole\":0.5,\"hovertemplate\":\"label=%{label}\\u003cbr\\u003evalue=%{value}\\u003cextra\\u003e\\u003c\\u002fextra\\u003e\",\"labels\":[2020],\"legendgroup\":\"\",\"name\":\"\",\"showlegend\":true,\"values\":[267],\"type\":\"pie\"}],                        {\"template\":{\"data\":{\"histogram2dcontour\":[{\"type\":\"histogram2dcontour\",\"colorbar\":{\"outlinewidth\":0,\"ticks\":\"\"},\"colorscale\":[[0.0,\"#0d0887\"],[0.1111111111111111,\"#46039f\"],[0.2222222222222222,\"#7201a8\"],[0.3333333333333333,\"#9c179e\"],[0.4444444444444444,\"#bd3786\"],[0.5555555555555556,\"#d8576b\"],[0.6666666666666666,\"#ed7953\"],[0.7777777777777778,\"#fb9f3a\"],[0.8888888888888888,\"#fdca26\"],[1.0,\"#f0f921\"]]}],\"choropleth\":[{\"type\":\"choropleth\",\"colorbar\":{\"outlinewidth\":0,\"ticks\":\"\"}}],\"histogram2d\":[{\"type\":\"histogram2d\",\"colorbar\":{\"outlinewidth\":0,\"ticks\":\"\"},\"colorscale\":[[0.0,\"#0d0887\"],[0.1111111111111111,\"#46039f\"],[0.2222222222222222,\"#7201a8\"],[0.3333333333333333,\"#9c179e\"],[0.4444444444444444,\"#bd3786\"],[0.5555555555555556,\"#d8576b\"],[0.6666666666666666,\"#ed7953\"],[0.7777777777777778,\"#fb9f3a\"],[0.8888888888888888,\"#fdca26\"],[1.0,\"#f0f921\"]]}],\"heatmap\":[{\"type\":\"heatmap\",\"colorbar\":{\"outlinewidth\":0,\"ticks\":\"\"},\"colorscale\":[[0.0,\"#0d0887\"],[0.1111111111111111,\"#46039f\"],[0.2222222222222222,\"#7201a8\"],[0.3333333333333333,\"#9c179e\"],[0.4444444444444444,\"#bd3786\"],[0.5555555555555556,\"#d8576b\"],[0.6666666666666666,\"#ed7953\"],[0.7777777777777778,\"#fb9f3a\"],[0.8888888888888888,\"#fdca26\"],[1.0,\"#f0f921\"]]}],\"heatmapgl\":[{\"type\":\"heatmapgl\",\"colorbar\":{\"outlinewidth\":0,\"ticks\":\"\"},\"colorscale\":[[0.0,\"#0d0887\"],[0.1111111111111111,\"#46039f\"],[0.2222222222222222,\"#7201a8\"],[0.3333333333333333,\"#9c179e\"],[0.4444444444444444,\"#bd3786\"],[0.5555555555555556,\"#d8576b\"],[0.6666666666666666,\"#ed7953\"],[0.7777777777777778,\"#fb9f3a\"],[0.8888888888888888,\"#fdca26\"],[1.0,\"#f0f921\"]]}],\"contourcarpet\":[{\"type\":\"contourcarpet\",\"colorbar\":{\"outlinewidth\":0,\"ticks\":\"\"}}],\"contour\":[{\"type\":\"contour\",\"colorbar\":{\"outlinewidth\":0,\"ticks\":\"\"},\"colorscale\":[[0.0,\"#0d0887\"],[0.1111111111111111,\"#46039f\"],[0.2222222222222222,\"#7201a8\"],[0.3333333333333333,\"#9c179e\"],[0.4444444444444444,\"#bd3786\"],[0.5555555555555556,\"#d8576b\"],[0.6666666666666666,\"#ed7953\"],[0.7777777777777778,\"#fb9f3a\"],[0.8888888888888888,\"#fdca26\"],[1.0,\"#f0f921\"]]}],\"surface\":[{\"type\":\"surface\",\"colorbar\":{\"outlinewidth\":0,\"ticks\":\"\"},\"colorscale\":[[0.0,\"#0d0887\"],[0.1111111111111111,\"#46039f\"],[0.2222222222222222,\"#7201a8\"],[0.3333333333333333,\"#9c179e\"],[0.4444444444444444,\"#bd3786\"],[0.5555555555555556,\"#d8576b\"],[0.6666666666666666,\"#ed7953\"],[0.7777777777777778,\"#fb9f3a\"],[0.8888888888888888,\"#fdca26\"],[1.0,\"#f0f921\"]]}],\"mesh3d\":[{\"type\":\"mesh3d\",\"colorbar\":{\"outlinewidth\":0,\"ticks\":\"\"}}],\"scatter\":[{\"fillpattern\":{\"fillmode\":\"overlay\",\"size\":10,\"solidity\":0.2},\"type\":\"scatter\"}],\"parcoords\":[{\"type\":\"parcoords\",\"line\":{\"colorbar\":{\"outlinewidth\":0,\"ticks\":\"\"}}}],\"scatterpolargl\":[{\"type\":\"scatterpolargl\",\"marker\":{\"colorbar\":{\"outlinewidth\":0,\"ticks\":\"\"}}}],\"bar\":[{\"error_x\":{\"color\":\"#2a3f5f\"},\"error_y\":{\"color\":\"#2a3f5f\"},\"marker\":{\"line\":{\"color\":\"#E5ECF6\",\"width\":0.5},\"pattern\":{\"fillmode\":\"overlay\",\"size\":10,\"solidity\":0.2}},\"type\":\"bar\"}],\"scattergeo\":[{\"type\":\"scattergeo\",\"marker\":{\"colorbar\":{\"outlinewidth\":0,\"ticks\":\"\"}}}],\"scatterpolar\":[{\"type\":\"scatterpolar\",\"marker\":{\"colorbar\":{\"outlinewidth\":0,\"ticks\":\"\"}}}],\"histogram\":[{\"marker\":{\"pattern\":{\"fillmode\":\"overlay\",\"size\":10,\"solidity\":0.2}},\"type\":\"histogram\"}],\"scattergl\":[{\"type\":\"scattergl\",\"marker\":{\"colorbar\":{\"outlinewidth\":0,\"ticks\":\"\"}}}],\"scatter3d\":[{\"type\":\"scatter3d\",\"line\":{\"colorbar\":{\"outlinewidth\":0,\"ticks\":\"\"}},\"marker\":{\"colorbar\":{\"outlinewidth\":0,\"ticks\":\"\"}}}],\"scattermapbox\":[{\"type\":\"scattermapbox\",\"marker\":{\"colorbar\":{\"outlinewidth\":0,\"ticks\":\"\"}}}],\"scatterternary\":[{\"type\":\"scatterternary\",\"marker\":{\"colorbar\":{\"outlinewidth\":0,\"ticks\":\"\"}}}],\"scattercarpet\":[{\"type\":\"scattercarpet\",\"marker\":{\"colorbar\":{\"outlinewidth\":0,\"ticks\":\"\"}}}],\"carpet\":[{\"aaxis\":{\"endlinecolor\":\"#2a3f5f\",\"gridcolor\":\"white\",\"linecolor\":\"white\",\"minorgridcolor\":\"white\",\"startlinecolor\":\"#2a3f5f\"},\"baxis\":{\"endlinecolor\":\"#2a3f5f\",\"gridcolor\":\"white\",\"linecolor\":\"white\",\"minorgridcolor\":\"white\",\"startlinecolor\":\"#2a3f5f\"},\"type\":\"carpet\"}],\"table\":[{\"cells\":{\"fill\":{\"color\":\"#EBF0F8\"},\"line\":{\"color\":\"white\"}},\"header\":{\"fill\":{\"color\":\"#C8D4E3\"},\"line\":{\"color\":\"white\"}},\"type\":\"table\"}],\"barpolar\":[{\"marker\":{\"line\":{\"color\":\"#E5ECF6\",\"width\":0.5},\"pattern\":{\"fillmode\":\"overlay\",\"size\":10,\"solidity\":0.2}},\"type\":\"barpolar\"}],\"pie\":[{\"automargin\":true,\"type\":\"pie\"}]},\"layout\":{\"autotypenumbers\":\"strict\",\"colorway\":[\"#636efa\",\"#EF553B\",\"#00cc96\",\"#ab63fa\",\"#FFA15A\",\"#19d3f3\",\"#FF6692\",\"#B6E880\",\"#FF97FF\",\"#FECB52\"],\"font\":{\"color\":\"#2a3f5f\"},\"hovermode\":\"closest\",\"hoverlabel\":{\"align\":\"left\"},\"paper_bgcolor\":\"white\",\"plot_bgcolor\":\"#E5ECF6\",\"polar\":{\"bgcolor\":\"#E5ECF6\",\"angularaxis\":{\"gridcolor\":\"white\",\"linecolor\":\"white\",\"ticks\":\"\"},\"radialaxis\":{\"gridcolor\":\"white\",\"linecolor\":\"white\",\"ticks\":\"\"}},\"ternary\":{\"bgcolor\":\"#E5ECF6\",\"aaxis\":{\"gridcolor\":\"white\",\"linecolor\":\"white\",\"ticks\":\"\"},\"baxis\":{\"gridcolor\":\"white\",\"linecolor\":\"white\",\"ticks\":\"\"},\"caxis\":{\"gridcolor\":\"white\",\"linecolor\":\"white\",\"ticks\":\"\"}},\"coloraxis\":{\"colorbar\":{\"outlinewidth\":0,\"ticks\":\"\"}},\"colorscale\":{\"sequential\":[[0.0,\"#0d0887\"],[0.1111111111111111,\"#46039f\"],[0.2222222222222222,\"#7201a8\"],[0.3333333333333333,\"#9c179e\"],[0.4444444444444444,\"#bd3786\"],[0.5555555555555556,\"#d8576b\"],[0.6666666666666666,\"#ed7953\"],[0.7777777777777778,\"#fb9f3a\"],[0.8888888888888888,\"#fdca26\"],[1.0,\"#f0f921\"]],\"sequentialminus\":[[0.0,\"#0d0887\"],[0.1111111111111111,\"#46039f\"],[0.2222222222222222,\"#7201a8\"],[0.3333333333333333,\"#9c179e\"],[0.4444444444444444,\"#bd3786\"],[0.5555555555555556,\"#d8576b\"],[0.6666666666666666,\"#ed7953\"],[0.7777777777777778,\"#fb9f3a\"],[0.8888888888888888,\"#fdca26\"],[1.0,\"#f0f921\"]],\"diverging\":[[0,\"#8e0152\"],[0.1,\"#c51b7d\"],[0.2,\"#de77ae\"],[0.3,\"#f1b6da\"],[0.4,\"#fde0ef\"],[0.5,\"#f7f7f7\"],[0.6,\"#e6f5d0\"],[0.7,\"#b8e186\"],[0.8,\"#7fbc41\"],[0.9,\"#4d9221\"],[1,\"#276419\"]]},\"xaxis\":{\"gridcolor\":\"white\",\"linecolor\":\"white\",\"ticks\":\"\",\"title\":{\"standoff\":15},\"zerolinecolor\":\"white\",\"automargin\":true,\"zerolinewidth\":2},\"yaxis\":{\"gridcolor\":\"white\",\"linecolor\":\"white\",\"ticks\":\"\",\"title\":{\"standoff\":15},\"zerolinecolor\":\"white\",\"automargin\":true,\"zerolinewidth\":2},\"scene\":{\"xaxis\":{\"backgroundcolor\":\"#E5ECF6\",\"gridcolor\":\"white\",\"linecolor\":\"white\",\"showbackground\":true,\"ticks\":\"\",\"zerolinecolor\":\"white\",\"gridwidth\":2},\"yaxis\":{\"backgroundcolor\":\"#E5ECF6\",\"gridcolor\":\"white\",\"linecolor\":\"white\",\"showbackground\":true,\"ticks\":\"\",\"zerolinecolor\":\"white\",\"gridwidth\":2},\"zaxis\":{\"backgroundcolor\":\"#E5ECF6\",\"gridcolor\":\"white\",\"linecolor\":\"white\",\"showbackground\":true,\"ticks\":\"\",\"zerolinecolor\":\"white\",\"gridwidth\":2}},\"shapedefaults\":{\"line\":{\"color\":\"#2a3f5f\"}},\"annotationdefaults\":{\"arrowcolor\":\"#2a3f5f\",\"arrowhead\":0,\"arrowwidth\":1},\"geo\":{\"bgcolor\":\"white\",\"landcolor\":\"#E5ECF6\",\"subunitcolor\":\"white\",\"showland\":true,\"showlakes\":true,\"lakecolor\":\"white\"},\"title\":{\"x\":0.05},\"mapbox\":{\"style\":\"light\"}}},\"legend\":{\"tracegroupgap\":0},\"margin\":{\"t\":60},\"width\":500,\"height\":400,\"title\":{\"text\":\"Information about the year\"}},                        {\"responsive\": true}                    ).then(function(){\n",
       "                            \n",
       "var gd = document.getElementById('7778a453-454b-410a-b0f3-ba22b8216394');\n",
       "var x = new MutationObserver(function (mutations, observer) {{\n",
       "        var display = window.getComputedStyle(gd).display;\n",
       "        if (!display || display === 'none') {{\n",
       "            console.log([gd, 'removed!']);\n",
       "            Plotly.purge(gd);\n",
       "            observer.disconnect();\n",
       "        }}\n",
       "}});\n",
       "\n",
       "// Listen for the removal of the full notebook cells\n",
       "var notebookContainer = gd.closest('#notebook-container');\n",
       "if (notebookContainer) {{\n",
       "    x.observe(notebookContainer, {childList: true});\n",
       "}}\n",
       "\n",
       "// Listen for the clearing of the current output cell\n",
       "var outputEl = gd.closest('.output');\n",
       "if (outputEl) {{\n",
       "    x.observe(outputEl, {childList: true});\n",
       "}}\n",
       "\n",
       "                        })                };                });            </script>        </div>"
      ]
     },
     "metadata": {},
     "output_type": "display_data"
    }
   ],
   "source": [
    "fg = df['year'].value_counts()\n",
    "fd = fg.values\n",
    "gh = fg.index\n",
    "dc = px.pie(df,values=fd,names=gh,hole=0.5)\n",
    "dc.update_layout(width=500,height=400,title='Information about the year')\n",
    "dc.show()"
   ]
  },
  {
   "cell_type": "code",
   "execution_count": 27,
   "id": "6ad16a15",
   "metadata": {},
   "outputs": [
    {
     "data": {
      "text/plain": [
       "(array([ 0,  1,  2,  3,  4,  5,  6,  7,  8,  9, 10, 11, 12, 13, 14, 15, 16,\n",
       "        17, 18, 19, 20, 21, 22, 23, 24, 25, 26]),\n",
       " [Text(0, 0, 'Andhra Pradesh'),\n",
       "  Text(1, 0, 'Assam'),\n",
       "  Text(2, 0, 'Bihar'),\n",
       "  Text(3, 0, 'Chhattisgarh'),\n",
       "  Text(4, 0, 'Delhi'),\n",
       "  Text(5, 0, 'Goa'),\n",
       "  Text(6, 0, 'Gujarat'),\n",
       "  Text(7, 0, 'Haryana'),\n",
       "  Text(8, 0, 'Himachal Pradesh'),\n",
       "  Text(9, 0, 'Jammu & Kashmir'),\n",
       "  Text(10, 0, 'Jharkhand'),\n",
       "  Text(11, 0, 'Karnataka'),\n",
       "  Text(12, 0, 'Kerala'),\n",
       "  Text(13, 0, 'Madhya Pradesh'),\n",
       "  Text(14, 0, 'Maharashtra'),\n",
       "  Text(15, 0, 'Meghalaya'),\n",
       "  Text(16, 0, 'Odisha'),\n",
       "  Text(17, 0, 'Puducherry'),\n",
       "  Text(18, 0, 'Punjab'),\n",
       "  Text(19, 0, 'Rajasthan'),\n",
       "  Text(20, 0, 'Sikkim'),\n",
       "  Text(21, 0, 'Tamil Nadu'),\n",
       "  Text(22, 0, 'Telangana'),\n",
       "  Text(23, 0, 'Tripura'),\n",
       "  Text(24, 0, 'Uttar Pradesh'),\n",
       "  Text(25, 0, 'Uttarakhand'),\n",
       "  Text(26, 0, 'West Bengal')])"
      ]
     },
     "execution_count": 27,
     "metadata": {},
     "output_type": "execute_result"
    },
    {
     "data": {
      "image/png": "[encoded data removed]",
      "text/plain": [
       "<Figure size 432x288 with 1 Axes>"
      ]
     },
     "metadata": {
      "needs_background": "light"
     },
     "output_type": "display_data"
    }
   ],
   "source": [
    "#graph between the region and estimated employed persons\n",
    "sns.barplot(x='Region',y='EstimatedEmployed',data=df)\n",
    "plt.xticks(rotation=90)"
   ]
  },
  {
   "cell_type": "code",
   "execution_count": 28,
   "id": "7c565bf8",
   "metadata": {},
   "outputs": [
    {
     "data": {
      "text/plain": [
       "Index(['Region', 'Date', 'Frequency', 'EstimatedUnemploymentRate',\n",
       "       'EstimatedEmployed', 'EstimatedLabourParticipationRate(%)', 'Direction',\n",
       "       'longitude', 'latitude', 'year', 'month', 'day'],\n",
       "      dtype='object')"
      ]
     },
     "execution_count": 28,
     "metadata": {},
     "output_type": "execute_result"
    }
   ],
   "source": [
    "df.columns"
   ]
  },
  {
   "cell_type": "code",
   "execution_count": 29,
   "id": "5a172657",
   "metadata": {},
   "outputs": [
    {
     "data": {
      "text/plain": [
       "(array([0, 1, 2, 3, 4, 5, 6, 7, 8, 9]),\n",
       " [Text(0, 0, 'january'),\n",
       "  Text(1, 0, 'february'),\n",
       "  Text(2, 0, 'march'),\n",
       "  Text(3, 0, 'april'),\n",
       "  Text(4, 0, 'may'),\n",
       "  Text(5, 0, 'june'),\n",
       "  Text(6, 0, 'july'),\n",
       "  Text(7, 0, 'august'),\n",
       "  Text(8, 0, 'september'),\n",
       "  Text(9, 0, 'october')])"
      ]
     },
     "execution_count": 29,
     "metadata": {},
     "output_type": "execute_result"
    },
    {
     "data": {
      "image/png": "[encoded data removed]",
      "text/plain": [
       "<Figure size 360x360 with 1 Axes>"
      ]
     },
     "metadata": {
      "needs_background": "light"
     },
     "output_type": "display_data"
    }
   ],
   "source": [
    "plt.figure(figsize=(5,5))\n",
    "sns.barplot(x='month',y='EstimatedLabourParticipationRate(%)',data=df)\n",
    "plt.xticks(rotation=90)"
   ]
  },
  {
   "cell_type": "code",
   "execution_count": 30,
   "id": "4f423005",
   "metadata": {},
   "outputs": [
    {
     "data": {
      "text/plain": [
       "Index(['Region', 'Date', 'Frequency', 'EstimatedUnemploymentRate',\n",
       "       'EstimatedEmployed', 'EstimatedLabourParticipationRate(%)', 'Direction',\n",
       "       'longitude', 'latitude', 'year', 'month', 'day'],\n",
       "      dtype='object')"
      ]
     },
     "execution_count": 30,
     "metadata": {},
     "output_type": "execute_result"
    }
   ],
   "source": [
    "df.columns"
   ]
  },
  {
   "cell_type": "code",
   "execution_count": 31,
   "id": "3990787d",
   "metadata": {},
   "outputs": [
    {
     "data": {
      "text/plain": [
       "(array([0, 1, 2, 3, 4, 5, 6, 7, 8, 9]),\n",
       " [Text(0, 0, 'january'),\n",
       "  Text(1, 0, 'february'),\n",
       "  Text(2, 0, 'march'),\n",
       "  Text(3, 0, 'april'),\n",
       "  Text(4, 0, 'may'),\n",
       "  Text(5, 0, 'june'),\n",
       "  Text(6, 0, 'july'),\n",
       "  Text(7, 0, 'august'),\n",
       "  Text(8, 0, 'september'),\n",
       "  Text(9, 0, 'october')])"
      ]
     },
     "execution_count": 31,
     "metadata": {},
     "output_type": "execute_result"
    },
    {
     "data": {
      "image/png": "[encoded data removed]",
      "text/plain": [
       "<Figure size 432x432 with 1 Axes>"
      ]
     },
     "metadata": {
      "needs_background": "light"
     },
     "output_type": "display_data"
    }
   ],
   "source": [
    "plt.figure(figsize=(6,6))\n",
    "sns.barplot(x='month',y='EstimatedUnemploymentRate',data=df)\n",
    "plt.xticks(rotation=90)"
   ]
  },
  {
   "cell_type": "code",
   "execution_count": 32,
   "id": "7be81a28",
   "metadata": {},
   "outputs": [
    {
     "data": {
      "image/png": "[encoded data removed]",
      "text/plain": [
       "<Figure size 432x432 with 1 Axes>"
      ]
     },
     "metadata": {
      "needs_background": "light"
     },
     "output_type": "display_data"
    }
   ],
   "source": [
    "plt.figure(figsize=(6,6))\n",
    "sns.scatterplot(x='month',y='EstimatedUnemploymentRate',data=df,color='red')\n",
    "plt.xticks(rotation=90)\n",
    "plt.grid(color='black')"
   ]
  },
  {
   "cell_type": "code",
   "execution_count": 33,
   "id": "cb541d8e",
   "metadata": {},
   "outputs": [
    {
     "data": {
      "text/plain": [
       "Index(['Region', 'Date', 'Frequency', 'EstimatedUnemploymentRate',\n",
       "       'EstimatedEmployed', 'EstimatedLabourParticipationRate(%)', 'Direction',\n",
       "       'longitude', 'latitude', 'year', 'month', 'day'],\n",
       "      dtype='object')"
      ]
     },
     "execution_count": 33,
     "metadata": {},
     "output_type": "execute_result"
    }
   ],
   "source": [
    "df.columns"
   ]
  },
  {
   "cell_type": "code",
   "execution_count": 34,
   "id": "a502b02d",
   "metadata": {},
   "outputs": [
    {
     "data": {
      "application/vnd.plotly.v1+json": {
       "config": {
        "plotlyServerURL": "https://plot.ly"
       },
       "data": [
        {
         "alignmentgroup": "True",
         "hovertemplate": "x=%{x}<br>y=%{y}<extra></extra>",
         "legendgroup": "",
         "marker": {
          "color": "#636efa",
          "pattern": {
           "shape": ""
          }
         },
         "name": "",
         "offsetgroup": "",
         "orientation": "v",
         "showlegend": false,
         "textposition": "auto",
         "type": "bar",
         "x": [
          "Andhra Pradesh",
          "Andhra Pradesh",
          "Andhra Pradesh",
          "Andhra Pradesh",
          "Andhra Pradesh",
          "Andhra Pradesh",
          "Andhra Pradesh",
          "Andhra Pradesh",
          "Andhra Pradesh",
          "Andhra Pradesh",
          "Assam",
          "Assam",
          "Assam",
          "Assam",
          "Assam",
          "Assam",
          "Assam",
          "Assam",
          "Assam",
          "Assam",
          "Bihar",
          "Bihar",
          "Bihar",
          "Bihar",
          "Bihar",
          "Bihar",
          "Bihar",
          "Bihar",
          "Bihar",
          "Bihar",
          "Chhattisgarh",
          "Chhattisgarh",
          "Chhattisgarh",
          "Chhattisgarh",
          "Chhattisgarh",
          "Chhattisgarh",
          "Chhattisgarh",
          "Chhattisgarh",
          "Chhattisgarh",
          "Chhattisgarh",
          "Delhi",
          "Delhi",
          "Delhi",
          "Delhi",
          "Delhi",
          "Delhi",
          "Delhi",
          "Delhi",
          "Delhi",
          "Delhi",
          "Goa",
          "Goa",
          "Goa",
          "Goa",
          "Goa",
          "Goa",
          "Goa",
          "Goa",
          "Goa",
          "Goa",
          "Gujarat",
          "Gujarat",
          "Gujarat",
          "Gujarat",
          "Gujarat",
          "Gujarat",
          "Gujarat",
          "Gujarat",
          "Gujarat",
          "Gujarat",
          "Haryana",
          "Haryana",
          "Haryana",
          "Haryana",
          "Haryana",
          "Haryana",
          "Haryana",
          "Haryana",
          "Haryana",
          "Haryana",
          "Himachal Pradesh",
          "Himachal Pradesh",
          "Himachal Pradesh",
          "Himachal Pradesh",
          "Himachal Pradesh",
          "Himachal Pradesh",
          "Himachal Pradesh",
          "Himachal Pradesh",
          "Himachal Pradesh",
          "Himachal Pradesh",
          "Jammu & Kashmir",
          "Jammu & Kashmir",
          "Jammu & Kashmir",
          "Jammu & Kashmir",
          "Jammu & Kashmir",
          "Jammu & Kashmir",
          "Jammu & Kashmir",
          "Jammu & Kashmir",
          "Jammu & Kashmir",
          "Jharkhand",
          "Jharkhand",
          "Jharkhand",
          "Jharkhand",
          "Jharkhand",
          "Jharkhand",
          "Jharkhand",
          "Jharkhand",
          "Jharkhand",
          "Jharkhand",
          "Karnataka",
          "Karnataka",
          "Karnataka",
          "Karnataka",
          "Karnataka",
          "Karnataka",
          "Karnataka",
          "Karnataka",
          "Karnataka",
          "Karnataka",
          "Kerala",
          "Kerala",
          "Kerala",
          "Kerala",
          "Kerala",
          "Kerala",
          "Kerala",
          "Kerala",
          "Kerala",
          "Kerala",
          "Madhya Pradesh",
          "Madhya Pradesh",
          "Madhya Pradesh",
          "Madhya Pradesh",
          "Madhya Pradesh",
          "Madhya Pradesh",
          "Madhya Pradesh",
          "Madhya Pradesh",
          "Madhya Pradesh",
          "Madhya Pradesh",
          "Maharashtra",
          "Maharashtra",
          "Maharashtra",
          "Maharashtra",
          "Maharashtra",
          "Maharashtra",
          "Maharashtra",
          "Maharashtra",
          "Maharashtra",
          "Maharashtra",
          "Meghalaya",
          "Meghalaya",
          "Meghalaya",
          "Meghalaya",
          "Meghalaya",
          "Meghalaya",
          "Meghalaya",
          "Meghalaya",
          "Meghalaya",
          "Meghalaya",
          "Odisha",
          "Odisha",
          "Odisha",
          "Odisha",
          "Odisha",
          "Odisha",
          "Odisha",
          "Odisha",
          "Odisha",
          "Odisha",
          "Puducherry",
          "Puducherry",
          "Puducherry",
          "Puducherry",
          "Puducherry",
          "Puducherry",
          "Puducherry",
          "Puducherry",
          "Puducherry",
          "Puducherry",
          "Punjab",
          "Punjab",
          "Punjab",
          "Punjab",
          "Punjab",
          "Punjab",
          "Punjab",
          "Punjab",
          "Punjab",
          "Punjab",
          "Rajasthan",
          "Rajasthan",
          "Rajasthan",
          "Rajasthan",
          "Rajasthan",
          "Rajasthan",
          "Rajasthan",
          "Rajasthan",
          "Rajasthan",
          "Rajasthan",
          "Sikkim",
          "Sikkim",
          "Sikkim",
          "Sikkim",
          "Sikkim",
          "Sikkim",
          "Sikkim",
          "Sikkim",
          "Tamil Nadu",
          "Tamil Nadu",
          "Tamil Nadu",
          "Tamil Nadu",
          "Tamil Nadu",
          "Tamil Nadu",
          "Tamil Nadu",
          "Tamil Nadu",
          "Tamil Nadu",
          "Tamil Nadu",
          "Telangana",
          "Telangana",
          "Telangana",
          "Telangana",
          "Telangana",
          "Telangana",
          "Telangana",
          "Telangana",
          "Telangana",
          "Telangana",
          "Tripura",
          "Tripura",
          "Tripura",
          "Tripura",
          "Tripura",
          "Tripura",
          "Tripura",
          "Tripura",
          "Tripura",
          "Tripura",
          "Uttar Pradesh",
          "Uttar Pradesh",
          "Uttar Pradesh",
          "Uttar Pradesh",
          "Uttar Pradesh",
          "Uttar Pradesh",
          "Uttar Pradesh",
          "Uttar Pradesh",
          "Uttar Pradesh",
          "Uttar Pradesh",
          "Uttarakhand",
          "Uttarakhand",
          "Uttarakhand",
          "Uttarakhand",
          "Uttarakhand",
          "Uttarakhand",
          "Uttarakhand",
          "Uttarakhand",
          "Uttarakhand",
          "Uttarakhand",
          "West Bengal",
          "West Bengal",
          "West Bengal",
          "West Bengal",
          "West Bengal",
          "West Bengal",
          "West Bengal",
          "West Bengal",
          "West Bengal",
          "West Bengal"
         ],
         "xaxis": "x",
         "y": [
          5.48,
          5.83,
          5.79,
          20.51,
          17.43,
          3.31,
          8.34,
          6.96,
          6.4,
          6.59,
          4.66,
          4.41,
          4.77,
          11.06,
          9.55,
          0.6,
          3.77,
          5.53,
          1.19,
          3.02,
          10.61,
          10.29,
          15.43,
          46.64,
          45.96,
          17.82,
          12.79,
          13.44,
          11.91,
          9.82,
          9.65,
          8.38,
          7.54,
          3.41,
          10.5,
          14.23,
          10.27,
          5.63,
          1.96,
          6.62,
          22.23,
          14.84,
          17.04,
          16.68,
          42.27,
          18.19,
          20.3,
          13.79,
          12.53,
          6.27,
          8.89,
          2.81,
          5.25,
          13.31,
          21.25,
          9.96,
          17.07,
          16.21,
          15.38,
          11.54,
          5.54,
          6.38,
          6.66,
          18.71,
          12.11,
          3.2,
          1.84,
          1.87,
          3.42,
          4.03,
          20.34,
          25.77,
          25.05,
          43.22,
          29.02,
          26.7,
          24.18,
          33.5,
          19.68,
          27.31,
          16.83,
          16.84,
          18.76,
          2.2,
          26.95,
          13.47,
          24.31,
          15.79,
          12.04,
          13.46,
          21.08,
          20.78,
          15.5,
          18.74,
          17.92,
          10.88,
          11.09,
          16.17,
          16.14,
          10.61,
          11.85,
          8.23,
          47.09,
          59.23,
          20.95,
          7.63,
          9.76,
          8.24,
          11.8,
          2.86,
          3.61,
          3.46,
          29.84,
          19.97,
          8.44,
          4.01,
          0.5,
          2.41,
          1.58,
          5.31,
          7.6,
          8.99,
          16.99,
          17.88,
          9.71,
          7.09,
          10.98,
          5.91,
          3.88,
          4.11,
          4.57,
          2.22,
          12.36,
          21.98,
          6.48,
          5.08,
          4.7,
          3.91,
          3.13,
          4.95,
          4.69,
          5.79,
          20.9,
          15.46,
          9.23,
          3.89,
          6.23,
          4.55,
          4.1,
          1.66,
          3.59,
          1.58,
          10.03,
          5.92,
          1.15,
          2.1,
          3.74,
          4.29,
          4.6,
          1.9,
          3.12,
          13.08,
          23.76,
          11.41,
          3.77,
          1.88,
          1.42,
          2.1,
          2.18,
          0.58,
          1.76,
          1.2,
          75.85,
          58.19,
          4.24,
          15.47,
          5.05,
          10.9,
          6.18,
          11.11,
          10.97,
          10.32,
          2.86,
          28.33,
          16.55,
          9.19,
          10.99,
          9.61,
          9.88,
          10.97,
          15.16,
          11.9,
          17.7,
          15.74,
          14.39,
          15.81,
          17.51,
          15.35,
          24.15,
          23.57,
          2.28,
          24.51,
          4.46,
          4.45,
          12.49,
          5.7,
          0.88,
          1.57,
          2.09,
          6.4,
          49.83,
          33.16,
          12.2,
          6.81,
          2.65,
          5,
          2.16,
          5.49,
          8.29,
          5.77,
          6.25,
          14.7,
          10.55,
          5.36,
          5.79,
          3.27,
          2.86,
          32.67,
          28.4,
          29.95,
          41.23,
          21.51,
          21.71,
          18.24,
          27.92,
          17.35,
          11.57,
          7.58,
          8.98,
          10.11,
          21.54,
          20.41,
          9.47,
          5.56,
          5.79,
          4.18,
          3.75,
          5.49,
          4.99,
          19.85,
          6.48,
          8.01,
          8.61,
          12.38,
          14.26,
          22.26,
          9.23,
          6.94,
          4.92,
          6.92,
          17.41,
          17.41,
          7.29,
          6.83,
          14.87,
          9.35,
          9.98
         ],
         "yaxis": "y"
        }
       ],
       "layout": {
        "barmode": "relative",
        "legend": {
         "tracegroupgap": 0
        },
        "margin": {
         "t": 60
        },
        "template": {
         "data": {
          "bar": [
           {
            "error_x": {
             "color": "#2a3f5f"
            },
            "error_y": {
             "color": "#2a3f5f"
            },
            "marker": {
             "line": {
              "color": "#E5ECF6",
              "width": 0.5
             },
             "pattern": {
              "fillmode": "overlay",
              "size": 10,
              "solidity": 0.2
             }
            },
            "type": "bar"
           }
          ],
          "barpolar": [
           {
            "marker": {
             "line": {
              "color": "#E5ECF6",
              "width": 0.5
             },
             "pattern": {
              "fillmode": "overlay",
              "size": 10,
              "solidity": 0.2
             }
            },
            "type": "barpolar"
           }
          ],
          "carpet": [
           {
            "aaxis": {
             "endlinecolor": "#2a3f5f",
             "gridcolor": "white",
             "linecolor": "white",
             "minorgridcolor": "white",
             "startlinecolor": "#2a3f5f"
            },
            "baxis": {
             "endlinecolor": "#2a3f5f",
             "gridcolor": "white",
             "linecolor": "white",
             "minorgridcolor": "white",
             "startlinecolor": "#2a3f5f"
            },
            "type": "carpet"
           }
          ],
          "choropleth": [
           {
            "colorbar": {
             "outlinewidth": 0,
             "ticks": ""
            },
            "type": "choropleth"
           }
          ],
          "contour": [
           {
            "colorbar": {
             "outlinewidth": 0,
             "ticks": ""
            },
            "colorscale": [
             [
              0,
              "#0d0887"
             ],
             [
              0.1111111111111111,
              "#46039f"
             ],
             [
              0.2222222222222222,
              "#7201a8"
             ],
             [
              0.3333333333333333,
              "#9c179e"
             ],
             [
              0.4444444444444444,
              "#bd3786"
             ],
             [
              0.5555555555555556,
              "#d8576b"
             ],
             [
              0.6666666666666666,
              "#ed7953"
             ],
             [
              0.7777777777777778,
              "#fb9f3a"
             ],
             [
              0.8888888888888888,
              "#fdca26"
             ],
             [
              1,
              "#f0f921"
             ]
            ],
            "type": "contour"
           }
          ],
          "contourcarpet": [
           {
            "colorbar": {
             "outlinewidth": 0,
             "ticks": ""
            },
            "type": "contourcarpet"
           }
          ],
          "heatmap": [
           {
            "colorbar": {
             "outlinewidth": 0,
             "ticks": ""
            },
            "colorscale": [
             [
              0,
              "#0d0887"
             ],
             [
              0.1111111111111111,
              "#46039f"
             ],
             [
              0.2222222222222222,
              "#7201a8"
             ],
             [
              0.3333333333333333,
              "#9c179e"
             ],
             [
              0.4444444444444444,
              "#bd3786"
             ],
             [
              0.5555555555555556,
              "#d8576b"
             ],
             [
              0.6666666666666666,
              "#ed7953"
             ],
             [
              0.7777777777777778,
              "#fb9f3a"
             ],
             [
              0.8888888888888888,
              "#fdca26"
             ],
             [
              1,
              "#f0f921"
             ]
            ],
            "type": "heatmap"
           }
          ],
          "heatmapgl": [
           {
            "colorbar": {
             "outlinewidth": 0,
             "ticks": ""
            },
            "colorscale": [
             [
              0,
              "#0d0887"
             ],
             [
              0.1111111111111111,
              "#46039f"
             ],
             [
              0.2222222222222222,
              "#7201a8"
             ],
             [
              0.3333333333333333,
              "#9c179e"
             ],
             [
              0.4444444444444444,
              "#bd3786"
             ],
             [
              0.5555555555555556,
              "#d8576b"
             ],
             [
              0.6666666666666666,
              "#ed7953"
             ],
             [
              0.7777777777777778,
              "#fb9f3a"
             ],
             [
              0.8888888888888888,
              "#fdca26"
             ],
             [
              1,
              "#f0f921"
             ]
            ],
            "type": "heatmapgl"
           }
          ],
          "histogram": [
           {
            "marker": {
             "pattern": {
              "fillmode": "overlay",
              "size": 10,
              "solidity": 0.2
             }
            },
            "type": "histogram"
           }
          ],
          "histogram2d": [
           {
            "colorbar": {
             "outlinewidth": 0,
             "ticks": ""
            },
            "colorscale": [
             [
              0,
              "#0d0887"
             ],
             [
              0.1111111111111111,
              "#46039f"
             ],
             [
              0.2222222222222222,
              "#7201a8"
             ],
             [
              0.3333333333333333,
              "#9c179e"
             ],
             [
              0.4444444444444444,
              "#bd3786"
             ],
             [
              0.5555555555555556,
              "#d8576b"
             ],
             [
              0.6666666666666666,
              "#ed7953"
             ],
             [
              0.7777777777777778,
              "#fb9f3a"
             ],
             [
              0.8888888888888888,
              "#fdca26"
             ],
             [
              1,
              "#f0f921"
             ]
            ],
            "type": "histogram2d"
           }
          ],
          "histogram2dcontour": [
           {
            "colorbar": {
             "outlinewidth": 0,
             "ticks": ""
            },
            "colorscale": [
             [
              0,
              "#0d0887"
             ],
             [
              0.1111111111111111,
              "#46039f"
             ],
             [
              0.2222222222222222,
              "#7201a8"
             ],
             [
              0.3333333333333333,
              "#9c179e"
             ],
             [
              0.4444444444444444,
              "#bd3786"
             ],
             [
              0.5555555555555556,
              "#d8576b"
             ],
             [
              0.6666666666666666,
              "#ed7953"
             ],
             [
              0.7777777777777778,
              "#fb9f3a"
             ],
             [
              0.8888888888888888,
              "#fdca26"
             ],
             [
              1,
              "#f0f921"
             ]
            ],
            "type": "histogram2dcontour"
           }
          ],
          "mesh3d": [
           {
            "colorbar": {
             "outlinewidth": 0,
             "ticks": ""
            },
            "type": "mesh3d"
           }
          ],
          "parcoords": [
           {
            "line": {
             "colorbar": {
              "outlinewidth": 0,
              "ticks": ""
             }
            },
            "type": "parcoords"
           }
          ],
          "pie": [
           {
            "automargin": true,
            "type": "pie"
           }
          ],
          "scatter": [
           {
            "fillpattern": {
             "fillmode": "overlay",
             "size": 10,
             "solidity": 0.2
            },
            "type": "scatter"
           }
          ],
          "scatter3d": [
           {
            "line": {
             "colorbar": {
              "outlinewidth": 0,
              "ticks": ""
             }
            },
            "marker": {
             "colorbar": {
              "outlinewidth": 0,
              "ticks": ""
             }
            },
            "type": "scatter3d"
           }
          ],
          "scattercarpet": [
           {
            "marker": {
             "colorbar": {
              "outlinewidth": 0,
              "ticks": ""
             }
            },
            "type": "scattercarpet"
           }
          ],
          "scattergeo": [
           {
            "marker": {
             "colorbar": {
              "outlinewidth": 0,
              "ticks": ""
             }
            },
            "type": "scattergeo"
           }
          ],
          "scattergl": [
           {
            "marker": {
             "colorbar": {
              "outlinewidth": 0,
              "ticks": ""
             }
            },
            "type": "scattergl"
           }
          ],
          "scattermapbox": [
           {
            "marker": {
             "colorbar": {
              "outlinewidth": 0,
              "ticks": ""
             }
            },
            "type": "scattermapbox"
           }
          ],
          "scatterpolar": [
           {
            "marker": {
             "colorbar": {
              "outlinewidth": 0,
              "ticks": ""
             }
            },
            "type": "scatterpolar"
           }
          ],
          "scatterpolargl": [
           {
            "marker": {
             "colorbar": {
              "outlinewidth": 0,
              "ticks": ""
             }
            },
            "type": "scatterpolargl"
           }
          ],
          "scatterternary": [
           {
            "marker": {
             "colorbar": {
              "outlinewidth": 0,
              "ticks": ""
             }
            },
            "type": "scatterternary"
           }
          ],
          "surface": [
           {
            "colorbar": {
             "outlinewidth": 0,
             "ticks": ""
            },
            "colorscale": [
             [
              0,
              "#0d0887"
             ],
             [
              0.1111111111111111,
              "#46039f"
             ],
             [
              0.2222222222222222,
              "#7201a8"
             ],
             [
              0.3333333333333333,
              "#9c179e"
             ],
             [
              0.4444444444444444,
              "#bd3786"
             ],
             [
              0.5555555555555556,
              "#d8576b"
             ],
             [
              0.6666666666666666,
              "#ed7953"
             ],
             [
              0.7777777777777778,
              "#fb9f3a"
             ],
             [
              0.8888888888888888,
              "#fdca26"
             ],
             [
              1,
              "#f0f921"
             ]
            ],
            "type": "surface"
           }
          ],
          "table": [
           {
            "cells": {
             "fill": {
              "color": "#EBF0F8"
             },
             "line": {
              "color": "white"
             }
            },
            "header": {
             "fill": {
              "color": "#C8D4E3"
             },
             "line": {
              "color": "white"
             }
            },
            "type": "table"
           }
          ]
         },
         "layout": {
          "annotationdefaults": {
           "arrowcolor": "#2a3f5f",
           "arrowhead": 0,
           "arrowwidth": 1
          },
          "autotypenumbers": "strict",
          "coloraxis": {
           "colorbar": {
            "outlinewidth": 0,
            "ticks": ""
           }
          },
          "colorscale": {
           "diverging": [
            [
             0,
             "#8e0152"
            ],
            [
             0.1,
             "#c51b7d"
            ],
            [
             0.2,
             "#de77ae"
            ],
            [
             0.3,
             "#f1b6da"
            ],
            [
             0.4,
             "#fde0ef"
            ],
            [
             0.5,
             "#f7f7f7"
            ],
            [
             0.6,
             "#e6f5d0"
            ],
            [
             0.7,
             "#b8e186"
            ],
            [
             0.8,
             "#7fbc41"
            ],
            [
             0.9,
             "#4d9221"
            ],
            [
             1,
             "#276419"
            ]
           ],
           "sequential": [
            [
             0,
             "#0d0887"
            ],
            [
             0.1111111111111111,
             "#46039f"
            ],
            [
             0.2222222222222222,
             "#7201a8"
            ],
            [
             0.3333333333333333,
             "#9c179e"
            ],
            [
             0.4444444444444444,
             "#bd3786"
            ],
            [
             0.5555555555555556,
             "#d8576b"
            ],
            [
             0.6666666666666666,
             "#ed7953"
            ],
            [
             0.7777777777777778,
             "#fb9f3a"
            ],
            [
             0.8888888888888888,
             "#fdca26"
            ],
            [
             1,
             "#f0f921"
            ]
           ],
           "sequentialminus": [
            [
             0,
             "#0d0887"
            ],
            [
             0.1111111111111111,
             "#46039f"
            ],
            [
             0.2222222222222222,
             "#7201a8"
            ],
            [
             0.3333333333333333,
             "#9c179e"
            ],
            [
             0.4444444444444444,
             "#bd3786"
            ],
            [
             0.5555555555555556,
             "#d8576b"
            ],
            [
             0.6666666666666666,
             "#ed7953"
            ],
            [
             0.7777777777777778,
             "#fb9f3a"
            ],
            [
             0.8888888888888888,
             "#fdca26"
            ],
            [
             1,
             "#f0f921"
            ]
           ]
          },
          "colorway": [
           "#636efa",
           "#EF553B",
           "#00cc96",
           "#ab63fa",
           "#FFA15A",
           "#19d3f3",
           "#FF6692",
           "#B6E880",
           "#FF97FF",
           "#FECB52"
          ],
          "font": {
           "color": "#2a3f5f"
          },
          "geo": {
           "bgcolor": "white",
           "lakecolor": "white",
           "landcolor": "#E5ECF6",
           "showlakes": true,
           "showland": true,
           "subunitcolor": "white"
          },
          "hoverlabel": {
           "align": "left"
          },
          "hovermode": "closest",
          "mapbox": {
           "style": "light"
          },
          "paper_bgcolor": "white",
          "plot_bgcolor": "#E5ECF6",
          "polar": {
           "angularaxis": {
            "gridcolor": "white",
            "linecolor": "white",
            "ticks": ""
           },
           "bgcolor": "#E5ECF6",
           "radialaxis": {
            "gridcolor": "white",
            "linecolor": "white",
            "ticks": ""
           }
          },
          "scene": {
           "xaxis": {
            "backgroundcolor": "#E5ECF6",
            "gridcolor": "white",
            "gridwidth": 2,
            "linecolor": "white",
            "showbackground": true,
            "ticks": "",
            "zerolinecolor": "white"
           },
           "yaxis": {
            "backgroundcolor": "#E5ECF6",
            "gridcolor": "white",
            "gridwidth": 2,
            "linecolor": "white",
            "showbackground": true,
            "ticks": "",
            "zerolinecolor": "white"
           },
           "zaxis": {
            "backgroundcolor": "#E5ECF6",
            "gridcolor": "white",
            "gridwidth": 2,
            "linecolor": "white",
            "showbackground": true,
            "ticks": "",
            "zerolinecolor": "white"
           }
          },
          "shapedefaults": {
           "line": {
            "color": "#2a3f5f"
           }
          },
          "ternary": {
           "aaxis": {
            "gridcolor": "white",
            "linecolor": "white",
            "ticks": ""
           },
           "baxis": {
            "gridcolor": "white",
            "linecolor": "white",
            "ticks": ""
           },
           "bgcolor": "#E5ECF6",
           "caxis": {
            "gridcolor": "white",
            "linecolor": "white",
            "ticks": ""
           }
          },
          "title": {
           "x": 0.05
          },
          "xaxis": {
           "automargin": true,
           "gridcolor": "white",
           "linecolor": "white",
           "ticks": "",
           "title": {
            "standoff": 15
           },
           "zerolinecolor": "white",
           "zerolinewidth": 2
          },
          "yaxis": {
           "automargin": true,
           "gridcolor": "white",
           "linecolor": "white",
           "ticks": "",
           "title": {
            "standoff": 15
           },
           "zerolinecolor": "white",
           "zerolinewidth": 2
          }
         }
        },
        "xaxis": {
         "anchor": "y",
         "domain": [
          0,
          1
         ],
         "title": {
          "text": "x"
         }
        },
        "yaxis": {
         "anchor": "x",
         "domain": [
          0,
          1
         ],
         "title": {
          "text": "y"
         }
        }
       }
      },
      "text/html": [
       "<div>                            <div id=\"4978101c-48bd-46be-845c-0446040ff26c\" class=\"plotly-graph-div\" style=\"height:525px; width:100%;\"></div>            <script type=\"text/javascript\">                require([\"plotly\"], function(Plotly) {                    window.PLOTLYENV=window.PLOTLYENV || {};                                    if (document.getElementById(\"4978101c-48bd-46be-845c-0446040ff26c\")) {                    Plotly.newPlot(                        \"4978101c-48bd-46be-845c-0446040ff26c\",                        [{\"alignmentgroup\":\"True\",\"hovertemplate\":\"x=%{x}\\u003cbr\\u003ey=%{y}\\u003cextra\\u003e\\u003c\\u002fextra\\u003e\",\"legendgroup\":\"\",\"marker\":{\"color\":\"#636efa\",\"pattern\":{\"shape\":\"\"}},\"name\":\"\",\"offsetgroup\":\"\",\"orientation\":\"v\",\"showlegend\":false,\"textposition\":\"auto\",\"x\":[\"Andhra Pradesh\",\"Andhra Pradesh\",\"Andhra Pradesh\",\"Andhra Pradesh\",\"Andhra Pradesh\",\"Andhra Pradesh\",\"Andhra Pradesh\",\"Andhra Pradesh\",\"Andhra Pradesh\",\"Andhra Pradesh\",\"Assam\",\"Assam\",\"Assam\",\"Assam\",\"Assam\",\"Assam\",\"Assam\",\"Assam\",\"Assam\",\"Assam\",\"Bihar\",\"Bihar\",\"Bihar\",\"Bihar\",\"Bihar\",\"Bihar\",\"Bihar\",\"Bihar\",\"Bihar\",\"Bihar\",\"Chhattisgarh\",\"Chhattisgarh\",\"Chhattisgarh\",\"Chhattisgarh\",\"Chhattisgarh\",\"Chhattisgarh\",\"Chhattisgarh\",\"Chhattisgarh\",\"Chhattisgarh\",\"Chhattisgarh\",\"Delhi\",\"Delhi\",\"Delhi\",\"Delhi\",\"Delhi\",\"Delhi\",\"Delhi\",\"Delhi\",\"Delhi\",\"Delhi\",\"Goa\",\"Goa\",\"Goa\",\"Goa\",\"Goa\",\"Goa\",\"Goa\",\"Goa\",\"Goa\",\"Goa\",\"Gujarat\",\"Gujarat\",\"Gujarat\",\"Gujarat\",\"Gujarat\",\"Gujarat\",\"Gujarat\",\"Gujarat\",\"Gujarat\",\"Gujarat\",\"Haryana\",\"Haryana\",\"Haryana\",\"Haryana\",\"Haryana\",\"Haryana\",\"Haryana\",\"Haryana\",\"Haryana\",\"Haryana\",\"Himachal Pradesh\",\"Himachal Pradesh\",\"Himachal Pradesh\",\"Himachal Pradesh\",\"Himachal Pradesh\",\"Himachal Pradesh\",\"Himachal Pradesh\",\"Himachal Pradesh\",\"Himachal Pradesh\",\"Himachal Pradesh\",\"Jammu & Kashmir\",\"Jammu & Kashmir\",\"Jammu & Kashmir\",\"Jammu & Kashmir\",\"Jammu & Kashmir\",\"Jammu & Kashmir\",\"Jammu & Kashmir\",\"Jammu & Kashmir\",\"Jammu & Kashmir\",\"Jharkhand\",\"Jharkhand\",\"Jharkhand\",\"Jharkhand\",\"Jharkhand\",\"Jharkhand\",\"Jharkhand\",\"Jharkhand\",\"Jharkhand\",\"Jharkhand\",\"Karnataka\",\"Karnataka\",\"Karnataka\",\"Karnataka\",\"Karnataka\",\"Karnataka\",\"Karnataka\",\"Karnataka\",\"Karnataka\",\"Karnataka\",\"Kerala\",\"Kerala\",\"Kerala\",\"Kerala\",\"Kerala\",\"Kerala\",\"Kerala\",\"Kerala\",\"Kerala\",\"Kerala\",\"Madhya Pradesh\",\"Madhya Pradesh\",\"Madhya Pradesh\",\"Madhya Pradesh\",\"Madhya Pradesh\",\"Madhya Pradesh\",\"Madhya Pradesh\",\"Madhya Pradesh\",\"Madhya Pradesh\",\"Madhya Pradesh\",\"Maharashtra\",\"Maharashtra\",\"Maharashtra\",\"Maharashtra\",\"Maharashtra\",\"Maharashtra\",\"Maharashtra\",\"Maharashtra\",\"Maharashtra\",\"Maharashtra\",\"Meghalaya\",\"Meghalaya\",\"Meghalaya\",\"Meghalaya\",\"Meghalaya\",\"Meghalaya\",\"Meghalaya\",\"Meghalaya\",\"Meghalaya\",\"Meghalaya\",\"Odisha\",\"Odisha\",\"Odisha\",\"Odisha\",\"Odisha\",\"Odisha\",\"Odisha\",\"Odisha\",\"Odisha\",\"Odisha\",\"Puducherry\",\"Puducherry\",\"Puducherry\",\"Puducherry\",\"Puducherry\",\"Puducherry\",\"Puducherry\",\"Puducherry\",\"Puducherry\",\"Puducherry\",\"Punjab\",\"Punjab\",\"Punjab\",\"Punjab\",\"Punjab\",\"Punjab\",\"Punjab\",\"Punjab\",\"Punjab\",\"Punjab\",\"Rajasthan\",\"Rajasthan\",\"Rajasthan\",\"Rajasthan\",\"Rajasthan\",\"Rajasthan\",\"Rajasthan\",\"Rajasthan\",\"Rajasthan\",\"Rajasthan\",\"Sikkim\",\"Sikkim\",\"Sikkim\",\"Sikkim\",\"Sikkim\",\"Sikkim\",\"Sikkim\",\"Sikkim\",\"Tamil Nadu\",\"Tamil Nadu\",\"Tamil Nadu\",\"Tamil Nadu\",\"Tamil Nadu\",\"Tamil Nadu\",\"Tamil Nadu\",\"Tamil Nadu\",\"Tamil Nadu\",\"Tamil Nadu\",\"Telangana\",\"Telangana\",\"Telangana\",\"Telangana\",\"Telangana\",\"Telangana\",\"Telangana\",\"Telangana\",\"Telangana\",\"Telangana\",\"Tripura\",\"Tripura\",\"Tripura\",\"Tripura\",\"Tripura\",\"Tripura\",\"Tripura\",\"Tripura\",\"Tripura\",\"Tripura\",\"Uttar Pradesh\",\"Uttar Pradesh\",\"Uttar Pradesh\",\"Uttar Pradesh\",\"Uttar Pradesh\",\"Uttar Pradesh\",\"Uttar Pradesh\",\"Uttar Pradesh\",\"Uttar Pradesh\",\"Uttar Pradesh\",\"Uttarakhand\",\"Uttarakhand\",\"Uttarakhand\",\"Uttarakhand\",\"Uttarakhand\",\"Uttarakhand\",\"Uttarakhand\",\"Uttarakhand\",\"Uttarakhand\",\"Uttarakhand\",\"West Bengal\",\"West Bengal\",\"West Bengal\",\"West Bengal\",\"West Bengal\",\"West Bengal\",\"West Bengal\",\"West Bengal\",\"West Bengal\",\"West Bengal\"],\"xaxis\":\"x\",\"y\":[5.48,5.83,5.79,20.51,17.43,3.31,8.34,6.96,6.4,6.59,4.66,4.41,4.77,11.06,9.55,0.6,3.77,5.53,1.19,3.02,10.61,10.29,15.43,46.64,45.96,17.82,12.79,13.44,11.91,9.82,9.65,8.38,7.54,3.41,10.5,14.23,10.27,5.63,1.96,6.62,22.23,14.84,17.04,16.68,42.27,18.19,20.3,13.79,12.53,6.27,8.89,2.81,5.25,13.31,21.25,9.96,17.07,16.21,15.38,11.54,5.54,6.38,6.66,18.71,12.11,3.2,1.84,1.87,3.42,4.03,20.34,25.77,25.05,43.22,29.02,26.7,24.18,33.5,19.68,27.31,16.83,16.84,18.76,2.2,26.95,13.47,24.31,15.79,12.04,13.46,21.08,20.78,15.5,18.74,17.92,10.88,11.09,16.17,16.14,10.61,11.85,8.23,47.09,59.23,20.95,7.63,9.76,8.24,11.8,2.86,3.61,3.46,29.84,19.97,8.44,4.01,0.5,2.41,1.58,5.31,7.6,8.99,16.99,17.88,9.71,7.09,10.98,5.91,3.88,4.11,4.57,2.22,12.36,21.98,6.48,5.08,4.7,3.91,3.13,4.95,4.69,5.79,20.9,15.46,9.23,3.89,6.23,4.55,4.1,1.66,3.59,1.58,10.03,5.92,1.15,2.1,3.74,4.29,4.6,1.9,3.12,13.08,23.76,11.41,3.77,1.88,1.42,2.1,2.18,0.58,1.76,1.2,75.85,58.19,4.24,15.47,5.05,10.9,6.18,11.11,10.97,10.32,2.86,28.33,16.55,9.19,10.99,9.61,9.88,10.97,15.16,11.9,17.7,15.74,14.39,15.81,17.51,15.35,24.15,23.57,2.28,24.51,4.46,4.45,12.49,5.7,0.88,1.57,2.09,6.4,49.83,33.16,12.2,6.81,2.65,5.0,2.16,5.49,8.29,5.77,6.25,14.7,10.55,5.36,5.79,3.27,2.86,32.67,28.4,29.95,41.23,21.51,21.71,18.24,27.92,17.35,11.57,7.58,8.98,10.11,21.54,20.41,9.47,5.56,5.79,4.18,3.75,5.49,4.99,19.85,6.48,8.01,8.61,12.38,14.26,22.26,9.23,6.94,4.92,6.92,17.41,17.41,7.29,6.83,14.87,9.35,9.98],\"yaxis\":\"y\",\"type\":\"bar\"}],                        {\"template\":{\"data\":{\"histogram2dcontour\":[{\"type\":\"histogram2dcontour\",\"colorbar\":{\"outlinewidth\":0,\"ticks\":\"\"},\"colorscale\":[[0.0,\"#0d0887\"],[0.1111111111111111,\"#46039f\"],[0.2222222222222222,\"#7201a8\"],[0.3333333333333333,\"#9c179e\"],[0.4444444444444444,\"#bd3786\"],[0.5555555555555556,\"#d8576b\"],[0.6666666666666666,\"#ed7953\"],[0.7777777777777778,\"#fb9f3a\"],[0.8888888888888888,\"#fdca26\"],[1.0,\"#f0f921\"]]}],\"choropleth\":[{\"type\":\"choropleth\",\"colorbar\":{\"outlinewidth\":0,\"ticks\":\"\"}}],\"histogram2d\":[{\"type\":\"histogram2d\",\"colorbar\":{\"outlinewidth\":0,\"ticks\":\"\"},\"colorscale\":[[0.0,\"#0d0887\"],[0.1111111111111111,\"#46039f\"],[0.2222222222222222,\"#7201a8\"],[0.3333333333333333,\"#9c179e\"],[0.4444444444444444,\"#bd3786\"],[0.5555555555555556,\"#d8576b\"],[0.6666666666666666,\"#ed7953\"],[0.7777777777777778,\"#fb9f3a\"],[0.8888888888888888,\"#fdca26\"],[1.0,\"#f0f921\"]]}],\"heatmap\":[{\"type\":\"heatmap\",\"colorbar\":{\"outlinewidth\":0,\"ticks\":\"\"},\"colorscale\":[[0.0,\"#0d0887\"],[0.1111111111111111,\"#46039f\"],[0.2222222222222222,\"#7201a8\"],[0.3333333333333333,\"#9c179e\"],[0.4444444444444444,\"#bd3786\"],[0.5555555555555556,\"#d8576b\"],[0.6666666666666666,\"#ed7953\"],[0.7777777777777778,\"#fb9f3a\"],[0.8888888888888888,\"#fdca26\"],[1.0,\"#f0f921\"]]}],\"heatmapgl\":[{\"type\":\"heatmapgl\",\"colorbar\":{\"outlinewidth\":0,\"ticks\":\"\"},\"colorscale\":[[0.0,\"#0d0887\"],[0.1111111111111111,\"#46039f\"],[0.2222222222222222,\"#7201a8\"],[0.3333333333333333,\"#9c179e\"],[0.4444444444444444,\"#bd3786\"],[0.5555555555555556,\"#d8576b\"],[0.6666666666666666,\"#ed7953\"],[0.7777777777777778,\"#fb9f3a\"],[0.8888888888888888,\"#fdca26\"],[1.0,\"#f0f921\"]]}],\"contourcarpet\":[{\"type\":\"contourcarpet\",\"colorbar\":{\"outlinewidth\":0,\"ticks\":\"\"}}],\"contour\":[{\"type\":\"contour\",\"colorbar\":{\"outlinewidth\":0,\"ticks\":\"\"},\"colorscale\":[[0.0,\"#0d0887\"],[0.1111111111111111,\"#46039f\"],[0.2222222222222222,\"#7201a8\"],[0.3333333333333333,\"#9c179e\"],[0.4444444444444444,\"#bd3786\"],[0.5555555555555556,\"#d8576b\"],[0.6666666666666666,\"#ed7953\"],[0.7777777777777778,\"#fb9f3a\"],[0.8888888888888888,\"#fdca26\"],[1.0,\"#f0f921\"]]}],\"surface\":[{\"type\":\"surface\",\"colorbar\":{\"outlinewidth\":0,\"ticks\":\"\"},\"colorscale\":[[0.0,\"#0d0887\"],[0.1111111111111111,\"#46039f\"],[0.2222222222222222,\"#7201a8\"],[0.3333333333333333,\"#9c179e\"],[0.4444444444444444,\"#bd3786\"],[0.5555555555555556,\"#d8576b\"],[0.6666666666666666,\"#ed7953\"],[0.7777777777777778,\"#fb9f3a\"],[0.8888888888888888,\"#fdca26\"],[1.0,\"#f0f921\"]]}],\"mesh3d\":[{\"type\":\"mesh3d\",\"colorbar\":{\"outlinewidth\":0,\"ticks\":\"\"}}],\"scatter\":[{\"fillpattern\":{\"fillmode\":\"overlay\",\"size\":10,\"solidity\":0.2},\"type\":\"scatter\"}],\"parcoords\":[{\"type\":\"parcoords\",\"line\":{\"colorbar\":{\"outlinewidth\":0,\"ticks\":\"\"}}}],\"scatterpolargl\":[{\"type\":\"scatterpolargl\",\"marker\":{\"colorbar\":{\"outlinewidth\":0,\"ticks\":\"\"}}}],\"bar\":[{\"error_x\":{\"color\":\"#2a3f5f\"},\"error_y\":{\"color\":\"#2a3f5f\"},\"marker\":{\"line\":{\"color\":\"#E5ECF6\",\"width\":0.5},\"pattern\":{\"fillmode\":\"overlay\",\"size\":10,\"solidity\":0.2}},\"type\":\"bar\"}],\"scattergeo\":[{\"type\":\"scattergeo\",\"marker\":{\"colorbar\":{\"outlinewidth\":0,\"ticks\":\"\"}}}],\"scatterpolar\":[{\"type\":\"scatterpolar\",\"marker\":{\"colorbar\":{\"outlinewidth\":0,\"ticks\":\"\"}}}],\"histogram\":[{\"marker\":{\"pattern\":{\"fillmode\":\"overlay\",\"size\":10,\"solidity\":0.2}},\"type\":\"histogram\"}],\"scattergl\":[{\"type\":\"scattergl\",\"marker\":{\"colorbar\":{\"outlinewidth\":0,\"ticks\":\"\"}}}],\"scatter3d\":[{\"type\":\"scatter3d\",\"line\":{\"colorbar\":{\"outlinewidth\":0,\"ticks\":\"\"}},\"marker\":{\"colorbar\":{\"outlinewidth\":0,\"ticks\":\"\"}}}],\"scattermapbox\":[{\"type\":\"scattermapbox\",\"marker\":{\"colorbar\":{\"outlinewidth\":0,\"ticks\":\"\"}}}],\"scatterternary\":[{\"type\":\"scatterternary\",\"marker\":{\"colorbar\":{\"outlinewidth\":0,\"ticks\":\"\"}}}],\"scattercarpet\":[{\"type\":\"scattercarpet\",\"marker\":{\"colorbar\":{\"outlinewidth\":0,\"ticks\":\"\"}}}],\"carpet\":[{\"aaxis\":{\"endlinecolor\":\"#2a3f5f\",\"gridcolor\":\"white\",\"linecolor\":\"white\",\"minorgridcolor\":\"white\",\"startlinecolor\":\"#2a3f5f\"},\"baxis\":{\"endlinecolor\":\"#2a3f5f\",\"gridcolor\":\"white\",\"linecolor\":\"white\",\"minorgridcolor\":\"white\",\"startlinecolor\":\"#2a3f5f\"},\"type\":\"carpet\"}],\"table\":[{\"cells\":{\"fill\":{\"color\":\"#EBF0F8\"},\"line\":{\"color\":\"white\"}},\"header\":{\"fill\":{\"color\":\"#C8D4E3\"},\"line\":{\"color\":\"white\"}},\"type\":\"table\"}],\"barpolar\":[{\"marker\":{\"line\":{\"color\":\"#E5ECF6\",\"width\":0.5},\"pattern\":{\"fillmode\":\"overlay\",\"size\":10,\"solidity\":0.2}},\"type\":\"barpolar\"}],\"pie\":[{\"automargin\":true,\"type\":\"pie\"}]},\"layout\":{\"autotypenumbers\":\"strict\",\"colorway\":[\"#636efa\",\"#EF553B\",\"#00cc96\",\"#ab63fa\",\"#FFA15A\",\"#19d3f3\",\"#FF6692\",\"#B6E880\",\"#FF97FF\",\"#FECB52\"],\"font\":{\"color\":\"#2a3f5f\"},\"hovermode\":\"closest\",\"hoverlabel\":{\"align\":\"left\"},\"paper_bgcolor\":\"white\",\"plot_bgcolor\":\"#E5ECF6\",\"polar\":{\"bgcolor\":\"#E5ECF6\",\"angularaxis\":{\"gridcolor\":\"white\",\"linecolor\":\"white\",\"ticks\":\"\"},\"radialaxis\":{\"gridcolor\":\"white\",\"linecolor\":\"white\",\"ticks\":\"\"}},\"ternary\":{\"bgcolor\":\"#E5ECF6\",\"aaxis\":{\"gridcolor\":\"white\",\"linecolor\":\"white\",\"ticks\":\"\"},\"baxis\":{\"gridcolor\":\"white\",\"linecolor\":\"white\",\"ticks\":\"\"},\"caxis\":{\"gridcolor\":\"white\",\"linecolor\":\"white\",\"ticks\":\"\"}},\"coloraxis\":{\"colorbar\":{\"outlinewidth\":0,\"ticks\":\"\"}},\"colorscale\":{\"sequential\":[[0.0,\"#0d0887\"],[0.1111111111111111,\"#46039f\"],[0.2222222222222222,\"#7201a8\"],[0.3333333333333333,\"#9c179e\"],[0.4444444444444444,\"#bd3786\"],[0.5555555555555556,\"#d8576b\"],[0.6666666666666666,\"#ed7953\"],[0.7777777777777778,\"#fb9f3a\"],[0.8888888888888888,\"#fdca26\"],[1.0,\"#f0f921\"]],\"sequentialminus\":[[0.0,\"#0d0887\"],[0.1111111111111111,\"#46039f\"],[0.2222222222222222,\"#7201a8\"],[0.3333333333333333,\"#9c179e\"],[0.4444444444444444,\"#bd3786\"],[0.5555555555555556,\"#d8576b\"],[0.6666666666666666,\"#ed7953\"],[0.7777777777777778,\"#fb9f3a\"],[0.8888888888888888,\"#fdca26\"],[1.0,\"#f0f921\"]],\"diverging\":[[0,\"#8e0152\"],[0.1,\"#c51b7d\"],[0.2,\"#de77ae\"],[0.3,\"#f1b6da\"],[0.4,\"#fde0ef\"],[0.5,\"#f7f7f7\"],[0.6,\"#e6f5d0\"],[0.7,\"#b8e186\"],[0.8,\"#7fbc41\"],[0.9,\"#4d9221\"],[1,\"#276419\"]]},\"xaxis\":{\"gridcolor\":\"white\",\"linecolor\":\"white\",\"ticks\":\"\",\"title\":{\"standoff\":15},\"zerolinecolor\":\"white\",\"automargin\":true,\"zerolinewidth\":2},\"yaxis\":{\"gridcolor\":\"white\",\"linecolor\":\"white\",\"ticks\":\"\",\"title\":{\"standoff\":15},\"zerolinecolor\":\"white\",\"automargin\":true,\"zerolinewidth\":2},\"scene\":{\"xaxis\":{\"backgroundcolor\":\"#E5ECF6\",\"gridcolor\":\"white\",\"linecolor\":\"white\",\"showbackground\":true,\"ticks\":\"\",\"zerolinecolor\":\"white\",\"gridwidth\":2},\"yaxis\":{\"backgroundcolor\":\"#E5ECF6\",\"gridcolor\":\"white\",\"linecolor\":\"white\",\"showbackground\":true,\"ticks\":\"\",\"zerolinecolor\":\"white\",\"gridwidth\":2},\"zaxis\":{\"backgroundcolor\":\"#E5ECF6\",\"gridcolor\":\"white\",\"linecolor\":\"white\",\"showbackground\":true,\"ticks\":\"\",\"zerolinecolor\":\"white\",\"gridwidth\":2}},\"shapedefaults\":{\"line\":{\"color\":\"#2a3f5f\"}},\"annotationdefaults\":{\"arrowcolor\":\"#2a3f5f\",\"arrowhead\":0,\"arrowwidth\":1},\"geo\":{\"bgcolor\":\"white\",\"landcolor\":\"#E5ECF6\",\"subunitcolor\":\"white\",\"showland\":true,\"showlakes\":true,\"lakecolor\":\"white\"},\"title\":{\"x\":0.05},\"mapbox\":{\"style\":\"light\"}}},\"xaxis\":{\"anchor\":\"y\",\"domain\":[0.0,1.0],\"title\":{\"text\":\"x\"}},\"yaxis\":{\"anchor\":\"x\",\"domain\":[0.0,1.0],\"title\":{\"text\":\"y\"}},\"legend\":{\"tracegroupgap\":0},\"margin\":{\"t\":60},\"barmode\":\"relative\"},                        {\"responsive\": true}                    ).then(function(){\n",
       "                            \n",
       "var gd = document.getElementById('4978101c-48bd-46be-845c-0446040ff26c');\n",
       "var x = new MutationObserver(function (mutations, observer) {{\n",
       "        var display = window.getComputedStyle(gd).display;\n",
       "        if (!display || display === 'none') {{\n",
       "            console.log([gd, 'removed!']);\n",
       "            Plotly.purge(gd);\n",
       "            observer.disconnect();\n",
       "        }}\n",
       "}});\n",
       "\n",
       "// Listen for the removal of the full notebook cells\n",
       "var notebookContainer = gd.closest('#notebook-container');\n",
       "if (notebookContainer) {{\n",
       "    x.observe(notebookContainer, {childList: true});\n",
       "}}\n",
       "\n",
       "// Listen for the clearing of the current output cell\n",
       "var outputEl = gd.closest('.output');\n",
       "if (outputEl) {{\n",
       "    x.observe(outputEl, {childList: true});\n",
       "}}\n",
       "\n",
       "                        })                };                });            </script>        </div>"
      ]
     },
     "metadata": {},
     "output_type": "display_data"
    }
   ],
   "source": [
    "fig = px.bar(x=df['Region'],y=df['EstimatedUnemploymentRate'])\n",
    "fig.show()"
   ]
  },
  {
   "cell_type": "code",
   "execution_count": 35,
   "id": "14a3ea46",
   "metadata": {},
   "outputs": [
    {
     "data": {
      "text/plain": [
       "Index(['Region', 'Date', 'Frequency', 'EstimatedUnemploymentRate',\n",
       "       'EstimatedEmployed', 'EstimatedLabourParticipationRate(%)', 'Direction',\n",
       "       'longitude', 'latitude', 'year', 'month', 'day'],\n",
       "      dtype='object')"
      ]
     },
     "execution_count": 35,
     "metadata": {},
     "output_type": "execute_result"
    }
   ],
   "source": [
    "df.columns"
   ]
  },
  {
   "cell_type": "code",
   "execution_count": 36,
   "id": "9f84fcd6",
   "metadata": {},
   "outputs": [
    {
     "data": {
      "application/vnd.plotly.v1+json": {
       "config": {
        "plotlyServerURL": "https://plot.ly"
       },
       "data": [
        {
         "geo": "geo",
         "hovertemplate": "<b>%{hovertext}</b><br><br>Region=Andhra Pradesh<br>month=january<br>EstimatedUnemploymentRate=%{marker.size}<br>latitude=%{lat}<br>longitude=%{lon}<extra></extra>",
         "hovertext": [
          "Andhra Pradesh"
         ],
         "lat": [
          79.74
         ],
         "legendgroup": "Andhra Pradesh",
         "lon": [
          15.9129
         ],
         "marker": {
          "color": "#636efa",
          "size": [
           5.48
          ],
          "sizemode": "area",
          "sizeref": 0.189625,
          "symbol": "circle"
         },
         "mode": "markers",
         "name": "Andhra Pradesh",
         "showlegend": true,
         "type": "scattergeo"
        },
        {
         "geo": "geo",
         "hovertemplate": "<b>%{hovertext}</b><br><br>Region=Assam<br>month=january<br>EstimatedUnemploymentRate=%{marker.size}<br>latitude=%{lat}<br>longitude=%{lon}<extra></extra>",
         "hovertext": [
          "Assam"
         ],
         "lat": [
          92.9376
         ],
         "legendgroup": "Assam",
         "lon": [
          26.2006
         ],
         "marker": {
          "color": "#EF553B",
          "size": [
           4.66
          ],
          "sizemode": "area",
          "sizeref": 0.189625,
          "symbol": "circle"
         },
         "mode": "markers",
         "name": "Assam",
         "showlegend": true,
         "type": "scattergeo"
        },
        {
         "geo": "geo",
         "hovertemplate": "<b>%{hovertext}</b><br><br>Region=Bihar<br>month=january<br>EstimatedUnemploymentRate=%{marker.size}<br>latitude=%{lat}<br>longitude=%{lon}<extra></extra>",
         "hovertext": [
          "Bihar"
         ],
         "lat": [
          85.3131
         ],
         "legendgroup": "Bihar",
         "lon": [
          25.0961
         ],
         "marker": {
          "color": "#00cc96",
          "size": [
           10.61
          ],
          "sizemode": "area",
          "sizeref": 0.189625,
          "symbol": "circle"
         },
         "mode": "markers",
         "name": "Bihar",
         "showlegend": true,
         "type": "scattergeo"
        },
        {
         "geo": "geo",
         "hovertemplate": "<b>%{hovertext}</b><br><br>Region=Chhattisgarh<br>month=january<br>EstimatedUnemploymentRate=%{marker.size}<br>latitude=%{lat}<br>longitude=%{lon}<extra></extra>",
         "hovertext": [
          "Chhattisgarh"
         ],
         "lat": [
          81.8661
         ],
         "legendgroup": "Chhattisgarh",
         "lon": [
          21.2787
         ],
         "marker": {
          "color": "#ab63fa",
          "size": [
           9.65
          ],
          "sizemode": "area",
          "sizeref": 0.189625,
          "symbol": "circle"
         },
         "mode": "markers",
         "name": "Chhattisgarh",
         "showlegend": true,
         "type": "scattergeo"
        },
        {
         "geo": "geo",
         "hovertemplate": "<b>%{hovertext}</b><br><br>Region=Delhi<br>month=january<br>EstimatedUnemploymentRate=%{marker.size}<br>latitude=%{lat}<br>longitude=%{lon}<extra></extra>",
         "hovertext": [
          "Delhi"
         ],
         "lat": [
          77.1025
         ],
         "legendgroup": "Delhi",
         "lon": [
          28.7041
         ],
         "marker": {
          "color": "#FFA15A",
          "size": [
           22.23
          ],
          "sizemode": "area",
          "sizeref": 0.189625,
          "symbol": "circle"
         },
         "mode": "markers",
         "name": "Delhi",
         "showlegend": true,
         "type": "scattergeo"
        },
        {
         "geo": "geo",
         "hovertemplate": "<b>%{hovertext}</b><br><br>Region=Goa<br>month=january<br>EstimatedUnemploymentRate=%{marker.size}<br>latitude=%{lat}<br>longitude=%{lon}<extra></extra>",
         "hovertext": [
          "Goa"
         ],
         "lat": [
          74.124
         ],
         "legendgroup": "Goa",
         "lon": [
          15.2993
         ],
         "marker": {
          "color": "#19d3f3",
          "size": [
           8.89
          ],
          "sizemode": "area",
          "sizeref": 0.189625,
          "symbol": "circle"
         },
         "mode": "markers",
         "name": "Goa",
         "showlegend": true,
         "type": "scattergeo"
        },
        {
         "geo": "geo",
         "hovertemplate": "<b>%{hovertext}</b><br><br>Region=Gujarat<br>month=january<br>EstimatedUnemploymentRate=%{marker.size}<br>latitude=%{lat}<br>longitude=%{lon}<extra></extra>",
         "hovertext": [
          "Gujarat"
         ],
         "lat": [
          71.1924
         ],
         "legendgroup": "Gujarat",
         "lon": [
          22.2587
         ],
         "marker": {
          "color": "#FF6692",
          "size": [
           5.54
          ],
          "sizemode": "area",
          "sizeref": 0.189625,
          "symbol": "circle"
         },
         "mode": "markers",
         "name": "Gujarat",
         "showlegend": true,
         "type": "scattergeo"
        },
        {
         "geo": "geo",
         "hovertemplate": "<b>%{hovertext}</b><br><br>Region=Haryana<br>month=january<br>EstimatedUnemploymentRate=%{marker.size}<br>latitude=%{lat}<br>longitude=%{lon}<extra></extra>",
         "hovertext": [
          "Haryana"
         ],
         "lat": [
          76.0856
         ],
         "legendgroup": "Haryana",
         "lon": [
          29.0588
         ],
         "marker": {
          "color": "#B6E880",
          "size": [
           20.34
          ],
          "sizemode": "area",
          "sizeref": 0.189625,
          "symbol": "circle"
         },
         "mode": "markers",
         "name": "Haryana",
         "showlegend": true,
         "type": "scattergeo"
        },
        {
         "geo": "geo",
         "hovertemplate": "<b>%{hovertext}</b><br><br>Region=Himachal Pradesh<br>month=january<br>EstimatedUnemploymentRate=%{marker.size}<br>latitude=%{lat}<br>longitude=%{lon}<extra></extra>",
         "hovertext": [
          "Himachal Pradesh"
         ],
         "lat": [
          77.1734
         ],
         "legendgroup": "Himachal Pradesh",
         "lon": [
          31.1048
         ],
         "marker": {
          "color": "#FF97FF",
          "size": [
           16.83
          ],
          "sizemode": "area",
          "sizeref": 0.189625,
          "symbol": "circle"
         },
         "mode": "markers",
         "name": "Himachal Pradesh",
         "showlegend": true,
         "type": "scattergeo"
        },
        {
         "geo": "geo",
         "hovertemplate": "<b>%{hovertext}</b><br><br>Region=Jammu & Kashmir<br>month=january<br>EstimatedUnemploymentRate=%{marker.size}<br>latitude=%{lat}<br>longitude=%{lon}<extra></extra>",
         "hovertext": [
          "Jammu & Kashmir"
         ],
         "lat": [
          76.5762
         ],
         "legendgroup": "Jammu & Kashmir",
         "lon": [
          33.7782
         ],
         "marker": {
          "color": "#FECB52",
          "size": [
           21.08
          ],
          "sizemode": "area",
          "sizeref": 0.189625,
          "symbol": "circle"
         },
         "mode": "markers",
         "name": "Jammu & Kashmir",
         "showlegend": true,
         "type": "scattergeo"
        },
        {
         "geo": "geo",
         "hovertemplate": "<b>%{hovertext}</b><br><br>Region=Jharkhand<br>month=january<br>EstimatedUnemploymentRate=%{marker.size}<br>latitude=%{lat}<br>longitude=%{lon}<extra></extra>",
         "hovertext": [
          "Jharkhand"
         ],
         "lat": [
          85.2799
         ],
         "legendgroup": "Jharkhand",
         "lon": [
          23.6102
         ],
         "marker": {
          "color": "#636efa",
          "size": [
           10.61
          ],
          "sizemode": "area",
          "sizeref": 0.189625,
          "symbol": "circle"
         },
         "mode": "markers",
         "name": "Jharkhand",
         "showlegend": true,
         "type": "scattergeo"
        },
        {
         "geo": "geo",
         "hovertemplate": "<b>%{hovertext}</b><br><br>Region=Karnataka<br>month=january<br>EstimatedUnemploymentRate=%{marker.size}<br>latitude=%{lat}<br>longitude=%{lon}<extra></extra>",
         "hovertext": [
          "Karnataka"
         ],
         "lat": [
          75.7139
         ],
         "legendgroup": "Karnataka",
         "lon": [
          15.3173
         ],
         "marker": {
          "color": "#EF553B",
          "size": [
           2.86
          ],
          "sizemode": "area",
          "sizeref": 0.189625,
          "symbol": "circle"
         },
         "mode": "markers",
         "name": "Karnataka",
         "showlegend": true,
         "type": "scattergeo"
        },
        {
         "geo": "geo",
         "hovertemplate": "<b>%{hovertext}</b><br><br>Region=Kerala<br>month=january<br>EstimatedUnemploymentRate=%{marker.size}<br>latitude=%{lat}<br>longitude=%{lon}<extra></extra>",
         "hovertext": [
          "Kerala"
         ],
         "lat": [
          76.2711
         ],
         "legendgroup": "Kerala",
         "lon": [
          10.8505
         ],
         "marker": {
          "color": "#00cc96",
          "size": [
           5.31
          ],
          "sizemode": "area",
          "sizeref": 0.189625,
          "symbol": "circle"
         },
         "mode": "markers",
         "name": "Kerala",
         "showlegend": true,
         "type": "scattergeo"
        },
        {
         "geo": "geo",
         "hovertemplate": "<b>%{hovertext}</b><br><br>Region=Madhya Pradesh<br>month=january<br>EstimatedUnemploymentRate=%{marker.size}<br>latitude=%{lat}<br>longitude=%{lon}<extra></extra>",
         "hovertext": [
          "Madhya Pradesh"
         ],
         "lat": [
          78.6569
         ],
         "legendgroup": "Madhya Pradesh",
         "lon": [
          22.9734
         ],
         "marker": {
          "color": "#ab63fa",
          "size": [
           4.11
          ],
          "sizemode": "area",
          "sizeref": 0.189625,
          "symbol": "circle"
         },
         "mode": "markers",
         "name": "Madhya Pradesh",
         "showlegend": true,
         "type": "scattergeo"
        },
        {
         "geo": "geo",
         "hovertemplate": "<b>%{hovertext}</b><br><br>Region=Maharashtra<br>month=january<br>EstimatedUnemploymentRate=%{marker.size}<br>latitude=%{lat}<br>longitude=%{lon}<extra></extra>",
         "hovertext": [
          "Maharashtra"
         ],
         "lat": [
          75.7139
         ],
         "legendgroup": "Maharashtra",
         "lon": [
          19.7515
         ],
         "marker": {
          "color": "#FFA15A",
          "size": [
           4.95
          ],
          "sizemode": "area",
          "sizeref": 0.189625,
          "symbol": "circle"
         },
         "mode": "markers",
         "name": "Maharashtra",
         "showlegend": true,
         "type": "scattergeo"
        },
        {
         "geo": "geo",
         "hovertemplate": "<b>%{hovertext}</b><br><br>Region=Meghalaya<br>month=january<br>EstimatedUnemploymentRate=%{marker.size}<br>latitude=%{lat}<br>longitude=%{lon}<extra></extra>",
         "hovertext": [
          "Meghalaya"
         ],
         "lat": [
          91.3662
         ],
         "legendgroup": "Meghalaya",
         "lon": [
          25.467
         ],
         "marker": {
          "color": "#19d3f3",
          "size": [
           1.66
          ],
          "sizemode": "area",
          "sizeref": 0.189625,
          "symbol": "circle"
         },
         "mode": "markers",
         "name": "Meghalaya",
         "showlegend": true,
         "type": "scattergeo"
        },
        {
         "geo": "geo",
         "hovertemplate": "<b>%{hovertext}</b><br><br>Region=Odisha<br>month=january<br>EstimatedUnemploymentRate=%{marker.size}<br>latitude=%{lat}<br>longitude=%{lon}<extra></extra>",
         "hovertext": [
          "Odisha"
         ],
         "lat": [
          85.0985
         ],
         "legendgroup": "Odisha",
         "lon": [
          20.9517
         ],
         "marker": {
          "color": "#FF6692",
          "size": [
           1.9
          ],
          "sizemode": "area",
          "sizeref": 0.189625,
          "symbol": "circle"
         },
         "mode": "markers",
         "name": "Odisha",
         "showlegend": true,
         "type": "scattergeo"
        },
        {
         "geo": "geo",
         "hovertemplate": "<b>%{hovertext}</b><br><br>Region=Puducherry<br>month=january<br>EstimatedUnemploymentRate=%{marker.size}<br>latitude=%{lat}<br>longitude=%{lon}<extra></extra>",
         "hovertext": [
          "Puducherry"
         ],
         "lat": [
          79.8083
         ],
         "legendgroup": "Puducherry",
         "lon": [
          11.9416
         ],
         "marker": {
          "color": "#B6E880",
          "size": [
           0.58
          ],
          "sizemode": "area",
          "sizeref": 0.189625,
          "symbol": "circle"
         },
         "mode": "markers",
         "name": "Puducherry",
         "showlegend": true,
         "type": "scattergeo"
        },
        {
         "geo": "geo",
         "hovertemplate": "<b>%{hovertext}</b><br><br>Region=Punjab<br>month=january<br>EstimatedUnemploymentRate=%{marker.size}<br>latitude=%{lat}<br>longitude=%{lon}<extra></extra>",
         "hovertext": [
          "Punjab"
         ],
         "lat": [
          75.3412
         ],
         "legendgroup": "Punjab",
         "lon": [
          31.1471
         ],
         "marker": {
          "color": "#FF97FF",
          "size": [
           11.11
          ],
          "sizemode": "area",
          "sizeref": 0.189625,
          "symbol": "circle"
         },
         "mode": "markers",
         "name": "Punjab",
         "showlegend": true,
         "type": "scattergeo"
        },
        {
         "geo": "geo",
         "hovertemplate": "<b>%{hovertext}</b><br><br>Region=Rajasthan<br>month=january<br>EstimatedUnemploymentRate=%{marker.size}<br>latitude=%{lat}<br>longitude=%{lon}<extra></extra>",
         "hovertext": [
          "Rajasthan"
         ],
         "lat": [
          74.2179
         ],
         "legendgroup": "Rajasthan",
         "lon": [
          27.0238
         ],
         "marker": {
          "color": "#FECB52",
          "size": [
           10.97
          ],
          "sizemode": "area",
          "sizeref": 0.189625,
          "symbol": "circle"
         },
         "mode": "markers",
         "name": "Rajasthan",
         "showlegend": true,
         "type": "scattergeo"
        },
        {
         "geo": "geo",
         "hovertemplate": "<b>%{hovertext}</b><br><br>Region=Tamil Nadu<br>month=january<br>EstimatedUnemploymentRate=%{marker.size}<br>latitude=%{lat}<br>longitude=%{lon}<extra></extra>",
         "hovertext": [
          "Tamil Nadu"
         ],
         "lat": [
          78.6569
         ],
         "legendgroup": "Tamil Nadu",
         "lon": [
          11.1271
         ],
         "marker": {
          "color": "#EF553B",
          "size": [
           1.57
          ],
          "sizemode": "area",
          "sizeref": 0.189625,
          "symbol": "circle"
         },
         "mode": "markers",
         "name": "Tamil Nadu",
         "showlegend": true,
         "type": "scattergeo"
        },
        {
         "geo": "geo",
         "hovertemplate": "<b>%{hovertext}</b><br><br>Region=Telangana<br>month=january<br>EstimatedUnemploymentRate=%{marker.size}<br>latitude=%{lat}<br>longitude=%{lon}<extra></extra>",
         "hovertext": [
          "Telangana"
         ],
         "lat": [
          79.0193
         ],
         "legendgroup": "Telangana",
         "lon": [
          18.1124
         ],
         "marker": {
          "color": "#00cc96",
          "size": [
           5.49
          ],
          "sizemode": "area",
          "sizeref": 0.189625,
          "symbol": "circle"
         },
         "mode": "markers",
         "name": "Telangana",
         "showlegend": true,
         "type": "scattergeo"
        },
        {
         "geo": "geo",
         "hovertemplate": "<b>%{hovertext}</b><br><br>Region=Tripura<br>month=january<br>EstimatedUnemploymentRate=%{marker.size}<br>latitude=%{lat}<br>longitude=%{lon}<extra></extra>",
         "hovertext": [
          "Tripura"
         ],
         "lat": [
          91.9882
         ],
         "legendgroup": "Tripura",
         "lon": [
          23.9408
         ],
         "marker": {
          "color": "#ab63fa",
          "size": [
           32.67
          ],
          "sizemode": "area",
          "sizeref": 0.189625,
          "symbol": "circle"
         },
         "mode": "markers",
         "name": "Tripura",
         "showlegend": true,
         "type": "scattergeo"
        },
        {
         "geo": "geo",
         "hovertemplate": "<b>%{hovertext}</b><br><br>Region=Uttar Pradesh<br>month=january<br>EstimatedUnemploymentRate=%{marker.size}<br>latitude=%{lat}<br>longitude=%{lon}<extra></extra>",
         "hovertext": [
          "Uttar Pradesh"
         ],
         "lat": [
          80.9462
         ],
         "legendgroup": "Uttar Pradesh",
         "lon": [
          26.8467
         ],
         "marker": {
          "color": "#FFA15A",
          "size": [
           7.58
          ],
          "sizemode": "area",
          "sizeref": 0.189625,
          "symbol": "circle"
         },
         "mode": "markers",
         "name": "Uttar Pradesh",
         "showlegend": true,
         "type": "scattergeo"
        },
        {
         "geo": "geo",
         "hovertemplate": "<b>%{hovertext}</b><br><br>Region=Uttarakhand<br>month=january<br>EstimatedUnemploymentRate=%{marker.size}<br>latitude=%{lat}<br>longitude=%{lon}<extra></extra>",
         "hovertext": [
          "Uttarakhand"
         ],
         "lat": [
          79.0193
         ],
         "legendgroup": "Uttarakhand",
         "lon": [
          30.0668
         ],
         "marker": {
          "color": "#19d3f3",
          "size": [
           5.49
          ],
          "sizemode": "area",
          "sizeref": 0.189625,
          "symbol": "circle"
         },
         "mode": "markers",
         "name": "Uttarakhand",
         "showlegend": true,
         "type": "scattergeo"
        },
        {
         "geo": "geo",
         "hovertemplate": "<b>%{hovertext}</b><br><br>Region=West Bengal<br>month=january<br>EstimatedUnemploymentRate=%{marker.size}<br>latitude=%{lat}<br>longitude=%{lon}<extra></extra>",
         "hovertext": [
          "West Bengal"
         ],
         "lat": [
          87.855
         ],
         "legendgroup": "West Bengal",
         "lon": [
          22.9868
         ],
         "marker": {
          "color": "#FF6692",
          "size": [
           6.94
          ],
          "sizemode": "area",
          "sizeref": 0.189625,
          "symbol": "circle"
         },
         "mode": "markers",
         "name": "West Bengal",
         "showlegend": true,
         "type": "scattergeo"
        }
       ],
       "frames": [
        {
         "data": [
          {
           "geo": "geo",
           "hovertemplate": "<b>%{hovertext}</b><br><br>Region=Andhra Pradesh<br>month=january<br>EstimatedUnemploymentRate=%{marker.size}<br>latitude=%{lat}<br>longitude=%{lon}<extra></extra>",
           "hovertext": [
            "Andhra Pradesh"
           ],
           "lat": [
            79.74
           ],
           "legendgroup": "Andhra Pradesh",
           "lon": [
            15.9129
           ],
           "marker": {
            "color": "#636efa",
            "size": [
             5.48
            ],
            "sizemode": "area",
            "sizeref": 0.189625,
            "symbol": "circle"
           },
           "mode": "markers",
           "name": "Andhra Pradesh",
           "showlegend": true,
           "type": "scattergeo"
          },
          {
           "geo": "geo",
           "hovertemplate": "<b>%{hovertext}</b><br><br>Region=Assam<br>month=january<br>EstimatedUnemploymentRate=%{marker.size}<br>latitude=%{lat}<br>longitude=%{lon}<extra></extra>",
           "hovertext": [
            "Assam"
           ],
           "lat": [
            92.9376
           ],
           "legendgroup": "Assam",
           "lon": [
            26.2006
           ],
           "marker": {
            "color": "#EF553B",
            "size": [
             4.66
            ],
            "sizemode": "area",
            "sizeref": 0.189625,
            "symbol": "circle"
           },
           "mode": "markers",
           "name": "Assam",
           "showlegend": true,
           "type": "scattergeo"
          },
          {
           "geo": "geo",
           "hovertemplate": "<b>%{hovertext}</b><br><br>Region=Bihar<br>month=january<br>EstimatedUnemploymentRate=%{marker.size}<br>latitude=%{lat}<br>longitude=%{lon}<extra></extra>",
           "hovertext": [
            "Bihar"
           ],
           "lat": [
            85.3131
           ],
           "legendgroup": "Bihar",
           "lon": [
            25.0961
           ],
           "marker": {
            "color": "#00cc96",
            "size": [
             10.61
            ],
            "sizemode": "area",
            "sizeref": 0.189625,
            "symbol": "circle"
           },
           "mode": "markers",
           "name": "Bihar",
           "showlegend": true,
           "type": "scattergeo"
          },
          {
           "geo": "geo",
           "hovertemplate": "<b>%{hovertext}</b><br><br>Region=Chhattisgarh<br>month=january<br>EstimatedUnemploymentRate=%{marker.size}<br>latitude=%{lat}<br>longitude=%{lon}<extra></extra>",
           "hovertext": [
            "Chhattisgarh"
           ],
           "lat": [
            81.8661
           ],
           "legendgroup": "Chhattisgarh",
           "lon": [
            21.2787
           ],
           "marker": {
            "color": "#ab63fa",
            "size": [
             9.65
            ],
            "sizemode": "area",
            "sizeref": 0.189625,
            "symbol": "circle"
           },
           "mode": "markers",
           "name": "Chhattisgarh",
           "showlegend": true,
           "type": "scattergeo"
          },
          {
           "geo": "geo",
           "hovertemplate": "<b>%{hovertext}</b><br><br>Region=Delhi<br>month=january<br>EstimatedUnemploymentRate=%{marker.size}<br>latitude=%{lat}<br>longitude=%{lon}<extra></extra>",
           "hovertext": [
            "Delhi"
           ],
           "lat": [
            77.1025
           ],
           "legendgroup": "Delhi",
           "lon": [
            28.7041
           ],
           "marker": {
            "color": "#FFA15A",
            "size": [
             22.23
            ],
            "sizemode": "area",
            "sizeref": 0.189625,
            "symbol": "circle"
           },
           "mode": "markers",
           "name": "Delhi",
           "showlegend": true,
           "type": "scattergeo"
          },
          {
           "geo": "geo",
           "hovertemplate": "<b>%{hovertext}</b><br><br>Region=Goa<br>month=january<br>EstimatedUnemploymentRate=%{marker.size}<br>latitude=%{lat}<br>longitude=%{lon}<extra></extra>",
           "hovertext": [
            "Goa"
           ],
           "lat": [
            74.124
           ],
           "legendgroup": "Goa",
           "lon": [
            15.2993
           ],
           "marker": {
            "color": "#19d3f3",
            "size": [
             8.89
            ],
            "sizemode": "area",
            "sizeref": 0.189625,
            "symbol": "circle"
           },
           "mode": "markers",
           "name": "Goa",
           "showlegend": true,
           "type": "scattergeo"
          },
          {
           "geo": "geo",
           "hovertemplate": "<b>%{hovertext}</b><br><br>Region=Gujarat<br>month=january<br>EstimatedUnemploymentRate=%{marker.size}<br>latitude=%{lat}<br>longitude=%{lon}<extra></extra>",
           "hovertext": [
            "Gujarat"
           ],
           "lat": [
            71.1924
           ],
           "legendgroup": "Gujarat",
           "lon": [
            22.2587
           ],
           "marker": {
            "color": "#FF6692",
            "size": [
             5.54
            ],
            "sizemode": "area",
            "sizeref": 0.189625,
            "symbol": "circle"
           },
           "mode": "markers",
           "name": "Gujarat",
           "showlegend": true,
           "type": "scattergeo"
          },
          {
           "geo": "geo",
           "hovertemplate": "<b>%{hovertext}</b><br><br>Region=Haryana<br>month=january<br>EstimatedUnemploymentRate=%{marker.size}<br>latitude=%{lat}<br>longitude=%{lon}<extra></extra>",
           "hovertext": [
            "Haryana"
           ],
           "lat": [
            76.0856
           ],
           "legendgroup": "Haryana",
           "lon": [
            29.0588
           ],
           "marker": {
            "color": "#B6E880",
            "size": [
             20.34
            ],
            "sizemode": "area",
            "sizeref": 0.189625,
            "symbol": "circle"
           },
           "mode": "markers",
           "name": "Haryana",
           "showlegend": true,
           "type": "scattergeo"
          },
          {
           "geo": "geo",
           "hovertemplate": "<b>%{hovertext}</b><br><br>Region=Himachal Pradesh<br>month=january<br>EstimatedUnemploymentRate=%{marker.size}<br>latitude=%{lat}<br>longitude=%{lon}<extra></extra>",
           "hovertext": [
            "Himachal Pradesh"
           ],
           "lat": [
            77.1734
           ],
           "legendgroup": "Himachal Pradesh",
           "lon": [
            31.1048
           ],
           "marker": {
            "color": "#FF97FF",
            "size": [
             16.83
            ],
            "sizemode": "area",
            "sizeref": 0.189625,
            "symbol": "circle"
           },
           "mode": "markers",
           "name": "Himachal Pradesh",
           "showlegend": true,
           "type": "scattergeo"
          },
          {
           "geo": "geo",
           "hovertemplate": "<b>%{hovertext}</b><br><br>Region=Jammu & Kashmir<br>month=january<br>EstimatedUnemploymentRate=%{marker.size}<br>latitude=%{lat}<br>longitude=%{lon}<extra></extra>",
           "hovertext": [
            "Jammu & Kashmir"
           ],
           "lat": [
            76.5762
           ],
           "legendgroup": "Jammu & Kashmir",
           "lon": [
            33.7782
           ],
           "marker": {
            "color": "#FECB52",
            "size": [
             21.08
            ],
            "sizemode": "area",
            "sizeref": 0.189625,
            "symbol": "circle"
           },
           "mode": "markers",
           "name": "Jammu & Kashmir",
           "showlegend": true,
           "type": "scattergeo"
          },
          {
           "geo": "geo",
           "hovertemplate": "<b>%{hovertext}</b><br><br>Region=Jharkhand<br>month=january<br>EstimatedUnemploymentRate=%{marker.size}<br>latitude=%{lat}<br>longitude=%{lon}<extra></extra>",
           "hovertext": [
            "Jharkhand"
           ],
           "lat": [
            85.2799
           ],
           "legendgroup": "Jharkhand",
           "lon": [
            23.6102
           ],
           "marker": {
            "color": "#636efa",
            "size": [
             10.61
            ],
            "sizemode": "area",
            "sizeref": 0.189625,
            "symbol": "circle"
           },
           "mode": "markers",
           "name": "Jharkhand",
           "showlegend": true,
           "type": "scattergeo"
          },
          {
           "geo": "geo",
           "hovertemplate": "<b>%{hovertext}</b><br><br>Region=Karnataka<br>month=january<br>EstimatedUnemploymentRate=%{marker.size}<br>latitude=%{lat}<br>longitude=%{lon}<extra></extra>",
           "hovertext": [
            "Karnataka"
           ],
           "lat": [
            75.7139
           ],
           "legendgroup": "Karnataka",
           "lon": [
            15.3173
           ],
           "marker": {
            "color": "#EF553B",
            "size": [
             2.86
            ],
            "sizemode": "area",
            "sizeref": 0.189625,
            "symbol": "circle"
           },
           "mode": "markers",
           "name": "Karnataka",
           "showlegend": true,
           "type": "scattergeo"
          },
          {
           "geo": "geo",
           "hovertemplate": "<b>%{hovertext}</b><br><br>Region=Kerala<br>month=january<br>EstimatedUnemploymentRate=%{marker.size}<br>latitude=%{lat}<br>longitude=%{lon}<extra></extra>",
           "hovertext": [
            "Kerala"
           ],
           "lat": [
            76.2711
           ],
           "legendgroup": "Kerala",
           "lon": [
            10.8505
           ],
           "marker": {
            "color": "#00cc96",
            "size": [
             5.31
            ],
            "sizemode": "area",
            "sizeref": 0.189625,
            "symbol": "circle"
           },
           "mode": "markers",
           "name": "Kerala",
           "showlegend": true,
           "type": "scattergeo"
          },
          {
           "geo": "geo",
           "hovertemplate": "<b>%{hovertext}</b><br><br>Region=Madhya Pradesh<br>month=january<br>EstimatedUnemploymentRate=%{marker.size}<br>latitude=%{lat}<br>longitude=%{lon}<extra></extra>",
           "hovertext": [
            "Madhya Pradesh"
           ],
           "lat": [
            78.6569
           ],
           "legendgroup": "Madhya Pradesh",
           "lon": [
            22.9734
           ],
           "marker": {
            "color": "#ab63fa",
            "size": [
             4.11
            ],
            "sizemode": "area",
            "sizeref": 0.189625,
            "symbol": "circle"
           },
           "mode": "markers",
           "name": "Madhya Pradesh",
           "showlegend": true,
           "type": "scattergeo"
          },
          {
           "geo": "geo",
           "hovertemplate": "<b>%{hovertext}</b><br><br>Region=Maharashtra<br>month=january<br>EstimatedUnemploymentRate=%{marker.size}<br>latitude=%{lat}<br>longitude=%{lon}<extra></extra>",
           "hovertext": [
            "Maharashtra"
           ],
           "lat": [
            75.7139
           ],
           "legendgroup": "Maharashtra",
           "lon": [
            19.7515
           ],
           "marker": {
            "color": "#FFA15A",
            "size": [
             4.95
            ],
            "sizemode": "area",
            "sizeref": 0.189625,
            "symbol": "circle"
           },
           "mode": "markers",
           "name": "Maharashtra",
           "showlegend": true,
           "type": "scattergeo"
          },
          {
           "geo": "geo",
           "hovertemplate": "<b>%{hovertext}</b><br><br>Region=Meghalaya<br>month=january<br>EstimatedUnemploymentRate=%{marker.size}<br>latitude=%{lat}<br>longitude=%{lon}<extra></extra>",
           "hovertext": [
            "Meghalaya"
           ],
           "lat": [
            91.3662
           ],
           "legendgroup": "Meghalaya",
           "lon": [
            25.467
           ],
           "marker": {
            "color": "#19d3f3",
            "size": [
             1.66
            ],
            "sizemode": "area",
            "sizeref": 0.189625,
            "symbol": "circle"
           },
           "mode": "markers",
           "name": "Meghalaya",
           "showlegend": true,
           "type": "scattergeo"
          },
          {
           "geo": "geo",
           "hovertemplate": "<b>%{hovertext}</b><br><br>Region=Odisha<br>month=january<br>EstimatedUnemploymentRate=%{marker.size}<br>latitude=%{lat}<br>longitude=%{lon}<extra></extra>",
           "hovertext": [
            "Odisha"
           ],
           "lat": [
            85.0985
           ],
           "legendgroup": "Odisha",
           "lon": [
            20.9517
           ],
           "marker": {
            "color": "#FF6692",
            "size": [
             1.9
            ],
            "sizemode": "area",
            "sizeref": 0.189625,
            "symbol": "circle"
           },
           "mode": "markers",
           "name": "Odisha",
           "showlegend": true,
           "type": "scattergeo"
          },
          {
           "geo": "geo",
           "hovertemplate": "<b>%{hovertext}</b><br><br>Region=Puducherry<br>month=january<br>EstimatedUnemploymentRate=%{marker.size}<br>latitude=%{lat}<br>longitude=%{lon}<extra></extra>",
           "hovertext": [
            "Puducherry"
           ],
           "lat": [
            79.8083
           ],
           "legendgroup": "Puducherry",
           "lon": [
            11.9416
           ],
           "marker": {
            "color": "#B6E880",
            "size": [
             0.58
            ],
            "sizemode": "area",
            "sizeref": 0.189625,
            "symbol": "circle"
           },
           "mode": "markers",
           "name": "Puducherry",
           "showlegend": true,
           "type": "scattergeo"
          },
          {
           "geo": "geo",
           "hovertemplate": "<b>%{hovertext}</b><br><br>Region=Punjab<br>month=january<br>EstimatedUnemploymentRate=%{marker.size}<br>latitude=%{lat}<br>longitude=%{lon}<extra></extra>",
           "hovertext": [
            "Punjab"
           ],
           "lat": [
            75.3412
           ],
           "legendgroup": "Punjab",
           "lon": [
            31.1471
           ],
           "marker": {
            "color": "#FF97FF",
            "size": [
             11.11
            ],
            "sizemode": "area",
            "sizeref": 0.189625,
            "symbol": "circle"
           },
           "mode": "markers",
           "name": "Punjab",
           "showlegend": true,
           "type": "scattergeo"
          },
          {
           "geo": "geo",
           "hovertemplate": "<b>%{hovertext}</b><br><br>Region=Rajasthan<br>month=january<br>EstimatedUnemploymentRate=%{marker.size}<br>latitude=%{lat}<br>longitude=%{lon}<extra></extra>",
           "hovertext": [
            "Rajasthan"
           ],
           "lat": [
            74.2179
           ],
           "legendgroup": "Rajasthan",
           "lon": [
            27.0238
           ],
           "marker": {
            "color": "#FECB52",
            "size": [
             10.97
            ],
            "sizemode": "area",
            "sizeref": 0.189625,
            "symbol": "circle"
           },
           "mode": "markers",
           "name": "Rajasthan",
           "showlegend": true,
           "type": "scattergeo"
          },
          {
           "geo": "geo",
           "hovertemplate": "<b>%{hovertext}</b><br><br>Region=Tamil Nadu<br>month=january<br>EstimatedUnemploymentRate=%{marker.size}<br>latitude=%{lat}<br>longitude=%{lon}<extra></extra>",
           "hovertext": [
            "Tamil Nadu"
           ],
           "lat": [
            78.6569
           ],
           "legendgroup": "Tamil Nadu",
           "lon": [
            11.1271
           ],
           "marker": {
            "color": "#EF553B",
            "size": [
             1.57
            ],
            "sizemode": "area",
            "sizeref": 0.189625,
            "symbol": "circle"
           },
           "mode": "markers",
           "name": "Tamil Nadu",
           "showlegend": true,
           "type": "scattergeo"
          },
          {
           "geo": "geo",
           "hovertemplate": "<b>%{hovertext}</b><br><br>Region=Telangana<br>month=january<br>EstimatedUnemploymentRate=%{marker.size}<br>latitude=%{lat}<br>longitude=%{lon}<extra></extra>",
           "hovertext": [
            "Telangana"
           ],
           "lat": [
            79.0193
           ],
           "legendgroup": "Telangana",
           "lon": [
            18.1124
           ],
           "marker": {
            "color": "#00cc96",
            "size": [
             5.49
            ],
            "sizemode": "area",
            "sizeref": 0.189625,
            "symbol": "circle"
           },
           "mode": "markers",
           "name": "Telangana",
           "showlegend": true,
           "type": "scattergeo"
          },
          {
           "geo": "geo",
           "hovertemplate": "<b>%{hovertext}</b><br><br>Region=Tripura<br>month=january<br>EstimatedUnemploymentRate=%{marker.size}<br>latitude=%{lat}<br>longitude=%{lon}<extra></extra>",
           "hovertext": [
            "Tripura"
           ],
           "lat": [
            91.9882
           ],
           "legendgroup": "Tripura",
           "lon": [
            23.9408
           ],
           "marker": {
            "color": "#ab63fa",
            "size": [
             32.67
            ],
            "sizemode": "area",
            "sizeref": 0.189625,
            "symbol": "circle"
           },
           "mode": "markers",
           "name": "Tripura",
           "showlegend": true,
           "type": "scattergeo"
          },
          {
           "geo": "geo",
           "hovertemplate": "<b>%{hovertext}</b><br><br>Region=Uttar Pradesh<br>month=january<br>EstimatedUnemploymentRate=%{marker.size}<br>latitude=%{lat}<br>longitude=%{lon}<extra></extra>",
           "hovertext": [
            "Uttar Pradesh"
           ],
           "lat": [
            80.9462
           ],
           "legendgroup": "Uttar Pradesh",
           "lon": [
            26.8467
           ],
           "marker": {
            "color": "#FFA15A",
            "size": [
             7.58
            ],
            "sizemode": "area",
            "sizeref": 0.189625,
            "symbol": "circle"
           },
           "mode": "markers",
           "name": "Uttar Pradesh",
           "showlegend": true,
           "type": "scattergeo"
          },
          {
           "geo": "geo",
           "hovertemplate": "<b>%{hovertext}</b><br><br>Region=Uttarakhand<br>month=january<br>EstimatedUnemploymentRate=%{marker.size}<br>latitude=%{lat}<br>longitude=%{lon}<extra></extra>",
           "hovertext": [
            "Uttarakhand"
           ],
           "lat": [
            79.0193
           ],
           "legendgroup": "Uttarakhand",
           "lon": [
            30.0668
           ],
           "marker": {
            "color": "#19d3f3",
            "size": [
             5.49
            ],
            "sizemode": "area",
            "sizeref": 0.189625,
            "symbol": "circle"
           },
           "mode": "markers",
           "name": "Uttarakhand",
           "showlegend": true,
           "type": "scattergeo"
          },
          {
           "geo": "geo",
           "hovertemplate": "<b>%{hovertext}</b><br><br>Region=West Bengal<br>month=january<br>EstimatedUnemploymentRate=%{marker.size}<br>latitude=%{lat}<br>longitude=%{lon}<extra></extra>",
           "hovertext": [
            "West Bengal"
           ],
           "lat": [
            87.855
           ],
           "legendgroup": "West Bengal",
           "lon": [
            22.9868
           ],
           "marker": {
            "color": "#FF6692",
            "size": [
             6.94
            ],
            "sizemode": "area",
            "sizeref": 0.189625,
            "symbol": "circle"
           },
           "mode": "markers",
           "name": "West Bengal",
           "showlegend": true,
           "type": "scattergeo"
          }
         ],
         "name": "january"
        },
        {
         "data": [
          {
           "geo": "geo",
           "hovertemplate": "<b>%{hovertext}</b><br><br>Region=Andhra Pradesh<br>month=february<br>EstimatedUnemploymentRate=%{marker.size}<br>latitude=%{lat}<br>longitude=%{lon}<extra></extra>",
           "hovertext": [
            "Andhra Pradesh"
           ],
           "lat": [
            79.74
           ],
           "legendgroup": "Andhra Pradesh",
           "lon": [
            15.9129
           ],
           "marker": {
            "color": "#636efa",
            "size": [
             5.83
            ],
            "sizemode": "area",
            "sizeref": 0.189625,
            "symbol": "circle"
           },
           "mode": "markers",
           "name": "Andhra Pradesh",
           "showlegend": true,
           "type": "scattergeo"
          },
          {
           "geo": "geo",
           "hovertemplate": "<b>%{hovertext}</b><br><br>Region=Assam<br>month=february<br>EstimatedUnemploymentRate=%{marker.size}<br>latitude=%{lat}<br>longitude=%{lon}<extra></extra>",
           "hovertext": [
            "Assam"
           ],
           "lat": [
            92.9376
           ],
           "legendgroup": "Assam",
           "lon": [
            26.2006
           ],
           "marker": {
            "color": "#EF553B",
            "size": [
             4.41
            ],
            "sizemode": "area",
            "sizeref": 0.189625,
            "symbol": "circle"
           },
           "mode": "markers",
           "name": "Assam",
           "showlegend": true,
           "type": "scattergeo"
          },
          {
           "geo": "geo",
           "hovertemplate": "<b>%{hovertext}</b><br><br>Region=Bihar<br>month=february<br>EstimatedUnemploymentRate=%{marker.size}<br>latitude=%{lat}<br>longitude=%{lon}<extra></extra>",
           "hovertext": [
            "Bihar"
           ],
           "lat": [
            85.3131
           ],
           "legendgroup": "Bihar",
           "lon": [
            25.0961
           ],
           "marker": {
            "color": "#00cc96",
            "size": [
             10.29
            ],
            "sizemode": "area",
            "sizeref": 0.189625,
            "symbol": "circle"
           },
           "mode": "markers",
           "name": "Bihar",
           "showlegend": true,
           "type": "scattergeo"
          },
          {
           "geo": "geo",
           "hovertemplate": "<b>%{hovertext}</b><br><br>Region=Chhattisgarh<br>month=february<br>EstimatedUnemploymentRate=%{marker.size}<br>latitude=%{lat}<br>longitude=%{lon}<extra></extra>",
           "hovertext": [
            "Chhattisgarh"
           ],
           "lat": [
            81.8661
           ],
           "legendgroup": "Chhattisgarh",
           "lon": [
            21.2787
           ],
           "marker": {
            "color": "#ab63fa",
            "size": [
             8.38
            ],
            "sizemode": "area",
            "sizeref": 0.189625,
            "symbol": "circle"
           },
           "mode": "markers",
           "name": "Chhattisgarh",
           "showlegend": true,
           "type": "scattergeo"
          },
          {
           "geo": "geo",
           "hovertemplate": "<b>%{hovertext}</b><br><br>Region=Delhi<br>month=february<br>EstimatedUnemploymentRate=%{marker.size}<br>latitude=%{lat}<br>longitude=%{lon}<extra></extra>",
           "hovertext": [
            "Delhi"
           ],
           "lat": [
            77.1025
           ],
           "legendgroup": "Delhi",
           "lon": [
            28.7041
           ],
           "marker": {
            "color": "#FFA15A",
            "size": [
             14.84
            ],
            "sizemode": "area",
            "sizeref": 0.189625,
            "symbol": "circle"
           },
           "mode": "markers",
           "name": "Delhi",
           "showlegend": true,
           "type": "scattergeo"
          },
          {
           "geo": "geo",
           "hovertemplate": "<b>%{hovertext}</b><br><br>Region=Goa<br>month=february<br>EstimatedUnemploymentRate=%{marker.size}<br>latitude=%{lat}<br>longitude=%{lon}<extra></extra>",
           "hovertext": [
            "Goa"
           ],
           "lat": [
            74.124
           ],
           "legendgroup": "Goa",
           "lon": [
            15.2993
           ],
           "marker": {
            "color": "#19d3f3",
            "size": [
             2.81
            ],
            "sizemode": "area",
            "sizeref": 0.189625,
            "symbol": "circle"
           },
           "mode": "markers",
           "name": "Goa",
           "showlegend": true,
           "type": "scattergeo"
          },
          {
           "geo": "geo",
           "hovertemplate": "<b>%{hovertext}</b><br><br>Region=Gujarat<br>month=february<br>EstimatedUnemploymentRate=%{marker.size}<br>latitude=%{lat}<br>longitude=%{lon}<extra></extra>",
           "hovertext": [
            "Gujarat"
           ],
           "lat": [
            71.1924
           ],
           "legendgroup": "Gujarat",
           "lon": [
            22.2587
           ],
           "marker": {
            "color": "#FF6692",
            "size": [
             6.38
            ],
            "sizemode": "area",
            "sizeref": 0.189625,
            "symbol": "circle"
           },
           "mode": "markers",
           "name": "Gujarat",
           "showlegend": true,
           "type": "scattergeo"
          },
          {
           "geo": "geo",
           "hovertemplate": "<b>%{hovertext}</b><br><br>Region=Haryana<br>month=february<br>EstimatedUnemploymentRate=%{marker.size}<br>latitude=%{lat}<br>longitude=%{lon}<extra></extra>",
           "hovertext": [
            "Haryana"
           ],
           "lat": [
            76.0856
           ],
           "legendgroup": "Haryana",
           "lon": [
            29.0588
           ],
           "marker": {
            "color": "#B6E880",
            "size": [
             25.77
            ],
            "sizemode": "area",
            "sizeref": 0.189625,
            "symbol": "circle"
           },
           "mode": "markers",
           "name": "Haryana",
           "showlegend": true,
           "type": "scattergeo"
          },
          {
           "geo": "geo",
           "hovertemplate": "<b>%{hovertext}</b><br><br>Region=Himachal Pradesh<br>month=february<br>EstimatedUnemploymentRate=%{marker.size}<br>latitude=%{lat}<br>longitude=%{lon}<extra></extra>",
           "hovertext": [
            "Himachal Pradesh"
           ],
           "lat": [
            77.1734
           ],
           "legendgroup": "Himachal Pradesh",
           "lon": [
            31.1048
           ],
           "marker": {
            "color": "#FF97FF",
            "size": [
             16.84
            ],
            "sizemode": "area",
            "sizeref": 0.189625,
            "symbol": "circle"
           },
           "mode": "markers",
           "name": "Himachal Pradesh",
           "showlegend": true,
           "type": "scattergeo"
          },
          {
           "geo": "geo",
           "hovertemplate": "<b>%{hovertext}</b><br><br>Region=Jammu & Kashmir<br>month=february<br>EstimatedUnemploymentRate=%{marker.size}<br>latitude=%{lat}<br>longitude=%{lon}<extra></extra>",
           "hovertext": [
            "Jammu & Kashmir"
           ],
           "lat": [
            76.5762
           ],
           "legendgroup": "Jammu & Kashmir",
           "lon": [
            33.7782
           ],
           "marker": {
            "color": "#FECB52",
            "size": [
             20.78
            ],
            "sizemode": "area",
            "sizeref": 0.189625,
            "symbol": "circle"
           },
           "mode": "markers",
           "name": "Jammu & Kashmir",
           "showlegend": true,
           "type": "scattergeo"
          },
          {
           "geo": "geo",
           "hovertemplate": "<b>%{hovertext}</b><br><br>Region=Jharkhand<br>month=february<br>EstimatedUnemploymentRate=%{marker.size}<br>latitude=%{lat}<br>longitude=%{lon}<extra></extra>",
           "hovertext": [
            "Jharkhand"
           ],
           "lat": [
            85.2799
           ],
           "legendgroup": "Jharkhand",
           "lon": [
            23.6102
           ],
           "marker": {
            "color": "#636efa",
            "size": [
             11.85
            ],
            "sizemode": "area",
            "sizeref": 0.189625,
            "symbol": "circle"
           },
           "mode": "markers",
           "name": "Jharkhand",
           "showlegend": true,
           "type": "scattergeo"
          },
          {
           "geo": "geo",
           "hovertemplate": "<b>%{hovertext}</b><br><br>Region=Karnataka<br>month=february<br>EstimatedUnemploymentRate=%{marker.size}<br>latitude=%{lat}<br>longitude=%{lon}<extra></extra>",
           "hovertext": [
            "Karnataka"
           ],
           "lat": [
            75.7139
           ],
           "legendgroup": "Karnataka",
           "lon": [
            15.3173
           ],
           "marker": {
            "color": "#EF553B",
            "size": [
             3.61
            ],
            "sizemode": "area",
            "sizeref": 0.189625,
            "symbol": "circle"
           },
           "mode": "markers",
           "name": "Karnataka",
           "showlegend": true,
           "type": "scattergeo"
          },
          {
           "geo": "geo",
           "hovertemplate": "<b>%{hovertext}</b><br><br>Region=Kerala<br>month=february<br>EstimatedUnemploymentRate=%{marker.size}<br>latitude=%{lat}<br>longitude=%{lon}<extra></extra>",
           "hovertext": [
            "Kerala"
           ],
           "lat": [
            76.2711
           ],
           "legendgroup": "Kerala",
           "lon": [
            10.8505
           ],
           "marker": {
            "color": "#00cc96",
            "size": [
             7.6
            ],
            "sizemode": "area",
            "sizeref": 0.189625,
            "symbol": "circle"
           },
           "mode": "markers",
           "name": "Kerala",
           "showlegend": true,
           "type": "scattergeo"
          },
          {
           "geo": "geo",
           "hovertemplate": "<b>%{hovertext}</b><br><br>Region=Madhya Pradesh<br>month=february<br>EstimatedUnemploymentRate=%{marker.size}<br>latitude=%{lat}<br>longitude=%{lon}<extra></extra>",
           "hovertext": [
            "Madhya Pradesh"
           ],
           "lat": [
            78.6569
           ],
           "legendgroup": "Madhya Pradesh",
           "lon": [
            22.9734
           ],
           "marker": {
            "color": "#ab63fa",
            "size": [
             4.57
            ],
            "sizemode": "area",
            "sizeref": 0.189625,
            "symbol": "circle"
           },
           "mode": "markers",
           "name": "Madhya Pradesh",
           "showlegend": true,
           "type": "scattergeo"
          },
          {
           "geo": "geo",
           "hovertemplate": "<b>%{hovertext}</b><br><br>Region=Maharashtra<br>month=february<br>EstimatedUnemploymentRate=%{marker.size}<br>latitude=%{lat}<br>longitude=%{lon}<extra></extra>",
           "hovertext": [
            "Maharashtra"
           ],
           "lat": [
            75.7139
           ],
           "legendgroup": "Maharashtra",
           "lon": [
            19.7515
           ],
           "marker": {
            "color": "#FFA15A",
            "size": [
             4.69
            ],
            "sizemode": "area",
            "sizeref": 0.189625,
            "symbol": "circle"
           },
           "mode": "markers",
           "name": "Maharashtra",
           "showlegend": true,
           "type": "scattergeo"
          },
          {
           "geo": "geo",
           "hovertemplate": "<b>%{hovertext}</b><br><br>Region=Meghalaya<br>month=february<br>EstimatedUnemploymentRate=%{marker.size}<br>latitude=%{lat}<br>longitude=%{lon}<extra></extra>",
           "hovertext": [
            "Meghalaya"
           ],
           "lat": [
            91.3662
           ],
           "legendgroup": "Meghalaya",
           "lon": [
            25.467
           ],
           "marker": {
            "color": "#19d3f3",
            "size": [
             3.59
            ],
            "sizemode": "area",
            "sizeref": 0.189625,
            "symbol": "circle"
           },
           "mode": "markers",
           "name": "Meghalaya",
           "showlegend": true,
           "type": "scattergeo"
          },
          {
           "geo": "geo",
           "hovertemplate": "<b>%{hovertext}</b><br><br>Region=Odisha<br>month=february<br>EstimatedUnemploymentRate=%{marker.size}<br>latitude=%{lat}<br>longitude=%{lon}<extra></extra>",
           "hovertext": [
            "Odisha"
           ],
           "lat": [
            85.0985
           ],
           "legendgroup": "Odisha",
           "lon": [
            20.9517
           ],
           "marker": {
            "color": "#FF6692",
            "size": [
             3.12
            ],
            "sizemode": "area",
            "sizeref": 0.189625,
            "symbol": "circle"
           },
           "mode": "markers",
           "name": "Odisha",
           "showlegend": true,
           "type": "scattergeo"
          },
          {
           "geo": "geo",
           "hovertemplate": "<b>%{hovertext}</b><br><br>Region=Puducherry<br>month=february<br>EstimatedUnemploymentRate=%{marker.size}<br>latitude=%{lat}<br>longitude=%{lon}<extra></extra>",
           "hovertext": [
            "Puducherry"
           ],
           "lat": [
            79.8083
           ],
           "legendgroup": "Puducherry",
           "lon": [
            11.9416
           ],
           "marker": {
            "color": "#B6E880",
            "size": [
             1.76
            ],
            "sizemode": "area",
            "sizeref": 0.189625,
            "symbol": "circle"
           },
           "mode": "markers",
           "name": "Puducherry",
           "showlegend": true,
           "type": "scattergeo"
          },
          {
           "geo": "geo",
           "hovertemplate": "<b>%{hovertext}</b><br><br>Region=Punjab<br>month=february<br>EstimatedUnemploymentRate=%{marker.size}<br>latitude=%{lat}<br>longitude=%{lon}<extra></extra>",
           "hovertext": [
            "Punjab"
           ],
           "lat": [
            75.3412
           ],
           "legendgroup": "Punjab",
           "lon": [
            31.1471
           ],
           "marker": {
            "color": "#FF97FF",
            "size": [
             10.97
            ],
            "sizemode": "area",
            "sizeref": 0.189625,
            "symbol": "circle"
           },
           "mode": "markers",
           "name": "Punjab",
           "showlegend": true,
           "type": "scattergeo"
          },
          {
           "geo": "geo",
           "hovertemplate": "<b>%{hovertext}</b><br><br>Region=Rajasthan<br>month=february<br>EstimatedUnemploymentRate=%{marker.size}<br>latitude=%{lat}<br>longitude=%{lon}<extra></extra>",
           "hovertext": [
            "Rajasthan"
           ],
           "lat": [
            74.2179
           ],
           "legendgroup": "Rajasthan",
           "lon": [
            27.0238
           ],
           "marker": {
            "color": "#FECB52",
            "size": [
             15.16
            ],
            "sizemode": "area",
            "sizeref": 0.189625,
            "symbol": "circle"
           },
           "mode": "markers",
           "name": "Rajasthan",
           "showlegend": true,
           "type": "scattergeo"
          },
          {
           "geo": "geo",
           "hovertemplate": "<b>%{hovertext}</b><br><br>Region=Tamil Nadu<br>month=february<br>EstimatedUnemploymentRate=%{marker.size}<br>latitude=%{lat}<br>longitude=%{lon}<extra></extra>",
           "hovertext": [
            "Tamil Nadu"
           ],
           "lat": [
            78.6569
           ],
           "legendgroup": "Tamil Nadu",
           "lon": [
            11.1271
           ],
           "marker": {
            "color": "#EF553B",
            "size": [
             2.09
            ],
            "sizemode": "area",
            "sizeref": 0.189625,
            "symbol": "circle"
           },
           "mode": "markers",
           "name": "Tamil Nadu",
           "showlegend": true,
           "type": "scattergeo"
          },
          {
           "geo": "geo",
           "hovertemplate": "<b>%{hovertext}</b><br><br>Region=Telangana<br>month=february<br>EstimatedUnemploymentRate=%{marker.size}<br>latitude=%{lat}<br>longitude=%{lon}<extra></extra>",
           "hovertext": [
            "Telangana"
           ],
           "lat": [
            79.0193
           ],
           "legendgroup": "Telangana",
           "lon": [
            18.1124
           ],
           "marker": {
            "color": "#00cc96",
            "size": [
             8.29
            ],
            "sizemode": "area",
            "sizeref": 0.189625,
            "symbol": "circle"
           },
           "mode": "markers",
           "name": "Telangana",
           "showlegend": true,
           "type": "scattergeo"
          },
          {
           "geo": "geo",
           "hovertemplate": "<b>%{hovertext}</b><br><br>Region=Tripura<br>month=february<br>EstimatedUnemploymentRate=%{marker.size}<br>latitude=%{lat}<br>longitude=%{lon}<extra></extra>",
           "hovertext": [
            "Tripura"
           ],
           "lat": [
            91.9882
           ],
           "legendgroup": "Tripura",
           "lon": [
            23.9408
           ],
           "marker": {
            "color": "#ab63fa",
            "size": [
             28.4
            ],
            "sizemode": "area",
            "sizeref": 0.189625,
            "symbol": "circle"
           },
           "mode": "markers",
           "name": "Tripura",
           "showlegend": true,
           "type": "scattergeo"
          },
          {
           "geo": "geo",
           "hovertemplate": "<b>%{hovertext}</b><br><br>Region=Uttar Pradesh<br>month=february<br>EstimatedUnemploymentRate=%{marker.size}<br>latitude=%{lat}<br>longitude=%{lon}<extra></extra>",
           "hovertext": [
            "Uttar Pradesh"
           ],
           "lat": [
            80.9462
           ],
           "legendgroup": "Uttar Pradesh",
           "lon": [
            26.8467
           ],
           "marker": {
            "color": "#FFA15A",
            "size": [
             8.98
            ],
            "sizemode": "area",
            "sizeref": 0.189625,
            "symbol": "circle"
           },
           "mode": "markers",
           "name": "Uttar Pradesh",
           "showlegend": true,
           "type": "scattergeo"
          },
          {
           "geo": "geo",
           "hovertemplate": "<b>%{hovertext}</b><br><br>Region=Uttarakhand<br>month=february<br>EstimatedUnemploymentRate=%{marker.size}<br>latitude=%{lat}<br>longitude=%{lon}<extra></extra>",
           "hovertext": [
            "Uttarakhand"
           ],
           "lat": [
            79.0193
           ],
           "legendgroup": "Uttarakhand",
           "lon": [
            30.0668
           ],
           "marker": {
            "color": "#19d3f3",
            "size": [
             4.99
            ],
            "sizemode": "area",
            "sizeref": 0.189625,
            "symbol": "circle"
           },
           "mode": "markers",
           "name": "Uttarakhand",
           "showlegend": true,
           "type": "scattergeo"
          },
          {
           "geo": "geo",
           "hovertemplate": "<b>%{hovertext}</b><br><br>Region=West Bengal<br>month=february<br>EstimatedUnemploymentRate=%{marker.size}<br>latitude=%{lat}<br>longitude=%{lon}<extra></extra>",
           "hovertext": [
            "West Bengal"
           ],
           "lat": [
            87.855
           ],
           "legendgroup": "West Bengal",
           "lon": [
            22.9868
           ],
           "marker": {
            "color": "#FF6692",
            "size": [
             4.92
            ],
            "sizemode": "area",
            "sizeref": 0.189625,
            "symbol": "circle"
           },
           "mode": "markers",
           "name": "West Bengal",
           "showlegend": true,
           "type": "scattergeo"
          }
         ],
         "name": "february"
        },
        {
         "data": [
          {
           "geo": "geo",
           "hovertemplate": "<b>%{hovertext}</b><br><br>Region=Andhra Pradesh<br>month=march<br>EstimatedUnemploymentRate=%{marker.size}<br>latitude=%{lat}<br>longitude=%{lon}<extra></extra>",
           "hovertext": [
            "Andhra Pradesh"
           ],
           "lat": [
            79.74
           ],
           "legendgroup": "Andhra Pradesh",
           "lon": [
            15.9129
           ],
           "marker": {
            "color": "#636efa",
            "size": [
             5.79
            ],
            "sizemode": "area",
            "sizeref": 0.189625,
            "symbol": "circle"
           },
           "mode": "markers",
           "name": "Andhra Pradesh",
           "showlegend": true,
           "type": "scattergeo"
          },
          {
           "geo": "geo",
           "hovertemplate": "<b>%{hovertext}</b><br><br>Region=Assam<br>month=march<br>EstimatedUnemploymentRate=%{marker.size}<br>latitude=%{lat}<br>longitude=%{lon}<extra></extra>",
           "hovertext": [
            "Assam"
           ],
           "lat": [
            92.9376
           ],
           "legendgroup": "Assam",
           "lon": [
            26.2006
           ],
           "marker": {
            "color": "#EF553B",
            "size": [
             4.77
            ],
            "sizemode": "area",
            "sizeref": 0.189625,
            "symbol": "circle"
           },
           "mode": "markers",
           "name": "Assam",
           "showlegend": true,
           "type": "scattergeo"
          },
          {
           "geo": "geo",
           "hovertemplate": "<b>%{hovertext}</b><br><br>Region=Bihar<br>month=march<br>EstimatedUnemploymentRate=%{marker.size}<br>latitude=%{lat}<br>longitude=%{lon}<extra></extra>",
           "hovertext": [
            "Bihar"
           ],
           "lat": [
            85.3131
           ],
           "legendgroup": "Bihar",
           "lon": [
            25.0961
           ],
           "marker": {
            "color": "#00cc96",
            "size": [
             15.43
            ],
            "sizemode": "area",
            "sizeref": 0.189625,
            "symbol": "circle"
           },
           "mode": "markers",
           "name": "Bihar",
           "showlegend": true,
           "type": "scattergeo"
          },
          {
           "geo": "geo",
           "hovertemplate": "<b>%{hovertext}</b><br><br>Region=Chhattisgarh<br>month=march<br>EstimatedUnemploymentRate=%{marker.size}<br>latitude=%{lat}<br>longitude=%{lon}<extra></extra>",
           "hovertext": [
            "Chhattisgarh"
           ],
           "lat": [
            81.8661
           ],
           "legendgroup": "Chhattisgarh",
           "lon": [
            21.2787
           ],
           "marker": {
            "color": "#ab63fa",
            "size": [
             7.54
            ],
            "sizemode": "area",
            "sizeref": 0.189625,
            "symbol": "circle"
           },
           "mode": "markers",
           "name": "Chhattisgarh",
           "showlegend": true,
           "type": "scattergeo"
          },
          {
           "geo": "geo",
           "hovertemplate": "<b>%{hovertext}</b><br><br>Region=Delhi<br>month=march<br>EstimatedUnemploymentRate=%{marker.size}<br>latitude=%{lat}<br>longitude=%{lon}<extra></extra>",
           "hovertext": [
            "Delhi"
           ],
           "lat": [
            77.1025
           ],
           "legendgroup": "Delhi",
           "lon": [
            28.7041
           ],
           "marker": {
            "color": "#FFA15A",
            "size": [
             17.04
            ],
            "sizemode": "area",
            "sizeref": 0.189625,
            "symbol": "circle"
           },
           "mode": "markers",
           "name": "Delhi",
           "showlegend": true,
           "type": "scattergeo"
          },
          {
           "geo": "geo",
           "hovertemplate": "<b>%{hovertext}</b><br><br>Region=Goa<br>month=march<br>EstimatedUnemploymentRate=%{marker.size}<br>latitude=%{lat}<br>longitude=%{lon}<extra></extra>",
           "hovertext": [
            "Goa"
           ],
           "lat": [
            74.124
           ],
           "legendgroup": "Goa",
           "lon": [
            15.2993
           ],
           "marker": {
            "color": "#19d3f3",
            "size": [
             5.25
            ],
            "sizemode": "area",
            "sizeref": 0.189625,
            "symbol": "circle"
           },
           "mode": "markers",
           "name": "Goa",
           "showlegend": true,
           "type": "scattergeo"
          },
          {
           "geo": "geo",
           "hovertemplate": "<b>%{hovertext}</b><br><br>Region=Gujarat<br>month=march<br>EstimatedUnemploymentRate=%{marker.size}<br>latitude=%{lat}<br>longitude=%{lon}<extra></extra>",
           "hovertext": [
            "Gujarat"
           ],
           "lat": [
            71.1924
           ],
           "legendgroup": "Gujarat",
           "lon": [
            22.2587
           ],
           "marker": {
            "color": "#FF6692",
            "size": [
             6.66
            ],
            "sizemode": "area",
            "sizeref": 0.189625,
            "symbol": "circle"
           },
           "mode": "markers",
           "name": "Gujarat",
           "showlegend": true,
           "type": "scattergeo"
          },
          {
           "geo": "geo",
           "hovertemplate": "<b>%{hovertext}</b><br><br>Region=Haryana<br>month=march<br>EstimatedUnemploymentRate=%{marker.size}<br>latitude=%{lat}<br>longitude=%{lon}<extra></extra>",
           "hovertext": [
            "Haryana"
           ],
           "lat": [
            76.0856
           ],
           "legendgroup": "Haryana",
           "lon": [
            29.0588
           ],
           "marker": {
            "color": "#B6E880",
            "size": [
             25.05
            ],
            "sizemode": "area",
            "sizeref": 0.189625,
            "symbol": "circle"
           },
           "mode": "markers",
           "name": "Haryana",
           "showlegend": true,
           "type": "scattergeo"
          },
          {
           "geo": "geo",
           "hovertemplate": "<b>%{hovertext}</b><br><br>Region=Himachal Pradesh<br>month=march<br>EstimatedUnemploymentRate=%{marker.size}<br>latitude=%{lat}<br>longitude=%{lon}<extra></extra>",
           "hovertext": [
            "Himachal Pradesh"
           ],
           "lat": [
            77.1734
           ],
           "legendgroup": "Himachal Pradesh",
           "lon": [
            31.1048
           ],
           "marker": {
            "color": "#FF97FF",
            "size": [
             18.76
            ],
            "sizemode": "area",
            "sizeref": 0.189625,
            "symbol": "circle"
           },
           "mode": "markers",
           "name": "Himachal Pradesh",
           "showlegend": true,
           "type": "scattergeo"
          },
          {
           "geo": "geo",
           "hovertemplate": "<b>%{hovertext}</b><br><br>Region=Jammu & Kashmir<br>month=march<br>EstimatedUnemploymentRate=%{marker.size}<br>latitude=%{lat}<br>longitude=%{lon}<extra></extra>",
           "hovertext": [
            "Jammu & Kashmir"
           ],
           "lat": [
            76.5762
           ],
           "legendgroup": "Jammu & Kashmir",
           "lon": [
            33.7782
           ],
           "marker": {
            "color": "#FECB52",
            "size": [
             15.5
            ],
            "sizemode": "area",
            "sizeref": 0.189625,
            "symbol": "circle"
           },
           "mode": "markers",
           "name": "Jammu & Kashmir",
           "showlegend": true,
           "type": "scattergeo"
          },
          {
           "geo": "geo",
           "hovertemplate": "<b>%{hovertext}</b><br><br>Region=Jharkhand<br>month=march<br>EstimatedUnemploymentRate=%{marker.size}<br>latitude=%{lat}<br>longitude=%{lon}<extra></extra>",
           "hovertext": [
            "Jharkhand"
           ],
           "lat": [
            85.2799
           ],
           "legendgroup": "Jharkhand",
           "lon": [
            23.6102
           ],
           "marker": {
            "color": "#636efa",
            "size": [
             8.23
            ],
            "sizemode": "area",
            "sizeref": 0.189625,
            "symbol": "circle"
           },
           "mode": "markers",
           "name": "Jharkhand",
           "showlegend": true,
           "type": "scattergeo"
          },
          {
           "geo": "geo",
           "hovertemplate": "<b>%{hovertext}</b><br><br>Region=Karnataka<br>month=march<br>EstimatedUnemploymentRate=%{marker.size}<br>latitude=%{lat}<br>longitude=%{lon}<extra></extra>",
           "hovertext": [
            "Karnataka"
           ],
           "lat": [
            75.7139
           ],
           "legendgroup": "Karnataka",
           "lon": [
            15.3173
           ],
           "marker": {
            "color": "#EF553B",
            "size": [
             3.46
            ],
            "sizemode": "area",
            "sizeref": 0.189625,
            "symbol": "circle"
           },
           "mode": "markers",
           "name": "Karnataka",
           "showlegend": true,
           "type": "scattergeo"
          },
          {
           "geo": "geo",
           "hovertemplate": "<b>%{hovertext}</b><br><br>Region=Kerala<br>month=march<br>EstimatedUnemploymentRate=%{marker.size}<br>latitude=%{lat}<br>longitude=%{lon}<extra></extra>",
           "hovertext": [
            "Kerala"
           ],
           "lat": [
            76.2711
           ],
           "legendgroup": "Kerala",
           "lon": [
            10.8505
           ],
           "marker": {
            "color": "#00cc96",
            "size": [
             8.99
            ],
            "sizemode": "area",
            "sizeref": 0.189625,
            "symbol": "circle"
           },
           "mode": "markers",
           "name": "Kerala",
           "showlegend": true,
           "type": "scattergeo"
          },
          {
           "geo": "geo",
           "hovertemplate": "<b>%{hovertext}</b><br><br>Region=Madhya Pradesh<br>month=march<br>EstimatedUnemploymentRate=%{marker.size}<br>latitude=%{lat}<br>longitude=%{lon}<extra></extra>",
           "hovertext": [
            "Madhya Pradesh"
           ],
           "lat": [
            78.6569
           ],
           "legendgroup": "Madhya Pradesh",
           "lon": [
            22.9734
           ],
           "marker": {
            "color": "#ab63fa",
            "size": [
             2.22
            ],
            "sizemode": "area",
            "sizeref": 0.189625,
            "symbol": "circle"
           },
           "mode": "markers",
           "name": "Madhya Pradesh",
           "showlegend": true,
           "type": "scattergeo"
          },
          {
           "geo": "geo",
           "hovertemplate": "<b>%{hovertext}</b><br><br>Region=Maharashtra<br>month=march<br>EstimatedUnemploymentRate=%{marker.size}<br>latitude=%{lat}<br>longitude=%{lon}<extra></extra>",
           "hovertext": [
            "Maharashtra"
           ],
           "lat": [
            75.7139
           ],
           "legendgroup": "Maharashtra",
           "lon": [
            19.7515
           ],
           "marker": {
            "color": "#FFA15A",
            "size": [
             5.79
            ],
            "sizemode": "area",
            "sizeref": 0.189625,
            "symbol": "circle"
           },
           "mode": "markers",
           "name": "Maharashtra",
           "showlegend": true,
           "type": "scattergeo"
          },
          {
           "geo": "geo",
           "hovertemplate": "<b>%{hovertext}</b><br><br>Region=Meghalaya<br>month=march<br>EstimatedUnemploymentRate=%{marker.size}<br>latitude=%{lat}<br>longitude=%{lon}<extra></extra>",
           "hovertext": [
            "Meghalaya"
           ],
           "lat": [
            91.3662
           ],
           "legendgroup": "Meghalaya",
           "lon": [
            25.467
           ],
           "marker": {
            "color": "#19d3f3",
            "size": [
             1.58
            ],
            "sizemode": "area",
            "sizeref": 0.189625,
            "symbol": "circle"
           },
           "mode": "markers",
           "name": "Meghalaya",
           "showlegend": true,
           "type": "scattergeo"
          },
          {
           "geo": "geo",
           "hovertemplate": "<b>%{hovertext}</b><br><br>Region=Odisha<br>month=march<br>EstimatedUnemploymentRate=%{marker.size}<br>latitude=%{lat}<br>longitude=%{lon}<extra></extra>",
           "hovertext": [
            "Odisha"
           ],
           "lat": [
            85.0985
           ],
           "legendgroup": "Odisha",
           "lon": [
            20.9517
           ],
           "marker": {
            "color": "#FF6692",
            "size": [
             13.08
            ],
            "sizemode": "area",
            "sizeref": 0.189625,
            "symbol": "circle"
           },
           "mode": "markers",
           "name": "Odisha",
           "showlegend": true,
           "type": "scattergeo"
          },
          {
           "geo": "geo",
           "hovertemplate": "<b>%{hovertext}</b><br><br>Region=Puducherry<br>month=march<br>EstimatedUnemploymentRate=%{marker.size}<br>latitude=%{lat}<br>longitude=%{lon}<extra></extra>",
           "hovertext": [
            "Puducherry"
           ],
           "lat": [
            79.8083
           ],
           "legendgroup": "Puducherry",
           "lon": [
            11.9416
           ],
           "marker": {
            "color": "#B6E880",
            "size": [
             1.2
            ],
            "sizemode": "area",
            "sizeref": 0.189625,
            "symbol": "circle"
           },
           "mode": "markers",
           "name": "Puducherry",
           "showlegend": true,
           "type": "scattergeo"
          },
          {
           "geo": "geo",
           "hovertemplate": "<b>%{hovertext}</b><br><br>Region=Punjab<br>month=march<br>EstimatedUnemploymentRate=%{marker.size}<br>latitude=%{lat}<br>longitude=%{lon}<extra></extra>",
           "hovertext": [
            "Punjab"
           ],
           "lat": [
            75.3412
           ],
           "legendgroup": "Punjab",
           "lon": [
            31.1471
           ],
           "marker": {
            "color": "#FF97FF",
            "size": [
             10.32
            ],
            "sizemode": "area",
            "sizeref": 0.189625,
            "symbol": "circle"
           },
           "mode": "markers",
           "name": "Punjab",
           "showlegend": true,
           "type": "scattergeo"
          },
          {
           "geo": "geo",
           "hovertemplate": "<b>%{hovertext}</b><br><br>Region=Rajasthan<br>month=march<br>EstimatedUnemploymentRate=%{marker.size}<br>latitude=%{lat}<br>longitude=%{lon}<extra></extra>",
           "hovertext": [
            "Rajasthan"
           ],
           "lat": [
            74.2179
           ],
           "legendgroup": "Rajasthan",
           "lon": [
            27.0238
           ],
           "marker": {
            "color": "#FECB52",
            "size": [
             11.9
            ],
            "sizemode": "area",
            "sizeref": 0.189625,
            "symbol": "circle"
           },
           "mode": "markers",
           "name": "Rajasthan",
           "showlegend": true,
           "type": "scattergeo"
          },
          {
           "geo": "geo",
           "hovertemplate": "<b>%{hovertext}</b><br><br>Region=Sikkim<br>month=march<br>EstimatedUnemploymentRate=%{marker.size}<br>latitude=%{lat}<br>longitude=%{lon}<extra></extra>",
           "hovertext": [
            "Sikkim"
           ],
           "lat": [
            88.5122
           ],
           "legendgroup": "Sikkim",
           "lon": [
            27.533
           ],
           "marker": {
            "color": "#636efa",
            "size": [
             23.57
            ],
            "sizemode": "area",
            "sizeref": 0.189625,
            "symbol": "circle"
           },
           "mode": "markers",
           "name": "Sikkim",
           "showlegend": true,
           "type": "scattergeo"
          },
          {
           "geo": "geo",
           "hovertemplate": "<b>%{hovertext}</b><br><br>Region=Tamil Nadu<br>month=march<br>EstimatedUnemploymentRate=%{marker.size}<br>latitude=%{lat}<br>longitude=%{lon}<extra></extra>",
           "hovertext": [
            "Tamil Nadu"
           ],
           "lat": [
            78.6569
           ],
           "legendgroup": "Tamil Nadu",
           "lon": [
            11.1271
           ],
           "marker": {
            "color": "#EF553B",
            "size": [
             6.4
            ],
            "sizemode": "area",
            "sizeref": 0.189625,
            "symbol": "circle"
           },
           "mode": "markers",
           "name": "Tamil Nadu",
           "showlegend": true,
           "type": "scattergeo"
          },
          {
           "geo": "geo",
           "hovertemplate": "<b>%{hovertext}</b><br><br>Region=Telangana<br>month=march<br>EstimatedUnemploymentRate=%{marker.size}<br>latitude=%{lat}<br>longitude=%{lon}<extra></extra>",
           "hovertext": [
            "Telangana"
           ],
           "lat": [
            79.0193
           ],
           "legendgroup": "Telangana",
           "lon": [
            18.1124
           ],
           "marker": {
            "color": "#00cc96",
            "size": [
             5.77
            ],
            "sizemode": "area",
            "sizeref": 0.189625,
            "symbol": "circle"
           },
           "mode": "markers",
           "name": "Telangana",
           "showlegend": true,
           "type": "scattergeo"
          },
          {
           "geo": "geo",
           "hovertemplate": "<b>%{hovertext}</b><br><br>Region=Tripura<br>month=march<br>EstimatedUnemploymentRate=%{marker.size}<br>latitude=%{lat}<br>longitude=%{lon}<extra></extra>",
           "hovertext": [
            "Tripura"
           ],
           "lat": [
            91.9882
           ],
           "legendgroup": "Tripura",
           "lon": [
            23.9408
           ],
           "marker": {
            "color": "#ab63fa",
            "size": [
             29.95
            ],
            "sizemode": "area",
            "sizeref": 0.189625,
            "symbol": "circle"
           },
           "mode": "markers",
           "name": "Tripura",
           "showlegend": true,
           "type": "scattergeo"
          },
          {
           "geo": "geo",
           "hovertemplate": "<b>%{hovertext}</b><br><br>Region=Uttar Pradesh<br>month=march<br>EstimatedUnemploymentRate=%{marker.size}<br>latitude=%{lat}<br>longitude=%{lon}<extra></extra>",
           "hovertext": [
            "Uttar Pradesh"
           ],
           "lat": [
            80.9462
           ],
           "legendgroup": "Uttar Pradesh",
           "lon": [
            26.8467
           ],
           "marker": {
            "color": "#FFA15A",
            "size": [
             10.11
            ],
            "sizemode": "area",
            "sizeref": 0.189625,
            "symbol": "circle"
           },
           "mode": "markers",
           "name": "Uttar Pradesh",
           "showlegend": true,
           "type": "scattergeo"
          },
          {
           "geo": "geo",
           "hovertemplate": "<b>%{hovertext}</b><br><br>Region=Uttarakhand<br>month=march<br>EstimatedUnemploymentRate=%{marker.size}<br>latitude=%{lat}<br>longitude=%{lon}<extra></extra>",
           "hovertext": [
            "Uttarakhand"
           ],
           "lat": [
            79.0193
           ],
           "legendgroup": "Uttarakhand",
           "lon": [
            30.0668
           ],
           "marker": {
            "color": "#19d3f3",
            "size": [
             19.85
            ],
            "sizemode": "area",
            "sizeref": 0.189625,
            "symbol": "circle"
           },
           "mode": "markers",
           "name": "Uttarakhand",
           "showlegend": true,
           "type": "scattergeo"
          },
          {
           "geo": "geo",
           "hovertemplate": "<b>%{hovertext}</b><br><br>Region=West Bengal<br>month=march<br>EstimatedUnemploymentRate=%{marker.size}<br>latitude=%{lat}<br>longitude=%{lon}<extra></extra>",
           "hovertext": [
            "West Bengal"
           ],
           "lat": [
            87.855
           ],
           "legendgroup": "West Bengal",
           "lon": [
            22.9868
           ],
           "marker": {
            "color": "#FF6692",
            "size": [
             6.92
            ],
            "sizemode": "area",
            "sizeref": 0.189625,
            "symbol": "circle"
           },
           "mode": "markers",
           "name": "West Bengal",
           "showlegend": true,
           "type": "scattergeo"
          }
         ],
         "name": "march"
        },
        {
         "data": [
          {
           "geo": "geo",
           "hovertemplate": "<b>%{hovertext}</b><br><br>Region=Andhra Pradesh<br>month=april<br>EstimatedUnemploymentRate=%{marker.size}<br>latitude=%{lat}<br>longitude=%{lon}<extra></extra>",
           "hovertext": [
            "Andhra Pradesh"
           ],
           "lat": [
            79.74
           ],
           "legendgroup": "Andhra Pradesh",
           "lon": [
            15.9129
           ],
           "marker": {
            "color": "#636efa",
            "size": [
             20.51
            ],
            "sizemode": "area",
            "sizeref": 0.189625,
            "symbol": "circle"
           },
           "mode": "markers",
           "name": "Andhra Pradesh",
           "showlegend": true,
           "type": "scattergeo"
          },
          {
           "geo": "geo",
           "hovertemplate": "<b>%{hovertext}</b><br><br>Region=Assam<br>month=april<br>EstimatedUnemploymentRate=%{marker.size}<br>latitude=%{lat}<br>longitude=%{lon}<extra></extra>",
           "hovertext": [
            "Assam"
           ],
           "lat": [
            92.9376
           ],
           "legendgroup": "Assam",
           "lon": [
            26.2006
           ],
           "marker": {
            "color": "#EF553B",
            "size": [
             11.06
            ],
            "sizemode": "area",
            "sizeref": 0.189625,
            "symbol": "circle"
           },
           "mode": "markers",
           "name": "Assam",
           "showlegend": true,
           "type": "scattergeo"
          },
          {
           "geo": "geo",
           "hovertemplate": "<b>%{hovertext}</b><br><br>Region=Bihar<br>month=april<br>EstimatedUnemploymentRate=%{marker.size}<br>latitude=%{lat}<br>longitude=%{lon}<extra></extra>",
           "hovertext": [
            "Bihar"
           ],
           "lat": [
            85.3131
           ],
           "legendgroup": "Bihar",
           "lon": [
            25.0961
           ],
           "marker": {
            "color": "#00cc96",
            "size": [
             46.64
            ],
            "sizemode": "area",
            "sizeref": 0.189625,
            "symbol": "circle"
           },
           "mode": "markers",
           "name": "Bihar",
           "showlegend": true,
           "type": "scattergeo"
          },
          {
           "geo": "geo",
           "hovertemplate": "<b>%{hovertext}</b><br><br>Region=Chhattisgarh<br>month=april<br>EstimatedUnemploymentRate=%{marker.size}<br>latitude=%{lat}<br>longitude=%{lon}<extra></extra>",
           "hovertext": [
            "Chhattisgarh"
           ],
           "lat": [
            81.8661
           ],
           "legendgroup": "Chhattisgarh",
           "lon": [
            21.2787
           ],
           "marker": {
            "color": "#ab63fa",
            "size": [
             3.41
            ],
            "sizemode": "area",
            "sizeref": 0.189625,
            "symbol": "circle"
           },
           "mode": "markers",
           "name": "Chhattisgarh",
           "showlegend": true,
           "type": "scattergeo"
          },
          {
           "geo": "geo",
           "hovertemplate": "<b>%{hovertext}</b><br><br>Region=Delhi<br>month=april<br>EstimatedUnemploymentRate=%{marker.size}<br>latitude=%{lat}<br>longitude=%{lon}<extra></extra>",
           "hovertext": [
            "Delhi"
           ],
           "lat": [
            77.1025
           ],
           "legendgroup": "Delhi",
           "lon": [
            28.7041
           ],
           "marker": {
            "color": "#FFA15A",
            "size": [
             16.68
            ],
            "sizemode": "area",
            "sizeref": 0.189625,
            "symbol": "circle"
           },
           "mode": "markers",
           "name": "Delhi",
           "showlegend": true,
           "type": "scattergeo"
          },
          {
           "geo": "geo",
           "hovertemplate": "<b>%{hovertext}</b><br><br>Region=Goa<br>month=april<br>EstimatedUnemploymentRate=%{marker.size}<br>latitude=%{lat}<br>longitude=%{lon}<extra></extra>",
           "hovertext": [
            "Goa"
           ],
           "lat": [
            74.124
           ],
           "legendgroup": "Goa",
           "lon": [
            15.2993
           ],
           "marker": {
            "color": "#19d3f3",
            "size": [
             13.31
            ],
            "sizemode": "area",
            "sizeref": 0.189625,
            "symbol": "circle"
           },
           "mode": "markers",
           "name": "Goa",
           "showlegend": true,
           "type": "scattergeo"
          },
          {
           "geo": "geo",
           "hovertemplate": "<b>%{hovertext}</b><br><br>Region=Gujarat<br>month=april<br>EstimatedUnemploymentRate=%{marker.size}<br>latitude=%{lat}<br>longitude=%{lon}<extra></extra>",
           "hovertext": [
            "Gujarat"
           ],
           "lat": [
            71.1924
           ],
           "legendgroup": "Gujarat",
           "lon": [
            22.2587
           ],
           "marker": {
            "color": "#FF6692",
            "size": [
             18.71
            ],
            "sizemode": "area",
            "sizeref": 0.189625,
            "symbol": "circle"
           },
           "mode": "markers",
           "name": "Gujarat",
           "showlegend": true,
           "type": "scattergeo"
          },
          {
           "geo": "geo",
           "hovertemplate": "<b>%{hovertext}</b><br><br>Region=Haryana<br>month=april<br>EstimatedUnemploymentRate=%{marker.size}<br>latitude=%{lat}<br>longitude=%{lon}<extra></extra>",
           "hovertext": [
            "Haryana"
           ],
           "lat": [
            76.0856
           ],
           "legendgroup": "Haryana",
           "lon": [
            29.0588
           ],
           "marker": {
            "color": "#B6E880",
            "size": [
             43.22
            ],
            "sizemode": "area",
            "sizeref": 0.189625,
            "symbol": "circle"
           },
           "mode": "markers",
           "name": "Haryana",
           "showlegend": true,
           "type": "scattergeo"
          },
          {
           "geo": "geo",
           "hovertemplate": "<b>%{hovertext}</b><br><br>Region=Himachal Pradesh<br>month=april<br>EstimatedUnemploymentRate=%{marker.size}<br>latitude=%{lat}<br>longitude=%{lon}<extra></extra>",
           "hovertext": [
            "Himachal Pradesh"
           ],
           "lat": [
            77.1734
           ],
           "legendgroup": "Himachal Pradesh",
           "lon": [
            31.1048
           ],
           "marker": {
            "color": "#FF97FF",
            "size": [
             2.2
            ],
            "sizemode": "area",
            "sizeref": 0.189625,
            "symbol": "circle"
           },
           "mode": "markers",
           "name": "Himachal Pradesh",
           "showlegend": true,
           "type": "scattergeo"
          },
          {
           "geo": "geo",
           "hovertemplate": "<b>%{hovertext}</b><br><br>Region=Jharkhand<br>month=april<br>EstimatedUnemploymentRate=%{marker.size}<br>latitude=%{lat}<br>longitude=%{lon}<extra></extra>",
           "hovertext": [
            "Jharkhand"
           ],
           "lat": [
            85.2799
           ],
           "legendgroup": "Jharkhand",
           "lon": [
            23.6102
           ],
           "marker": {
            "color": "#636efa",
            "size": [
             47.09
            ],
            "sizemode": "area",
            "sizeref": 0.189625,
            "symbol": "circle"
           },
           "mode": "markers",
           "name": "Jharkhand",
           "showlegend": true,
           "type": "scattergeo"
          },
          {
           "geo": "geo",
           "hovertemplate": "<b>%{hovertext}</b><br><br>Region=Karnataka<br>month=april<br>EstimatedUnemploymentRate=%{marker.size}<br>latitude=%{lat}<br>longitude=%{lon}<extra></extra>",
           "hovertext": [
            "Karnataka"
           ],
           "lat": [
            75.7139
           ],
           "legendgroup": "Karnataka",
           "lon": [
            15.3173
           ],
           "marker": {
            "color": "#EF553B",
            "size": [
             29.84
            ],
            "sizemode": "area",
            "sizeref": 0.189625,
            "symbol": "circle"
           },
           "mode": "markers",
           "name": "Karnataka",
           "showlegend": true,
           "type": "scattergeo"
          },
          {
           "geo": "geo",
           "hovertemplate": "<b>%{hovertext}</b><br><br>Region=Kerala<br>month=april<br>EstimatedUnemploymentRate=%{marker.size}<br>latitude=%{lat}<br>longitude=%{lon}<extra></extra>",
           "hovertext": [
            "Kerala"
           ],
           "lat": [
            76.2711
           ],
           "legendgroup": "Kerala",
           "lon": [
            10.8505
           ],
           "marker": {
            "color": "#00cc96",
            "size": [
             16.99
            ],
            "sizemode": "area",
            "sizeref": 0.189625,
            "symbol": "circle"
           },
           "mode": "markers",
           "name": "Kerala",
           "showlegend": true,
           "type": "scattergeo"
          },
          {
           "geo": "geo",
           "hovertemplate": "<b>%{hovertext}</b><br><br>Region=Madhya Pradesh<br>month=april<br>EstimatedUnemploymentRate=%{marker.size}<br>latitude=%{lat}<br>longitude=%{lon}<extra></extra>",
           "hovertext": [
            "Madhya Pradesh"
           ],
           "lat": [
            78.6569
           ],
           "legendgroup": "Madhya Pradesh",
           "lon": [
            22.9734
           ],
           "marker": {
            "color": "#ab63fa",
            "size": [
             12.36
            ],
            "sizemode": "area",
            "sizeref": 0.189625,
            "symbol": "circle"
           },
           "mode": "markers",
           "name": "Madhya Pradesh",
           "showlegend": true,
           "type": "scattergeo"
          },
          {
           "geo": "geo",
           "hovertemplate": "<b>%{hovertext}</b><br><br>Region=Maharashtra<br>month=april<br>EstimatedUnemploymentRate=%{marker.size}<br>latitude=%{lat}<br>longitude=%{lon}<extra></extra>",
           "hovertext": [
            "Maharashtra"
           ],
           "lat": [
            75.7139
           ],
           "legendgroup": "Maharashtra",
           "lon": [
            19.7515
           ],
           "marker": {
            "color": "#FFA15A",
            "size": [
             20.9
            ],
            "sizemode": "area",
            "sizeref": 0.189625,
            "symbol": "circle"
           },
           "mode": "markers",
           "name": "Maharashtra",
           "showlegend": true,
           "type": "scattergeo"
          },
          {
           "geo": "geo",
           "hovertemplate": "<b>%{hovertext}</b><br><br>Region=Meghalaya<br>month=april<br>EstimatedUnemploymentRate=%{marker.size}<br>latitude=%{lat}<br>longitude=%{lon}<extra></extra>",
           "hovertext": [
            "Meghalaya"
           ],
           "lat": [
            91.3662
           ],
           "legendgroup": "Meghalaya",
           "lon": [
            25.467
           ],
           "marker": {
            "color": "#19d3f3",
            "size": [
             10.03
            ],
            "sizemode": "area",
            "sizeref": 0.189625,
            "symbol": "circle"
           },
           "mode": "markers",
           "name": "Meghalaya",
           "showlegend": true,
           "type": "scattergeo"
          },
          {
           "geo": "geo",
           "hovertemplate": "<b>%{hovertext}</b><br><br>Region=Odisha<br>month=april<br>EstimatedUnemploymentRate=%{marker.size}<br>latitude=%{lat}<br>longitude=%{lon}<extra></extra>",
           "hovertext": [
            "Odisha"
           ],
           "lat": [
            85.0985
           ],
           "legendgroup": "Odisha",
           "lon": [
            20.9517
           ],
           "marker": {
            "color": "#FF6692",
            "size": [
             23.76
            ],
            "sizemode": "area",
            "sizeref": 0.189625,
            "symbol": "circle"
           },
           "mode": "markers",
           "name": "Odisha",
           "showlegend": true,
           "type": "scattergeo"
          },
          {
           "geo": "geo",
           "hovertemplate": "<b>%{hovertext}</b><br><br>Region=Puducherry<br>month=april<br>EstimatedUnemploymentRate=%{marker.size}<br>latitude=%{lat}<br>longitude=%{lon}<extra></extra>",
           "hovertext": [
            "Puducherry"
           ],
           "lat": [
            79.8083
           ],
           "legendgroup": "Puducherry",
           "lon": [
            11.9416
           ],
           "marker": {
            "color": "#B6E880",
            "size": [
             75.85
            ],
            "sizemode": "area",
            "sizeref": 0.189625,
            "symbol": "circle"
           },
           "mode": "markers",
           "name": "Puducherry",
           "showlegend": true,
           "type": "scattergeo"
          },
          {
           "geo": "geo",
           "hovertemplate": "<b>%{hovertext}</b><br><br>Region=Punjab<br>month=april<br>EstimatedUnemploymentRate=%{marker.size}<br>latitude=%{lat}<br>longitude=%{lon}<extra></extra>",
           "hovertext": [
            "Punjab"
           ],
           "lat": [
            75.3412
           ],
           "legendgroup": "Punjab",
           "lon": [
            31.1471
           ],
           "marker": {
            "color": "#FF97FF",
            "size": [
             2.86
            ],
            "sizemode": "area",
            "sizeref": 0.189625,
            "symbol": "circle"
           },
           "mode": "markers",
           "name": "Punjab",
           "showlegend": true,
           "type": "scattergeo"
          },
          {
           "geo": "geo",
           "hovertemplate": "<b>%{hovertext}</b><br><br>Region=Rajasthan<br>month=april<br>EstimatedUnemploymentRate=%{marker.size}<br>latitude=%{lat}<br>longitude=%{lon}<extra></extra>",
           "hovertext": [
            "Rajasthan"
           ],
           "lat": [
            74.2179
           ],
           "legendgroup": "Rajasthan",
           "lon": [
            27.0238
           ],
           "marker": {
            "color": "#FECB52",
            "size": [
             17.7
            ],
            "sizemode": "area",
            "sizeref": 0.189625,
            "symbol": "circle"
           },
           "mode": "markers",
           "name": "Rajasthan",
           "showlegend": true,
           "type": "scattergeo"
          },
          {
           "geo": "geo",
           "hovertemplate": "<b>%{hovertext}</b><br><br>Region=Sikkim<br>month=april<br>EstimatedUnemploymentRate=%{marker.size}<br>latitude=%{lat}<br>longitude=%{lon}<extra></extra>",
           "hovertext": [
            "Sikkim"
           ],
           "lat": [
            88.5122
           ],
           "legendgroup": "Sikkim",
           "lon": [
            27.533
           ],
           "marker": {
            "color": "#636efa",
            "size": [
             2.28
            ],
            "sizemode": "area",
            "sizeref": 0.189625,
            "symbol": "circle"
           },
           "mode": "markers",
           "name": "Sikkim",
           "showlegend": true,
           "type": "scattergeo"
          },
          {
           "geo": "geo",
           "hovertemplate": "<b>%{hovertext}</b><br><br>Region=Tamil Nadu<br>month=april<br>EstimatedUnemploymentRate=%{marker.size}<br>latitude=%{lat}<br>longitude=%{lon}<extra></extra>",
           "hovertext": [
            "Tamil Nadu"
           ],
           "lat": [
            78.6569
           ],
           "legendgroup": "Tamil Nadu",
           "lon": [
            11.1271
           ],
           "marker": {
            "color": "#EF553B",
            "size": [
             49.83
            ],
            "sizemode": "area",
            "sizeref": 0.189625,
            "symbol": "circle"
           },
           "mode": "markers",
           "name": "Tamil Nadu",
           "showlegend": true,
           "type": "scattergeo"
          },
          {
           "geo": "geo",
           "hovertemplate": "<b>%{hovertext}</b><br><br>Region=Telangana<br>month=april<br>EstimatedUnemploymentRate=%{marker.size}<br>latitude=%{lat}<br>longitude=%{lon}<extra></extra>",
           "hovertext": [
            "Telangana"
           ],
           "lat": [
            79.0193
           ],
           "legendgroup": "Telangana",
           "lon": [
            18.1124
           ],
           "marker": {
            "color": "#00cc96",
            "size": [
             6.25
            ],
            "sizemode": "area",
            "sizeref": 0.189625,
            "symbol": "circle"
           },
           "mode": "markers",
           "name": "Telangana",
           "showlegend": true,
           "type": "scattergeo"
          },
          {
           "geo": "geo",
           "hovertemplate": "<b>%{hovertext}</b><br><br>Region=Tripura<br>month=april<br>EstimatedUnemploymentRate=%{marker.size}<br>latitude=%{lat}<br>longitude=%{lon}<extra></extra>",
           "hovertext": [
            "Tripura"
           ],
           "lat": [
            91.9882
           ],
           "legendgroup": "Tripura",
           "lon": [
            23.9408
           ],
           "marker": {
            "color": "#ab63fa",
            "size": [
             41.23
            ],
            "sizemode": "area",
            "sizeref": 0.189625,
            "symbol": "circle"
           },
           "mode": "markers",
           "name": "Tripura",
           "showlegend": true,
           "type": "scattergeo"
          },
          {
           "geo": "geo",
           "hovertemplate": "<b>%{hovertext}</b><br><br>Region=Uttar Pradesh<br>month=april<br>EstimatedUnemploymentRate=%{marker.size}<br>latitude=%{lat}<br>longitude=%{lon}<extra></extra>",
           "hovertext": [
            "Uttar Pradesh"
           ],
           "lat": [
            80.9462
           ],
           "legendgroup": "Uttar Pradesh",
           "lon": [
            26.8467
           ],
           "marker": {
            "color": "#FFA15A",
            "size": [
             21.54
            ],
            "sizemode": "area",
            "sizeref": 0.189625,
            "symbol": "circle"
           },
           "mode": "markers",
           "name": "Uttar Pradesh",
           "showlegend": true,
           "type": "scattergeo"
          },
          {
           "geo": "geo",
           "hovertemplate": "<b>%{hovertext}</b><br><br>Region=Uttarakhand<br>month=april<br>EstimatedUnemploymentRate=%{marker.size}<br>latitude=%{lat}<br>longitude=%{lon}<extra></extra>",
           "hovertext": [
            "Uttarakhand"
           ],
           "lat": [
            79.0193
           ],
           "legendgroup": "Uttarakhand",
           "lon": [
            30.0668
           ],
           "marker": {
            "color": "#19d3f3",
            "size": [
             6.48
            ],
            "sizemode": "area",
            "sizeref": 0.189625,
            "symbol": "circle"
           },
           "mode": "markers",
           "name": "Uttarakhand",
           "showlegend": true,
           "type": "scattergeo"
          },
          {
           "geo": "geo",
           "hovertemplate": "<b>%{hovertext}</b><br><br>Region=West Bengal<br>month=april<br>EstimatedUnemploymentRate=%{marker.size}<br>latitude=%{lat}<br>longitude=%{lon}<extra></extra>",
           "hovertext": [
            "West Bengal"
           ],
           "lat": [
            87.855
           ],
           "legendgroup": "West Bengal",
           "lon": [
            22.9868
           ],
           "marker": {
            "color": "#FF6692",
            "size": [
             17.41
            ],
            "sizemode": "area",
            "sizeref": 0.189625,
            "symbol": "circle"
           },
           "mode": "markers",
           "name": "West Bengal",
           "showlegend": true,
           "type": "scattergeo"
          }
         ],
         "name": "april"
        },
        {
         "data": [
          {
           "geo": "geo",
           "hovertemplate": "<b>%{hovertext}</b><br><br>Region=Andhra Pradesh<br>month=may<br>EstimatedUnemploymentRate=%{marker.size}<br>latitude=%{lat}<br>longitude=%{lon}<extra></extra>",
           "hovertext": [
            "Andhra Pradesh"
           ],
           "lat": [
            79.74
           ],
           "legendgroup": "Andhra Pradesh",
           "lon": [
            15.9129
           ],
           "marker": {
            "color": "#636efa",
            "size": [
             17.43
            ],
            "sizemode": "area",
            "sizeref": 0.189625,
            "symbol": "circle"
           },
           "mode": "markers",
           "name": "Andhra Pradesh",
           "showlegend": true,
           "type": "scattergeo"
          },
          {
           "geo": "geo",
           "hovertemplate": "<b>%{hovertext}</b><br><br>Region=Assam<br>month=may<br>EstimatedUnemploymentRate=%{marker.size}<br>latitude=%{lat}<br>longitude=%{lon}<extra></extra>",
           "hovertext": [
            "Assam"
           ],
           "lat": [
            92.9376
           ],
           "legendgroup": "Assam",
           "lon": [
            26.2006
           ],
           "marker": {
            "color": "#EF553B",
            "size": [
             9.55
            ],
            "sizemode": "area",
            "sizeref": 0.189625,
            "symbol": "circle"
           },
           "mode": "markers",
           "name": "Assam",
           "showlegend": true,
           "type": "scattergeo"
          },
          {
           "geo": "geo",
           "hovertemplate": "<b>%{hovertext}</b><br><br>Region=Bihar<br>month=may<br>EstimatedUnemploymentRate=%{marker.size}<br>latitude=%{lat}<br>longitude=%{lon}<extra></extra>",
           "hovertext": [
            "Bihar"
           ],
           "lat": [
            85.3131
           ],
           "legendgroup": "Bihar",
           "lon": [
            25.0961
           ],
           "marker": {
            "color": "#00cc96",
            "size": [
             45.96
            ],
            "sizemode": "area",
            "sizeref": 0.189625,
            "symbol": "circle"
           },
           "mode": "markers",
           "name": "Bihar",
           "showlegend": true,
           "type": "scattergeo"
          },
          {
           "geo": "geo",
           "hovertemplate": "<b>%{hovertext}</b><br><br>Region=Chhattisgarh<br>month=may<br>EstimatedUnemploymentRate=%{marker.size}<br>latitude=%{lat}<br>longitude=%{lon}<extra></extra>",
           "hovertext": [
            "Chhattisgarh"
           ],
           "lat": [
            81.8661
           ],
           "legendgroup": "Chhattisgarh",
           "lon": [
            21.2787
           ],
           "marker": {
            "color": "#ab63fa",
            "size": [
             10.5
            ],
            "sizemode": "area",
            "sizeref": 0.189625,
            "symbol": "circle"
           },
           "mode": "markers",
           "name": "Chhattisgarh",
           "showlegend": true,
           "type": "scattergeo"
          },
          {
           "geo": "geo",
           "hovertemplate": "<b>%{hovertext}</b><br><br>Region=Delhi<br>month=may<br>EstimatedUnemploymentRate=%{marker.size}<br>latitude=%{lat}<br>longitude=%{lon}<extra></extra>",
           "hovertext": [
            "Delhi"
           ],
           "lat": [
            77.1025
           ],
           "legendgroup": "Delhi",
           "lon": [
            28.7041
           ],
           "marker": {
            "color": "#FFA15A",
            "size": [
             42.27
            ],
            "sizemode": "area",
            "sizeref": 0.189625,
            "symbol": "circle"
           },
           "mode": "markers",
           "name": "Delhi",
           "showlegend": true,
           "type": "scattergeo"
          },
          {
           "geo": "geo",
           "hovertemplate": "<b>%{hovertext}</b><br><br>Region=Goa<br>month=may<br>EstimatedUnemploymentRate=%{marker.size}<br>latitude=%{lat}<br>longitude=%{lon}<extra></extra>",
           "hovertext": [
            "Goa"
           ],
           "lat": [
            74.124
           ],
           "legendgroup": "Goa",
           "lon": [
            15.2993
           ],
           "marker": {
            "color": "#19d3f3",
            "size": [
             21.25
            ],
            "sizemode": "area",
            "sizeref": 0.189625,
            "symbol": "circle"
           },
           "mode": "markers",
           "name": "Goa",
           "showlegend": true,
           "type": "scattergeo"
          },
          {
           "geo": "geo",
           "hovertemplate": "<b>%{hovertext}</b><br><br>Region=Gujarat<br>month=may<br>EstimatedUnemploymentRate=%{marker.size}<br>latitude=%{lat}<br>longitude=%{lon}<extra></extra>",
           "hovertext": [
            "Gujarat"
           ],
           "lat": [
            71.1924
           ],
           "legendgroup": "Gujarat",
           "lon": [
            22.2587
           ],
           "marker": {
            "color": "#FF6692",
            "size": [
             12.11
            ],
            "sizemode": "area",
            "sizeref": 0.189625,
            "symbol": "circle"
           },
           "mode": "markers",
           "name": "Gujarat",
           "showlegend": true,
           "type": "scattergeo"
          },
          {
           "geo": "geo",
           "hovertemplate": "<b>%{hovertext}</b><br><br>Region=Haryana<br>month=may<br>EstimatedUnemploymentRate=%{marker.size}<br>latitude=%{lat}<br>longitude=%{lon}<extra></extra>",
           "hovertext": [
            "Haryana"
           ],
           "lat": [
            76.0856
           ],
           "legendgroup": "Haryana",
           "lon": [
            29.0588
           ],
           "marker": {
            "color": "#B6E880",
            "size": [
             29.02
            ],
            "sizemode": "area",
            "sizeref": 0.189625,
            "symbol": "circle"
           },
           "mode": "markers",
           "name": "Haryana",
           "showlegend": true,
           "type": "scattergeo"
          },
          {
           "geo": "geo",
           "hovertemplate": "<b>%{hovertext}</b><br><br>Region=Himachal Pradesh<br>month=may<br>EstimatedUnemploymentRate=%{marker.size}<br>latitude=%{lat}<br>longitude=%{lon}<extra></extra>",
           "hovertext": [
            "Himachal Pradesh"
           ],
           "lat": [
            77.1734
           ],
           "legendgroup": "Himachal Pradesh",
           "lon": [
            31.1048
           ],
           "marker": {
            "color": "#FF97FF",
            "size": [
             26.95
            ],
            "sizemode": "area",
            "sizeref": 0.189625,
            "symbol": "circle"
           },
           "mode": "markers",
           "name": "Himachal Pradesh",
           "showlegend": true,
           "type": "scattergeo"
          },
          {
           "geo": "geo",
           "hovertemplate": "<b>%{hovertext}</b><br><br>Region=Jammu & Kashmir<br>month=may<br>EstimatedUnemploymentRate=%{marker.size}<br>latitude=%{lat}<br>longitude=%{lon}<extra></extra>",
           "hovertext": [
            "Jammu & Kashmir"
           ],
           "lat": [
            76.5762
           ],
           "legendgroup": "Jammu & Kashmir",
           "lon": [
            33.7782
           ],
           "marker": {
            "color": "#FECB52",
            "size": [
             18.74
            ],
            "sizemode": "area",
            "sizeref": 0.189625,
            "symbol": "circle"
           },
           "mode": "markers",
           "name": "Jammu & Kashmir",
           "showlegend": true,
           "type": "scattergeo"
          },
          {
           "geo": "geo",
           "hovertemplate": "<b>%{hovertext}</b><br><br>Region=Jharkhand<br>month=may<br>EstimatedUnemploymentRate=%{marker.size}<br>latitude=%{lat}<br>longitude=%{lon}<extra></extra>",
           "hovertext": [
            "Jharkhand"
           ],
           "lat": [
            85.2799
           ],
           "legendgroup": "Jharkhand",
           "lon": [
            23.6102
           ],
           "marker": {
            "color": "#636efa",
            "size": [
             59.23
            ],
            "sizemode": "area",
            "sizeref": 0.189625,
            "symbol": "circle"
           },
           "mode": "markers",
           "name": "Jharkhand",
           "showlegend": true,
           "type": "scattergeo"
          },
          {
           "geo": "geo",
           "hovertemplate": "<b>%{hovertext}</b><br><br>Region=Karnataka<br>month=may<br>EstimatedUnemploymentRate=%{marker.size}<br>latitude=%{lat}<br>longitude=%{lon}<extra></extra>",
           "hovertext": [
            "Karnataka"
           ],
           "lat": [
            75.7139
           ],
           "legendgroup": "Karnataka",
           "lon": [
            15.3173
           ],
           "marker": {
            "color": "#EF553B",
            "size": [
             19.97
            ],
            "sizemode": "area",
            "sizeref": 0.189625,
            "symbol": "circle"
           },
           "mode": "markers",
           "name": "Karnataka",
           "showlegend": true,
           "type": "scattergeo"
          },
          {
           "geo": "geo",
           "hovertemplate": "<b>%{hovertext}</b><br><br>Region=Kerala<br>month=may<br>EstimatedUnemploymentRate=%{marker.size}<br>latitude=%{lat}<br>longitude=%{lon}<extra></extra>",
           "hovertext": [
            "Kerala"
           ],
           "lat": [
            76.2711
           ],
           "legendgroup": "Kerala",
           "lon": [
            10.8505
           ],
           "marker": {
            "color": "#00cc96",
            "size": [
             17.88
            ],
            "sizemode": "area",
            "sizeref": 0.189625,
            "symbol": "circle"
           },
           "mode": "markers",
           "name": "Kerala",
           "showlegend": true,
           "type": "scattergeo"
          },
          {
           "geo": "geo",
           "hovertemplate": "<b>%{hovertext}</b><br><br>Region=Madhya Pradesh<br>month=may<br>EstimatedUnemploymentRate=%{marker.size}<br>latitude=%{lat}<br>longitude=%{lon}<extra></extra>",
           "hovertext": [
            "Madhya Pradesh"
           ],
           "lat": [
            78.6569
           ],
           "legendgroup": "Madhya Pradesh",
           "lon": [
            22.9734
           ],
           "marker": {
            "color": "#ab63fa",
            "size": [
             21.98
            ],
            "sizemode": "area",
            "sizeref": 0.189625,
            "symbol": "circle"
           },
           "mode": "markers",
           "name": "Madhya Pradesh",
           "showlegend": true,
           "type": "scattergeo"
          },
          {
           "geo": "geo",
           "hovertemplate": "<b>%{hovertext}</b><br><br>Region=Maharashtra<br>month=may<br>EstimatedUnemploymentRate=%{marker.size}<br>latitude=%{lat}<br>longitude=%{lon}<extra></extra>",
           "hovertext": [
            "Maharashtra"
           ],
           "lat": [
            75.7139
           ],
           "legendgroup": "Maharashtra",
           "lon": [
            19.7515
           ],
           "marker": {
            "color": "#FFA15A",
            "size": [
             15.46
            ],
            "sizemode": "area",
            "sizeref": 0.189625,
            "symbol": "circle"
           },
           "mode": "markers",
           "name": "Maharashtra",
           "showlegend": true,
           "type": "scattergeo"
          },
          {
           "geo": "geo",
           "hovertemplate": "<b>%{hovertext}</b><br><br>Region=Meghalaya<br>month=may<br>EstimatedUnemploymentRate=%{marker.size}<br>latitude=%{lat}<br>longitude=%{lon}<extra></extra>",
           "hovertext": [
            "Meghalaya"
           ],
           "lat": [
            91.3662
           ],
           "legendgroup": "Meghalaya",
           "lon": [
            25.467
           ],
           "marker": {
            "color": "#19d3f3",
            "size": [
             5.92
            ],
            "sizemode": "area",
            "sizeref": 0.189625,
            "symbol": "circle"
           },
           "mode": "markers",
           "name": "Meghalaya",
           "showlegend": true,
           "type": "scattergeo"
          },
          {
           "geo": "geo",
           "hovertemplate": "<b>%{hovertext}</b><br><br>Region=Odisha<br>month=may<br>EstimatedUnemploymentRate=%{marker.size}<br>latitude=%{lat}<br>longitude=%{lon}<extra></extra>",
           "hovertext": [
            "Odisha"
           ],
           "lat": [
            85.0985
           ],
           "legendgroup": "Odisha",
           "lon": [
            20.9517
           ],
           "marker": {
            "color": "#FF6692",
            "size": [
             11.41
            ],
            "sizemode": "area",
            "sizeref": 0.189625,
            "symbol": "circle"
           },
           "mode": "markers",
           "name": "Odisha",
           "showlegend": true,
           "type": "scattergeo"
          },
          {
           "geo": "geo",
           "hovertemplate": "<b>%{hovertext}</b><br><br>Region=Puducherry<br>month=may<br>EstimatedUnemploymentRate=%{marker.size}<br>latitude=%{lat}<br>longitude=%{lon}<extra></extra>",
           "hovertext": [
            "Puducherry"
           ],
           "lat": [
            79.8083
           ],
           "legendgroup": "Puducherry",
           "lon": [
            11.9416
           ],
           "marker": {
            "color": "#B6E880",
            "size": [
             58.19
            ],
            "sizemode": "area",
            "sizeref": 0.189625,
            "symbol": "circle"
           },
           "mode": "markers",
           "name": "Puducherry",
           "showlegend": true,
           "type": "scattergeo"
          },
          {
           "geo": "geo",
           "hovertemplate": "<b>%{hovertext}</b><br><br>Region=Punjab<br>month=may<br>EstimatedUnemploymentRate=%{marker.size}<br>latitude=%{lat}<br>longitude=%{lon}<extra></extra>",
           "hovertext": [
            "Punjab"
           ],
           "lat": [
            75.3412
           ],
           "legendgroup": "Punjab",
           "lon": [
            31.1471
           ],
           "marker": {
            "color": "#FF97FF",
            "size": [
             28.33
            ],
            "sizemode": "area",
            "sizeref": 0.189625,
            "symbol": "circle"
           },
           "mode": "markers",
           "name": "Punjab",
           "showlegend": true,
           "type": "scattergeo"
          },
          {
           "geo": "geo",
           "hovertemplate": "<b>%{hovertext}</b><br><br>Region=Rajasthan<br>month=may<br>EstimatedUnemploymentRate=%{marker.size}<br>latitude=%{lat}<br>longitude=%{lon}<extra></extra>",
           "hovertext": [
            "Rajasthan"
           ],
           "lat": [
            74.2179
           ],
           "legendgroup": "Rajasthan",
           "lon": [
            27.0238
           ],
           "marker": {
            "color": "#FECB52",
            "size": [
             15.74
            ],
            "sizemode": "area",
            "sizeref": 0.189625,
            "symbol": "circle"
           },
           "mode": "markers",
           "name": "Rajasthan",
           "showlegend": true,
           "type": "scattergeo"
          },
          {
           "geo": "geo",
           "hovertemplate": "<b>%{hovertext}</b><br><br>Region=Sikkim<br>month=may<br>EstimatedUnemploymentRate=%{marker.size}<br>latitude=%{lat}<br>longitude=%{lon}<extra></extra>",
           "hovertext": [
            "Sikkim"
           ],
           "lat": [
            88.5122
           ],
           "legendgroup": "Sikkim",
           "lon": [
            27.533
           ],
           "marker": {
            "color": "#636efa",
            "size": [
             24.51
            ],
            "sizemode": "area",
            "sizeref": 0.189625,
            "symbol": "circle"
           },
           "mode": "markers",
           "name": "Sikkim",
           "showlegend": true,
           "type": "scattergeo"
          },
          {
           "geo": "geo",
           "hovertemplate": "<b>%{hovertext}</b><br><br>Region=Tamil Nadu<br>month=may<br>EstimatedUnemploymentRate=%{marker.size}<br>latitude=%{lat}<br>longitude=%{lon}<extra></extra>",
           "hovertext": [
            "Tamil Nadu"
           ],
           "lat": [
            78.6569
           ],
           "legendgroup": "Tamil Nadu",
           "lon": [
            11.1271
           ],
           "marker": {
            "color": "#EF553B",
            "size": [
             33.16
            ],
            "sizemode": "area",
            "sizeref": 0.189625,
            "symbol": "circle"
           },
           "mode": "markers",
           "name": "Tamil Nadu",
           "showlegend": true,
           "type": "scattergeo"
          },
          {
           "geo": "geo",
           "hovertemplate": "<b>%{hovertext}</b><br><br>Region=Telangana<br>month=may<br>EstimatedUnemploymentRate=%{marker.size}<br>latitude=%{lat}<br>longitude=%{lon}<extra></extra>",
           "hovertext": [
            "Telangana"
           ],
           "lat": [
            79.0193
           ],
           "legendgroup": "Telangana",
           "lon": [
            18.1124
           ],
           "marker": {
            "color": "#00cc96",
            "size": [
             14.7
            ],
            "sizemode": "area",
            "sizeref": 0.189625,
            "symbol": "circle"
           },
           "mode": "markers",
           "name": "Telangana",
           "showlegend": true,
           "type": "scattergeo"
          },
          {
           "geo": "geo",
           "hovertemplate": "<b>%{hovertext}</b><br><br>Region=Tripura<br>month=may<br>EstimatedUnemploymentRate=%{marker.size}<br>latitude=%{lat}<br>longitude=%{lon}<extra></extra>",
           "hovertext": [
            "Tripura"
           ],
           "lat": [
            91.9882
           ],
           "legendgroup": "Tripura",
           "lon": [
            23.9408
           ],
           "marker": {
            "color": "#ab63fa",
            "size": [
             21.51
            ],
            "sizemode": "area",
            "sizeref": 0.189625,
            "symbol": "circle"
           },
           "mode": "markers",
           "name": "Tripura",
           "showlegend": true,
           "type": "scattergeo"
          },
          {
           "geo": "geo",
           "hovertemplate": "<b>%{hovertext}</b><br><br>Region=Uttar Pradesh<br>month=may<br>EstimatedUnemploymentRate=%{marker.size}<br>latitude=%{lat}<br>longitude=%{lon}<extra></extra>",
           "hovertext": [
            "Uttar Pradesh"
           ],
           "lat": [
            80.9462
           ],
           "legendgroup": "Uttar Pradesh",
           "lon": [
            26.8467
           ],
           "marker": {
            "color": "#FFA15A",
            "size": [
             20.41
            ],
            "sizemode": "area",
            "sizeref": 0.189625,
            "symbol": "circle"
           },
           "mode": "markers",
           "name": "Uttar Pradesh",
           "showlegend": true,
           "type": "scattergeo"
          },
          {
           "geo": "geo",
           "hovertemplate": "<b>%{hovertext}</b><br><br>Region=Uttarakhand<br>month=may<br>EstimatedUnemploymentRate=%{marker.size}<br>latitude=%{lat}<br>longitude=%{lon}<extra></extra>",
           "hovertext": [
            "Uttarakhand"
           ],
           "lat": [
            79.0193
           ],
           "legendgroup": "Uttarakhand",
           "lon": [
            30.0668
           ],
           "marker": {
            "color": "#19d3f3",
            "size": [
             8.01
            ],
            "sizemode": "area",
            "sizeref": 0.189625,
            "symbol": "circle"
           },
           "mode": "markers",
           "name": "Uttarakhand",
           "showlegend": true,
           "type": "scattergeo"
          },
          {
           "geo": "geo",
           "hovertemplate": "<b>%{hovertext}</b><br><br>Region=West Bengal<br>month=may<br>EstimatedUnemploymentRate=%{marker.size}<br>latitude=%{lat}<br>longitude=%{lon}<extra></extra>",
           "hovertext": [
            "West Bengal"
           ],
           "lat": [
            87.855
           ],
           "legendgroup": "West Bengal",
           "lon": [
            22.9868
           ],
           "marker": {
            "color": "#FF6692",
            "size": [
             17.41
            ],
            "sizemode": "area",
            "sizeref": 0.189625,
            "symbol": "circle"
           },
           "mode": "markers",
           "name": "West Bengal",
           "showlegend": true,
           "type": "scattergeo"
          }
         ],
         "name": "may"
        },
        {
         "data": [
          {
           "geo": "geo",
           "hovertemplate": "<b>%{hovertext}</b><br><br>Region=Andhra Pradesh<br>month=june<br>EstimatedUnemploymentRate=%{marker.size}<br>latitude=%{lat}<br>longitude=%{lon}<extra></extra>",
           "hovertext": [
            "Andhra Pradesh"
           ],
           "lat": [
            79.74
           ],
           "legendgroup": "Andhra Pradesh",
           "lon": [
            15.9129
           ],
           "marker": {
            "color": "#636efa",
            "size": [
             3.31
            ],
            "sizemode": "area",
            "sizeref": 0.189625,
            "symbol": "circle"
           },
           "mode": "markers",
           "name": "Andhra Pradesh",
           "showlegend": true,
           "type": "scattergeo"
          },
          {
           "geo": "geo",
           "hovertemplate": "<b>%{hovertext}</b><br><br>Region=Assam<br>month=june<br>EstimatedUnemploymentRate=%{marker.size}<br>latitude=%{lat}<br>longitude=%{lon}<extra></extra>",
           "hovertext": [
            "Assam"
           ],
           "lat": [
            92.9376
           ],
           "legendgroup": "Assam",
           "lon": [
            26.2006
           ],
           "marker": {
            "color": "#EF553B",
            "size": [
             0.6
            ],
            "sizemode": "area",
            "sizeref": 0.189625,
            "symbol": "circle"
           },
           "mode": "markers",
           "name": "Assam",
           "showlegend": true,
           "type": "scattergeo"
          },
          {
           "geo": "geo",
           "hovertemplate": "<b>%{hovertext}</b><br><br>Region=Bihar<br>month=june<br>EstimatedUnemploymentRate=%{marker.size}<br>latitude=%{lat}<br>longitude=%{lon}<extra></extra>",
           "hovertext": [
            "Bihar"
           ],
           "lat": [
            85.3131
           ],
           "legendgroup": "Bihar",
           "lon": [
            25.0961
           ],
           "marker": {
            "color": "#00cc96",
            "size": [
             17.82
            ],
            "sizemode": "area",
            "sizeref": 0.189625,
            "symbol": "circle"
           },
           "mode": "markers",
           "name": "Bihar",
           "showlegend": true,
           "type": "scattergeo"
          },
          {
           "geo": "geo",
           "hovertemplate": "<b>%{hovertext}</b><br><br>Region=Chhattisgarh<br>month=june<br>EstimatedUnemploymentRate=%{marker.size}<br>latitude=%{lat}<br>longitude=%{lon}<extra></extra>",
           "hovertext": [
            "Chhattisgarh"
           ],
           "lat": [
            81.8661
           ],
           "legendgroup": "Chhattisgarh",
           "lon": [
            21.2787
           ],
           "marker": {
            "color": "#ab63fa",
            "size": [
             14.23
            ],
            "sizemode": "area",
            "sizeref": 0.189625,
            "symbol": "circle"
           },
           "mode": "markers",
           "name": "Chhattisgarh",
           "showlegend": true,
           "type": "scattergeo"
          },
          {
           "geo": "geo",
           "hovertemplate": "<b>%{hovertext}</b><br><br>Region=Delhi<br>month=june<br>EstimatedUnemploymentRate=%{marker.size}<br>latitude=%{lat}<br>longitude=%{lon}<extra></extra>",
           "hovertext": [
            "Delhi"
           ],
           "lat": [
            77.1025
           ],
           "legendgroup": "Delhi",
           "lon": [
            28.7041
           ],
           "marker": {
            "color": "#FFA15A",
            "size": [
             18.19
            ],
            "sizemode": "area",
            "sizeref": 0.189625,
            "symbol": "circle"
           },
           "mode": "markers",
           "name": "Delhi",
           "showlegend": true,
           "type": "scattergeo"
          },
          {
           "geo": "geo",
           "hovertemplate": "<b>%{hovertext}</b><br><br>Region=Goa<br>month=june<br>EstimatedUnemploymentRate=%{marker.size}<br>latitude=%{lat}<br>longitude=%{lon}<extra></extra>",
           "hovertext": [
            "Goa"
           ],
           "lat": [
            74.124
           ],
           "legendgroup": "Goa",
           "lon": [
            15.2993
           ],
           "marker": {
            "color": "#19d3f3",
            "size": [
             9.96
            ],
            "sizemode": "area",
            "sizeref": 0.189625,
            "symbol": "circle"
           },
           "mode": "markers",
           "name": "Goa",
           "showlegend": true,
           "type": "scattergeo"
          },
          {
           "geo": "geo",
           "hovertemplate": "<b>%{hovertext}</b><br><br>Region=Gujarat<br>month=june<br>EstimatedUnemploymentRate=%{marker.size}<br>latitude=%{lat}<br>longitude=%{lon}<extra></extra>",
           "hovertext": [
            "Gujarat"
           ],
           "lat": [
            71.1924
           ],
           "legendgroup": "Gujarat",
           "lon": [
            22.2587
           ],
           "marker": {
            "color": "#FF6692",
            "size": [
             3.2
            ],
            "sizemode": "area",
            "sizeref": 0.189625,
            "symbol": "circle"
           },
           "mode": "markers",
           "name": "Gujarat",
           "showlegend": true,
           "type": "scattergeo"
          },
          {
           "geo": "geo",
           "hovertemplate": "<b>%{hovertext}</b><br><br>Region=Haryana<br>month=june<br>EstimatedUnemploymentRate=%{marker.size}<br>latitude=%{lat}<br>longitude=%{lon}<extra></extra>",
           "hovertext": [
            "Haryana"
           ],
           "lat": [
            76.0856
           ],
           "legendgroup": "Haryana",
           "lon": [
            29.0588
           ],
           "marker": {
            "color": "#B6E880",
            "size": [
             26.7
            ],
            "sizemode": "area",
            "sizeref": 0.189625,
            "symbol": "circle"
           },
           "mode": "markers",
           "name": "Haryana",
           "showlegend": true,
           "type": "scattergeo"
          },
          {
           "geo": "geo",
           "hovertemplate": "<b>%{hovertext}</b><br><br>Region=Himachal Pradesh<br>month=june<br>EstimatedUnemploymentRate=%{marker.size}<br>latitude=%{lat}<br>longitude=%{lon}<extra></extra>",
           "hovertext": [
            "Himachal Pradesh"
           ],
           "lat": [
            77.1734
           ],
           "legendgroup": "Himachal Pradesh",
           "lon": [
            31.1048
           ],
           "marker": {
            "color": "#FF97FF",
            "size": [
             13.47
            ],
            "sizemode": "area",
            "sizeref": 0.189625,
            "symbol": "circle"
           },
           "mode": "markers",
           "name": "Himachal Pradesh",
           "showlegend": true,
           "type": "scattergeo"
          },
          {
           "geo": "geo",
           "hovertemplate": "<b>%{hovertext}</b><br><br>Region=Jammu & Kashmir<br>month=june<br>EstimatedUnemploymentRate=%{marker.size}<br>latitude=%{lat}<br>longitude=%{lon}<extra></extra>",
           "hovertext": [
            "Jammu & Kashmir"
           ],
           "lat": [
            76.5762
           ],
           "legendgroup": "Jammu & Kashmir",
           "lon": [
            33.7782
           ],
           "marker": {
            "color": "#FECB52",
            "size": [
             17.92
            ],
            "sizemode": "area",
            "sizeref": 0.189625,
            "symbol": "circle"
           },
           "mode": "markers",
           "name": "Jammu & Kashmir",
           "showlegend": true,
           "type": "scattergeo"
          },
          {
           "geo": "geo",
           "hovertemplate": "<b>%{hovertext}</b><br><br>Region=Jharkhand<br>month=june<br>EstimatedUnemploymentRate=%{marker.size}<br>latitude=%{lat}<br>longitude=%{lon}<extra></extra>",
           "hovertext": [
            "Jharkhand"
           ],
           "lat": [
            85.2799
           ],
           "legendgroup": "Jharkhand",
           "lon": [
            23.6102
           ],
           "marker": {
            "color": "#636efa",
            "size": [
             20.95
            ],
            "sizemode": "area",
            "sizeref": 0.189625,
            "symbol": "circle"
           },
           "mode": "markers",
           "name": "Jharkhand",
           "showlegend": true,
           "type": "scattergeo"
          },
          {
           "geo": "geo",
           "hovertemplate": "<b>%{hovertext}</b><br><br>Region=Karnataka<br>month=june<br>EstimatedUnemploymentRate=%{marker.size}<br>latitude=%{lat}<br>longitude=%{lon}<extra></extra>",
           "hovertext": [
            "Karnataka"
           ],
           "lat": [
            75.7139
           ],
           "legendgroup": "Karnataka",
           "lon": [
            15.3173
           ],
           "marker": {
            "color": "#EF553B",
            "size": [
             8.44
            ],
            "sizemode": "area",
            "sizeref": 0.189625,
            "symbol": "circle"
           },
           "mode": "markers",
           "name": "Karnataka",
           "showlegend": true,
           "type": "scattergeo"
          },
          {
           "geo": "geo",
           "hovertemplate": "<b>%{hovertext}</b><br><br>Region=Kerala<br>month=june<br>EstimatedUnemploymentRate=%{marker.size}<br>latitude=%{lat}<br>longitude=%{lon}<extra></extra>",
           "hovertext": [
            "Kerala"
           ],
           "lat": [
            76.2711
           ],
           "legendgroup": "Kerala",
           "lon": [
            10.8505
           ],
           "marker": {
            "color": "#00cc96",
            "size": [
             9.71
            ],
            "sizemode": "area",
            "sizeref": 0.189625,
            "symbol": "circle"
           },
           "mode": "markers",
           "name": "Kerala",
           "showlegend": true,
           "type": "scattergeo"
          },
          {
           "geo": "geo",
           "hovertemplate": "<b>%{hovertext}</b><br><br>Region=Madhya Pradesh<br>month=june<br>EstimatedUnemploymentRate=%{marker.size}<br>latitude=%{lat}<br>longitude=%{lon}<extra></extra>",
           "hovertext": [
            "Madhya Pradesh"
           ],
           "lat": [
            78.6569
           ],
           "legendgroup": "Madhya Pradesh",
           "lon": [
            22.9734
           ],
           "marker": {
            "color": "#ab63fa",
            "size": [
             6.48
            ],
            "sizemode": "area",
            "sizeref": 0.189625,
            "symbol": "circle"
           },
           "mode": "markers",
           "name": "Madhya Pradesh",
           "showlegend": true,
           "type": "scattergeo"
          },
          {
           "geo": "geo",
           "hovertemplate": "<b>%{hovertext}</b><br><br>Region=Maharashtra<br>month=june<br>EstimatedUnemploymentRate=%{marker.size}<br>latitude=%{lat}<br>longitude=%{lon}<extra></extra>",
           "hovertext": [
            "Maharashtra"
           ],
           "lat": [
            75.7139
           ],
           "legendgroup": "Maharashtra",
           "lon": [
            19.7515
           ],
           "marker": {
            "color": "#FFA15A",
            "size": [
             9.23
            ],
            "sizemode": "area",
            "sizeref": 0.189625,
            "symbol": "circle"
           },
           "mode": "markers",
           "name": "Maharashtra",
           "showlegend": true,
           "type": "scattergeo"
          },
          {
           "geo": "geo",
           "hovertemplate": "<b>%{hovertext}</b><br><br>Region=Meghalaya<br>month=june<br>EstimatedUnemploymentRate=%{marker.size}<br>latitude=%{lat}<br>longitude=%{lon}<extra></extra>",
           "hovertext": [
            "Meghalaya"
           ],
           "lat": [
            91.3662
           ],
           "legendgroup": "Meghalaya",
           "lon": [
            25.467
           ],
           "marker": {
            "color": "#19d3f3",
            "size": [
             1.15
            ],
            "sizemode": "area",
            "sizeref": 0.189625,
            "symbol": "circle"
           },
           "mode": "markers",
           "name": "Meghalaya",
           "showlegend": true,
           "type": "scattergeo"
          },
          {
           "geo": "geo",
           "hovertemplate": "<b>%{hovertext}</b><br><br>Region=Odisha<br>month=june<br>EstimatedUnemploymentRate=%{marker.size}<br>latitude=%{lat}<br>longitude=%{lon}<extra></extra>",
           "hovertext": [
            "Odisha"
           ],
           "lat": [
            85.0985
           ],
           "legendgroup": "Odisha",
           "lon": [
            20.9517
           ],
           "marker": {
            "color": "#FF6692",
            "size": [
             3.77
            ],
            "sizemode": "area",
            "sizeref": 0.189625,
            "symbol": "circle"
           },
           "mode": "markers",
           "name": "Odisha",
           "showlegend": true,
           "type": "scattergeo"
          },
          {
           "geo": "geo",
           "hovertemplate": "<b>%{hovertext}</b><br><br>Region=Puducherry<br>month=june<br>EstimatedUnemploymentRate=%{marker.size}<br>latitude=%{lat}<br>longitude=%{lon}<extra></extra>",
           "hovertext": [
            "Puducherry"
           ],
           "lat": [
            79.8083
           ],
           "legendgroup": "Puducherry",
           "lon": [
            11.9416
           ],
           "marker": {
            "color": "#B6E880",
            "size": [
             4.24
            ],
            "sizemode": "area",
            "sizeref": 0.189625,
            "symbol": "circle"
           },
           "mode": "markers",
           "name": "Puducherry",
           "showlegend": true,
           "type": "scattergeo"
          },
          {
           "geo": "geo",
           "hovertemplate": "<b>%{hovertext}</b><br><br>Region=Punjab<br>month=june<br>EstimatedUnemploymentRate=%{marker.size}<br>latitude=%{lat}<br>longitude=%{lon}<extra></extra>",
           "hovertext": [
            "Punjab"
           ],
           "lat": [
            75.3412
           ],
           "legendgroup": "Punjab",
           "lon": [
            31.1471
           ],
           "marker": {
            "color": "#FF97FF",
            "size": [
             16.55
            ],
            "sizemode": "area",
            "sizeref": 0.189625,
            "symbol": "circle"
           },
           "mode": "markers",
           "name": "Punjab",
           "showlegend": true,
           "type": "scattergeo"
          },
          {
           "geo": "geo",
           "hovertemplate": "<b>%{hovertext}</b><br><br>Region=Rajasthan<br>month=june<br>EstimatedUnemploymentRate=%{marker.size}<br>latitude=%{lat}<br>longitude=%{lon}<extra></extra>",
           "hovertext": [
            "Rajasthan"
           ],
           "lat": [
            74.2179
           ],
           "legendgroup": "Rajasthan",
           "lon": [
            27.0238
           ],
           "marker": {
            "color": "#FECB52",
            "size": [
             14.39
            ],
            "sizemode": "area",
            "sizeref": 0.189625,
            "symbol": "circle"
           },
           "mode": "markers",
           "name": "Rajasthan",
           "showlegend": true,
           "type": "scattergeo"
          },
          {
           "geo": "geo",
           "hovertemplate": "<b>%{hovertext}</b><br><br>Region=Sikkim<br>month=june<br>EstimatedUnemploymentRate=%{marker.size}<br>latitude=%{lat}<br>longitude=%{lon}<extra></extra>",
           "hovertext": [
            "Sikkim"
           ],
           "lat": [
            88.5122
           ],
           "legendgroup": "Sikkim",
           "lon": [
            27.533
           ],
           "marker": {
            "color": "#636efa",
            "size": [
             4.46
            ],
            "sizemode": "area",
            "sizeref": 0.189625,
            "symbol": "circle"
           },
           "mode": "markers",
           "name": "Sikkim",
           "showlegend": true,
           "type": "scattergeo"
          },
          {
           "geo": "geo",
           "hovertemplate": "<b>%{hovertext}</b><br><br>Region=Tamil Nadu<br>month=june<br>EstimatedUnemploymentRate=%{marker.size}<br>latitude=%{lat}<br>longitude=%{lon}<extra></extra>",
           "hovertext": [
            "Tamil Nadu"
           ],
           "lat": [
            78.6569
           ],
           "legendgroup": "Tamil Nadu",
           "lon": [
            11.1271
           ],
           "marker": {
            "color": "#EF553B",
            "size": [
             12.2
            ],
            "sizemode": "area",
            "sizeref": 0.189625,
            "symbol": "circle"
           },
           "mode": "markers",
           "name": "Tamil Nadu",
           "showlegend": true,
           "type": "scattergeo"
          },
          {
           "geo": "geo",
           "hovertemplate": "<b>%{hovertext}</b><br><br>Region=Telangana<br>month=june<br>EstimatedUnemploymentRate=%{marker.size}<br>latitude=%{lat}<br>longitude=%{lon}<extra></extra>",
           "hovertext": [
            "Telangana"
           ],
           "lat": [
            79.0193
           ],
           "legendgroup": "Telangana",
           "lon": [
            18.1124
           ],
           "marker": {
            "color": "#00cc96",
            "size": [
             10.55
            ],
            "sizemode": "area",
            "sizeref": 0.189625,
            "symbol": "circle"
           },
           "mode": "markers",
           "name": "Telangana",
           "showlegend": true,
           "type": "scattergeo"
          },
          {
           "geo": "geo",
           "hovertemplate": "<b>%{hovertext}</b><br><br>Region=Tripura<br>month=june<br>EstimatedUnemploymentRate=%{marker.size}<br>latitude=%{lat}<br>longitude=%{lon}<extra></extra>",
           "hovertext": [
            "Tripura"
           ],
           "lat": [
            91.9882
           ],
           "legendgroup": "Tripura",
           "lon": [
            23.9408
           ],
           "marker": {
            "color": "#ab63fa",
            "size": [
             21.71
            ],
            "sizemode": "area",
            "sizeref": 0.189625,
            "symbol": "circle"
           },
           "mode": "markers",
           "name": "Tripura",
           "showlegend": true,
           "type": "scattergeo"
          },
          {
           "geo": "geo",
           "hovertemplate": "<b>%{hovertext}</b><br><br>Region=Uttar Pradesh<br>month=june<br>EstimatedUnemploymentRate=%{marker.size}<br>latitude=%{lat}<br>longitude=%{lon}<extra></extra>",
           "hovertext": [
            "Uttar Pradesh"
           ],
           "lat": [
            80.9462
           ],
           "legendgroup": "Uttar Pradesh",
           "lon": [
            26.8467
           ],
           "marker": {
            "color": "#FFA15A",
            "size": [
             9.47
            ],
            "sizemode": "area",
            "sizeref": 0.189625,
            "symbol": "circle"
           },
           "mode": "markers",
           "name": "Uttar Pradesh",
           "showlegend": true,
           "type": "scattergeo"
          },
          {
           "geo": "geo",
           "hovertemplate": "<b>%{hovertext}</b><br><br>Region=Uttarakhand<br>month=june<br>EstimatedUnemploymentRate=%{marker.size}<br>latitude=%{lat}<br>longitude=%{lon}<extra></extra>",
           "hovertext": [
            "Uttarakhand"
           ],
           "lat": [
            79.0193
           ],
           "legendgroup": "Uttarakhand",
           "lon": [
            30.0668
           ],
           "marker": {
            "color": "#19d3f3",
            "size": [
             8.61
            ],
            "sizemode": "area",
            "sizeref": 0.189625,
            "symbol": "circle"
           },
           "mode": "markers",
           "name": "Uttarakhand",
           "showlegend": true,
           "type": "scattergeo"
          },
          {
           "geo": "geo",
           "hovertemplate": "<b>%{hovertext}</b><br><br>Region=West Bengal<br>month=june<br>EstimatedUnemploymentRate=%{marker.size}<br>latitude=%{lat}<br>longitude=%{lon}<extra></extra>",
           "hovertext": [
            "West Bengal"
           ],
           "lat": [
            87.855
           ],
           "legendgroup": "West Bengal",
           "lon": [
            22.9868
           ],
           "marker": {
            "color": "#FF6692",
            "size": [
             7.29
            ],
            "sizemode": "area",
            "sizeref": 0.189625,
            "symbol": "circle"
           },
           "mode": "markers",
           "name": "West Bengal",
           "showlegend": true,
           "type": "scattergeo"
          }
         ],
         "name": "june"
        },
        {
         "data": [
          {
           "geo": "geo",
           "hovertemplate": "<b>%{hovertext}</b><br><br>Region=Andhra Pradesh<br>month=july<br>EstimatedUnemploymentRate=%{marker.size}<br>latitude=%{lat}<br>longitude=%{lon}<extra></extra>",
           "hovertext": [
            "Andhra Pradesh"
           ],
           "lat": [
            79.74
           ],
           "legendgroup": "Andhra Pradesh",
           "lon": [
            15.9129
           ],
           "marker": {
            "color": "#636efa",
            "size": [
             8.34
            ],
            "sizemode": "area",
            "sizeref": 0.189625,
            "symbol": "circle"
           },
           "mode": "markers",
           "name": "Andhra Pradesh",
           "showlegend": true,
           "type": "scattergeo"
          },
          {
           "geo": "geo",
           "hovertemplate": "<b>%{hovertext}</b><br><br>Region=Assam<br>month=july<br>EstimatedUnemploymentRate=%{marker.size}<br>latitude=%{lat}<br>longitude=%{lon}<extra></extra>",
           "hovertext": [
            "Assam"
           ],
           "lat": [
            92.9376
           ],
           "legendgroup": "Assam",
           "lon": [
            26.2006
           ],
           "marker": {
            "color": "#EF553B",
            "size": [
             3.77
            ],
            "sizemode": "area",
            "sizeref": 0.189625,
            "symbol": "circle"
           },
           "mode": "markers",
           "name": "Assam",
           "showlegend": true,
           "type": "scattergeo"
          },
          {
           "geo": "geo",
           "hovertemplate": "<b>%{hovertext}</b><br><br>Region=Bihar<br>month=july<br>EstimatedUnemploymentRate=%{marker.size}<br>latitude=%{lat}<br>longitude=%{lon}<extra></extra>",
           "hovertext": [
            "Bihar"
           ],
           "lat": [
            85.3131
           ],
           "legendgroup": "Bihar",
           "lon": [
            25.0961
           ],
           "marker": {
            "color": "#00cc96",
            "size": [
             12.79
            ],
            "sizemode": "area",
            "sizeref": 0.189625,
            "symbol": "circle"
           },
           "mode": "markers",
           "name": "Bihar",
           "showlegend": true,
           "type": "scattergeo"
          },
          {
           "geo": "geo",
           "hovertemplate": "<b>%{hovertext}</b><br><br>Region=Chhattisgarh<br>month=july<br>EstimatedUnemploymentRate=%{marker.size}<br>latitude=%{lat}<br>longitude=%{lon}<extra></extra>",
           "hovertext": [
            "Chhattisgarh"
           ],
           "lat": [
            81.8661
           ],
           "legendgroup": "Chhattisgarh",
           "lon": [
            21.2787
           ],
           "marker": {
            "color": "#ab63fa",
            "size": [
             10.27
            ],
            "sizemode": "area",
            "sizeref": 0.189625,
            "symbol": "circle"
           },
           "mode": "markers",
           "name": "Chhattisgarh",
           "showlegend": true,
           "type": "scattergeo"
          },
          {
           "geo": "geo",
           "hovertemplate": "<b>%{hovertext}</b><br><br>Region=Delhi<br>month=july<br>EstimatedUnemploymentRate=%{marker.size}<br>latitude=%{lat}<br>longitude=%{lon}<extra></extra>",
           "hovertext": [
            "Delhi"
           ],
           "lat": [
            77.1025
           ],
           "legendgroup": "Delhi",
           "lon": [
            28.7041
           ],
           "marker": {
            "color": "#FFA15A",
            "size": [
             20.3
            ],
            "sizemode": "area",
            "sizeref": 0.189625,
            "symbol": "circle"
           },
           "mode": "markers",
           "name": "Delhi",
           "showlegend": true,
           "type": "scattergeo"
          },
          {
           "geo": "geo",
           "hovertemplate": "<b>%{hovertext}</b><br><br>Region=Goa<br>month=july<br>EstimatedUnemploymentRate=%{marker.size}<br>latitude=%{lat}<br>longitude=%{lon}<extra></extra>",
           "hovertext": [
            "Goa"
           ],
           "lat": [
            74.124
           ],
           "legendgroup": "Goa",
           "lon": [
            15.2993
           ],
           "marker": {
            "color": "#19d3f3",
            "size": [
             17.07
            ],
            "sizemode": "area",
            "sizeref": 0.189625,
            "symbol": "circle"
           },
           "mode": "markers",
           "name": "Goa",
           "showlegend": true,
           "type": "scattergeo"
          },
          {
           "geo": "geo",
           "hovertemplate": "<b>%{hovertext}</b><br><br>Region=Gujarat<br>month=july<br>EstimatedUnemploymentRate=%{marker.size}<br>latitude=%{lat}<br>longitude=%{lon}<extra></extra>",
           "hovertext": [
            "Gujarat"
           ],
           "lat": [
            71.1924
           ],
           "legendgroup": "Gujarat",
           "lon": [
            22.2587
           ],
           "marker": {
            "color": "#FF6692",
            "size": [
             1.84
            ],
            "sizemode": "area",
            "sizeref": 0.189625,
            "symbol": "circle"
           },
           "mode": "markers",
           "name": "Gujarat",
           "showlegend": true,
           "type": "scattergeo"
          },
          {
           "geo": "geo",
           "hovertemplate": "<b>%{hovertext}</b><br><br>Region=Haryana<br>month=july<br>EstimatedUnemploymentRate=%{marker.size}<br>latitude=%{lat}<br>longitude=%{lon}<extra></extra>",
           "hovertext": [
            "Haryana"
           ],
           "lat": [
            76.0856
           ],
           "legendgroup": "Haryana",
           "lon": [
            29.0588
           ],
           "marker": {
            "color": "#B6E880",
            "size": [
             24.18
            ],
            "sizemode": "area",
            "sizeref": 0.189625,
            "symbol": "circle"
           },
           "mode": "markers",
           "name": "Haryana",
           "showlegend": true,
           "type": "scattergeo"
          },
          {
           "geo": "geo",
           "hovertemplate": "<b>%{hovertext}</b><br><br>Region=Himachal Pradesh<br>month=july<br>EstimatedUnemploymentRate=%{marker.size}<br>latitude=%{lat}<br>longitude=%{lon}<extra></extra>",
           "hovertext": [
            "Himachal Pradesh"
           ],
           "lat": [
            77.1734
           ],
           "legendgroup": "Himachal Pradesh",
           "lon": [
            31.1048
           ],
           "marker": {
            "color": "#FF97FF",
            "size": [
             24.31
            ],
            "sizemode": "area",
            "sizeref": 0.189625,
            "symbol": "circle"
           },
           "mode": "markers",
           "name": "Himachal Pradesh",
           "showlegend": true,
           "type": "scattergeo"
          },
          {
           "geo": "geo",
           "hovertemplate": "<b>%{hovertext}</b><br><br>Region=Jammu & Kashmir<br>month=july<br>EstimatedUnemploymentRate=%{marker.size}<br>latitude=%{lat}<br>longitude=%{lon}<extra></extra>",
           "hovertext": [
            "Jammu & Kashmir"
           ],
           "lat": [
            76.5762
           ],
           "legendgroup": "Jammu & Kashmir",
           "lon": [
            33.7782
           ],
           "marker": {
            "color": "#FECB52",
            "size": [
             10.88
            ],
            "sizemode": "area",
            "sizeref": 0.189625,
            "symbol": "circle"
           },
           "mode": "markers",
           "name": "Jammu & Kashmir",
           "showlegend": true,
           "type": "scattergeo"
          },
          {
           "geo": "geo",
           "hovertemplate": "<b>%{hovertext}</b><br><br>Region=Jharkhand<br>month=july<br>EstimatedUnemploymentRate=%{marker.size}<br>latitude=%{lat}<br>longitude=%{lon}<extra></extra>",
           "hovertext": [
            "Jharkhand"
           ],
           "lat": [
            85.2799
           ],
           "legendgroup": "Jharkhand",
           "lon": [
            23.6102
           ],
           "marker": {
            "color": "#636efa",
            "size": [
             7.63
            ],
            "sizemode": "area",
            "sizeref": 0.189625,
            "symbol": "circle"
           },
           "mode": "markers",
           "name": "Jharkhand",
           "showlegend": true,
           "type": "scattergeo"
          },
          {
           "geo": "geo",
           "hovertemplate": "<b>%{hovertext}</b><br><br>Region=Karnataka<br>month=july<br>EstimatedUnemploymentRate=%{marker.size}<br>latitude=%{lat}<br>longitude=%{lon}<extra></extra>",
           "hovertext": [
            "Karnataka"
           ],
           "lat": [
            75.7139
           ],
           "legendgroup": "Karnataka",
           "lon": [
            15.3173
           ],
           "marker": {
            "color": "#EF553B",
            "size": [
             4.01
            ],
            "sizemode": "area",
            "sizeref": 0.189625,
            "symbol": "circle"
           },
           "mode": "markers",
           "name": "Karnataka",
           "showlegend": true,
           "type": "scattergeo"
          },
          {
           "geo": "geo",
           "hovertemplate": "<b>%{hovertext}</b><br><br>Region=Kerala<br>month=july<br>EstimatedUnemploymentRate=%{marker.size}<br>latitude=%{lat}<br>longitude=%{lon}<extra></extra>",
           "hovertext": [
            "Kerala"
           ],
           "lat": [
            76.2711
           ],
           "legendgroup": "Kerala",
           "lon": [
            10.8505
           ],
           "marker": {
            "color": "#00cc96",
            "size": [
             7.09
            ],
            "sizemode": "area",
            "sizeref": 0.189625,
            "symbol": "circle"
           },
           "mode": "markers",
           "name": "Kerala",
           "showlegend": true,
           "type": "scattergeo"
          },
          {
           "geo": "geo",
           "hovertemplate": "<b>%{hovertext}</b><br><br>Region=Madhya Pradesh<br>month=july<br>EstimatedUnemploymentRate=%{marker.size}<br>latitude=%{lat}<br>longitude=%{lon}<extra></extra>",
           "hovertext": [
            "Madhya Pradesh"
           ],
           "lat": [
            78.6569
           ],
           "legendgroup": "Madhya Pradesh",
           "lon": [
            22.9734
           ],
           "marker": {
            "color": "#ab63fa",
            "size": [
             5.08
            ],
            "sizemode": "area",
            "sizeref": 0.189625,
            "symbol": "circle"
           },
           "mode": "markers",
           "name": "Madhya Pradesh",
           "showlegend": true,
           "type": "scattergeo"
          },
          {
           "geo": "geo",
           "hovertemplate": "<b>%{hovertext}</b><br><br>Region=Maharashtra<br>month=july<br>EstimatedUnemploymentRate=%{marker.size}<br>latitude=%{lat}<br>longitude=%{lon}<extra></extra>",
           "hovertext": [
            "Maharashtra"
           ],
           "lat": [
            75.7139
           ],
           "legendgroup": "Maharashtra",
           "lon": [
            19.7515
           ],
           "marker": {
            "color": "#FFA15A",
            "size": [
             3.89
            ],
            "sizemode": "area",
            "sizeref": 0.189625,
            "symbol": "circle"
           },
           "mode": "markers",
           "name": "Maharashtra",
           "showlegend": true,
           "type": "scattergeo"
          },
          {
           "geo": "geo",
           "hovertemplate": "<b>%{hovertext}</b><br><br>Region=Meghalaya<br>month=july<br>EstimatedUnemploymentRate=%{marker.size}<br>latitude=%{lat}<br>longitude=%{lon}<extra></extra>",
           "hovertext": [
            "Meghalaya"
           ],
           "lat": [
            91.3662
           ],
           "legendgroup": "Meghalaya",
           "lon": [
            25.467
           ],
           "marker": {
            "color": "#19d3f3",
            "size": [
             2.1
            ],
            "sizemode": "area",
            "sizeref": 0.189625,
            "symbol": "circle"
           },
           "mode": "markers",
           "name": "Meghalaya",
           "showlegend": true,
           "type": "scattergeo"
          },
          {
           "geo": "geo",
           "hovertemplate": "<b>%{hovertext}</b><br><br>Region=Odisha<br>month=july<br>EstimatedUnemploymentRate=%{marker.size}<br>latitude=%{lat}<br>longitude=%{lon}<extra></extra>",
           "hovertext": [
            "Odisha"
           ],
           "lat": [
            85.0985
           ],
           "legendgroup": "Odisha",
           "lon": [
            20.9517
           ],
           "marker": {
            "color": "#FF6692",
            "size": [
             1.88
            ],
            "sizemode": "area",
            "sizeref": 0.189625,
            "symbol": "circle"
           },
           "mode": "markers",
           "name": "Odisha",
           "showlegend": true,
           "type": "scattergeo"
          },
          {
           "geo": "geo",
           "hovertemplate": "<b>%{hovertext}</b><br><br>Region=Puducherry<br>month=july<br>EstimatedUnemploymentRate=%{marker.size}<br>latitude=%{lat}<br>longitude=%{lon}<extra></extra>",
           "hovertext": [
            "Puducherry"
           ],
           "lat": [
            79.8083
           ],
           "legendgroup": "Puducherry",
           "lon": [
            11.9416
           ],
           "marker": {
            "color": "#B6E880",
            "size": [
             15.47
            ],
            "sizemode": "area",
            "sizeref": 0.189625,
            "symbol": "circle"
           },
           "mode": "markers",
           "name": "Puducherry",
           "showlegend": true,
           "type": "scattergeo"
          },
          {
           "geo": "geo",
           "hovertemplate": "<b>%{hovertext}</b><br><br>Region=Punjab<br>month=july<br>EstimatedUnemploymentRate=%{marker.size}<br>latitude=%{lat}<br>longitude=%{lon}<extra></extra>",
           "hovertext": [
            "Punjab"
           ],
           "lat": [
            75.3412
           ],
           "legendgroup": "Punjab",
           "lon": [
            31.1471
           ],
           "marker": {
            "color": "#FF97FF",
            "size": [
             9.19
            ],
            "sizemode": "area",
            "sizeref": 0.189625,
            "symbol": "circle"
           },
           "mode": "markers",
           "name": "Punjab",
           "showlegend": true,
           "type": "scattergeo"
          },
          {
           "geo": "geo",
           "hovertemplate": "<b>%{hovertext}</b><br><br>Region=Rajasthan<br>month=july<br>EstimatedUnemploymentRate=%{marker.size}<br>latitude=%{lat}<br>longitude=%{lon}<extra></extra>",
           "hovertext": [
            "Rajasthan"
           ],
           "lat": [
            74.2179
           ],
           "legendgroup": "Rajasthan",
           "lon": [
            27.0238
           ],
           "marker": {
            "color": "#FECB52",
            "size": [
             15.81
            ],
            "sizemode": "area",
            "sizeref": 0.189625,
            "symbol": "circle"
           },
           "mode": "markers",
           "name": "Rajasthan",
           "showlegend": true,
           "type": "scattergeo"
          },
          {
           "geo": "geo",
           "hovertemplate": "<b>%{hovertext}</b><br><br>Region=Sikkim<br>month=july<br>EstimatedUnemploymentRate=%{marker.size}<br>latitude=%{lat}<br>longitude=%{lon}<extra></extra>",
           "hovertext": [
            "Sikkim"
           ],
           "lat": [
            88.5122
           ],
           "legendgroup": "Sikkim",
           "lon": [
            27.533
           ],
           "marker": {
            "color": "#636efa",
            "size": [
             4.45
            ],
            "sizemode": "area",
            "sizeref": 0.189625,
            "symbol": "circle"
           },
           "mode": "markers",
           "name": "Sikkim",
           "showlegend": true,
           "type": "scattergeo"
          },
          {
           "geo": "geo",
           "hovertemplate": "<b>%{hovertext}</b><br><br>Region=Tamil Nadu<br>month=july<br>EstimatedUnemploymentRate=%{marker.size}<br>latitude=%{lat}<br>longitude=%{lon}<extra></extra>",
           "hovertext": [
            "Tamil Nadu"
           ],
           "lat": [
            78.6569
           ],
           "legendgroup": "Tamil Nadu",
           "lon": [
            11.1271
           ],
           "marker": {
            "color": "#EF553B",
            "size": [
             6.81
            ],
            "sizemode": "area",
            "sizeref": 0.189625,
            "symbol": "circle"
           },
           "mode": "markers",
           "name": "Tamil Nadu",
           "showlegend": true,
           "type": "scattergeo"
          },
          {
           "geo": "geo",
           "hovertemplate": "<b>%{hovertext}</b><br><br>Region=Telangana<br>month=july<br>EstimatedUnemploymentRate=%{marker.size}<br>latitude=%{lat}<br>longitude=%{lon}<extra></extra>",
           "hovertext": [
            "Telangana"
           ],
           "lat": [
            79.0193
           ],
           "legendgroup": "Telangana",
           "lon": [
            18.1124
           ],
           "marker": {
            "color": "#00cc96",
            "size": [
             5.36
            ],
            "sizemode": "area",
            "sizeref": 0.189625,
            "symbol": "circle"
           },
           "mode": "markers",
           "name": "Telangana",
           "showlegend": true,
           "type": "scattergeo"
          },
          {
           "geo": "geo",
           "hovertemplate": "<b>%{hovertext}</b><br><br>Region=Tripura<br>month=july<br>EstimatedUnemploymentRate=%{marker.size}<br>latitude=%{lat}<br>longitude=%{lon}<extra></extra>",
           "hovertext": [
            "Tripura"
           ],
           "lat": [
            91.9882
           ],
           "legendgroup": "Tripura",
           "lon": [
            23.9408
           ],
           "marker": {
            "color": "#ab63fa",
            "size": [
             18.24
            ],
            "sizemode": "area",
            "sizeref": 0.189625,
            "symbol": "circle"
           },
           "mode": "markers",
           "name": "Tripura",
           "showlegend": true,
           "type": "scattergeo"
          },
          {
           "geo": "geo",
           "hovertemplate": "<b>%{hovertext}</b><br><br>Region=Uttar Pradesh<br>month=july<br>EstimatedUnemploymentRate=%{marker.size}<br>latitude=%{lat}<br>longitude=%{lon}<extra></extra>",
           "hovertext": [
            "Uttar Pradesh"
           ],
           "lat": [
            80.9462
           ],
           "legendgroup": "Uttar Pradesh",
           "lon": [
            26.8467
           ],
           "marker": {
            "color": "#FFA15A",
            "size": [
             5.56
            ],
            "sizemode": "area",
            "sizeref": 0.189625,
            "symbol": "circle"
           },
           "mode": "markers",
           "name": "Uttar Pradesh",
           "showlegend": true,
           "type": "scattergeo"
          },
          {
           "geo": "geo",
           "hovertemplate": "<b>%{hovertext}</b><br><br>Region=Uttarakhand<br>month=july<br>EstimatedUnemploymentRate=%{marker.size}<br>latitude=%{lat}<br>longitude=%{lon}<extra></extra>",
           "hovertext": [
            "Uttarakhand"
           ],
           "lat": [
            79.0193
           ],
           "legendgroup": "Uttarakhand",
           "lon": [
            30.0668
           ],
           "marker": {
            "color": "#19d3f3",
            "size": [
             12.38
            ],
            "sizemode": "area",
            "sizeref": 0.189625,
            "symbol": "circle"
           },
           "mode": "markers",
           "name": "Uttarakhand",
           "showlegend": true,
           "type": "scattergeo"
          },
          {
           "geo": "geo",
           "hovertemplate": "<b>%{hovertext}</b><br><br>Region=West Bengal<br>month=july<br>EstimatedUnemploymentRate=%{marker.size}<br>latitude=%{lat}<br>longitude=%{lon}<extra></extra>",
           "hovertext": [
            "West Bengal"
           ],
           "lat": [
            87.855
           ],
           "legendgroup": "West Bengal",
           "lon": [
            22.9868
           ],
           "marker": {
            "color": "#FF6692",
            "size": [
             6.83
            ],
            "sizemode": "area",
            "sizeref": 0.189625,
            "symbol": "circle"
           },
           "mode": "markers",
           "name": "West Bengal",
           "showlegend": true,
           "type": "scattergeo"
          }
         ],
         "name": "july"
        },
        {
         "data": [
          {
           "geo": "geo",
           "hovertemplate": "<b>%{hovertext}</b><br><br>Region=Andhra Pradesh<br>month=august<br>EstimatedUnemploymentRate=%{marker.size}<br>latitude=%{lat}<br>longitude=%{lon}<extra></extra>",
           "hovertext": [
            "Andhra Pradesh"
           ],
           "lat": [
            79.74
           ],
           "legendgroup": "Andhra Pradesh",
           "lon": [
            15.9129
           ],
           "marker": {
            "color": "#636efa",
            "size": [
             6.96
            ],
            "sizemode": "area",
            "sizeref": 0.189625,
            "symbol": "circle"
           },
           "mode": "markers",
           "name": "Andhra Pradesh",
           "showlegend": true,
           "type": "scattergeo"
          },
          {
           "geo": "geo",
           "hovertemplate": "<b>%{hovertext}</b><br><br>Region=Assam<br>month=august<br>EstimatedUnemploymentRate=%{marker.size}<br>latitude=%{lat}<br>longitude=%{lon}<extra></extra>",
           "hovertext": [
            "Assam"
           ],
           "lat": [
            92.9376
           ],
           "legendgroup": "Assam",
           "lon": [
            26.2006
           ],
           "marker": {
            "color": "#EF553B",
            "size": [
             5.53
            ],
            "sizemode": "area",
            "sizeref": 0.189625,
            "symbol": "circle"
           },
           "mode": "markers",
           "name": "Assam",
           "showlegend": true,
           "type": "scattergeo"
          },
          {
           "geo": "geo",
           "hovertemplate": "<b>%{hovertext}</b><br><br>Region=Bihar<br>month=august<br>EstimatedUnemploymentRate=%{marker.size}<br>latitude=%{lat}<br>longitude=%{lon}<extra></extra>",
           "hovertext": [
            "Bihar"
           ],
           "lat": [
            85.3131
           ],
           "legendgroup": "Bihar",
           "lon": [
            25.0961
           ],
           "marker": {
            "color": "#00cc96",
            "size": [
             13.44
            ],
            "sizemode": "area",
            "sizeref": 0.189625,
            "symbol": "circle"
           },
           "mode": "markers",
           "name": "Bihar",
           "showlegend": true,
           "type": "scattergeo"
          },
          {
           "geo": "geo",
           "hovertemplate": "<b>%{hovertext}</b><br><br>Region=Chhattisgarh<br>month=august<br>EstimatedUnemploymentRate=%{marker.size}<br>latitude=%{lat}<br>longitude=%{lon}<extra></extra>",
           "hovertext": [
            "Chhattisgarh"
           ],
           "lat": [
            81.8661
           ],
           "legendgroup": "Chhattisgarh",
           "lon": [
            21.2787
           ],
           "marker": {
            "color": "#ab63fa",
            "size": [
             5.63
            ],
            "sizemode": "area",
            "sizeref": 0.189625,
            "symbol": "circle"
           },
           "mode": "markers",
           "name": "Chhattisgarh",
           "showlegend": true,
           "type": "scattergeo"
          },
          {
           "geo": "geo",
           "hovertemplate": "<b>%{hovertext}</b><br><br>Region=Delhi<br>month=august<br>EstimatedUnemploymentRate=%{marker.size}<br>latitude=%{lat}<br>longitude=%{lon}<extra></extra>",
           "hovertext": [
            "Delhi"
           ],
           "lat": [
            77.1025
           ],
           "legendgroup": "Delhi",
           "lon": [
            28.7041
           ],
           "marker": {
            "color": "#FFA15A",
            "size": [
             13.79
            ],
            "sizemode": "area",
            "sizeref": 0.189625,
            "symbol": "circle"
           },
           "mode": "markers",
           "name": "Delhi",
           "showlegend": true,
           "type": "scattergeo"
          },
          {
           "geo": "geo",
           "hovertemplate": "<b>%{hovertext}</b><br><br>Region=Goa<br>month=august<br>EstimatedUnemploymentRate=%{marker.size}<br>latitude=%{lat}<br>longitude=%{lon}<extra></extra>",
           "hovertext": [
            "Goa"
           ],
           "lat": [
            74.124
           ],
           "legendgroup": "Goa",
           "lon": [
            15.2993
           ],
           "marker": {
            "color": "#19d3f3",
            "size": [
             16.21
            ],
            "sizemode": "area",
            "sizeref": 0.189625,
            "symbol": "circle"
           },
           "mode": "markers",
           "name": "Goa",
           "showlegend": true,
           "type": "scattergeo"
          },
          {
           "geo": "geo",
           "hovertemplate": "<b>%{hovertext}</b><br><br>Region=Gujarat<br>month=august<br>EstimatedUnemploymentRate=%{marker.size}<br>latitude=%{lat}<br>longitude=%{lon}<extra></extra>",
           "hovertext": [
            "Gujarat"
           ],
           "lat": [
            71.1924
           ],
           "legendgroup": "Gujarat",
           "lon": [
            22.2587
           ],
           "marker": {
            "color": "#FF6692",
            "size": [
             1.87
            ],
            "sizemode": "area",
            "sizeref": 0.189625,
            "symbol": "circle"
           },
           "mode": "markers",
           "name": "Gujarat",
           "showlegend": true,
           "type": "scattergeo"
          },
          {
           "geo": "geo",
           "hovertemplate": "<b>%{hovertext}</b><br><br>Region=Haryana<br>month=august<br>EstimatedUnemploymentRate=%{marker.size}<br>latitude=%{lat}<br>longitude=%{lon}<extra></extra>",
           "hovertext": [
            "Haryana"
           ],
           "lat": [
            76.0856
           ],
           "legendgroup": "Haryana",
           "lon": [
            29.0588
           ],
           "marker": {
            "color": "#B6E880",
            "size": [
             33.5
            ],
            "sizemode": "area",
            "sizeref": 0.189625,
            "symbol": "circle"
           },
           "mode": "markers",
           "name": "Haryana",
           "showlegend": true,
           "type": "scattergeo"
          },
          {
           "geo": "geo",
           "hovertemplate": "<b>%{hovertext}</b><br><br>Region=Himachal Pradesh<br>month=august<br>EstimatedUnemploymentRate=%{marker.size}<br>latitude=%{lat}<br>longitude=%{lon}<extra></extra>",
           "hovertext": [
            "Himachal Pradesh"
           ],
           "lat": [
            77.1734
           ],
           "legendgroup": "Himachal Pradesh",
           "lon": [
            31.1048
           ],
           "marker": {
            "color": "#FF97FF",
            "size": [
             15.79
            ],
            "sizemode": "area",
            "sizeref": 0.189625,
            "symbol": "circle"
           },
           "mode": "markers",
           "name": "Himachal Pradesh",
           "showlegend": true,
           "type": "scattergeo"
          },
          {
           "geo": "geo",
           "hovertemplate": "<b>%{hovertext}</b><br><br>Region=Jammu & Kashmir<br>month=august<br>EstimatedUnemploymentRate=%{marker.size}<br>latitude=%{lat}<br>longitude=%{lon}<extra></extra>",
           "hovertext": [
            "Jammu & Kashmir"
           ],
           "lat": [
            76.5762
           ],
           "legendgroup": "Jammu & Kashmir",
           "lon": [
            33.7782
           ],
           "marker": {
            "color": "#FECB52",
            "size": [
             11.09
            ],
            "sizemode": "area",
            "sizeref": 0.189625,
            "symbol": "circle"
           },
           "mode": "markers",
           "name": "Jammu & Kashmir",
           "showlegend": true,
           "type": "scattergeo"
          },
          {
           "geo": "geo",
           "hovertemplate": "<b>%{hovertext}</b><br><br>Region=Jharkhand<br>month=august<br>EstimatedUnemploymentRate=%{marker.size}<br>latitude=%{lat}<br>longitude=%{lon}<extra></extra>",
           "hovertext": [
            "Jharkhand"
           ],
           "lat": [
            85.2799
           ],
           "legendgroup": "Jharkhand",
           "lon": [
            23.6102
           ],
           "marker": {
            "color": "#636efa",
            "size": [
             9.76
            ],
            "sizemode": "area",
            "sizeref": 0.189625,
            "symbol": "circle"
           },
           "mode": "markers",
           "name": "Jharkhand",
           "showlegend": true,
           "type": "scattergeo"
          },
          {
           "geo": "geo",
           "hovertemplate": "<b>%{hovertext}</b><br><br>Region=Karnataka<br>month=august<br>EstimatedUnemploymentRate=%{marker.size}<br>latitude=%{lat}<br>longitude=%{lon}<extra></extra>",
           "hovertext": [
            "Karnataka"
           ],
           "lat": [
            75.7139
           ],
           "legendgroup": "Karnataka",
           "lon": [
            15.3173
           ],
           "marker": {
            "color": "#EF553B",
            "size": [
             0.5
            ],
            "sizemode": "area",
            "sizeref": 0.189625,
            "symbol": "circle"
           },
           "mode": "markers",
           "name": "Karnataka",
           "showlegend": true,
           "type": "scattergeo"
          },
          {
           "geo": "geo",
           "hovertemplate": "<b>%{hovertext}</b><br><br>Region=Kerala<br>month=august<br>EstimatedUnemploymentRate=%{marker.size}<br>latitude=%{lat}<br>longitude=%{lon}<extra></extra>",
           "hovertext": [
            "Kerala"
           ],
           "lat": [
            76.2711
           ],
           "legendgroup": "Kerala",
           "lon": [
            10.8505
           ],
           "marker": {
            "color": "#00cc96",
            "size": [
             10.98
            ],
            "sizemode": "area",
            "sizeref": 0.189625,
            "symbol": "circle"
           },
           "mode": "markers",
           "name": "Kerala",
           "showlegend": true,
           "type": "scattergeo"
          },
          {
           "geo": "geo",
           "hovertemplate": "<b>%{hovertext}</b><br><br>Region=Madhya Pradesh<br>month=august<br>EstimatedUnemploymentRate=%{marker.size}<br>latitude=%{lat}<br>longitude=%{lon}<extra></extra>",
           "hovertext": [
            "Madhya Pradesh"
           ],
           "lat": [
            78.6569
           ],
           "legendgroup": "Madhya Pradesh",
           "lon": [
            22.9734
           ],
           "marker": {
            "color": "#ab63fa",
            "size": [
             4.7
            ],
            "sizemode": "area",
            "sizeref": 0.189625,
            "symbol": "circle"
           },
           "mode": "markers",
           "name": "Madhya Pradesh",
           "showlegend": true,
           "type": "scattergeo"
          },
          {
           "geo": "geo",
           "hovertemplate": "<b>%{hovertext}</b><br><br>Region=Maharashtra<br>month=august<br>EstimatedUnemploymentRate=%{marker.size}<br>latitude=%{lat}<br>longitude=%{lon}<extra></extra>",
           "hovertext": [
            "Maharashtra"
           ],
           "lat": [
            75.7139
           ],
           "legendgroup": "Maharashtra",
           "lon": [
            19.7515
           ],
           "marker": {
            "color": "#FFA15A",
            "size": [
             6.23
            ],
            "sizemode": "area",
            "sizeref": 0.189625,
            "symbol": "circle"
           },
           "mode": "markers",
           "name": "Maharashtra",
           "showlegend": true,
           "type": "scattergeo"
          },
          {
           "geo": "geo",
           "hovertemplate": "<b>%{hovertext}</b><br><br>Region=Meghalaya<br>month=august<br>EstimatedUnemploymentRate=%{marker.size}<br>latitude=%{lat}<br>longitude=%{lon}<extra></extra>",
           "hovertext": [
            "Meghalaya"
           ],
           "lat": [
            91.3662
           ],
           "legendgroup": "Meghalaya",
           "lon": [
            25.467
           ],
           "marker": {
            "color": "#19d3f3",
            "size": [
             3.74
            ],
            "sizemode": "area",
            "sizeref": 0.189625,
            "symbol": "circle"
           },
           "mode": "markers",
           "name": "Meghalaya",
           "showlegend": true,
           "type": "scattergeo"
          },
          {
           "geo": "geo",
           "hovertemplate": "<b>%{hovertext}</b><br><br>Region=Odisha<br>month=august<br>EstimatedUnemploymentRate=%{marker.size}<br>latitude=%{lat}<br>longitude=%{lon}<extra></extra>",
           "hovertext": [
            "Odisha"
           ],
           "lat": [
            85.0985
           ],
           "legendgroup": "Odisha",
           "lon": [
            20.9517
           ],
           "marker": {
            "color": "#FF6692",
            "size": [
             1.42
            ],
            "sizemode": "area",
            "sizeref": 0.189625,
            "symbol": "circle"
           },
           "mode": "markers",
           "name": "Odisha",
           "showlegend": true,
           "type": "scattergeo"
          },
          {
           "geo": "geo",
           "hovertemplate": "<b>%{hovertext}</b><br><br>Region=Puducherry<br>month=august<br>EstimatedUnemploymentRate=%{marker.size}<br>latitude=%{lat}<br>longitude=%{lon}<extra></extra>",
           "hovertext": [
            "Puducherry"
           ],
           "lat": [
            79.8083
           ],
           "legendgroup": "Puducherry",
           "lon": [
            11.9416
           ],
           "marker": {
            "color": "#B6E880",
            "size": [
             5.05
            ],
            "sizemode": "area",
            "sizeref": 0.189625,
            "symbol": "circle"
           },
           "mode": "markers",
           "name": "Puducherry",
           "showlegend": true,
           "type": "scattergeo"
          },
          {
           "geo": "geo",
           "hovertemplate": "<b>%{hovertext}</b><br><br>Region=Punjab<br>month=august<br>EstimatedUnemploymentRate=%{marker.size}<br>latitude=%{lat}<br>longitude=%{lon}<extra></extra>",
           "hovertext": [
            "Punjab"
           ],
           "lat": [
            75.3412
           ],
           "legendgroup": "Punjab",
           "lon": [
            31.1471
           ],
           "marker": {
            "color": "#FF97FF",
            "size": [
             10.99
            ],
            "sizemode": "area",
            "sizeref": 0.189625,
            "symbol": "circle"
           },
           "mode": "markers",
           "name": "Punjab",
           "showlegend": true,
           "type": "scattergeo"
          },
          {
           "geo": "geo",
           "hovertemplate": "<b>%{hovertext}</b><br><br>Region=Rajasthan<br>month=august<br>EstimatedUnemploymentRate=%{marker.size}<br>latitude=%{lat}<br>longitude=%{lon}<extra></extra>",
           "hovertext": [
            "Rajasthan"
           ],
           "lat": [
            74.2179
           ],
           "legendgroup": "Rajasthan",
           "lon": [
            27.0238
           ],
           "marker": {
            "color": "#FECB52",
            "size": [
             17.51
            ],
            "sizemode": "area",
            "sizeref": 0.189625,
            "symbol": "circle"
           },
           "mode": "markers",
           "name": "Rajasthan",
           "showlegend": true,
           "type": "scattergeo"
          },
          {
           "geo": "geo",
           "hovertemplate": "<b>%{hovertext}</b><br><br>Region=Sikkim<br>month=august<br>EstimatedUnemploymentRate=%{marker.size}<br>latitude=%{lat}<br>longitude=%{lon}<extra></extra>",
           "hovertext": [
            "Sikkim"
           ],
           "lat": [
            88.5122
           ],
           "legendgroup": "Sikkim",
           "lon": [
            27.533
           ],
           "marker": {
            "color": "#636efa",
            "size": [
             12.49
            ],
            "sizemode": "area",
            "sizeref": 0.189625,
            "symbol": "circle"
           },
           "mode": "markers",
           "name": "Sikkim",
           "showlegend": true,
           "type": "scattergeo"
          },
          {
           "geo": "geo",
           "hovertemplate": "<b>%{hovertext}</b><br><br>Region=Tamil Nadu<br>month=august<br>EstimatedUnemploymentRate=%{marker.size}<br>latitude=%{lat}<br>longitude=%{lon}<extra></extra>",
           "hovertext": [
            "Tamil Nadu"
           ],
           "lat": [
            78.6569
           ],
           "legendgroup": "Tamil Nadu",
           "lon": [
            11.1271
           ],
           "marker": {
            "color": "#EF553B",
            "size": [
             2.65
            ],
            "sizemode": "area",
            "sizeref": 0.189625,
            "symbol": "circle"
           },
           "mode": "markers",
           "name": "Tamil Nadu",
           "showlegend": true,
           "type": "scattergeo"
          },
          {
           "geo": "geo",
           "hovertemplate": "<b>%{hovertext}</b><br><br>Region=Telangana<br>month=august<br>EstimatedUnemploymentRate=%{marker.size}<br>latitude=%{lat}<br>longitude=%{lon}<extra></extra>",
           "hovertext": [
            "Telangana"
           ],
           "lat": [
            79.0193
           ],
           "legendgroup": "Telangana",
           "lon": [
            18.1124
           ],
           "marker": {
            "color": "#00cc96",
            "size": [
             5.79
            ],
            "sizemode": "area",
            "sizeref": 0.189625,
            "symbol": "circle"
           },
           "mode": "markers",
           "name": "Telangana",
           "showlegend": true,
           "type": "scattergeo"
          },
          {
           "geo": "geo",
           "hovertemplate": "<b>%{hovertext}</b><br><br>Region=Tripura<br>month=august<br>EstimatedUnemploymentRate=%{marker.size}<br>latitude=%{lat}<br>longitude=%{lon}<extra></extra>",
           "hovertext": [
            "Tripura"
           ],
           "lat": [
            91.9882
           ],
           "legendgroup": "Tripura",
           "lon": [
            23.9408
           ],
           "marker": {
            "color": "#ab63fa",
            "size": [
             27.92
            ],
            "sizemode": "area",
            "sizeref": 0.189625,
            "symbol": "circle"
           },
           "mode": "markers",
           "name": "Tripura",
           "showlegend": true,
           "type": "scattergeo"
          },
          {
           "geo": "geo",
           "hovertemplate": "<b>%{hovertext}</b><br><br>Region=Uttar Pradesh<br>month=august<br>EstimatedUnemploymentRate=%{marker.size}<br>latitude=%{lat}<br>longitude=%{lon}<extra></extra>",
           "hovertext": [
            "Uttar Pradesh"
           ],
           "lat": [
            80.9462
           ],
           "legendgroup": "Uttar Pradesh",
           "lon": [
            26.8467
           ],
           "marker": {
            "color": "#FFA15A",
            "size": [
             5.79
            ],
            "sizemode": "area",
            "sizeref": 0.189625,
            "symbol": "circle"
           },
           "mode": "markers",
           "name": "Uttar Pradesh",
           "showlegend": true,
           "type": "scattergeo"
          },
          {
           "geo": "geo",
           "hovertemplate": "<b>%{hovertext}</b><br><br>Region=Uttarakhand<br>month=august<br>EstimatedUnemploymentRate=%{marker.size}<br>latitude=%{lat}<br>longitude=%{lon}<extra></extra>",
           "hovertext": [
            "Uttarakhand"
           ],
           "lat": [
            79.0193
           ],
           "legendgroup": "Uttarakhand",
           "lon": [
            30.0668
           ],
           "marker": {
            "color": "#19d3f3",
            "size": [
             14.26
            ],
            "sizemode": "area",
            "sizeref": 0.189625,
            "symbol": "circle"
           },
           "mode": "markers",
           "name": "Uttarakhand",
           "showlegend": true,
           "type": "scattergeo"
          },
          {
           "geo": "geo",
           "hovertemplate": "<b>%{hovertext}</b><br><br>Region=West Bengal<br>month=august<br>EstimatedUnemploymentRate=%{marker.size}<br>latitude=%{lat}<br>longitude=%{lon}<extra></extra>",
           "hovertext": [
            "West Bengal"
           ],
           "lat": [
            87.855
           ],
           "legendgroup": "West Bengal",
           "lon": [
            22.9868
           ],
           "marker": {
            "color": "#FF6692",
            "size": [
             14.87
            ],
            "sizemode": "area",
            "sizeref": 0.189625,
            "symbol": "circle"
           },
           "mode": "markers",
           "name": "West Bengal",
           "showlegend": true,
           "type": "scattergeo"
          }
         ],
         "name": "august"
        },
        {
         "data": [
          {
           "geo": "geo",
           "hovertemplate": "<b>%{hovertext}</b><br><br>Region=Andhra Pradesh<br>month=september<br>EstimatedUnemploymentRate=%{marker.size}<br>latitude=%{lat}<br>longitude=%{lon}<extra></extra>",
           "hovertext": [
            "Andhra Pradesh"
           ],
           "lat": [
            79.74
           ],
           "legendgroup": "Andhra Pradesh",
           "lon": [
            15.9129
           ],
           "marker": {
            "color": "#636efa",
            "size": [
             6.4
            ],
            "sizemode": "area",
            "sizeref": 0.189625,
            "symbol": "circle"
           },
           "mode": "markers",
           "name": "Andhra Pradesh",
           "showlegend": true,
           "type": "scattergeo"
          },
          {
           "geo": "geo",
           "hovertemplate": "<b>%{hovertext}</b><br><br>Region=Assam<br>month=september<br>EstimatedUnemploymentRate=%{marker.size}<br>latitude=%{lat}<br>longitude=%{lon}<extra></extra>",
           "hovertext": [
            "Assam"
           ],
           "lat": [
            92.9376
           ],
           "legendgroup": "Assam",
           "lon": [
            26.2006
           ],
           "marker": {
            "color": "#EF553B",
            "size": [
             1.19
            ],
            "sizemode": "area",
            "sizeref": 0.189625,
            "symbol": "circle"
           },
           "mode": "markers",
           "name": "Assam",
           "showlegend": true,
           "type": "scattergeo"
          },
          {
           "geo": "geo",
           "hovertemplate": "<b>%{hovertext}</b><br><br>Region=Bihar<br>month=september<br>EstimatedUnemploymentRate=%{marker.size}<br>latitude=%{lat}<br>longitude=%{lon}<extra></extra>",
           "hovertext": [
            "Bihar"
           ],
           "lat": [
            85.3131
           ],
           "legendgroup": "Bihar",
           "lon": [
            25.0961
           ],
           "marker": {
            "color": "#00cc96",
            "size": [
             11.91
            ],
            "sizemode": "area",
            "sizeref": 0.189625,
            "symbol": "circle"
           },
           "mode": "markers",
           "name": "Bihar",
           "showlegend": true,
           "type": "scattergeo"
          },
          {
           "geo": "geo",
           "hovertemplate": "<b>%{hovertext}</b><br><br>Region=Chhattisgarh<br>month=september<br>EstimatedUnemploymentRate=%{marker.size}<br>latitude=%{lat}<br>longitude=%{lon}<extra></extra>",
           "hovertext": [
            "Chhattisgarh"
           ],
           "lat": [
            81.8661
           ],
           "legendgroup": "Chhattisgarh",
           "lon": [
            21.2787
           ],
           "marker": {
            "color": "#ab63fa",
            "size": [
             1.96
            ],
            "sizemode": "area",
            "sizeref": 0.189625,
            "symbol": "circle"
           },
           "mode": "markers",
           "name": "Chhattisgarh",
           "showlegend": true,
           "type": "scattergeo"
          },
          {
           "geo": "geo",
           "hovertemplate": "<b>%{hovertext}</b><br><br>Region=Delhi<br>month=september<br>EstimatedUnemploymentRate=%{marker.size}<br>latitude=%{lat}<br>longitude=%{lon}<extra></extra>",
           "hovertext": [
            "Delhi"
           ],
           "lat": [
            77.1025
           ],
           "legendgroup": "Delhi",
           "lon": [
            28.7041
           ],
           "marker": {
            "color": "#FFA15A",
            "size": [
             12.53
            ],
            "sizemode": "area",
            "sizeref": 0.189625,
            "symbol": "circle"
           },
           "mode": "markers",
           "name": "Delhi",
           "showlegend": true,
           "type": "scattergeo"
          },
          {
           "geo": "geo",
           "hovertemplate": "<b>%{hovertext}</b><br><br>Region=Goa<br>month=september<br>EstimatedUnemploymentRate=%{marker.size}<br>latitude=%{lat}<br>longitude=%{lon}<extra></extra>",
           "hovertext": [
            "Goa"
           ],
           "lat": [
            74.124
           ],
           "legendgroup": "Goa",
           "lon": [
            15.2993
           ],
           "marker": {
            "color": "#19d3f3",
            "size": [
             15.38
            ],
            "sizemode": "area",
            "sizeref": 0.189625,
            "symbol": "circle"
           },
           "mode": "markers",
           "name": "Goa",
           "showlegend": true,
           "type": "scattergeo"
          },
          {
           "geo": "geo",
           "hovertemplate": "<b>%{hovertext}</b><br><br>Region=Gujarat<br>month=september<br>EstimatedUnemploymentRate=%{marker.size}<br>latitude=%{lat}<br>longitude=%{lon}<extra></extra>",
           "hovertext": [
            "Gujarat"
           ],
           "lat": [
            71.1924
           ],
           "legendgroup": "Gujarat",
           "lon": [
            22.2587
           ],
           "marker": {
            "color": "#FF6692",
            "size": [
             3.42
            ],
            "sizemode": "area",
            "sizeref": 0.189625,
            "symbol": "circle"
           },
           "mode": "markers",
           "name": "Gujarat",
           "showlegend": true,
           "type": "scattergeo"
          },
          {
           "geo": "geo",
           "hovertemplate": "<b>%{hovertext}</b><br><br>Region=Haryana<br>month=september<br>EstimatedUnemploymentRate=%{marker.size}<br>latitude=%{lat}<br>longitude=%{lon}<extra></extra>",
           "hovertext": [
            "Haryana"
           ],
           "lat": [
            76.0856
           ],
           "legendgroup": "Haryana",
           "lon": [
            29.0588
           ],
           "marker": {
            "color": "#B6E880",
            "size": [
             19.68
            ],
            "sizemode": "area",
            "sizeref": 0.189625,
            "symbol": "circle"
           },
           "mode": "markers",
           "name": "Haryana",
           "showlegend": true,
           "type": "scattergeo"
          },
          {
           "geo": "geo",
           "hovertemplate": "<b>%{hovertext}</b><br><br>Region=Himachal Pradesh<br>month=september<br>EstimatedUnemploymentRate=%{marker.size}<br>latitude=%{lat}<br>longitude=%{lon}<extra></extra>",
           "hovertext": [
            "Himachal Pradesh"
           ],
           "lat": [
            77.1734
           ],
           "legendgroup": "Himachal Pradesh",
           "lon": [
            31.1048
           ],
           "marker": {
            "color": "#FF97FF",
            "size": [
             12.04
            ],
            "sizemode": "area",
            "sizeref": 0.189625,
            "symbol": "circle"
           },
           "mode": "markers",
           "name": "Himachal Pradesh",
           "showlegend": true,
           "type": "scattergeo"
          },
          {
           "geo": "geo",
           "hovertemplate": "<b>%{hovertext}</b><br><br>Region=Jammu & Kashmir<br>month=september<br>EstimatedUnemploymentRate=%{marker.size}<br>latitude=%{lat}<br>longitude=%{lon}<extra></extra>",
           "hovertext": [
            "Jammu & Kashmir"
           ],
           "lat": [
            76.5762
           ],
           "legendgroup": "Jammu & Kashmir",
           "lon": [
            33.7782
           ],
           "marker": {
            "color": "#FECB52",
            "size": [
             16.17
            ],
            "sizemode": "area",
            "sizeref": 0.189625,
            "symbol": "circle"
           },
           "mode": "markers",
           "name": "Jammu & Kashmir",
           "showlegend": true,
           "type": "scattergeo"
          },
          {
           "geo": "geo",
           "hovertemplate": "<b>%{hovertext}</b><br><br>Region=Jharkhand<br>month=september<br>EstimatedUnemploymentRate=%{marker.size}<br>latitude=%{lat}<br>longitude=%{lon}<extra></extra>",
           "hovertext": [
            "Jharkhand"
           ],
           "lat": [
            85.2799
           ],
           "legendgroup": "Jharkhand",
           "lon": [
            23.6102
           ],
           "marker": {
            "color": "#636efa",
            "size": [
             8.24
            ],
            "sizemode": "area",
            "sizeref": 0.189625,
            "symbol": "circle"
           },
           "mode": "markers",
           "name": "Jharkhand",
           "showlegend": true,
           "type": "scattergeo"
          },
          {
           "geo": "geo",
           "hovertemplate": "<b>%{hovertext}</b><br><br>Region=Karnataka<br>month=september<br>EstimatedUnemploymentRate=%{marker.size}<br>latitude=%{lat}<br>longitude=%{lon}<extra></extra>",
           "hovertext": [
            "Karnataka"
           ],
           "lat": [
            75.7139
           ],
           "legendgroup": "Karnataka",
           "lon": [
            15.3173
           ],
           "marker": {
            "color": "#EF553B",
            "size": [
             2.41
            ],
            "sizemode": "area",
            "sizeref": 0.189625,
            "symbol": "circle"
           },
           "mode": "markers",
           "name": "Karnataka",
           "showlegend": true,
           "type": "scattergeo"
          },
          {
           "geo": "geo",
           "hovertemplate": "<b>%{hovertext}</b><br><br>Region=Kerala<br>month=september<br>EstimatedUnemploymentRate=%{marker.size}<br>latitude=%{lat}<br>longitude=%{lon}<extra></extra>",
           "hovertext": [
            "Kerala"
           ],
           "lat": [
            76.2711
           ],
           "legendgroup": "Kerala",
           "lon": [
            10.8505
           ],
           "marker": {
            "color": "#00cc96",
            "size": [
             5.91
            ],
            "sizemode": "area",
            "sizeref": 0.189625,
            "symbol": "circle"
           },
           "mode": "markers",
           "name": "Kerala",
           "showlegend": true,
           "type": "scattergeo"
          },
          {
           "geo": "geo",
           "hovertemplate": "<b>%{hovertext}</b><br><br>Region=Madhya Pradesh<br>month=september<br>EstimatedUnemploymentRate=%{marker.size}<br>latitude=%{lat}<br>longitude=%{lon}<extra></extra>",
           "hovertext": [
            "Madhya Pradesh"
           ],
           "lat": [
            78.6569
           ],
           "legendgroup": "Madhya Pradesh",
           "lon": [
            22.9734
           ],
           "marker": {
            "color": "#ab63fa",
            "size": [
             3.91
            ],
            "sizemode": "area",
            "sizeref": 0.189625,
            "symbol": "circle"
           },
           "mode": "markers",
           "name": "Madhya Pradesh",
           "showlegend": true,
           "type": "scattergeo"
          },
          {
           "geo": "geo",
           "hovertemplate": "<b>%{hovertext}</b><br><br>Region=Maharashtra<br>month=september<br>EstimatedUnemploymentRate=%{marker.size}<br>latitude=%{lat}<br>longitude=%{lon}<extra></extra>",
           "hovertext": [
            "Maharashtra"
           ],
           "lat": [
            75.7139
           ],
           "legendgroup": "Maharashtra",
           "lon": [
            19.7515
           ],
           "marker": {
            "color": "#FFA15A",
            "size": [
             4.55
            ],
            "sizemode": "area",
            "sizeref": 0.189625,
            "symbol": "circle"
           },
           "mode": "markers",
           "name": "Maharashtra",
           "showlegend": true,
           "type": "scattergeo"
          },
          {
           "geo": "geo",
           "hovertemplate": "<b>%{hovertext}</b><br><br>Region=Meghalaya<br>month=september<br>EstimatedUnemploymentRate=%{marker.size}<br>latitude=%{lat}<br>longitude=%{lon}<extra></extra>",
           "hovertext": [
            "Meghalaya"
           ],
           "lat": [
            91.3662
           ],
           "legendgroup": "Meghalaya",
           "lon": [
            25.467
           ],
           "marker": {
            "color": "#19d3f3",
            "size": [
             4.29
            ],
            "sizemode": "area",
            "sizeref": 0.189625,
            "symbol": "circle"
           },
           "mode": "markers",
           "name": "Meghalaya",
           "showlegend": true,
           "type": "scattergeo"
          },
          {
           "geo": "geo",
           "hovertemplate": "<b>%{hovertext}</b><br><br>Region=Odisha<br>month=september<br>EstimatedUnemploymentRate=%{marker.size}<br>latitude=%{lat}<br>longitude=%{lon}<extra></extra>",
           "hovertext": [
            "Odisha"
           ],
           "lat": [
            85.0985
           ],
           "legendgroup": "Odisha",
           "lon": [
            20.9517
           ],
           "marker": {
            "color": "#FF6692",
            "size": [
             2.1
            ],
            "sizemode": "area",
            "sizeref": 0.189625,
            "symbol": "circle"
           },
           "mode": "markers",
           "name": "Odisha",
           "showlegend": true,
           "type": "scattergeo"
          },
          {
           "geo": "geo",
           "hovertemplate": "<b>%{hovertext}</b><br><br>Region=Puducherry<br>month=september<br>EstimatedUnemploymentRate=%{marker.size}<br>latitude=%{lat}<br>longitude=%{lon}<extra></extra>",
           "hovertext": [
            "Puducherry"
           ],
           "lat": [
            79.8083
           ],
           "legendgroup": "Puducherry",
           "lon": [
            11.9416
           ],
           "marker": {
            "color": "#B6E880",
            "size": [
             10.9
            ],
            "sizemode": "area",
            "sizeref": 0.189625,
            "symbol": "circle"
           },
           "mode": "markers",
           "name": "Puducherry",
           "showlegend": true,
           "type": "scattergeo"
          },
          {
           "geo": "geo",
           "hovertemplate": "<b>%{hovertext}</b><br><br>Region=Punjab<br>month=september<br>EstimatedUnemploymentRate=%{marker.size}<br>latitude=%{lat}<br>longitude=%{lon}<extra></extra>",
           "hovertext": [
            "Punjab"
           ],
           "lat": [
            75.3412
           ],
           "legendgroup": "Punjab",
           "lon": [
            31.1471
           ],
           "marker": {
            "color": "#FF97FF",
            "size": [
             9.61
            ],
            "sizemode": "area",
            "sizeref": 0.189625,
            "symbol": "circle"
           },
           "mode": "markers",
           "name": "Punjab",
           "showlegend": true,
           "type": "scattergeo"
          },
          {
           "geo": "geo",
           "hovertemplate": "<b>%{hovertext}</b><br><br>Region=Rajasthan<br>month=september<br>EstimatedUnemploymentRate=%{marker.size}<br>latitude=%{lat}<br>longitude=%{lon}<extra></extra>",
           "hovertext": [
            "Rajasthan"
           ],
           "lat": [
            74.2179
           ],
           "legendgroup": "Rajasthan",
           "lon": [
            27.0238
           ],
           "marker": {
            "color": "#FECB52",
            "size": [
             15.35
            ],
            "sizemode": "area",
            "sizeref": 0.189625,
            "symbol": "circle"
           },
           "mode": "markers",
           "name": "Rajasthan",
           "showlegend": true,
           "type": "scattergeo"
          },
          {
           "geo": "geo",
           "hovertemplate": "<b>%{hovertext}</b><br><br>Region=Sikkim<br>month=september<br>EstimatedUnemploymentRate=%{marker.size}<br>latitude=%{lat}<br>longitude=%{lon}<extra></extra>",
           "hovertext": [
            "Sikkim"
           ],
           "lat": [
            88.5122
           ],
           "legendgroup": "Sikkim",
           "lon": [
            27.533
           ],
           "marker": {
            "color": "#636efa",
            "size": [
             5.7
            ],
            "sizemode": "area",
            "sizeref": 0.189625,
            "symbol": "circle"
           },
           "mode": "markers",
           "name": "Sikkim",
           "showlegend": true,
           "type": "scattergeo"
          },
          {
           "geo": "geo",
           "hovertemplate": "<b>%{hovertext}</b><br><br>Region=Tamil Nadu<br>month=september<br>EstimatedUnemploymentRate=%{marker.size}<br>latitude=%{lat}<br>longitude=%{lon}<extra></extra>",
           "hovertext": [
            "Tamil Nadu"
           ],
           "lat": [
            78.6569
           ],
           "legendgroup": "Tamil Nadu",
           "lon": [
            11.1271
           ],
           "marker": {
            "color": "#EF553B",
            "size": [
             5
            ],
            "sizemode": "area",
            "sizeref": 0.189625,
            "symbol": "circle"
           },
           "mode": "markers",
           "name": "Tamil Nadu",
           "showlegend": true,
           "type": "scattergeo"
          },
          {
           "geo": "geo",
           "hovertemplate": "<b>%{hovertext}</b><br><br>Region=Telangana<br>month=september<br>EstimatedUnemploymentRate=%{marker.size}<br>latitude=%{lat}<br>longitude=%{lon}<extra></extra>",
           "hovertext": [
            "Telangana"
           ],
           "lat": [
            79.0193
           ],
           "legendgroup": "Telangana",
           "lon": [
            18.1124
           ],
           "marker": {
            "color": "#00cc96",
            "size": [
             3.27
            ],
            "sizemode": "area",
            "sizeref": 0.189625,
            "symbol": "circle"
           },
           "mode": "markers",
           "name": "Telangana",
           "showlegend": true,
           "type": "scattergeo"
          },
          {
           "geo": "geo",
           "hovertemplate": "<b>%{hovertext}</b><br><br>Region=Tripura<br>month=september<br>EstimatedUnemploymentRate=%{marker.size}<br>latitude=%{lat}<br>longitude=%{lon}<extra></extra>",
           "hovertext": [
            "Tripura"
           ],
           "lat": [
            91.9882
           ],
           "legendgroup": "Tripura",
           "lon": [
            23.9408
           ],
           "marker": {
            "color": "#ab63fa",
            "size": [
             17.35
            ],
            "sizemode": "area",
            "sizeref": 0.189625,
            "symbol": "circle"
           },
           "mode": "markers",
           "name": "Tripura",
           "showlegend": true,
           "type": "scattergeo"
          },
          {
           "geo": "geo",
           "hovertemplate": "<b>%{hovertext}</b><br><br>Region=Uttar Pradesh<br>month=september<br>EstimatedUnemploymentRate=%{marker.size}<br>latitude=%{lat}<br>longitude=%{lon}<extra></extra>",
           "hovertext": [
            "Uttar Pradesh"
           ],
           "lat": [
            80.9462
           ],
           "legendgroup": "Uttar Pradesh",
           "lon": [
            26.8467
           ],
           "marker": {
            "color": "#FFA15A",
            "size": [
             4.18
            ],
            "sizemode": "area",
            "sizeref": 0.189625,
            "symbol": "circle"
           },
           "mode": "markers",
           "name": "Uttar Pradesh",
           "showlegend": true,
           "type": "scattergeo"
          },
          {
           "geo": "geo",
           "hovertemplate": "<b>%{hovertext}</b><br><br>Region=Uttarakhand<br>month=september<br>EstimatedUnemploymentRate=%{marker.size}<br>latitude=%{lat}<br>longitude=%{lon}<extra></extra>",
           "hovertext": [
            "Uttarakhand"
           ],
           "lat": [
            79.0193
           ],
           "legendgroup": "Uttarakhand",
           "lon": [
            30.0668
           ],
           "marker": {
            "color": "#19d3f3",
            "size": [
             22.26
            ],
            "sizemode": "area",
            "sizeref": 0.189625,
            "symbol": "circle"
           },
           "mode": "markers",
           "name": "Uttarakhand",
           "showlegend": true,
           "type": "scattergeo"
          },
          {
           "geo": "geo",
           "hovertemplate": "<b>%{hovertext}</b><br><br>Region=West Bengal<br>month=september<br>EstimatedUnemploymentRate=%{marker.size}<br>latitude=%{lat}<br>longitude=%{lon}<extra></extra>",
           "hovertext": [
            "West Bengal"
           ],
           "lat": [
            87.855
           ],
           "legendgroup": "West Bengal",
           "lon": [
            22.9868
           ],
           "marker": {
            "color": "#FF6692",
            "size": [
             9.35
            ],
            "sizemode": "area",
            "sizeref": 0.189625,
            "symbol": "circle"
           },
           "mode": "markers",
           "name": "West Bengal",
           "showlegend": true,
           "type": "scattergeo"
          }
         ],
         "name": "september"
        },
        {
         "data": [
          {
           "geo": "geo",
           "hovertemplate": "<b>%{hovertext}</b><br><br>Region=Andhra Pradesh<br>month=october<br>EstimatedUnemploymentRate=%{marker.size}<br>latitude=%{lat}<br>longitude=%{lon}<extra></extra>",
           "hovertext": [
            "Andhra Pradesh"
           ],
           "lat": [
            79.74
           ],
           "legendgroup": "Andhra Pradesh",
           "lon": [
            15.9129
           ],
           "marker": {
            "color": "#636efa",
            "size": [
             6.59
            ],
            "sizemode": "area",
            "sizeref": 0.189625,
            "symbol": "circle"
           },
           "mode": "markers",
           "name": "Andhra Pradesh",
           "showlegend": true,
           "type": "scattergeo"
          },
          {
           "geo": "geo",
           "hovertemplate": "<b>%{hovertext}</b><br><br>Region=Assam<br>month=october<br>EstimatedUnemploymentRate=%{marker.size}<br>latitude=%{lat}<br>longitude=%{lon}<extra></extra>",
           "hovertext": [
            "Assam"
           ],
           "lat": [
            92.9376
           ],
           "legendgroup": "Assam",
           "lon": [
            26.2006
           ],
           "marker": {
            "color": "#EF553B",
            "size": [
             3.02
            ],
            "sizemode": "area",
            "sizeref": 0.189625,
            "symbol": "circle"
           },
           "mode": "markers",
           "name": "Assam",
           "showlegend": true,
           "type": "scattergeo"
          },
          {
           "geo": "geo",
           "hovertemplate": "<b>%{hovertext}</b><br><br>Region=Bihar<br>month=october<br>EstimatedUnemploymentRate=%{marker.size}<br>latitude=%{lat}<br>longitude=%{lon}<extra></extra>",
           "hovertext": [
            "Bihar"
           ],
           "lat": [
            85.3131
           ],
           "legendgroup": "Bihar",
           "lon": [
            25.0961
           ],
           "marker": {
            "color": "#00cc96",
            "size": [
             9.82
            ],
            "sizemode": "area",
            "sizeref": 0.189625,
            "symbol": "circle"
           },
           "mode": "markers",
           "name": "Bihar",
           "showlegend": true,
           "type": "scattergeo"
          },
          {
           "geo": "geo",
           "hovertemplate": "<b>%{hovertext}</b><br><br>Region=Chhattisgarh<br>month=october<br>EstimatedUnemploymentRate=%{marker.size}<br>latitude=%{lat}<br>longitude=%{lon}<extra></extra>",
           "hovertext": [
            "Chhattisgarh"
           ],
           "lat": [
            81.8661
           ],
           "legendgroup": "Chhattisgarh",
           "lon": [
            21.2787
           ],
           "marker": {
            "color": "#ab63fa",
            "size": [
             6.62
            ],
            "sizemode": "area",
            "sizeref": 0.189625,
            "symbol": "circle"
           },
           "mode": "markers",
           "name": "Chhattisgarh",
           "showlegend": true,
           "type": "scattergeo"
          },
          {
           "geo": "geo",
           "hovertemplate": "<b>%{hovertext}</b><br><br>Region=Delhi<br>month=october<br>EstimatedUnemploymentRate=%{marker.size}<br>latitude=%{lat}<br>longitude=%{lon}<extra></extra>",
           "hovertext": [
            "Delhi"
           ],
           "lat": [
            77.1025
           ],
           "legendgroup": "Delhi",
           "lon": [
            28.7041
           ],
           "marker": {
            "color": "#FFA15A",
            "size": [
             6.27
            ],
            "sizemode": "area",
            "sizeref": 0.189625,
            "symbol": "circle"
           },
           "mode": "markers",
           "name": "Delhi",
           "showlegend": true,
           "type": "scattergeo"
          },
          {
           "geo": "geo",
           "hovertemplate": "<b>%{hovertext}</b><br><br>Region=Goa<br>month=october<br>EstimatedUnemploymentRate=%{marker.size}<br>latitude=%{lat}<br>longitude=%{lon}<extra></extra>",
           "hovertext": [
            "Goa"
           ],
           "lat": [
            74.124
           ],
           "legendgroup": "Goa",
           "lon": [
            15.2993
           ],
           "marker": {
            "color": "#19d3f3",
            "size": [
             11.54
            ],
            "sizemode": "area",
            "sizeref": 0.189625,
            "symbol": "circle"
           },
           "mode": "markers",
           "name": "Goa",
           "showlegend": true,
           "type": "scattergeo"
          },
          {
           "geo": "geo",
           "hovertemplate": "<b>%{hovertext}</b><br><br>Region=Gujarat<br>month=october<br>EstimatedUnemploymentRate=%{marker.size}<br>latitude=%{lat}<br>longitude=%{lon}<extra></extra>",
           "hovertext": [
            "Gujarat"
           ],
           "lat": [
            71.1924
           ],
           "legendgroup": "Gujarat",
           "lon": [
            22.2587
           ],
           "marker": {
            "color": "#FF6692",
            "size": [
             4.03
            ],
            "sizemode": "area",
            "sizeref": 0.189625,
            "symbol": "circle"
           },
           "mode": "markers",
           "name": "Gujarat",
           "showlegend": true,
           "type": "scattergeo"
          },
          {
           "geo": "geo",
           "hovertemplate": "<b>%{hovertext}</b><br><br>Region=Haryana<br>month=october<br>EstimatedUnemploymentRate=%{marker.size}<br>latitude=%{lat}<br>longitude=%{lon}<extra></extra>",
           "hovertext": [
            "Haryana"
           ],
           "lat": [
            76.0856
           ],
           "legendgroup": "Haryana",
           "lon": [
            29.0588
           ],
           "marker": {
            "color": "#B6E880",
            "size": [
             27.31
            ],
            "sizemode": "area",
            "sizeref": 0.189625,
            "symbol": "circle"
           },
           "mode": "markers",
           "name": "Haryana",
           "showlegend": true,
           "type": "scattergeo"
          },
          {
           "geo": "geo",
           "hovertemplate": "<b>%{hovertext}</b><br><br>Region=Himachal Pradesh<br>month=october<br>EstimatedUnemploymentRate=%{marker.size}<br>latitude=%{lat}<br>longitude=%{lon}<extra></extra>",
           "hovertext": [
            "Himachal Pradesh"
           ],
           "lat": [
            77.1734
           ],
           "legendgroup": "Himachal Pradesh",
           "lon": [
            31.1048
           ],
           "marker": {
            "color": "#FF97FF",
            "size": [
             13.46
            ],
            "sizemode": "area",
            "sizeref": 0.189625,
            "symbol": "circle"
           },
           "mode": "markers",
           "name": "Himachal Pradesh",
           "showlegend": true,
           "type": "scattergeo"
          },
          {
           "geo": "geo",
           "hovertemplate": "<b>%{hovertext}</b><br><br>Region=Jammu & Kashmir<br>month=october<br>EstimatedUnemploymentRate=%{marker.size}<br>latitude=%{lat}<br>longitude=%{lon}<extra></extra>",
           "hovertext": [
            "Jammu & Kashmir"
           ],
           "lat": [
            76.5762
           ],
           "legendgroup": "Jammu & Kashmir",
           "lon": [
            33.7782
           ],
           "marker": {
            "color": "#FECB52",
            "size": [
             16.14
            ],
            "sizemode": "area",
            "sizeref": 0.189625,
            "symbol": "circle"
           },
           "mode": "markers",
           "name": "Jammu & Kashmir",
           "showlegend": true,
           "type": "scattergeo"
          },
          {
           "geo": "geo",
           "hovertemplate": "<b>%{hovertext}</b><br><br>Region=Jharkhand<br>month=october<br>EstimatedUnemploymentRate=%{marker.size}<br>latitude=%{lat}<br>longitude=%{lon}<extra></extra>",
           "hovertext": [
            "Jharkhand"
           ],
           "lat": [
            85.2799
           ],
           "legendgroup": "Jharkhand",
           "lon": [
            23.6102
           ],
           "marker": {
            "color": "#636efa",
            "size": [
             11.8
            ],
            "sizemode": "area",
            "sizeref": 0.189625,
            "symbol": "circle"
           },
           "mode": "markers",
           "name": "Jharkhand",
           "showlegend": true,
           "type": "scattergeo"
          },
          {
           "geo": "geo",
           "hovertemplate": "<b>%{hovertext}</b><br><br>Region=Karnataka<br>month=october<br>EstimatedUnemploymentRate=%{marker.size}<br>latitude=%{lat}<br>longitude=%{lon}<extra></extra>",
           "hovertext": [
            "Karnataka"
           ],
           "lat": [
            75.7139
           ],
           "legendgroup": "Karnataka",
           "lon": [
            15.3173
           ],
           "marker": {
            "color": "#EF553B",
            "size": [
             1.58
            ],
            "sizemode": "area",
            "sizeref": 0.189625,
            "symbol": "circle"
           },
           "mode": "markers",
           "name": "Karnataka",
           "showlegend": true,
           "type": "scattergeo"
          },
          {
           "geo": "geo",
           "hovertemplate": "<b>%{hovertext}</b><br><br>Region=Kerala<br>month=october<br>EstimatedUnemploymentRate=%{marker.size}<br>latitude=%{lat}<br>longitude=%{lon}<extra></extra>",
           "hovertext": [
            "Kerala"
           ],
           "lat": [
            76.2711
           ],
           "legendgroup": "Kerala",
           "lon": [
            10.8505
           ],
           "marker": {
            "color": "#00cc96",
            "size": [
             3.88
            ],
            "sizemode": "area",
            "sizeref": 0.189625,
            "symbol": "circle"
           },
           "mode": "markers",
           "name": "Kerala",
           "showlegend": true,
           "type": "scattergeo"
          },
          {
           "geo": "geo",
           "hovertemplate": "<b>%{hovertext}</b><br><br>Region=Madhya Pradesh<br>month=october<br>EstimatedUnemploymentRate=%{marker.size}<br>latitude=%{lat}<br>longitude=%{lon}<extra></extra>",
           "hovertext": [
            "Madhya Pradesh"
           ],
           "lat": [
            78.6569
           ],
           "legendgroup": "Madhya Pradesh",
           "lon": [
            22.9734
           ],
           "marker": {
            "color": "#ab63fa",
            "size": [
             3.13
            ],
            "sizemode": "area",
            "sizeref": 0.189625,
            "symbol": "circle"
           },
           "mode": "markers",
           "name": "Madhya Pradesh",
           "showlegend": true,
           "type": "scattergeo"
          },
          {
           "geo": "geo",
           "hovertemplate": "<b>%{hovertext}</b><br><br>Region=Maharashtra<br>month=october<br>EstimatedUnemploymentRate=%{marker.size}<br>latitude=%{lat}<br>longitude=%{lon}<extra></extra>",
           "hovertext": [
            "Maharashtra"
           ],
           "lat": [
            75.7139
           ],
           "legendgroup": "Maharashtra",
           "lon": [
            19.7515
           ],
           "marker": {
            "color": "#FFA15A",
            "size": [
             4.1
            ],
            "sizemode": "area",
            "sizeref": 0.189625,
            "symbol": "circle"
           },
           "mode": "markers",
           "name": "Maharashtra",
           "showlegend": true,
           "type": "scattergeo"
          },
          {
           "geo": "geo",
           "hovertemplate": "<b>%{hovertext}</b><br><br>Region=Meghalaya<br>month=october<br>EstimatedUnemploymentRate=%{marker.size}<br>latitude=%{lat}<br>longitude=%{lon}<extra></extra>",
           "hovertext": [
            "Meghalaya"
           ],
           "lat": [
            91.3662
           ],
           "legendgroup": "Meghalaya",
           "lon": [
            25.467
           ],
           "marker": {
            "color": "#19d3f3",
            "size": [
             4.6
            ],
            "sizemode": "area",
            "sizeref": 0.189625,
            "symbol": "circle"
           },
           "mode": "markers",
           "name": "Meghalaya",
           "showlegend": true,
           "type": "scattergeo"
          },
          {
           "geo": "geo",
           "hovertemplate": "<b>%{hovertext}</b><br><br>Region=Odisha<br>month=october<br>EstimatedUnemploymentRate=%{marker.size}<br>latitude=%{lat}<br>longitude=%{lon}<extra></extra>",
           "hovertext": [
            "Odisha"
           ],
           "lat": [
            85.0985
           ],
           "legendgroup": "Odisha",
           "lon": [
            20.9517
           ],
           "marker": {
            "color": "#FF6692",
            "size": [
             2.18
            ],
            "sizemode": "area",
            "sizeref": 0.189625,
            "symbol": "circle"
           },
           "mode": "markers",
           "name": "Odisha",
           "showlegend": true,
           "type": "scattergeo"
          },
          {
           "geo": "geo",
           "hovertemplate": "<b>%{hovertext}</b><br><br>Region=Puducherry<br>month=october<br>EstimatedUnemploymentRate=%{marker.size}<br>latitude=%{lat}<br>longitude=%{lon}<extra></extra>",
           "hovertext": [
            "Puducherry"
           ],
           "lat": [
            79.8083
           ],
           "legendgroup": "Puducherry",
           "lon": [
            11.9416
           ],
           "marker": {
            "color": "#B6E880",
            "size": [
             6.18
            ],
            "sizemode": "area",
            "sizeref": 0.189625,
            "symbol": "circle"
           },
           "mode": "markers",
           "name": "Puducherry",
           "showlegend": true,
           "type": "scattergeo"
          },
          {
           "geo": "geo",
           "hovertemplate": "<b>%{hovertext}</b><br><br>Region=Punjab<br>month=october<br>EstimatedUnemploymentRate=%{marker.size}<br>latitude=%{lat}<br>longitude=%{lon}<extra></extra>",
           "hovertext": [
            "Punjab"
           ],
           "lat": [
            75.3412
           ],
           "legendgroup": "Punjab",
           "lon": [
            31.1471
           ],
           "marker": {
            "color": "#FF97FF",
            "size": [
             9.88
            ],
            "sizemode": "area",
            "sizeref": 0.189625,
            "symbol": "circle"
           },
           "mode": "markers",
           "name": "Punjab",
           "showlegend": true,
           "type": "scattergeo"
          },
          {
           "geo": "geo",
           "hovertemplate": "<b>%{hovertext}</b><br><br>Region=Rajasthan<br>month=october<br>EstimatedUnemploymentRate=%{marker.size}<br>latitude=%{lat}<br>longitude=%{lon}<extra></extra>",
           "hovertext": [
            "Rajasthan"
           ],
           "lat": [
            74.2179
           ],
           "legendgroup": "Rajasthan",
           "lon": [
            27.0238
           ],
           "marker": {
            "color": "#FECB52",
            "size": [
             24.15
            ],
            "sizemode": "area",
            "sizeref": 0.189625,
            "symbol": "circle"
           },
           "mode": "markers",
           "name": "Rajasthan",
           "showlegend": true,
           "type": "scattergeo"
          },
          {
           "geo": "geo",
           "hovertemplate": "<b>%{hovertext}</b><br><br>Region=Sikkim<br>month=october<br>EstimatedUnemploymentRate=%{marker.size}<br>latitude=%{lat}<br>longitude=%{lon}<extra></extra>",
           "hovertext": [
            "Sikkim"
           ],
           "lat": [
            88.5122
           ],
           "legendgroup": "Sikkim",
           "lon": [
            27.533
           ],
           "marker": {
            "color": "#636efa",
            "size": [
             0.88
            ],
            "sizemode": "area",
            "sizeref": 0.189625,
            "symbol": "circle"
           },
           "mode": "markers",
           "name": "Sikkim",
           "showlegend": true,
           "type": "scattergeo"
          },
          {
           "geo": "geo",
           "hovertemplate": "<b>%{hovertext}</b><br><br>Region=Tamil Nadu<br>month=october<br>EstimatedUnemploymentRate=%{marker.size}<br>latitude=%{lat}<br>longitude=%{lon}<extra></extra>",
           "hovertext": [
            "Tamil Nadu"
           ],
           "lat": [
            78.6569
           ],
           "legendgroup": "Tamil Nadu",
           "lon": [
            11.1271
           ],
           "marker": {
            "color": "#EF553B",
            "size": [
             2.16
            ],
            "sizemode": "area",
            "sizeref": 0.189625,
            "symbol": "circle"
           },
           "mode": "markers",
           "name": "Tamil Nadu",
           "showlegend": true,
           "type": "scattergeo"
          },
          {
           "geo": "geo",
           "hovertemplate": "<b>%{hovertext}</b><br><br>Region=Telangana<br>month=october<br>EstimatedUnemploymentRate=%{marker.size}<br>latitude=%{lat}<br>longitude=%{lon}<extra></extra>",
           "hovertext": [
            "Telangana"
           ],
           "lat": [
            79.0193
           ],
           "legendgroup": "Telangana",
           "lon": [
            18.1124
           ],
           "marker": {
            "color": "#00cc96",
            "size": [
             2.86
            ],
            "sizemode": "area",
            "sizeref": 0.189625,
            "symbol": "circle"
           },
           "mode": "markers",
           "name": "Telangana",
           "showlegend": true,
           "type": "scattergeo"
          },
          {
           "geo": "geo",
           "hovertemplate": "<b>%{hovertext}</b><br><br>Region=Tripura<br>month=october<br>EstimatedUnemploymentRate=%{marker.size}<br>latitude=%{lat}<br>longitude=%{lon}<extra></extra>",
           "hovertext": [
            "Tripura"
           ],
           "lat": [
            91.9882
           ],
           "legendgroup": "Tripura",
           "lon": [
            23.9408
           ],
           "marker": {
            "color": "#ab63fa",
            "size": [
             11.57
            ],
            "sizemode": "area",
            "sizeref": 0.189625,
            "symbol": "circle"
           },
           "mode": "markers",
           "name": "Tripura",
           "showlegend": true,
           "type": "scattergeo"
          },
          {
           "geo": "geo",
           "hovertemplate": "<b>%{hovertext}</b><br><br>Region=Uttar Pradesh<br>month=october<br>EstimatedUnemploymentRate=%{marker.size}<br>latitude=%{lat}<br>longitude=%{lon}<extra></extra>",
           "hovertext": [
            "Uttar Pradesh"
           ],
           "lat": [
            80.9462
           ],
           "legendgroup": "Uttar Pradesh",
           "lon": [
            26.8467
           ],
           "marker": {
            "color": "#FFA15A",
            "size": [
             3.75
            ],
            "sizemode": "area",
            "sizeref": 0.189625,
            "symbol": "circle"
           },
           "mode": "markers",
           "name": "Uttar Pradesh",
           "showlegend": true,
           "type": "scattergeo"
          },
          {
           "geo": "geo",
           "hovertemplate": "<b>%{hovertext}</b><br><br>Region=Uttarakhand<br>month=october<br>EstimatedUnemploymentRate=%{marker.size}<br>latitude=%{lat}<br>longitude=%{lon}<extra></extra>",
           "hovertext": [
            "Uttarakhand"
           ],
           "lat": [
            79.0193
           ],
           "legendgroup": "Uttarakhand",
           "lon": [
            30.0668
           ],
           "marker": {
            "color": "#19d3f3",
            "size": [
             9.23
            ],
            "sizemode": "area",
            "sizeref": 0.189625,
            "symbol": "circle"
           },
           "mode": "markers",
           "name": "Uttarakhand",
           "showlegend": true,
           "type": "scattergeo"
          },
          {
           "geo": "geo",
           "hovertemplate": "<b>%{hovertext}</b><br><br>Region=West Bengal<br>month=october<br>EstimatedUnemploymentRate=%{marker.size}<br>latitude=%{lat}<br>longitude=%{lon}<extra></extra>",
           "hovertext": [
            "West Bengal"
           ],
           "lat": [
            87.855
           ],
           "legendgroup": "West Bengal",
           "lon": [
            22.9868
           ],
           "marker": {
            "color": "#FF6692",
            "size": [
             9.98
            ],
            "sizemode": "area",
            "sizeref": 0.189625,
            "symbol": "circle"
           },
           "mode": "markers",
           "name": "West Bengal",
           "showlegend": true,
           "type": "scattergeo"
          }
         ],
         "name": "october"
        }
       ],
       "layout": {
        "geo": {
         "center": {},
         "domain": {
          "x": [
           0,
           1
          ],
          "y": [
           0,
           1
          ]
         },
         "lataxis": {
          "range": [
           1,
           100
          ]
         },
         "lonaxis": {
          "range": [
           105,
           200
          ]
         },
         "oceancolor": "lightgrey",
         "scope": "world",
         "showocean": true
        },
        "legend": {
         "itemsizing": "constant",
         "title": {
          "text": "Region"
         },
         "tracegroupgap": 0
        },
        "sliders": [
         {
          "active": 0,
          "currentvalue": {
           "prefix": "month="
          },
          "len": 0.9,
          "pad": {
           "b": 10,
           "t": 60
          },
          "steps": [
           {
            "args": [
             [
              "january"
             ],
             {
              "frame": {
               "duration": 0,
               "redraw": true
              },
              "fromcurrent": true,
              "mode": "immediate",
              "transition": {
               "duration": 0,
               "easing": "linear"
              }
             }
            ],
            "label": "january",
            "method": "animate"
           },
           {
            "args": [
             [
              "february"
             ],
             {
              "frame": {
               "duration": 0,
               "redraw": true
              },
              "fromcurrent": true,
              "mode": "immediate",
              "transition": {
               "duration": 0,
               "easing": "linear"
              }
             }
            ],
            "label": "february",
            "method": "animate"
           },
           {
            "args": [
             [
              "march"
             ],
             {
              "frame": {
               "duration": 0,
               "redraw": true
              },
              "fromcurrent": true,
              "mode": "immediate",
              "transition": {
               "duration": 0,
               "easing": "linear"
              }
             }
            ],
            "label": "march",
            "method": "animate"
           },
           {
            "args": [
             [
              "april"
             ],
             {
              "frame": {
               "duration": 0,
               "redraw": true
              },
              "fromcurrent": true,
              "mode": "immediate",
              "transition": {
               "duration": 0,
               "easing": "linear"
              }
             }
            ],
            "label": "april",
            "method": "animate"
           },
           {
            "args": [
             [
              "may"
             ],
             {
              "frame": {
               "duration": 0,
               "redraw": true
              },
              "fromcurrent": true,
              "mode": "immediate",
              "transition": {
               "duration": 0,
               "easing": "linear"
              }
             }
            ],
            "label": "may",
            "method": "animate"
           },
           {
            "args": [
             [
              "june"
             ],
             {
              "frame": {
               "duration": 0,
               "redraw": true
              },
              "fromcurrent": true,
              "mode": "immediate",
              "transition": {
               "duration": 0,
               "easing": "linear"
              }
             }
            ],
            "label": "june",
            "method": "animate"
           },
           {
            "args": [
             [
              "july"
             ],
             {
              "frame": {
               "duration": 0,
               "redraw": true
              },
              "fromcurrent": true,
              "mode": "immediate",
              "transition": {
               "duration": 0,
               "easing": "linear"
              }
             }
            ],
            "label": "july",
            "method": "animate"
           },
           {
            "args": [
             [
              "august"
             ],
             {
              "frame": {
               "duration": 0,
               "redraw": true
              },
              "fromcurrent": true,
              "mode": "immediate",
              "transition": {
               "duration": 0,
               "easing": "linear"
              }
             }
            ],
            "label": "august",
            "method": "animate"
           },
           {
            "args": [
             [
              "september"
             ],
             {
              "frame": {
               "duration": 0,
               "redraw": true
              },
              "fromcurrent": true,
              "mode": "immediate",
              "transition": {
               "duration": 0,
               "easing": "linear"
              }
             }
            ],
            "label": "september",
            "method": "animate"
           },
           {
            "args": [
             [
              "october"
             ],
             {
              "frame": {
               "duration": 0,
               "redraw": true
              },
              "fromcurrent": true,
              "mode": "immediate",
              "transition": {
               "duration": 0,
               "easing": "linear"
              }
             }
            ],
            "label": "october",
            "method": "animate"
           }
          ],
          "x": 0.1,
          "xanchor": "left",
          "y": 0,
          "yanchor": "top"
         }
        ],
        "template": {
         "data": {
          "bar": [
           {
            "error_x": {
             "color": "#2a3f5f"
            },
            "error_y": {
             "color": "#2a3f5f"
            },
            "marker": {
             "line": {
              "color": "#E5ECF6",
              "width": 0.5
             },
             "pattern": {
              "fillmode": "overlay",
              "size": 10,
              "solidity": 0.2
             }
            },
            "type": "bar"
           }
          ],
          "barpolar": [
           {
            "marker": {
             "line": {
              "color": "#E5ECF6",
              "width": 0.5
             },
             "pattern": {
              "fillmode": "overlay",
              "size": 10,
              "solidity": 0.2
             }
            },
            "type": "barpolar"
           }
          ],
          "carpet": [
           {
            "aaxis": {
             "endlinecolor": "#2a3f5f",
             "gridcolor": "white",
             "linecolor": "white",
             "minorgridcolor": "white",
             "startlinecolor": "#2a3f5f"
            },
            "baxis": {
             "endlinecolor": "#2a3f5f",
             "gridcolor": "white",
             "linecolor": "white",
             "minorgridcolor": "white",
             "startlinecolor": "#2a3f5f"
            },
            "type": "carpet"
           }
          ],
          "choropleth": [
           {
            "colorbar": {
             "outlinewidth": 0,
             "ticks": ""
            },
            "type": "choropleth"
           }
          ],
          "contour": [
           {
            "colorbar": {
             "outlinewidth": 0,
             "ticks": ""
            },
            "colorscale": [
             [
              0,
              "#0d0887"
             ],
             [
              0.1111111111111111,
              "#46039f"
             ],
             [
              0.2222222222222222,
              "#7201a8"
             ],
             [
              0.3333333333333333,
              "#9c179e"
             ],
             [
              0.4444444444444444,
              "#bd3786"
             ],
             [
              0.5555555555555556,
              "#d8576b"
             ],
             [
              0.6666666666666666,
              "#ed7953"
             ],
             [
              0.7777777777777778,
              "#fb9f3a"
             ],
             [
              0.8888888888888888,
              "#fdca26"
             ],
             [
              1,
              "#f0f921"
             ]
            ],
            "type": "contour"
           }
          ],
          "contourcarpet": [
           {
            "colorbar": {
             "outlinewidth": 0,
             "ticks": ""
            },
            "type": "contourcarpet"
           }
          ],
          "heatmap": [
           {
            "colorbar": {
             "outlinewidth": 0,
             "ticks": ""
            },
            "colorscale": [
             [
              0,
              "#0d0887"
             ],
             [
              0.1111111111111111,
              "#46039f"
             ],
             [
              0.2222222222222222,
              "#7201a8"
             ],
             [
              0.3333333333333333,
              "#9c179e"
             ],
             [
              0.4444444444444444,
              "#bd3786"
             ],
             [
              0.5555555555555556,
              "#d8576b"
             ],
             [
              0.6666666666666666,
              "#ed7953"
             ],
             [
              0.7777777777777778,
              "#fb9f3a"
             ],
             [
              0.8888888888888888,
              "#fdca26"
             ],
             [
              1,
              "#f0f921"
             ]
            ],
            "type": "heatmap"
           }
          ],
          "heatmapgl": [
           {
            "colorbar": {
             "outlinewidth": 0,
             "ticks": ""
            },
            "colorscale": [
             [
              0,
              "#0d0887"
             ],
             [
              0.1111111111111111,
              "#46039f"
             ],
             [
              0.2222222222222222,
              "#7201a8"
             ],
             [
              0.3333333333333333,
              "#9c179e"
             ],
             [
              0.4444444444444444,
              "#bd3786"
             ],
             [
              0.5555555555555556,
              "#d8576b"
             ],
             [
              0.6666666666666666,
              "#ed7953"
             ],
             [
              0.7777777777777778,
              "#fb9f3a"
             ],
             [
              0.8888888888888888,
              "#fdca26"
             ],
             [
              1,
              "#f0f921"
             ]
            ],
            "type": "heatmapgl"
           }
          ],
          "histogram": [
           {
            "marker": {
             "pattern": {
              "fillmode": "overlay",
              "size": 10,
              "solidity": 0.2
             }
            },
            "type": "histogram"
           }
          ],
          "histogram2d": [
           {
            "colorbar": {
             "outlinewidth": 0,
             "ticks": ""
            },
            "colorscale": [
             [
              0,
              "#0d0887"
             ],
             [
              0.1111111111111111,
              "#46039f"
             ],
             [
              0.2222222222222222,
              "#7201a8"
             ],
             [
              0.3333333333333333,
              "#9c179e"
             ],
             [
              0.4444444444444444,
              "#bd3786"
             ],
             [
              0.5555555555555556,
              "#d8576b"
             ],
             [
              0.6666666666666666,
              "#ed7953"
             ],
             [
              0.7777777777777778,
              "#fb9f3a"
             ],
             [
              0.8888888888888888,
              "#fdca26"
             ],
             [
              1,
              "#f0f921"
             ]
            ],
            "type": "histogram2d"
           }
          ],
          "histogram2dcontour": [
           {
            "colorbar": {
             "outlinewidth": 0,
             "ticks": ""
            },
            "colorscale": [
             [
              0,
              "#0d0887"
             ],
             [
              0.1111111111111111,
              "#46039f"
             ],
             [
              0.2222222222222222,
              "#7201a8"
             ],
             [
              0.3333333333333333,
              "#9c179e"
             ],
             [
              0.4444444444444444,
              "#bd3786"
             ],
             [
              0.5555555555555556,
              "#d8576b"
             ],
             [
              0.6666666666666666,
              "#ed7953"
             ],
             [
              0.7777777777777778,
              "#fb9f3a"
             ],
             [
              0.8888888888888888,
              "#fdca26"
             ],
             [
              1,
              "#f0f921"
             ]
            ],
            "type": "histogram2dcontour"
           }
          ],
          "mesh3d": [
           {
            "colorbar": {
             "outlinewidth": 0,
             "ticks": ""
            },
            "type": "mesh3d"
           }
          ],
          "parcoords": [
           {
            "line": {
             "colorbar": {
              "outlinewidth": 0,
              "ticks": ""
             }
            },
            "type": "parcoords"
           }
          ],
          "pie": [
           {
            "automargin": true,
            "type": "pie"
           }
          ],
          "scatter": [
           {
            "fillpattern": {
             "fillmode": "overlay",
             "size": 10,
             "solidity": 0.2
            },
            "type": "scatter"
           }
          ],
          "scatter3d": [
           {
            "line": {
             "colorbar": {
              "outlinewidth": 0,
              "ticks": ""
             }
            },
            "marker": {
             "colorbar": {
              "outlinewidth": 0,
              "ticks": ""
             }
            },
            "type": "scatter3d"
           }
          ],
          "scattercarpet": [
           {
            "marker": {
             "colorbar": {
              "outlinewidth": 0,
              "ticks": ""
             }
            },
            "type": "scattercarpet"
           }
          ],
          "scattergeo": [
           {
            "marker": {
             "colorbar": {
              "outlinewidth": 0,
              "ticks": ""
             }
            },
            "type": "scattergeo"
           }
          ],
          "scattergl": [
           {
            "marker": {
             "colorbar": {
              "outlinewidth": 0,
              "ticks": ""
             }
            },
            "type": "scattergl"
           }
          ],
          "scattermapbox": [
           {
            "marker": {
             "colorbar": {
              "outlinewidth": 0,
              "ticks": ""
             }
            },
            "type": "scattermapbox"
           }
          ],
          "scatterpolar": [
           {
            "marker": {
             "colorbar": {
              "outlinewidth": 0,
              "ticks": ""
             }
            },
            "type": "scatterpolar"
           }
          ],
          "scatterpolargl": [
           {
            "marker": {
             "colorbar": {
              "outlinewidth": 0,
              "ticks": ""
             }
            },
            "type": "scatterpolargl"
           }
          ],
          "scatterternary": [
           {
            "marker": {
             "colorbar": {
              "outlinewidth": 0,
              "ticks": ""
             }
            },
            "type": "scatterternary"
           }
          ],
          "surface": [
           {
            "colorbar": {
             "outlinewidth": 0,
             "ticks": ""
            },
            "colorscale": [
             [
              0,
              "#0d0887"
             ],
             [
              0.1111111111111111,
              "#46039f"
             ],
             [
              0.2222222222222222,
              "#7201a8"
             ],
             [
              0.3333333333333333,
              "#9c179e"
             ],
             [
              0.4444444444444444,
              "#bd3786"
             ],
             [
              0.5555555555555556,
              "#d8576b"
             ],
             [
              0.6666666666666666,
              "#ed7953"
             ],
             [
              0.7777777777777778,
              "#fb9f3a"
             ],
             [
              0.8888888888888888,
              "#fdca26"
             ],
             [
              1,
              "#f0f921"
             ]
            ],
            "type": "surface"
           }
          ],
          "table": [
           {
            "cells": {
             "fill": {
              "color": "#EBF0F8"
             },
             "line": {
              "color": "white"
             }
            },
            "header": {
             "fill": {
              "color": "#C8D4E3"
             },
             "line": {
              "color": "white"
             }
            },
            "type": "table"
           }
          ]
         },
         "layout": {
          "annotationdefaults": {
           "arrowcolor": "#2a3f5f",
           "arrowhead": 0,
           "arrowwidth": 1
          },
          "autotypenumbers": "strict",
          "coloraxis": {
           "colorbar": {
            "outlinewidth": 0,
            "ticks": ""
           }
          },
          "colorscale": {
           "diverging": [
            [
             0,
             "#8e0152"
            ],
            [
             0.1,
             "#c51b7d"
            ],
            [
             0.2,
             "#de77ae"
            ],
            [
             0.3,
             "#f1b6da"
            ],
            [
             0.4,
             "#fde0ef"
            ],
            [
             0.5,
             "#f7f7f7"
            ],
            [
             0.6,
             "#e6f5d0"
            ],
            [
             0.7,
             "#b8e186"
            ],
            [
             0.8,
             "#7fbc41"
            ],
            [
             0.9,
             "#4d9221"
            ],
            [
             1,
             "#276419"
            ]
           ],
           "sequential": [
            [
             0,
             "#0d0887"
            ],
            [
             0.1111111111111111,
             "#46039f"
            ],
            [
             0.2222222222222222,
             "#7201a8"
            ],
            [
             0.3333333333333333,
             "#9c179e"
            ],
            [
             0.4444444444444444,
             "#bd3786"
            ],
            [
             0.5555555555555556,
             "#d8576b"
            ],
            [
             0.6666666666666666,
             "#ed7953"
            ],
            [
             0.7777777777777778,
             "#fb9f3a"
            ],
            [
             0.8888888888888888,
             "#fdca26"
            ],
            [
             1,
             "#f0f921"
            ]
           ],
           "sequentialminus": [
            [
             0,
             "#0d0887"
            ],
            [
             0.1111111111111111,
             "#46039f"
            ],
            [
             0.2222222222222222,
             "#7201a8"
            ],
            [
             0.3333333333333333,
             "#9c179e"
            ],
            [
             0.4444444444444444,
             "#bd3786"
            ],
            [
             0.5555555555555556,
             "#d8576b"
            ],
            [
             0.6666666666666666,
             "#ed7953"
            ],
            [
             0.7777777777777778,
             "#fb9f3a"
            ],
            [
             0.8888888888888888,
             "#fdca26"
            ],
            [
             1,
             "#f0f921"
            ]
           ]
          },
          "colorway": [
           "#636efa",
           "#EF553B",
           "#00cc96",
           "#ab63fa",
           "#FFA15A",
           "#19d3f3",
           "#FF6692",
           "#B6E880",
           "#FF97FF",
           "#FECB52"
          ],
          "font": {
           "color": "#2a3f5f"
          },
          "geo": {
           "bgcolor": "white",
           "lakecolor": "white",
           "landcolor": "#E5ECF6",
           "showlakes": true,
           "showland": true,
           "subunitcolor": "white"
          },
          "hoverlabel": {
           "align": "left"
          },
          "hovermode": "closest",
          "mapbox": {
           "style": "light"
          },
          "paper_bgcolor": "white",
          "plot_bgcolor": "#E5ECF6",
          "polar": {
           "angularaxis": {
            "gridcolor": "white",
            "linecolor": "white",
            "ticks": ""
           },
           "bgcolor": "#E5ECF6",
           "radialaxis": {
            "gridcolor": "white",
            "linecolor": "white",
            "ticks": ""
           }
          },
          "scene": {
           "xaxis": {
            "backgroundcolor": "#E5ECF6",
            "gridcolor": "white",
            "gridwidth": 2,
            "linecolor": "white",
            "showbackground": true,
            "ticks": "",
            "zerolinecolor": "white"
           },
           "yaxis": {
            "backgroundcolor": "#E5ECF6",
            "gridcolor": "white",
            "gridwidth": 2,
            "linecolor": "white",
            "showbackground": true,
            "ticks": "",
            "zerolinecolor": "white"
           },
           "zaxis": {
            "backgroundcolor": "#E5ECF6",
            "gridcolor": "white",
            "gridwidth": 2,
            "linecolor": "white",
            "showbackground": true,
            "ticks": "",
            "zerolinecolor": "white"
           }
          },
          "shapedefaults": {
           "line": {
            "color": "#2a3f5f"
           }
          },
          "ternary": {
           "aaxis": {
            "gridcolor": "white",
            "linecolor": "white",
            "ticks": ""
           },
           "baxis": {
            "gridcolor": "white",
            "linecolor": "white",
            "ticks": ""
           },
           "bgcolor": "#E5ECF6",
           "caxis": {
            "gridcolor": "white",
            "linecolor": "white",
            "ticks": ""
           }
          },
          "title": {
           "x": 0.05
          },
          "xaxis": {
           "automargin": true,
           "gridcolor": "white",
           "linecolor": "white",
           "ticks": "",
           "title": {
            "standoff": 15
           },
           "zerolinecolor": "white",
           "zerolinewidth": 2
          },
          "yaxis": {
           "automargin": true,
           "gridcolor": "white",
           "linecolor": "white",
           "ticks": "",
           "title": {
            "standoff": 15
           },
           "zerolinecolor": "white",
           "zerolinewidth": 2
          }
         }
        },
        "title": {
         "text": "Earthquakes Around the World"
        },
        "updatemenus": [
         {
          "buttons": [
           {
            "args": [
             null,
             {
              "frame": {
               "duration": 3000,
               "redraw": true
              },
              "fromcurrent": true,
              "mode": "immediate",
              "transition": {
               "duration": 500,
               "easing": "linear"
              }
             }
            ],
            "label": "&#9654;",
            "method": "animate"
           },
           {
            "args": [
             [
              null
             ],
             {
              "frame": {
               "duration": 0,
               "redraw": true
              },
              "fromcurrent": true,
              "mode": "immediate",
              "transition": {
               "duration": 0,
               "easing": "linear"
              }
             }
            ],
            "label": "&#9724;",
            "method": "animate"
           }
          ],
          "direction": "left",
          "pad": {
           "r": 10,
           "t": 70
          },
          "showactive": false,
          "type": "buttons",
          "x": 0.1,
          "xanchor": "right",
          "y": 0,
          "yanchor": "top"
         }
        ]
       }
      },
      "text/html": [
       "<div>                            <div id=\"2597d790-c094-432c-9316-38ceeeecfa6e\" class=\"plotly-graph-div\" style=\"height:525px; width:100%;\"></div>            <script type=\"text/javascript\">                require([\"plotly\"], function(Plotly) {                    window.PLOTLYENV=window.PLOTLYENV || {};                                    if (document.getElementById(\"2597d790-c094-432c-9316-38ceeeecfa6e\")) {                    Plotly.newPlot(                        \"2597d790-c094-432c-9316-38ceeeecfa6e\",                        [{\"geo\":\"geo\",\"hovertemplate\":\"\\u003cb\\u003e%{hovertext}\\u003c\\u002fb\\u003e\\u003cbr\\u003e\\u003cbr\\u003eRegion=Andhra Pradesh\\u003cbr\\u003emonth=january\\u003cbr\\u003eEstimatedUnemploymentRate=%{marker.size}\\u003cbr\\u003elatitude=%{lat}\\u003cbr\\u003elongitude=%{lon}\\u003cextra\\u003e\\u003c\\u002fextra\\u003e\",\"hovertext\":[\"Andhra Pradesh\"],\"lat\":[79.74],\"legendgroup\":\"Andhra Pradesh\",\"lon\":[15.9129],\"marker\":{\"color\":\"#636efa\",\"size\":[5.48],\"sizemode\":\"area\",\"sizeref\":0.189625,\"symbol\":\"circle\"},\"mode\":\"markers\",\"name\":\"Andhra Pradesh\",\"showlegend\":true,\"type\":\"scattergeo\"},{\"geo\":\"geo\",\"hovertemplate\":\"\\u003cb\\u003e%{hovertext}\\u003c\\u002fb\\u003e\\u003cbr\\u003e\\u003cbr\\u003eRegion=Assam\\u003cbr\\u003emonth=january\\u003cbr\\u003eEstimatedUnemploymentRate=%{marker.size}\\u003cbr\\u003elatitude=%{lat}\\u003cbr\\u003elongitude=%{lon}\\u003cextra\\u003e\\u003c\\u002fextra\\u003e\",\"hovertext\":[\"Assam\"],\"lat\":[92.9376],\"legendgroup\":\"Assam\",\"lon\":[26.2006],\"marker\":{\"color\":\"#EF553B\",\"size\":[4.66],\"sizemode\":\"area\",\"sizeref\":0.189625,\"symbol\":\"circle\"},\"mode\":\"markers\",\"name\":\"Assam\",\"showlegend\":true,\"type\":\"scattergeo\"},{\"geo\":\"geo\",\"hovertemplate\":\"\\u003cb\\u003e%{hovertext}\\u003c\\u002fb\\u003e\\u003cbr\\u003e\\u003cbr\\u003eRegion=Bihar\\u003cbr\\u003emonth=january\\u003cbr\\u003eEstimatedUnemploymentRate=%{marker.size}\\u003cbr\\u003elatitude=%{lat}\\u003cbr\\u003elongitude=%{lon}\\u003cextra\\u003e\\u003c\\u002fextra\\u003e\",\"hovertext\":[\"Bihar\"],\"lat\":[85.3131],\"legendgroup\":\"Bihar\",\"lon\":[25.0961],\"marker\":{\"color\":\"#00cc96\",\"size\":[10.61],\"sizemode\":\"area\",\"sizeref\":0.189625,\"symbol\":\"circle\"},\"mode\":\"markers\",\"name\":\"Bihar\",\"showlegend\":true,\"type\":\"scattergeo\"},{\"geo\":\"geo\",\"hovertemplate\":\"\\u003cb\\u003e%{hovertext}\\u003c\\u002fb\\u003e\\u003cbr\\u003e\\u003cbr\\u003eRegion=Chhattisgarh\\u003cbr\\u003emonth=january\\u003cbr\\u003eEstimatedUnemploymentRate=%{marker.size}\\u003cbr\\u003elatitude=%{lat}\\u003cbr\\u003elongitude=%{lon}\\u003cextra\\u003e\\u003c\\u002fextra\\u003e\",\"hovertext\":[\"Chhattisgarh\"],\"lat\":[81.8661],\"legendgroup\":\"Chhattisgarh\",\"lon\":[21.2787],\"marker\":{\"color\":\"#ab63fa\",\"size\":[9.65],\"sizemode\":\"area\",\"sizeref\":0.189625,\"symbol\":\"circle\"},\"mode\":\"markers\",\"name\":\"Chhattisgarh\",\"showlegend\":true,\"type\":\"scattergeo\"},{\"geo\":\"geo\",\"hovertemplate\":\"\\u003cb\\u003e%{hovertext}\\u003c\\u002fb\\u003e\\u003cbr\\u003e\\u003cbr\\u003eRegion=Delhi\\u003cbr\\u003emonth=january\\u003cbr\\u003eEstimatedUnemploymentRate=%{marker.size}\\u003cbr\\u003elatitude=%{lat}\\u003cbr\\u003elongitude=%{lon}\\u003cextra\\u003e\\u003c\\u002fextra\\u003e\",\"hovertext\":[\"Delhi\"],\"lat\":[77.1025],\"legendgroup\":\"Delhi\",\"lon\":[28.7041],\"marker\":{\"color\":\"#FFA15A\",\"size\":[22.23],\"sizemode\":\"area\",\"sizeref\":0.189625,\"symbol\":\"circle\"},\"mode\":\"markers\",\"name\":\"Delhi\",\"showlegend\":true,\"type\":\"scattergeo\"},{\"geo\":\"geo\",\"hovertemplate\":\"\\u003cb\\u003e%{hovertext}\\u003c\\u002fb\\u003e\\u003cbr\\u003e\\u003cbr\\u003eRegion=Goa\\u003cbr\\u003emonth=january\\u003cbr\\u003eEstimatedUnemploymentRate=%{marker.size}\\u003cbr\\u003elatitude=%{lat}\\u003cbr\\u003elongitude=%{lon}\\u003cextra\\u003e\\u003c\\u002fextra\\u003e\",\"hovertext\":[\"Goa\"],\"lat\":[74.124],\"legendgroup\":\"Goa\",\"lon\":[15.2993],\"marker\":{\"color\":\"#19d3f3\",\"size\":[8.89],\"sizemode\":\"area\",\"sizeref\":0.189625,\"symbol\":\"circle\"},\"mode\":\"markers\",\"name\":\"Goa\",\"showlegend\":true,\"type\":\"scattergeo\"},{\"geo\":\"geo\",\"hovertemplate\":\"\\u003cb\\u003e%{hovertext}\\u003c\\u002fb\\u003e\\u003cbr\\u003e\\u003cbr\\u003eRegion=Gujarat\\u003cbr\\u003emonth=january\\u003cbr\\u003eEstimatedUnemploymentRate=%{marker.size}\\u003cbr\\u003elatitude=%{lat}\\u003cbr\\u003elongitude=%{lon}\\u003cextra\\u003e\\u003c\\u002fextra\\u003e\",\"hovertext\":[\"Gujarat\"],\"lat\":[71.1924],\"legendgroup\":\"Gujarat\",\"lon\":[22.2587],\"marker\":{\"color\":\"#FF6692\",\"size\":[5.54],\"sizemode\":\"area\",\"sizeref\":0.189625,\"symbol\":\"circle\"},\"mode\":\"markers\",\"name\":\"Gujarat\",\"showlegend\":true,\"type\":\"scattergeo\"},{\"geo\":\"geo\",\"hovertemplate\":\"\\u003cb\\u003e%{hovertext}\\u003c\\u002fb\\u003e\\u003cbr\\u003e\\u003cbr\\u003eRegion=Haryana\\u003cbr\\u003emonth=january\\u003cbr\\u003eEstimatedUnemploymentRate=%{marker.size}\\u003cbr\\u003elatitude=%{lat}\\u003cbr\\u003elongitude=%{lon}\\u003cextra\\u003e\\u003c\\u002fextra\\u003e\",\"hovertext\":[\"Haryana\"],\"lat\":[76.0856],\"legendgroup\":\"Haryana\",\"lon\":[29.0588],\"marker\":{\"color\":\"#B6E880\",\"size\":[20.34],\"sizemode\":\"area\",\"sizeref\":0.189625,\"symbol\":\"circle\"},\"mode\":\"markers\",\"name\":\"Haryana\",\"showlegend\":true,\"type\":\"scattergeo\"},{\"geo\":\"geo\",\"hovertemplate\":\"\\u003cb\\u003e%{hovertext}\\u003c\\u002fb\\u003e\\u003cbr\\u003e\\u003cbr\\u003eRegion=Himachal Pradesh\\u003cbr\\u003emonth=january\\u003cbr\\u003eEstimatedUnemploymentRate=%{marker.size}\\u003cbr\\u003elatitude=%{lat}\\u003cbr\\u003elongitude=%{lon}\\u003cextra\\u003e\\u003c\\u002fextra\\u003e\",\"hovertext\":[\"Himachal Pradesh\"],\"lat\":[77.1734],\"legendgroup\":\"Himachal Pradesh\",\"lon\":[31.1048],\"marker\":{\"color\":\"#FF97FF\",\"size\":[16.83],\"sizemode\":\"area\",\"sizeref\":0.189625,\"symbol\":\"circle\"},\"mode\":\"markers\",\"name\":\"Himachal Pradesh\",\"showlegend\":true,\"type\":\"scattergeo\"},{\"geo\":\"geo\",\"hovertemplate\":\"\\u003cb\\u003e%{hovertext}\\u003c\\u002fb\\u003e\\u003cbr\\u003e\\u003cbr\\u003eRegion=Jammu & Kashmir\\u003cbr\\u003emonth=january\\u003cbr\\u003eEstimatedUnemploymentRate=%{marker.size}\\u003cbr\\u003elatitude=%{lat}\\u003cbr\\u003elongitude=%{lon}\\u003cextra\\u003e\\u003c\\u002fextra\\u003e\",\"hovertext\":[\"Jammu & Kashmir\"],\"lat\":[76.5762],\"legendgroup\":\"Jammu & Kashmir\",\"lon\":[33.7782],\"marker\":{\"color\":\"#FECB52\",\"size\":[21.08],\"sizemode\":\"area\",\"sizeref\":0.189625,\"symbol\":\"circle\"},\"mode\":\"markers\",\"name\":\"Jammu & Kashmir\",\"showlegend\":true,\"type\":\"scattergeo\"},{\"geo\":\"geo\",\"hovertemplate\":\"\\u003cb\\u003e%{hovertext}\\u003c\\u002fb\\u003e\\u003cbr\\u003e\\u003cbr\\u003eRegion=Jharkhand\\u003cbr\\u003emonth=january\\u003cbr\\u003eEstimatedUnemploymentRate=%{marker.size}\\u003cbr\\u003elatitude=%{lat}\\u003cbr\\u003elongitude=%{lon}\\u003cextra\\u003e\\u003c\\u002fextra\\u003e\",\"hovertext\":[\"Jharkhand\"],\"lat\":[85.2799],\"legendgroup\":\"Jharkhand\",\"lon\":[23.6102],\"marker\":{\"color\":\"#636efa\",\"size\":[10.61],\"sizemode\":\"area\",\"sizeref\":0.189625,\"symbol\":\"circle\"},\"mode\":\"markers\",\"name\":\"Jharkhand\",\"showlegend\":true,\"type\":\"scattergeo\"},{\"geo\":\"geo\",\"hovertemplate\":\"\\u003cb\\u003e%{hovertext}\\u003c\\u002fb\\u003e\\u003cbr\\u003e\\u003cbr\\u003eRegion=Karnataka\\u003cbr\\u003emonth=january\\u003cbr\\u003eEstimatedUnemploymentRate=%{marker.size}\\u003cbr\\u003elatitude=%{lat}\\u003cbr\\u003elongitude=%{lon}\\u003cextra\\u003e\\u003c\\u002fextra\\u003e\",\"hovertext\":[\"Karnataka\"],\"lat\":[75.7139],\"legendgroup\":\"Karnataka\",\"lon\":[15.3173],\"marker\":{\"color\":\"#EF553B\",\"size\":[2.86],\"sizemode\":\"area\",\"sizeref\":0.189625,\"symbol\":\"circle\"},\"mode\":\"markers\",\"name\":\"Karnataka\",\"showlegend\":true,\"type\":\"scattergeo\"},{\"geo\":\"geo\",\"hovertemplate\":\"\\u003cb\\u003e%{hovertext}\\u003c\\u002fb\\u003e\\u003cbr\\u003e\\u003cbr\\u003eRegion=Kerala\\u003cbr\\u003emonth=january\\u003cbr\\u003eEstimatedUnemploymentRate=%{marker.size}\\u003cbr\\u003elatitude=%{lat}\\u003cbr\\u003elongitude=%{lon}\\u003cextra\\u003e\\u003c\\u002fextra\\u003e\",\"hovertext\":[\"Kerala\"],\"lat\":[76.2711],\"legendgroup\":\"Kerala\",\"lon\":[10.8505],\"marker\":{\"color\":\"#00cc96\",\"size\":[5.31],\"sizemode\":\"area\",\"sizeref\":0.189625,\"symbol\":\"circle\"},\"mode\":\"markers\",\"name\":\"Kerala\",\"showlegend\":true,\"type\":\"scattergeo\"},{\"geo\":\"geo\",\"hovertemplate\":\"\\u003cb\\u003e%{hovertext}\\u003c\\u002fb\\u003e\\u003cbr\\u003e\\u003cbr\\u003eRegion=Madhya Pradesh\\u003cbr\\u003emonth=january\\u003cbr\\u003eEstimatedUnemploymentRate=%{marker.size}\\u003cbr\\u003elatitude=%{lat}\\u003cbr\\u003elongitude=%{lon}\\u003cextra\\u003e\\u003c\\u002fextra\\u003e\",\"hovertext\":[\"Madhya Pradesh\"],\"lat\":[78.6569],\"legendgroup\":\"Madhya Pradesh\",\"lon\":[22.9734],\"marker\":{\"color\":\"#ab63fa\",\"size\":[4.11],\"sizemode\":\"area\",\"sizeref\":0.189625,\"symbol\":\"circle\"},\"mode\":\"markers\",\"name\":\"Madhya Pradesh\",\"showlegend\":true,\"type\":\"scattergeo\"},{\"geo\":\"geo\",\"hovertemplate\":\"\\u003cb\\u003e%{hovertext}\\u003c\\u002fb\\u003e\\u003cbr\\u003e\\u003cbr\\u003eRegion=Maharashtra\\u003cbr\\u003emonth=january\\u003cbr\\u003eEstimatedUnemploymentRate=%{marker.size}\\u003cbr\\u003elatitude=%{lat}\\u003cbr\\u003elongitude=%{lon}\\u003cextra\\u003e\\u003c\\u002fextra\\u003e\",\"hovertext\":[\"Maharashtra\"],\"lat\":[75.7139],\"legendgroup\":\"Maharashtra\",\"lon\":[19.7515],\"marker\":{\"color\":\"#FFA15A\",\"size\":[4.95],\"sizemode\":\"area\",\"sizeref\":0.189625,\"symbol\":\"circle\"},\"mode\":\"markers\",\"name\":\"Maharashtra\",\"showlegend\":true,\"type\":\"scattergeo\"},{\"geo\":\"geo\",\"hovertemplate\":\"\\u003cb\\u003e%{hovertext}\\u003c\\u002fb\\u003e\\u003cbr\\u003e\\u003cbr\\u003eRegion=Meghalaya\\u003cbr\\u003emonth=january\\u003cbr\\u003eEstimatedUnemploymentRate=%{marker.size}\\u003cbr\\u003elatitude=%{lat}\\u003cbr\\u003elongitude=%{lon}\\u003cextra\\u003e\\u003c\\u002fextra\\u003e\",\"hovertext\":[\"Meghalaya\"],\"lat\":[91.3662],\"legendgroup\":\"Meghalaya\",\"lon\":[25.467],\"marker\":{\"color\":\"#19d3f3\",\"size\":[1.66],\"sizemode\":\"area\",\"sizeref\":0.189625,\"symbol\":\"circle\"},\"mode\":\"markers\",\"name\":\"Meghalaya\",\"showlegend\":true,\"type\":\"scattergeo\"},{\"geo\":\"geo\",\"hovertemplate\":\"\\u003cb\\u003e%{hovertext}\\u003c\\u002fb\\u003e\\u003cbr\\u003e\\u003cbr\\u003eRegion=Odisha\\u003cbr\\u003emonth=january\\u003cbr\\u003eEstimatedUnemploymentRate=%{marker.size}\\u003cbr\\u003elatitude=%{lat}\\u003cbr\\u003elongitude=%{lon}\\u003cextra\\u003e\\u003c\\u002fextra\\u003e\",\"hovertext\":[\"Odisha\"],\"lat\":[85.0985],\"legendgroup\":\"Odisha\",\"lon\":[20.9517],\"marker\":{\"color\":\"#FF6692\",\"size\":[1.9],\"sizemode\":\"area\",\"sizeref\":0.189625,\"symbol\":\"circle\"},\"mode\":\"markers\",\"name\":\"Odisha\",\"showlegend\":true,\"type\":\"scattergeo\"},{\"geo\":\"geo\",\"hovertemplate\":\"\\u003cb\\u003e%{hovertext}\\u003c\\u002fb\\u003e\\u003cbr\\u003e\\u003cbr\\u003eRegion=Puducherry\\u003cbr\\u003emonth=january\\u003cbr\\u003eEstimatedUnemploymentRate=%{marker.size}\\u003cbr\\u003elatitude=%{lat}\\u003cbr\\u003elongitude=%{lon}\\u003cextra\\u003e\\u003c\\u002fextra\\u003e\",\"hovertext\":[\"Puducherry\"],\"lat\":[79.8083],\"legendgroup\":\"Puducherry\",\"lon\":[11.9416],\"marker\":{\"color\":\"#B6E880\",\"size\":[0.58],\"sizemode\":\"area\",\"sizeref\":0.189625,\"symbol\":\"circle\"},\"mode\":\"markers\",\"name\":\"Puducherry\",\"showlegend\":true,\"type\":\"scattergeo\"},{\"geo\":\"geo\",\"hovertemplate\":\"\\u003cb\\u003e%{hovertext}\\u003c\\u002fb\\u003e\\u003cbr\\u003e\\u003cbr\\u003eRegion=Punjab\\u003cbr\\u003emonth=january\\u003cbr\\u003eEstimatedUnemploymentRate=%{marker.size}\\u003cbr\\u003elatitude=%{lat}\\u003cbr\\u003elongitude=%{lon}\\u003cextra\\u003e\\u003c\\u002fextra\\u003e\",\"hovertext\":[\"Punjab\"],\"lat\":[75.3412],\"legendgroup\":\"Punjab\",\"lon\":[31.1471],\"marker\":{\"color\":\"#FF97FF\",\"size\":[11.11],\"sizemode\":\"area\",\"sizeref\":0.189625,\"symbol\":\"circle\"},\"mode\":\"markers\",\"name\":\"Punjab\",\"showlegend\":true,\"type\":\"scattergeo\"},{\"geo\":\"geo\",\"hovertemplate\":\"\\u003cb\\u003e%{hovertext}\\u003c\\u002fb\\u003e\\u003cbr\\u003e\\u003cbr\\u003eRegion=Rajasthan\\u003cbr\\u003emonth=january\\u003cbr\\u003eEstimatedUnemploymentRate=%{marker.size}\\u003cbr\\u003elatitude=%{lat}\\u003cbr\\u003elongitude=%{lon}\\u003cextra\\u003e\\u003c\\u002fextra\\u003e\",\"hovertext\":[\"Rajasthan\"],\"lat\":[74.2179],\"legendgroup\":\"Rajasthan\",\"lon\":[27.0238],\"marker\":{\"color\":\"#FECB52\",\"size\":[10.97],\"sizemode\":\"area\",\"sizeref\":0.189625,\"symbol\":\"circle\"},\"mode\":\"markers\",\"name\":\"Rajasthan\",\"showlegend\":true,\"type\":\"scattergeo\"},{\"geo\":\"geo\",\"hovertemplate\":\"\\u003cb\\u003e%{hovertext}\\u003c\\u002fb\\u003e\\u003cbr\\u003e\\u003cbr\\u003eRegion=Tamil Nadu\\u003cbr\\u003emonth=january\\u003cbr\\u003eEstimatedUnemploymentRate=%{marker.size}\\u003cbr\\u003elatitude=%{lat}\\u003cbr\\u003elongitude=%{lon}\\u003cextra\\u003e\\u003c\\u002fextra\\u003e\",\"hovertext\":[\"Tamil Nadu\"],\"lat\":[78.6569],\"legendgroup\":\"Tamil Nadu\",\"lon\":[11.1271],\"marker\":{\"color\":\"#EF553B\",\"size\":[1.57],\"sizemode\":\"area\",\"sizeref\":0.189625,\"symbol\":\"circle\"},\"mode\":\"markers\",\"name\":\"Tamil Nadu\",\"showlegend\":true,\"type\":\"scattergeo\"},{\"geo\":\"geo\",\"hovertemplate\":\"\\u003cb\\u003e%{hovertext}\\u003c\\u002fb\\u003e\\u003cbr\\u003e\\u003cbr\\u003eRegion=Telangana\\u003cbr\\u003emonth=january\\u003cbr\\u003eEstimatedUnemploymentRate=%{marker.size}\\u003cbr\\u003elatitude=%{lat}\\u003cbr\\u003elongitude=%{lon}\\u003cextra\\u003e\\u003c\\u002fextra\\u003e\",\"hovertext\":[\"Telangana\"],\"lat\":[79.0193],\"legendgroup\":\"Telangana\",\"lon\":[18.1124],\"marker\":{\"color\":\"#00cc96\",\"size\":[5.49],\"sizemode\":\"area\",\"sizeref\":0.189625,\"symbol\":\"circle\"},\"mode\":\"markers\",\"name\":\"Telangana\",\"showlegend\":true,\"type\":\"scattergeo\"},{\"geo\":\"geo\",\"hovertemplate\":\"\\u003cb\\u003e%{hovertext}\\u003c\\u002fb\\u003e\\u003cbr\\u003e\\u003cbr\\u003eRegion=Tripura\\u003cbr\\u003emonth=january\\u003cbr\\u003eEstimatedUnemploymentRate=%{marker.size}\\u003cbr\\u003elatitude=%{lat}\\u003cbr\\u003elongitude=%{lon}\\u003cextra\\u003e\\u003c\\u002fextra\\u003e\",\"hovertext\":[\"Tripura\"],\"lat\":[91.9882],\"legendgroup\":\"Tripura\",\"lon\":[23.9408],\"marker\":{\"color\":\"#ab63fa\",\"size\":[32.67],\"sizemode\":\"area\",\"sizeref\":0.189625,\"symbol\":\"circle\"},\"mode\":\"markers\",\"name\":\"Tripura\",\"showlegend\":true,\"type\":\"scattergeo\"},{\"geo\":\"geo\",\"hovertemplate\":\"\\u003cb\\u003e%{hovertext}\\u003c\\u002fb\\u003e\\u003cbr\\u003e\\u003cbr\\u003eRegion=Uttar Pradesh\\u003cbr\\u003emonth=january\\u003cbr\\u003eEstimatedUnemploymentRate=%{marker.size}\\u003cbr\\u003elatitude=%{lat}\\u003cbr\\u003elongitude=%{lon}\\u003cextra\\u003e\\u003c\\u002fextra\\u003e\",\"hovertext\":[\"Uttar Pradesh\"],\"lat\":[80.9462],\"legendgroup\":\"Uttar Pradesh\",\"lon\":[26.8467],\"marker\":{\"color\":\"#FFA15A\",\"size\":[7.58],\"sizemode\":\"area\",\"sizeref\":0.189625,\"symbol\":\"circle\"},\"mode\":\"markers\",\"name\":\"Uttar Pradesh\",\"showlegend\":true,\"type\":\"scattergeo\"},{\"geo\":\"geo\",\"hovertemplate\":\"\\u003cb\\u003e%{hovertext}\\u003c\\u002fb\\u003e\\u003cbr\\u003e\\u003cbr\\u003eRegion=Uttarakhand\\u003cbr\\u003emonth=january\\u003cbr\\u003eEstimatedUnemploymentRate=%{marker.size}\\u003cbr\\u003elatitude=%{lat}\\u003cbr\\u003elongitude=%{lon}\\u003cextra\\u003e\\u003c\\u002fextra\\u003e\",\"hovertext\":[\"Uttarakhand\"],\"lat\":[79.0193],\"legendgroup\":\"Uttarakhand\",\"lon\":[30.0668],\"marker\":{\"color\":\"#19d3f3\",\"size\":[5.49],\"sizemode\":\"area\",\"sizeref\":0.189625,\"symbol\":\"circle\"},\"mode\":\"markers\",\"name\":\"Uttarakhand\",\"showlegend\":true,\"type\":\"scattergeo\"},{\"geo\":\"geo\",\"hovertemplate\":\"\\u003cb\\u003e%{hovertext}\\u003c\\u002fb\\u003e\\u003cbr\\u003e\\u003cbr\\u003eRegion=West Bengal\\u003cbr\\u003emonth=january\\u003cbr\\u003eEstimatedUnemploymentRate=%{marker.size}\\u003cbr\\u003elatitude=%{lat}\\u003cbr\\u003elongitude=%{lon}\\u003cextra\\u003e\\u003c\\u002fextra\\u003e\",\"hovertext\":[\"West Bengal\"],\"lat\":[87.855],\"legendgroup\":\"West Bengal\",\"lon\":[22.9868],\"marker\":{\"color\":\"#FF6692\",\"size\":[6.94],\"sizemode\":\"area\",\"sizeref\":0.189625,\"symbol\":\"circle\"},\"mode\":\"markers\",\"name\":\"West Bengal\",\"showlegend\":true,\"type\":\"scattergeo\"}],                        {\"template\":{\"data\":{\"histogram2dcontour\":[{\"type\":\"histogram2dcontour\",\"colorbar\":{\"outlinewidth\":0,\"ticks\":\"\"},\"colorscale\":[[0.0,\"#0d0887\"],[0.1111111111111111,\"#46039f\"],[0.2222222222222222,\"#7201a8\"],[0.3333333333333333,\"#9c179e\"],[0.4444444444444444,\"#bd3786\"],[0.5555555555555556,\"#d8576b\"],[0.6666666666666666,\"#ed7953\"],[0.7777777777777778,\"#fb9f3a\"],[0.8888888888888888,\"#fdca26\"],[1.0,\"#f0f921\"]]}],\"choropleth\":[{\"type\":\"choropleth\",\"colorbar\":{\"outlinewidth\":0,\"ticks\":\"\"}}],\"histogram2d\":[{\"type\":\"histogram2d\",\"colorbar\":{\"outlinewidth\":0,\"ticks\":\"\"},\"colorscale\":[[0.0,\"#0d0887\"],[0.1111111111111111,\"#46039f\"],[0.2222222222222222,\"#7201a8\"],[0.3333333333333333,\"#9c179e\"],[0.4444444444444444,\"#bd3786\"],[0.5555555555555556,\"#d8576b\"],[0.6666666666666666,\"#ed7953\"],[0.7777777777777778,\"#fb9f3a\"],[0.8888888888888888,\"#fdca26\"],[1.0,\"#f0f921\"]]}],\"heatmap\":[{\"type\":\"heatmap\",\"colorbar\":{\"outlinewidth\":0,\"ticks\":\"\"},\"colorscale\":[[0.0,\"#0d0887\"],[0.1111111111111111,\"#46039f\"],[0.2222222222222222,\"#7201a8\"],[0.3333333333333333,\"#9c179e\"],[0.4444444444444444,\"#bd3786\"],[0.5555555555555556,\"#d8576b\"],[0.6666666666666666,\"#ed7953\"],[0.7777777777777778,\"#fb9f3a\"],[0.8888888888888888,\"#fdca26\"],[1.0,\"#f0f921\"]]}],\"heatmapgl\":[{\"type\":\"heatmapgl\",\"colorbar\":{\"outlinewidth\":0,\"ticks\":\"\"},\"colorscale\":[[0.0,\"#0d0887\"],[0.1111111111111111,\"#46039f\"],[0.2222222222222222,\"#7201a8\"],[0.3333333333333333,\"#9c179e\"],[0.4444444444444444,\"#bd3786\"],[0.5555555555555556,\"#d8576b\"],[0.6666666666666666,\"#ed7953\"],[0.7777777777777778,\"#fb9f3a\"],[0.8888888888888888,\"#fdca26\"],[1.0,\"#f0f921\"]]}],\"contourcarpet\":[{\"type\":\"contourcarpet\",\"colorbar\":{\"outlinewidth\":0,\"ticks\":\"\"}}],\"contour\":[{\"type\":\"contour\",\"colorbar\":{\"outlinewidth\":0,\"ticks\":\"\"},\"colorscale\":[[0.0,\"#0d0887\"],[0.1111111111111111,\"#46039f\"],[0.2222222222222222,\"#7201a8\"],[0.3333333333333333,\"#9c179e\"],[0.4444444444444444,\"#bd3786\"],[0.5555555555555556,\"#d8576b\"],[0.6666666666666666,\"#ed7953\"],[0.7777777777777778,\"#fb9f3a\"],[0.8888888888888888,\"#fdca26\"],[1.0,\"#f0f921\"]]}],\"surface\":[{\"type\":\"surface\",\"colorbar\":{\"outlinewidth\":0,\"ticks\":\"\"},\"colorscale\":[[0.0,\"#0d0887\"],[0.1111111111111111,\"#46039f\"],[0.2222222222222222,\"#7201a8\"],[0.3333333333333333,\"#9c179e\"],[0.4444444444444444,\"#bd3786\"],[0.5555555555555556,\"#d8576b\"],[0.6666666666666666,\"#ed7953\"],[0.7777777777777778,\"#fb9f3a\"],[0.8888888888888888,\"#fdca26\"],[1.0,\"#f0f921\"]]}],\"mesh3d\":[{\"type\":\"mesh3d\",\"colorbar\":{\"outlinewidth\":0,\"ticks\":\"\"}}],\"scatter\":[{\"fillpattern\":{\"fillmode\":\"overlay\",\"size\":10,\"solidity\":0.2},\"type\":\"scatter\"}],\"parcoords\":[{\"type\":\"parcoords\",\"line\":{\"colorbar\":{\"outlinewidth\":0,\"ticks\":\"\"}}}],\"scatterpolargl\":[{\"type\":\"scatterpolargl\",\"marker\":{\"colorbar\":{\"outlinewidth\":0,\"ticks\":\"\"}}}],\"bar\":[{\"error_x\":{\"color\":\"#2a3f5f\"},\"error_y\":{\"color\":\"#2a3f5f\"},\"marker\":{\"line\":{\"color\":\"#E5ECF6\",\"width\":0.5},\"pattern\":{\"fillmode\":\"overlay\",\"size\":10,\"solidity\":0.2}},\"type\":\"bar\"}],\"scattergeo\":[{\"type\":\"scattergeo\",\"marker\":{\"colorbar\":{\"outlinewidth\":0,\"ticks\":\"\"}}}],\"scatterpolar\":[{\"type\":\"scatterpolar\",\"marker\":{\"colorbar\":{\"outlinewidth\":0,\"ticks\":\"\"}}}],\"histogram\":[{\"marker\":{\"pattern\":{\"fillmode\":\"overlay\",\"size\":10,\"solidity\":0.2}},\"type\":\"histogram\"}],\"scattergl\":[{\"type\":\"scattergl\",\"marker\":{\"colorbar\":{\"outlinewidth\":0,\"ticks\":\"\"}}}],\"scatter3d\":[{\"type\":\"scatter3d\",\"line\":{\"colorbar\":{\"outlinewidth\":0,\"ticks\":\"\"}},\"marker\":{\"colorbar\":{\"outlinewidth\":0,\"ticks\":\"\"}}}],\"scattermapbox\":[{\"type\":\"scattermapbox\",\"marker\":{\"colorbar\":{\"outlinewidth\":0,\"ticks\":\"\"}}}],\"scatterternary\":[{\"type\":\"scatterternary\",\"marker\":{\"colorbar\":{\"outlinewidth\":0,\"ticks\":\"\"}}}],\"scattercarpet\":[{\"type\":\"scattercarpet\",\"marker\":{\"colorbar\":{\"outlinewidth\":0,\"ticks\":\"\"}}}],\"carpet\":[{\"aaxis\":{\"endlinecolor\":\"#2a3f5f\",\"gridcolor\":\"white\",\"linecolor\":\"white\",\"minorgridcolor\":\"white\",\"startlinecolor\":\"#2a3f5f\"},\"baxis\":{\"endlinecolor\":\"#2a3f5f\",\"gridcolor\":\"white\",\"linecolor\":\"white\",\"minorgridcolor\":\"white\",\"startlinecolor\":\"#2a3f5f\"},\"type\":\"carpet\"}],\"table\":[{\"cells\":{\"fill\":{\"color\":\"#EBF0F8\"},\"line\":{\"color\":\"white\"}},\"header\":{\"fill\":{\"color\":\"#C8D4E3\"},\"line\":{\"color\":\"white\"}},\"type\":\"table\"}],\"barpolar\":[{\"marker\":{\"line\":{\"color\":\"#E5ECF6\",\"width\":0.5},\"pattern\":{\"fillmode\":\"overlay\",\"size\":10,\"solidity\":0.2}},\"type\":\"barpolar\"}],\"pie\":[{\"automargin\":true,\"type\":\"pie\"}]},\"layout\":{\"autotypenumbers\":\"strict\",\"colorway\":[\"#636efa\",\"#EF553B\",\"#00cc96\",\"#ab63fa\",\"#FFA15A\",\"#19d3f3\",\"#FF6692\",\"#B6E880\",\"#FF97FF\",\"#FECB52\"],\"font\":{\"color\":\"#2a3f5f\"},\"hovermode\":\"closest\",\"hoverlabel\":{\"align\":\"left\"},\"paper_bgcolor\":\"white\",\"plot_bgcolor\":\"#E5ECF6\",\"polar\":{\"bgcolor\":\"#E5ECF6\",\"angularaxis\":{\"gridcolor\":\"white\",\"linecolor\":\"white\",\"ticks\":\"\"},\"radialaxis\":{\"gridcolor\":\"white\",\"linecolor\":\"white\",\"ticks\":\"\"}},\"ternary\":{\"bgcolor\":\"#E5ECF6\",\"aaxis\":{\"gridcolor\":\"white\",\"linecolor\":\"white\",\"ticks\":\"\"},\"baxis\":{\"gridcolor\":\"white\",\"linecolor\":\"white\",\"ticks\":\"\"},\"caxis\":{\"gridcolor\":\"white\",\"linecolor\":\"white\",\"ticks\":\"\"}},\"coloraxis\":{\"colorbar\":{\"outlinewidth\":0,\"ticks\":\"\"}},\"colorscale\":{\"sequential\":[[0.0,\"#0d0887\"],[0.1111111111111111,\"#46039f\"],[0.2222222222222222,\"#7201a8\"],[0.3333333333333333,\"#9c179e\"],[0.4444444444444444,\"#bd3786\"],[0.5555555555555556,\"#d8576b\"],[0.6666666666666666,\"#ed7953\"],[0.7777777777777778,\"#fb9f3a\"],[0.8888888888888888,\"#fdca26\"],[1.0,\"#f0f921\"]],\"sequentialminus\":[[0.0,\"#0d0887\"],[0.1111111111111111,\"#46039f\"],[0.2222222222222222,\"#7201a8\"],[0.3333333333333333,\"#9c179e\"],[0.4444444444444444,\"#bd3786\"],[0.5555555555555556,\"#d8576b\"],[0.6666666666666666,\"#ed7953\"],[0.7777777777777778,\"#fb9f3a\"],[0.8888888888888888,\"#fdca26\"],[1.0,\"#f0f921\"]],\"diverging\":[[0,\"#8e0152\"],[0.1,\"#c51b7d\"],[0.2,\"#de77ae\"],[0.3,\"#f1b6da\"],[0.4,\"#fde0ef\"],[0.5,\"#f7f7f7\"],[0.6,\"#e6f5d0\"],[0.7,\"#b8e186\"],[0.8,\"#7fbc41\"],[0.9,\"#4d9221\"],[1,\"#276419\"]]},\"xaxis\":{\"gridcolor\":\"white\",\"linecolor\":\"white\",\"ticks\":\"\",\"title\":{\"standoff\":15},\"zerolinecolor\":\"white\",\"automargin\":true,\"zerolinewidth\":2},\"yaxis\":{\"gridcolor\":\"white\",\"linecolor\":\"white\",\"ticks\":\"\",\"title\":{\"standoff\":15},\"zerolinecolor\":\"white\",\"automargin\":true,\"zerolinewidth\":2},\"scene\":{\"xaxis\":{\"backgroundcolor\":\"#E5ECF6\",\"gridcolor\":\"white\",\"linecolor\":\"white\",\"showbackground\":true,\"ticks\":\"\",\"zerolinecolor\":\"white\",\"gridwidth\":2},\"yaxis\":{\"backgroundcolor\":\"#E5ECF6\",\"gridcolor\":\"white\",\"linecolor\":\"white\",\"showbackground\":true,\"ticks\":\"\",\"zerolinecolor\":\"white\",\"gridwidth\":2},\"zaxis\":{\"backgroundcolor\":\"#E5ECF6\",\"gridcolor\":\"white\",\"linecolor\":\"white\",\"showbackground\":true,\"ticks\":\"\",\"zerolinecolor\":\"white\",\"gridwidth\":2}},\"shapedefaults\":{\"line\":{\"color\":\"#2a3f5f\"}},\"annotationdefaults\":{\"arrowcolor\":\"#2a3f5f\",\"arrowhead\":0,\"arrowwidth\":1},\"geo\":{\"bgcolor\":\"white\",\"landcolor\":\"#E5ECF6\",\"subunitcolor\":\"white\",\"showland\":true,\"showlakes\":true,\"lakecolor\":\"white\"},\"title\":{\"x\":0.05},\"mapbox\":{\"style\":\"light\"}}},\"geo\":{\"domain\":{\"x\":[0.0,1.0],\"y\":[0.0,1.0]},\"center\":{},\"scope\":\"world\",\"lataxis\":{\"range\":[1,100]},\"lonaxis\":{\"range\":[105,200]},\"oceancolor\":\"lightgrey\",\"showocean\":true},\"legend\":{\"title\":{\"text\":\"Region\"},\"tracegroupgap\":0,\"itemsizing\":\"constant\"},\"title\":{\"text\":\"Earthquakes Around the World\"},\"updatemenus\":[{\"buttons\":[{\"args\":[null,{\"frame\":{\"duration\":3000,\"redraw\":true},\"mode\":\"immediate\",\"fromcurrent\":true,\"transition\":{\"duration\":500,\"easing\":\"linear\"}}],\"label\":\"&#9654;\",\"method\":\"animate\"},{\"args\":[[null],{\"frame\":{\"duration\":0,\"redraw\":true},\"mode\":\"immediate\",\"fromcurrent\":true,\"transition\":{\"duration\":0,\"easing\":\"linear\"}}],\"label\":\"&#9724;\",\"method\":\"animate\"}],\"direction\":\"left\",\"pad\":{\"r\":10,\"t\":70},\"showactive\":false,\"type\":\"buttons\",\"x\":0.1,\"xanchor\":\"right\",\"y\":0,\"yanchor\":\"top\"}],\"sliders\":[{\"active\":0,\"currentvalue\":{\"prefix\":\"month=\"},\"len\":0.9,\"pad\":{\"b\":10,\"t\":60},\"steps\":[{\"args\":[[\"january\"],{\"frame\":{\"duration\":0,\"redraw\":true},\"mode\":\"immediate\",\"fromcurrent\":true,\"transition\":{\"duration\":0,\"easing\":\"linear\"}}],\"label\":\"january\",\"method\":\"animate\"},{\"args\":[[\"february\"],{\"frame\":{\"duration\":0,\"redraw\":true},\"mode\":\"immediate\",\"fromcurrent\":true,\"transition\":{\"duration\":0,\"easing\":\"linear\"}}],\"label\":\"february\",\"method\":\"animate\"},{\"args\":[[\"march\"],{\"frame\":{\"duration\":0,\"redraw\":true},\"mode\":\"immediate\",\"fromcurrent\":true,\"transition\":{\"duration\":0,\"easing\":\"linear\"}}],\"label\":\"march\",\"method\":\"animate\"},{\"args\":[[\"april\"],{\"frame\":{\"duration\":0,\"redraw\":true},\"mode\":\"immediate\",\"fromcurrent\":true,\"transition\":{\"duration\":0,\"easing\":\"linear\"}}],\"label\":\"april\",\"method\":\"animate\"},{\"args\":[[\"may\"],{\"frame\":{\"duration\":0,\"redraw\":true},\"mode\":\"immediate\",\"fromcurrent\":true,\"transition\":{\"duration\":0,\"easing\":\"linear\"}}],\"label\":\"may\",\"method\":\"animate\"},{\"args\":[[\"june\"],{\"frame\":{\"duration\":0,\"redraw\":true},\"mode\":\"immediate\",\"fromcurrent\":true,\"transition\":{\"duration\":0,\"easing\":\"linear\"}}],\"label\":\"june\",\"method\":\"animate\"},{\"args\":[[\"july\"],{\"frame\":{\"duration\":0,\"redraw\":true},\"mode\":\"immediate\",\"fromcurrent\":true,\"transition\":{\"duration\":0,\"easing\":\"linear\"}}],\"label\":\"july\",\"method\":\"animate\"},{\"args\":[[\"august\"],{\"frame\":{\"duration\":0,\"redraw\":true},\"mode\":\"immediate\",\"fromcurrent\":true,\"transition\":{\"duration\":0,\"easing\":\"linear\"}}],\"label\":\"august\",\"method\":\"animate\"},{\"args\":[[\"september\"],{\"frame\":{\"duration\":0,\"redraw\":true},\"mode\":\"immediate\",\"fromcurrent\":true,\"transition\":{\"duration\":0,\"easing\":\"linear\"}}],\"label\":\"september\",\"method\":\"animate\"},{\"args\":[[\"october\"],{\"frame\":{\"duration\":0,\"redraw\":true},\"mode\":\"immediate\",\"fromcurrent\":true,\"transition\":{\"duration\":0,\"easing\":\"linear\"}}],\"label\":\"october\",\"method\":\"animate\"}],\"x\":0.1,\"xanchor\":\"left\",\"y\":0,\"yanchor\":\"top\"}]},                        {\"responsive\": true}                    ).then(function(){\n",
       "                            Plotly.addFrames('2597d790-c094-432c-9316-38ceeeecfa6e', [{\"data\":[{\"geo\":\"geo\",\"hovertemplate\":\"\\u003cb\\u003e%{hovertext}\\u003c\\u002fb\\u003e\\u003cbr\\u003e\\u003cbr\\u003eRegion=Andhra Pradesh\\u003cbr\\u003emonth=january\\u003cbr\\u003eEstimatedUnemploymentRate=%{marker.size}\\u003cbr\\u003elatitude=%{lat}\\u003cbr\\u003elongitude=%{lon}\\u003cextra\\u003e\\u003c\\u002fextra\\u003e\",\"hovertext\":[\"Andhra Pradesh\"],\"lat\":[79.74],\"legendgroup\":\"Andhra Pradesh\",\"lon\":[15.9129],\"marker\":{\"color\":\"#636efa\",\"size\":[5.48],\"sizemode\":\"area\",\"sizeref\":0.189625,\"symbol\":\"circle\"},\"mode\":\"markers\",\"name\":\"Andhra Pradesh\",\"showlegend\":true,\"type\":\"scattergeo\"},{\"geo\":\"geo\",\"hovertemplate\":\"\\u003cb\\u003e%{hovertext}\\u003c\\u002fb\\u003e\\u003cbr\\u003e\\u003cbr\\u003eRegion=Assam\\u003cbr\\u003emonth=january\\u003cbr\\u003eEstimatedUnemploymentRate=%{marker.size}\\u003cbr\\u003elatitude=%{lat}\\u003cbr\\u003elongitude=%{lon}\\u003cextra\\u003e\\u003c\\u002fextra\\u003e\",\"hovertext\":[\"Assam\"],\"lat\":[92.9376],\"legendgroup\":\"Assam\",\"lon\":[26.2006],\"marker\":{\"color\":\"#EF553B\",\"size\":[4.66],\"sizemode\":\"area\",\"sizeref\":0.189625,\"symbol\":\"circle\"},\"mode\":\"markers\",\"name\":\"Assam\",\"showlegend\":true,\"type\":\"scattergeo\"},{\"geo\":\"geo\",\"hovertemplate\":\"\\u003cb\\u003e%{hovertext}\\u003c\\u002fb\\u003e\\u003cbr\\u003e\\u003cbr\\u003eRegion=Bihar\\u003cbr\\u003emonth=january\\u003cbr\\u003eEstimatedUnemploymentRate=%{marker.size}\\u003cbr\\u003elatitude=%{lat}\\u003cbr\\u003elongitude=%{lon}\\u003cextra\\u003e\\u003c\\u002fextra\\u003e\",\"hovertext\":[\"Bihar\"],\"lat\":[85.3131],\"legendgroup\":\"Bihar\",\"lon\":[25.0961],\"marker\":{\"color\":\"#00cc96\",\"size\":[10.61],\"sizemode\":\"area\",\"sizeref\":0.189625,\"symbol\":\"circle\"},\"mode\":\"markers\",\"name\":\"Bihar\",\"showlegend\":true,\"type\":\"scattergeo\"},{\"geo\":\"geo\",\"hovertemplate\":\"\\u003cb\\u003e%{hovertext}\\u003c\\u002fb\\u003e\\u003cbr\\u003e\\u003cbr\\u003eRegion=Chhattisgarh\\u003cbr\\u003emonth=january\\u003cbr\\u003eEstimatedUnemploymentRate=%{marker.size}\\u003cbr\\u003elatitude=%{lat}\\u003cbr\\u003elongitude=%{lon}\\u003cextra\\u003e\\u003c\\u002fextra\\u003e\",\"hovertext\":[\"Chhattisgarh\"],\"lat\":[81.8661],\"legendgroup\":\"Chhattisgarh\",\"lon\":[21.2787],\"marker\":{\"color\":\"#ab63fa\",\"size\":[9.65],\"sizemode\":\"area\",\"sizeref\":0.189625,\"symbol\":\"circle\"},\"mode\":\"markers\",\"name\":\"Chhattisgarh\",\"showlegend\":true,\"type\":\"scattergeo\"},{\"geo\":\"geo\",\"hovertemplate\":\"\\u003cb\\u003e%{hovertext}\\u003c\\u002fb\\u003e\\u003cbr\\u003e\\u003cbr\\u003eRegion=Delhi\\u003cbr\\u003emonth=january\\u003cbr\\u003eEstimatedUnemploymentRate=%{marker.size}\\u003cbr\\u003elatitude=%{lat}\\u003cbr\\u003elongitude=%{lon}\\u003cextra\\u003e\\u003c\\u002fextra\\u003e\",\"hovertext\":[\"Delhi\"],\"lat\":[77.1025],\"legendgroup\":\"Delhi\",\"lon\":[28.7041],\"marker\":{\"color\":\"#FFA15A\",\"size\":[22.23],\"sizemode\":\"area\",\"sizeref\":0.189625,\"symbol\":\"circle\"},\"mode\":\"markers\",\"name\":\"Delhi\",\"showlegend\":true,\"type\":\"scattergeo\"},{\"geo\":\"geo\",\"hovertemplate\":\"\\u003cb\\u003e%{hovertext}\\u003c\\u002fb\\u003e\\u003cbr\\u003e\\u003cbr\\u003eRegion=Goa\\u003cbr\\u003emonth=january\\u003cbr\\u003eEstimatedUnemploymentRate=%{marker.size}\\u003cbr\\u003elatitude=%{lat}\\u003cbr\\u003elongitude=%{lon}\\u003cextra\\u003e\\u003c\\u002fextra\\u003e\",\"hovertext\":[\"Goa\"],\"lat\":[74.124],\"legendgroup\":\"Goa\",\"lon\":[15.2993],\"marker\":{\"color\":\"#19d3f3\",\"size\":[8.89],\"sizemode\":\"area\",\"sizeref\":0.189625,\"symbol\":\"circle\"},\"mode\":\"markers\",\"name\":\"Goa\",\"showlegend\":true,\"type\":\"scattergeo\"},{\"geo\":\"geo\",\"hovertemplate\":\"\\u003cb\\u003e%{hovertext}\\u003c\\u002fb\\u003e\\u003cbr\\u003e\\u003cbr\\u003eRegion=Gujarat\\u003cbr\\u003emonth=january\\u003cbr\\u003eEstimatedUnemploymentRate=%{marker.size}\\u003cbr\\u003elatitude=%{lat}\\u003cbr\\u003elongitude=%{lon}\\u003cextra\\u003e\\u003c\\u002fextra\\u003e\",\"hovertext\":[\"Gujarat\"],\"lat\":[71.1924],\"legendgroup\":\"Gujarat\",\"lon\":[22.2587],\"marker\":{\"color\":\"#FF6692\",\"size\":[5.54],\"sizemode\":\"area\",\"sizeref\":0.189625,\"symbol\":\"circle\"},\"mode\":\"markers\",\"name\":\"Gujarat\",\"showlegend\":true,\"type\":\"scattergeo\"},{\"geo\":\"geo\",\"hovertemplate\":\"\\u003cb\\u003e%{hovertext}\\u003c\\u002fb\\u003e\\u003cbr\\u003e\\u003cbr\\u003eRegion=Haryana\\u003cbr\\u003emonth=january\\u003cbr\\u003eEstimatedUnemploymentRate=%{marker.size}\\u003cbr\\u003elatitude=%{lat}\\u003cbr\\u003elongitude=%{lon}\\u003cextra\\u003e\\u003c\\u002fextra\\u003e\",\"hovertext\":[\"Haryana\"],\"lat\":[76.0856],\"legendgroup\":\"Haryana\",\"lon\":[29.0588],\"marker\":{\"color\":\"#B6E880\",\"size\":[20.34],\"sizemode\":\"area\",\"sizeref\":0.189625,\"symbol\":\"circle\"},\"mode\":\"markers\",\"name\":\"Haryana\",\"showlegend\":true,\"type\":\"scattergeo\"},{\"geo\":\"geo\",\"hovertemplate\":\"\\u003cb\\u003e%{hovertext}\\u003c\\u002fb\\u003e\\u003cbr\\u003e\\u003cbr\\u003eRegion=Himachal Pradesh\\u003cbr\\u003emonth=january\\u003cbr\\u003eEstimatedUnemploymentRate=%{marker.size}\\u003cbr\\u003elatitude=%{lat}\\u003cbr\\u003elongitude=%{lon}\\u003cextra\\u003e\\u003c\\u002fextra\\u003e\",\"hovertext\":[\"Himachal Pradesh\"],\"lat\":[77.1734],\"legendgroup\":\"Himachal Pradesh\",\"lon\":[31.1048],\"marker\":{\"color\":\"#FF97FF\",\"size\":[16.83],\"sizemode\":\"area\",\"sizeref\":0.189625,\"symbol\":\"circle\"},\"mode\":\"markers\",\"name\":\"Himachal Pradesh\",\"showlegend\":true,\"type\":\"scattergeo\"},{\"geo\":\"geo\",\"hovertemplate\":\"\\u003cb\\u003e%{hovertext}\\u003c\\u002fb\\u003e\\u003cbr\\u003e\\u003cbr\\u003eRegion=Jammu & Kashmir\\u003cbr\\u003emonth=january\\u003cbr\\u003eEstimatedUnemploymentRate=%{marker.size}\\u003cbr\\u003elatitude=%{lat}\\u003cbr\\u003elongitude=%{lon}\\u003cextra\\u003e\\u003c\\u002fextra\\u003e\",\"hovertext\":[\"Jammu & Kashmir\"],\"lat\":[76.5762],\"legendgroup\":\"Jammu & Kashmir\",\"lon\":[33.7782],\"marker\":{\"color\":\"#FECB52\",\"size\":[21.08],\"sizemode\":\"area\",\"sizeref\":0.189625,\"symbol\":\"circle\"},\"mode\":\"markers\",\"name\":\"Jammu & Kashmir\",\"showlegend\":true,\"type\":\"scattergeo\"},{\"geo\":\"geo\",\"hovertemplate\":\"\\u003cb\\u003e%{hovertext}\\u003c\\u002fb\\u003e\\u003cbr\\u003e\\u003cbr\\u003eRegion=Jharkhand\\u003cbr\\u003emonth=january\\u003cbr\\u003eEstimatedUnemploymentRate=%{marker.size}\\u003cbr\\u003elatitude=%{lat}\\u003cbr\\u003elongitude=%{lon}\\u003cextra\\u003e\\u003c\\u002fextra\\u003e\",\"hovertext\":[\"Jharkhand\"],\"lat\":[85.2799],\"legendgroup\":\"Jharkhand\",\"lon\":[23.6102],\"marker\":{\"color\":\"#636efa\",\"size\":[10.61],\"sizemode\":\"area\",\"sizeref\":0.189625,\"symbol\":\"circle\"},\"mode\":\"markers\",\"name\":\"Jharkhand\",\"showlegend\":true,\"type\":\"scattergeo\"},{\"geo\":\"geo\",\"hovertemplate\":\"\\u003cb\\u003e%{hovertext}\\u003c\\u002fb\\u003e\\u003cbr\\u003e\\u003cbr\\u003eRegion=Karnataka\\u003cbr\\u003emonth=january\\u003cbr\\u003eEstimatedUnemploymentRate=%{marker.size}\\u003cbr\\u003elatitude=%{lat}\\u003cbr\\u003elongitude=%{lon}\\u003cextra\\u003e\\u003c\\u002fextra\\u003e\",\"hovertext\":[\"Karnataka\"],\"lat\":[75.7139],\"legendgroup\":\"Karnataka\",\"lon\":[15.3173],\"marker\":{\"color\":\"#EF553B\",\"size\":[2.86],\"sizemode\":\"area\",\"sizeref\":0.189625,\"symbol\":\"circle\"},\"mode\":\"markers\",\"name\":\"Karnataka\",\"showlegend\":true,\"type\":\"scattergeo\"},{\"geo\":\"geo\",\"hovertemplate\":\"\\u003cb\\u003e%{hovertext}\\u003c\\u002fb\\u003e\\u003cbr\\u003e\\u003cbr\\u003eRegion=Kerala\\u003cbr\\u003emonth=january\\u003cbr\\u003eEstimatedUnemploymentRate=%{marker.size}\\u003cbr\\u003elatitude=%{lat}\\u003cbr\\u003elongitude=%{lon}\\u003cextra\\u003e\\u003c\\u002fextra\\u003e\",\"hovertext\":[\"Kerala\"],\"lat\":[76.2711],\"legendgroup\":\"Kerala\",\"lon\":[10.8505],\"marker\":{\"color\":\"#00cc96\",\"size\":[5.31],\"sizemode\":\"area\",\"sizeref\":0.189625,\"symbol\":\"circle\"},\"mode\":\"markers\",\"name\":\"Kerala\",\"showlegend\":true,\"type\":\"scattergeo\"},{\"geo\":\"geo\",\"hovertemplate\":\"\\u003cb\\u003e%{hovertext}\\u003c\\u002fb\\u003e\\u003cbr\\u003e\\u003cbr\\u003eRegion=Madhya Pradesh\\u003cbr\\u003emonth=january\\u003cbr\\u003eEstimatedUnemploymentRate=%{marker.size}\\u003cbr\\u003elatitude=%{lat}\\u003cbr\\u003elongitude=%{lon}\\u003cextra\\u003e\\u003c\\u002fextra\\u003e\",\"hovertext\":[\"Madhya Pradesh\"],\"lat\":[78.6569],\"legendgroup\":\"Madhya Pradesh\",\"lon\":[22.9734],\"marker\":{\"color\":\"#ab63fa\",\"size\":[4.11],\"sizemode\":\"area\",\"sizeref\":0.189625,\"symbol\":\"circle\"},\"mode\":\"markers\",\"name\":\"Madhya Pradesh\",\"showlegend\":true,\"type\":\"scattergeo\"},{\"geo\":\"geo\",\"hovertemplate\":\"\\u003cb\\u003e%{hovertext}\\u003c\\u002fb\\u003e\\u003cbr\\u003e\\u003cbr\\u003eRegion=Maharashtra\\u003cbr\\u003emonth=january\\u003cbr\\u003eEstimatedUnemploymentRate=%{marker.size}\\u003cbr\\u003elatitude=%{lat}\\u003cbr\\u003elongitude=%{lon}\\u003cextra\\u003e\\u003c\\u002fextra\\u003e\",\"hovertext\":[\"Maharashtra\"],\"lat\":[75.7139],\"legendgroup\":\"Maharashtra\",\"lon\":[19.7515],\"marker\":{\"color\":\"#FFA15A\",\"size\":[4.95],\"sizemode\":\"area\",\"sizeref\":0.189625,\"symbol\":\"circle\"},\"mode\":\"markers\",\"name\":\"Maharashtra\",\"showlegend\":true,\"type\":\"scattergeo\"},{\"geo\":\"geo\",\"hovertemplate\":\"\\u003cb\\u003e%{hovertext}\\u003c\\u002fb\\u003e\\u003cbr\\u003e\\u003cbr\\u003eRegion=Meghalaya\\u003cbr\\u003emonth=january\\u003cbr\\u003eEstimatedUnemploymentRate=%{marker.size}\\u003cbr\\u003elatitude=%{lat}\\u003cbr\\u003elongitude=%{lon}\\u003cextra\\u003e\\u003c\\u002fextra\\u003e\",\"hovertext\":[\"Meghalaya\"],\"lat\":[91.3662],\"legendgroup\":\"Meghalaya\",\"lon\":[25.467],\"marker\":{\"color\":\"#19d3f3\",\"size\":[1.66],\"sizemode\":\"area\",\"sizeref\":0.189625,\"symbol\":\"circle\"},\"mode\":\"markers\",\"name\":\"Meghalaya\",\"showlegend\":true,\"type\":\"scattergeo\"},{\"geo\":\"geo\",\"hovertemplate\":\"\\u003cb\\u003e%{hovertext}\\u003c\\u002fb\\u003e\\u003cbr\\u003e\\u003cbr\\u003eRegion=Odisha\\u003cbr\\u003emonth=january\\u003cbr\\u003eEstimatedUnemploymentRate=%{marker.size}\\u003cbr\\u003elatitude=%{lat}\\u003cbr\\u003elongitude=%{lon}\\u003cextra\\u003e\\u003c\\u002fextra\\u003e\",\"hovertext\":[\"Odisha\"],\"lat\":[85.0985],\"legendgroup\":\"Odisha\",\"lon\":[20.9517],\"marker\":{\"color\":\"#FF6692\",\"size\":[1.9],\"sizemode\":\"area\",\"sizeref\":0.189625,\"symbol\":\"circle\"},\"mode\":\"markers\",\"name\":\"Odisha\",\"showlegend\":true,\"type\":\"scattergeo\"},{\"geo\":\"geo\",\"hovertemplate\":\"\\u003cb\\u003e%{hovertext}\\u003c\\u002fb\\u003e\\u003cbr\\u003e\\u003cbr\\u003eRegion=Puducherry\\u003cbr\\u003emonth=january\\u003cbr\\u003eEstimatedUnemploymentRate=%{marker.size}\\u003cbr\\u003elatitude=%{lat}\\u003cbr\\u003elongitude=%{lon}\\u003cextra\\u003e\\u003c\\u002fextra\\u003e\",\"hovertext\":[\"Puducherry\"],\"lat\":[79.8083],\"legendgroup\":\"Puducherry\",\"lon\":[11.9416],\"marker\":{\"color\":\"#B6E880\",\"size\":[0.58],\"sizemode\":\"area\",\"sizeref\":0.189625,\"symbol\":\"circle\"},\"mode\":\"markers\",\"name\":\"Puducherry\",\"showlegend\":true,\"type\":\"scattergeo\"},{\"geo\":\"geo\",\"hovertemplate\":\"\\u003cb\\u003e%{hovertext}\\u003c\\u002fb\\u003e\\u003cbr\\u003e\\u003cbr\\u003eRegion=Punjab\\u003cbr\\u003emonth=january\\u003cbr\\u003eEstimatedUnemploymentRate=%{marker.size}\\u003cbr\\u003elatitude=%{lat}\\u003cbr\\u003elongitude=%{lon}\\u003cextra\\u003e\\u003c\\u002fextra\\u003e\",\"hovertext\":[\"Punjab\"],\"lat\":[75.3412],\"legendgroup\":\"Punjab\",\"lon\":[31.1471],\"marker\":{\"color\":\"#FF97FF\",\"size\":[11.11],\"sizemode\":\"area\",\"sizeref\":0.189625,\"symbol\":\"circle\"},\"mode\":\"markers\",\"name\":\"Punjab\",\"showlegend\":true,\"type\":\"scattergeo\"},{\"geo\":\"geo\",\"hovertemplate\":\"\\u003cb\\u003e%{hovertext}\\u003c\\u002fb\\u003e\\u003cbr\\u003e\\u003cbr\\u003eRegion=Rajasthan\\u003cbr\\u003emonth=january\\u003cbr\\u003eEstimatedUnemploymentRate=%{marker.size}\\u003cbr\\u003elatitude=%{lat}\\u003cbr\\u003elongitude=%{lon}\\u003cextra\\u003e\\u003c\\u002fextra\\u003e\",\"hovertext\":[\"Rajasthan\"],\"lat\":[74.2179],\"legendgroup\":\"Rajasthan\",\"lon\":[27.0238],\"marker\":{\"color\":\"#FECB52\",\"size\":[10.97],\"sizemode\":\"area\",\"sizeref\":0.189625,\"symbol\":\"circle\"},\"mode\":\"markers\",\"name\":\"Rajasthan\",\"showlegend\":true,\"type\":\"scattergeo\"},{\"geo\":\"geo\",\"hovertemplate\":\"\\u003cb\\u003e%{hovertext}\\u003c\\u002fb\\u003e\\u003cbr\\u003e\\u003cbr\\u003eRegion=Tamil Nadu\\u003cbr\\u003emonth=january\\u003cbr\\u003eEstimatedUnemploymentRate=%{marker.size}\\u003cbr\\u003elatitude=%{lat}\\u003cbr\\u003elongitude=%{lon}\\u003cextra\\u003e\\u003c\\u002fextra\\u003e\",\"hovertext\":[\"Tamil Nadu\"],\"lat\":[78.6569],\"legendgroup\":\"Tamil Nadu\",\"lon\":[11.1271],\"marker\":{\"color\":\"#EF553B\",\"size\":[1.57],\"sizemode\":\"area\",\"sizeref\":0.189625,\"symbol\":\"circle\"},\"mode\":\"markers\",\"name\":\"Tamil Nadu\",\"showlegend\":true,\"type\":\"scattergeo\"},{\"geo\":\"geo\",\"hovertemplate\":\"\\u003cb\\u003e%{hovertext}\\u003c\\u002fb\\u003e\\u003cbr\\u003e\\u003cbr\\u003eRegion=Telangana\\u003cbr\\u003emonth=january\\u003cbr\\u003eEstimatedUnemploymentRate=%{marker.size}\\u003cbr\\u003elatitude=%{lat}\\u003cbr\\u003elongitude=%{lon}\\u003cextra\\u003e\\u003c\\u002fextra\\u003e\",\"hovertext\":[\"Telangana\"],\"lat\":[79.0193],\"legendgroup\":\"Telangana\",\"lon\":[18.1124],\"marker\":{\"color\":\"#00cc96\",\"size\":[5.49],\"sizemode\":\"area\",\"sizeref\":0.189625,\"symbol\":\"circle\"},\"mode\":\"markers\",\"name\":\"Telangana\",\"showlegend\":true,\"type\":\"scattergeo\"},{\"geo\":\"geo\",\"hovertemplate\":\"\\u003cb\\u003e%{hovertext}\\u003c\\u002fb\\u003e\\u003cbr\\u003e\\u003cbr\\u003eRegion=Tripura\\u003cbr\\u003emonth=january\\u003cbr\\u003eEstimatedUnemploymentRate=%{marker.size}\\u003cbr\\u003elatitude=%{lat}\\u003cbr\\u003elongitude=%{lon}\\u003cextra\\u003e\\u003c\\u002fextra\\u003e\",\"hovertext\":[\"Tripura\"],\"lat\":[91.9882],\"legendgroup\":\"Tripura\",\"lon\":[23.9408],\"marker\":{\"color\":\"#ab63fa\",\"size\":[32.67],\"sizemode\":\"area\",\"sizeref\":0.189625,\"symbol\":\"circle\"},\"mode\":\"markers\",\"name\":\"Tripura\",\"showlegend\":true,\"type\":\"scattergeo\"},{\"geo\":\"geo\",\"hovertemplate\":\"\\u003cb\\u003e%{hovertext}\\u003c\\u002fb\\u003e\\u003cbr\\u003e\\u003cbr\\u003eRegion=Uttar Pradesh\\u003cbr\\u003emonth=january\\u003cbr\\u003eEstimatedUnemploymentRate=%{marker.size}\\u003cbr\\u003elatitude=%{lat}\\u003cbr\\u003elongitude=%{lon}\\u003cextra\\u003e\\u003c\\u002fextra\\u003e\",\"hovertext\":[\"Uttar Pradesh\"],\"lat\":[80.9462],\"legendgroup\":\"Uttar Pradesh\",\"lon\":[26.8467],\"marker\":{\"color\":\"#FFA15A\",\"size\":[7.58],\"sizemode\":\"area\",\"sizeref\":0.189625,\"symbol\":\"circle\"},\"mode\":\"markers\",\"name\":\"Uttar Pradesh\",\"showlegend\":true,\"type\":\"scattergeo\"},{\"geo\":\"geo\",\"hovertemplate\":\"\\u003cb\\u003e%{hovertext}\\u003c\\u002fb\\u003e\\u003cbr\\u003e\\u003cbr\\u003eRegion=Uttarakhand\\u003cbr\\u003emonth=january\\u003cbr\\u003eEstimatedUnemploymentRate=%{marker.size}\\u003cbr\\u003elatitude=%{lat}\\u003cbr\\u003elongitude=%{lon}\\u003cextra\\u003e\\u003c\\u002fextra\\u003e\",\"hovertext\":[\"Uttarakhand\"],\"lat\":[79.0193],\"legendgroup\":\"Uttarakhand\",\"lon\":[30.0668],\"marker\":{\"color\":\"#19d3f3\",\"size\":[5.49],\"sizemode\":\"area\",\"sizeref\":0.189625,\"symbol\":\"circle\"},\"mode\":\"markers\",\"name\":\"Uttarakhand\",\"showlegend\":true,\"type\":\"scattergeo\"},{\"geo\":\"geo\",\"hovertemplate\":\"\\u003cb\\u003e%{hovertext}\\u003c\\u002fb\\u003e\\u003cbr\\u003e\\u003cbr\\u003eRegion=West Bengal\\u003cbr\\u003emonth=january\\u003cbr\\u003eEstimatedUnemploymentRate=%{marker.size}\\u003cbr\\u003elatitude=%{lat}\\u003cbr\\u003elongitude=%{lon}\\u003cextra\\u003e\\u003c\\u002fextra\\u003e\",\"hovertext\":[\"West Bengal\"],\"lat\":[87.855],\"legendgroup\":\"West Bengal\",\"lon\":[22.9868],\"marker\":{\"color\":\"#FF6692\",\"size\":[6.94],\"sizemode\":\"area\",\"sizeref\":0.189625,\"symbol\":\"circle\"},\"mode\":\"markers\",\"name\":\"West Bengal\",\"showlegend\":true,\"type\":\"scattergeo\"}],\"name\":\"january\"},{\"data\":[{\"geo\":\"geo\",\"hovertemplate\":\"\\u003cb\\u003e%{hovertext}\\u003c\\u002fb\\u003e\\u003cbr\\u003e\\u003cbr\\u003eRegion=Andhra Pradesh\\u003cbr\\u003emonth=february\\u003cbr\\u003eEstimatedUnemploymentRate=%{marker.size}\\u003cbr\\u003elatitude=%{lat}\\u003cbr\\u003elongitude=%{lon}\\u003cextra\\u003e\\u003c\\u002fextra\\u003e\",\"hovertext\":[\"Andhra Pradesh\"],\"lat\":[79.74],\"legendgroup\":\"Andhra Pradesh\",\"lon\":[15.9129],\"marker\":{\"color\":\"#636efa\",\"size\":[5.83],\"sizemode\":\"area\",\"sizeref\":0.189625,\"symbol\":\"circle\"},\"mode\":\"markers\",\"name\":\"Andhra Pradesh\",\"showlegend\":true,\"type\":\"scattergeo\"},{\"geo\":\"geo\",\"hovertemplate\":\"\\u003cb\\u003e%{hovertext}\\u003c\\u002fb\\u003e\\u003cbr\\u003e\\u003cbr\\u003eRegion=Assam\\u003cbr\\u003emonth=february\\u003cbr\\u003eEstimatedUnemploymentRate=%{marker.size}\\u003cbr\\u003elatitude=%{lat}\\u003cbr\\u003elongitude=%{lon}\\u003cextra\\u003e\\u003c\\u002fextra\\u003e\",\"hovertext\":[\"Assam\"],\"lat\":[92.9376],\"legendgroup\":\"Assam\",\"lon\":[26.2006],\"marker\":{\"color\":\"#EF553B\",\"size\":[4.41],\"sizemode\":\"area\",\"sizeref\":0.189625,\"symbol\":\"circle\"},\"mode\":\"markers\",\"name\":\"Assam\",\"showlegend\":true,\"type\":\"scattergeo\"},{\"geo\":\"geo\",\"hovertemplate\":\"\\u003cb\\u003e%{hovertext}\\u003c\\u002fb\\u003e\\u003cbr\\u003e\\u003cbr\\u003eRegion=Bihar\\u003cbr\\u003emonth=february\\u003cbr\\u003eEstimatedUnemploymentRate=%{marker.size}\\u003cbr\\u003elatitude=%{lat}\\u003cbr\\u003elongitude=%{lon}\\u003cextra\\u003e\\u003c\\u002fextra\\u003e\",\"hovertext\":[\"Bihar\"],\"lat\":[85.3131],\"legendgroup\":\"Bihar\",\"lon\":[25.0961],\"marker\":{\"color\":\"#00cc96\",\"size\":[10.29],\"sizemode\":\"area\",\"sizeref\":0.189625,\"symbol\":\"circle\"},\"mode\":\"markers\",\"name\":\"Bihar\",\"showlegend\":true,\"type\":\"scattergeo\"},{\"geo\":\"geo\",\"hovertemplate\":\"\\u003cb\\u003e%{hovertext}\\u003c\\u002fb\\u003e\\u003cbr\\u003e\\u003cbr\\u003eRegion=Chhattisgarh\\u003cbr\\u003emonth=february\\u003cbr\\u003eEstimatedUnemploymentRate=%{marker.size}\\u003cbr\\u003elatitude=%{lat}\\u003cbr\\u003elongitude=%{lon}\\u003cextra\\u003e\\u003c\\u002fextra\\u003e\",\"hovertext\":[\"Chhattisgarh\"],\"lat\":[81.8661],\"legendgroup\":\"Chhattisgarh\",\"lon\":[21.2787],\"marker\":{\"color\":\"#ab63fa\",\"size\":[8.38],\"sizemode\":\"area\",\"sizeref\":0.189625,\"symbol\":\"circle\"},\"mode\":\"markers\",\"name\":\"Chhattisgarh\",\"showlegend\":true,\"type\":\"scattergeo\"},{\"geo\":\"geo\",\"hovertemplate\":\"\\u003cb\\u003e%{hovertext}\\u003c\\u002fb\\u003e\\u003cbr\\u003e\\u003cbr\\u003eRegion=Delhi\\u003cbr\\u003emonth=february\\u003cbr\\u003eEstimatedUnemploymentRate=%{marker.size}\\u003cbr\\u003elatitude=%{lat}\\u003cbr\\u003elongitude=%{lon}\\u003cextra\\u003e\\u003c\\u002fextra\\u003e\",\"hovertext\":[\"Delhi\"],\"lat\":[77.1025],\"legendgroup\":\"Delhi\",\"lon\":[28.7041],\"marker\":{\"color\":\"#FFA15A\",\"size\":[14.84],\"sizemode\":\"area\",\"sizeref\":0.189625,\"symbol\":\"circle\"},\"mode\":\"markers\",\"name\":\"Delhi\",\"showlegend\":true,\"type\":\"scattergeo\"},{\"geo\":\"geo\",\"hovertemplate\":\"\\u003cb\\u003e%{hovertext}\\u003c\\u002fb\\u003e\\u003cbr\\u003e\\u003cbr\\u003eRegion=Goa\\u003cbr\\u003emonth=february\\u003cbr\\u003eEstimatedUnemploymentRate=%{marker.size}\\u003cbr\\u003elatitude=%{lat}\\u003cbr\\u003elongitude=%{lon}\\u003cextra\\u003e\\u003c\\u002fextra\\u003e\",\"hovertext\":[\"Goa\"],\"lat\":[74.124],\"legendgroup\":\"Goa\",\"lon\":[15.2993],\"marker\":{\"color\":\"#19d3f3\",\"size\":[2.81],\"sizemode\":\"area\",\"sizeref\":0.189625,\"symbol\":\"circle\"},\"mode\":\"markers\",\"name\":\"Goa\",\"showlegend\":true,\"type\":\"scattergeo\"},{\"geo\":\"geo\",\"hovertemplate\":\"\\u003cb\\u003e%{hovertext}\\u003c\\u002fb\\u003e\\u003cbr\\u003e\\u003cbr\\u003eRegion=Gujarat\\u003cbr\\u003emonth=february\\u003cbr\\u003eEstimatedUnemploymentRate=%{marker.size}\\u003cbr\\u003elatitude=%{lat}\\u003cbr\\u003elongitude=%{lon}\\u003cextra\\u003e\\u003c\\u002fextra\\u003e\",\"hovertext\":[\"Gujarat\"],\"lat\":[71.1924],\"legendgroup\":\"Gujarat\",\"lon\":[22.2587],\"marker\":{\"color\":\"#FF6692\",\"size\":[6.38],\"sizemode\":\"area\",\"sizeref\":0.189625,\"symbol\":\"circle\"},\"mode\":\"markers\",\"name\":\"Gujarat\",\"showlegend\":true,\"type\":\"scattergeo\"},{\"geo\":\"geo\",\"hovertemplate\":\"\\u003cb\\u003e%{hovertext}\\u003c\\u002fb\\u003e\\u003cbr\\u003e\\u003cbr\\u003eRegion=Haryana\\u003cbr\\u003emonth=february\\u003cbr\\u003eEstimatedUnemploymentRate=%{marker.size}\\u003cbr\\u003elatitude=%{lat}\\u003cbr\\u003elongitude=%{lon}\\u003cextra\\u003e\\u003c\\u002fextra\\u003e\",\"hovertext\":[\"Haryana\"],\"lat\":[76.0856],\"legendgroup\":\"Haryana\",\"lon\":[29.0588],\"marker\":{\"color\":\"#B6E880\",\"size\":[25.77],\"sizemode\":\"area\",\"sizeref\":0.189625,\"symbol\":\"circle\"},\"mode\":\"markers\",\"name\":\"Haryana\",\"showlegend\":true,\"type\":\"scattergeo\"},{\"geo\":\"geo\",\"hovertemplate\":\"\\u003cb\\u003e%{hovertext}\\u003c\\u002fb\\u003e\\u003cbr\\u003e\\u003cbr\\u003eRegion=Himachal Pradesh\\u003cbr\\u003emonth=february\\u003cbr\\u003eEstimatedUnemploymentRate=%{marker.size}\\u003cbr\\u003elatitude=%{lat}\\u003cbr\\u003elongitude=%{lon}\\u003cextra\\u003e\\u003c\\u002fextra\\u003e\",\"hovertext\":[\"Himachal Pradesh\"],\"lat\":[77.1734],\"legendgroup\":\"Himachal Pradesh\",\"lon\":[31.1048],\"marker\":{\"color\":\"#FF97FF\",\"size\":[16.84],\"sizemode\":\"area\",\"sizeref\":0.189625,\"symbol\":\"circle\"},\"mode\":\"markers\",\"name\":\"Himachal Pradesh\",\"showlegend\":true,\"type\":\"scattergeo\"},{\"geo\":\"geo\",\"hovertemplate\":\"\\u003cb\\u003e%{hovertext}\\u003c\\u002fb\\u003e\\u003cbr\\u003e\\u003cbr\\u003eRegion=Jammu & Kashmir\\u003cbr\\u003emonth=february\\u003cbr\\u003eEstimatedUnemploymentRate=%{marker.size}\\u003cbr\\u003elatitude=%{lat}\\u003cbr\\u003elongitude=%{lon}\\u003cextra\\u003e\\u003c\\u002fextra\\u003e\",\"hovertext\":[\"Jammu & Kashmir\"],\"lat\":[76.5762],\"legendgroup\":\"Jammu & Kashmir\",\"lon\":[33.7782],\"marker\":{\"color\":\"#FECB52\",\"size\":[20.78],\"sizemode\":\"area\",\"sizeref\":0.189625,\"symbol\":\"circle\"},\"mode\":\"markers\",\"name\":\"Jammu & Kashmir\",\"showlegend\":true,\"type\":\"scattergeo\"},{\"geo\":\"geo\",\"hovertemplate\":\"\\u003cb\\u003e%{hovertext}\\u003c\\u002fb\\u003e\\u003cbr\\u003e\\u003cbr\\u003eRegion=Jharkhand\\u003cbr\\u003emonth=february\\u003cbr\\u003eEstimatedUnemploymentRate=%{marker.size}\\u003cbr\\u003elatitude=%{lat}\\u003cbr\\u003elongitude=%{lon}\\u003cextra\\u003e\\u003c\\u002fextra\\u003e\",\"hovertext\":[\"Jharkhand\"],\"lat\":[85.2799],\"legendgroup\":\"Jharkhand\",\"lon\":[23.6102],\"marker\":{\"color\":\"#636efa\",\"size\":[11.85],\"sizemode\":\"area\",\"sizeref\":0.189625,\"symbol\":\"circle\"},\"mode\":\"markers\",\"name\":\"Jharkhand\",\"showlegend\":true,\"type\":\"scattergeo\"},{\"geo\":\"geo\",\"hovertemplate\":\"\\u003cb\\u003e%{hovertext}\\u003c\\u002fb\\u003e\\u003cbr\\u003e\\u003cbr\\u003eRegion=Karnataka\\u003cbr\\u003emonth=february\\u003cbr\\u003eEstimatedUnemploymentRate=%{marker.size}\\u003cbr\\u003elatitude=%{lat}\\u003cbr\\u003elongitude=%{lon}\\u003cextra\\u003e\\u003c\\u002fextra\\u003e\",\"hovertext\":[\"Karnataka\"],\"lat\":[75.7139],\"legendgroup\":\"Karnataka\",\"lon\":[15.3173],\"marker\":{\"color\":\"#EF553B\",\"size\":[3.61],\"sizemode\":\"area\",\"sizeref\":0.189625,\"symbol\":\"circle\"},\"mode\":\"markers\",\"name\":\"Karnataka\",\"showlegend\":true,\"type\":\"scattergeo\"},{\"geo\":\"geo\",\"hovertemplate\":\"\\u003cb\\u003e%{hovertext}\\u003c\\u002fb\\u003e\\u003cbr\\u003e\\u003cbr\\u003eRegion=Kerala\\u003cbr\\u003emonth=february\\u003cbr\\u003eEstimatedUnemploymentRate=%{marker.size}\\u003cbr\\u003elatitude=%{lat}\\u003cbr\\u003elongitude=%{lon}\\u003cextra\\u003e\\u003c\\u002fextra\\u003e\",\"hovertext\":[\"Kerala\"],\"lat\":[76.2711],\"legendgroup\":\"Kerala\",\"lon\":[10.8505],\"marker\":{\"color\":\"#00cc96\",\"size\":[7.6],\"sizemode\":\"area\",\"sizeref\":0.189625,\"symbol\":\"circle\"},\"mode\":\"markers\",\"name\":\"Kerala\",\"showlegend\":true,\"type\":\"scattergeo\"},{\"geo\":\"geo\",\"hovertemplate\":\"\\u003cb\\u003e%{hovertext}\\u003c\\u002fb\\u003e\\u003cbr\\u003e\\u003cbr\\u003eRegion=Madhya Pradesh\\u003cbr\\u003emonth=february\\u003cbr\\u003eEstimatedUnemploymentRate=%{marker.size}\\u003cbr\\u003elatitude=%{lat}\\u003cbr\\u003elongitude=%{lon}\\u003cextra\\u003e\\u003c\\u002fextra\\u003e\",\"hovertext\":[\"Madhya Pradesh\"],\"lat\":[78.6569],\"legendgroup\":\"Madhya Pradesh\",\"lon\":[22.9734],\"marker\":{\"color\":\"#ab63fa\",\"size\":[4.57],\"sizemode\":\"area\",\"sizeref\":0.189625,\"symbol\":\"circle\"},\"mode\":\"markers\",\"name\":\"Madhya Pradesh\",\"showlegend\":true,\"type\":\"scattergeo\"},{\"geo\":\"geo\",\"hovertemplate\":\"\\u003cb\\u003e%{hovertext}\\u003c\\u002fb\\u003e\\u003cbr\\u003e\\u003cbr\\u003eRegion=Maharashtra\\u003cbr\\u003emonth=february\\u003cbr\\u003eEstimatedUnemploymentRate=%{marker.size}\\u003cbr\\u003elatitude=%{lat}\\u003cbr\\u003elongitude=%{lon}\\u003cextra\\u003e\\u003c\\u002fextra\\u003e\",\"hovertext\":[\"Maharashtra\"],\"lat\":[75.7139],\"legendgroup\":\"Maharashtra\",\"lon\":[19.7515],\"marker\":{\"color\":\"#FFA15A\",\"size\":[4.69],\"sizemode\":\"area\",\"sizeref\":0.189625,\"symbol\":\"circle\"},\"mode\":\"markers\",\"name\":\"Maharashtra\",\"showlegend\":true,\"type\":\"scattergeo\"},{\"geo\":\"geo\",\"hovertemplate\":\"\\u003cb\\u003e%{hovertext}\\u003c\\u002fb\\u003e\\u003cbr\\u003e\\u003cbr\\u003eRegion=Meghalaya\\u003cbr\\u003emonth=february\\u003cbr\\u003eEstimatedUnemploymentRate=%{marker.size}\\u003cbr\\u003elatitude=%{lat}\\u003cbr\\u003elongitude=%{lon}\\u003cextra\\u003e\\u003c\\u002fextra\\u003e\",\"hovertext\":[\"Meghalaya\"],\"lat\":[91.3662],\"legendgroup\":\"Meghalaya\",\"lon\":[25.467],\"marker\":{\"color\":\"#19d3f3\",\"size\":[3.59],\"sizemode\":\"area\",\"sizeref\":0.189625,\"symbol\":\"circle\"},\"mode\":\"markers\",\"name\":\"Meghalaya\",\"showlegend\":true,\"type\":\"scattergeo\"},{\"geo\":\"geo\",\"hovertemplate\":\"\\u003cb\\u003e%{hovertext}\\u003c\\u002fb\\u003e\\u003cbr\\u003e\\u003cbr\\u003eRegion=Odisha\\u003cbr\\u003emonth=february\\u003cbr\\u003eEstimatedUnemploymentRate=%{marker.size}\\u003cbr\\u003elatitude=%{lat}\\u003cbr\\u003elongitude=%{lon}\\u003cextra\\u003e\\u003c\\u002fextra\\u003e\",\"hovertext\":[\"Odisha\"],\"lat\":[85.0985],\"legendgroup\":\"Odisha\",\"lon\":[20.9517],\"marker\":{\"color\":\"#FF6692\",\"size\":[3.12],\"sizemode\":\"area\",\"sizeref\":0.189625,\"symbol\":\"circle\"},\"mode\":\"markers\",\"name\":\"Odisha\",\"showlegend\":true,\"type\":\"scattergeo\"},{\"geo\":\"geo\",\"hovertemplate\":\"\\u003cb\\u003e%{hovertext}\\u003c\\u002fb\\u003e\\u003cbr\\u003e\\u003cbr\\u003eRegion=Puducherry\\u003cbr\\u003emonth=february\\u003cbr\\u003eEstimatedUnemploymentRate=%{marker.size}\\u003cbr\\u003elatitude=%{lat}\\u003cbr\\u003elongitude=%{lon}\\u003cextra\\u003e\\u003c\\u002fextra\\u003e\",\"hovertext\":[\"Puducherry\"],\"lat\":[79.8083],\"legendgroup\":\"Puducherry\",\"lon\":[11.9416],\"marker\":{\"color\":\"#B6E880\",\"size\":[1.76],\"sizemode\":\"area\",\"sizeref\":0.189625,\"symbol\":\"circle\"},\"mode\":\"markers\",\"name\":\"Puducherry\",\"showlegend\":true,\"type\":\"scattergeo\"},{\"geo\":\"geo\",\"hovertemplate\":\"\\u003cb\\u003e%{hovertext}\\u003c\\u002fb\\u003e\\u003cbr\\u003e\\u003cbr\\u003eRegion=Punjab\\u003cbr\\u003emonth=february\\u003cbr\\u003eEstimatedUnemploymentRate=%{marker.size}\\u003cbr\\u003elatitude=%{lat}\\u003cbr\\u003elongitude=%{lon}\\u003cextra\\u003e\\u003c\\u002fextra\\u003e\",\"hovertext\":[\"Punjab\"],\"lat\":[75.3412],\"legendgroup\":\"Punjab\",\"lon\":[31.1471],\"marker\":{\"color\":\"#FF97FF\",\"size\":[10.97],\"sizemode\":\"area\",\"sizeref\":0.189625,\"symbol\":\"circle\"},\"mode\":\"markers\",\"name\":\"Punjab\",\"showlegend\":true,\"type\":\"scattergeo\"},{\"geo\":\"geo\",\"hovertemplate\":\"\\u003cb\\u003e%{hovertext}\\u003c\\u002fb\\u003e\\u003cbr\\u003e\\u003cbr\\u003eRegion=Rajasthan\\u003cbr\\u003emonth=february\\u003cbr\\u003eEstimatedUnemploymentRate=%{marker.size}\\u003cbr\\u003elatitude=%{lat}\\u003cbr\\u003elongitude=%{lon}\\u003cextra\\u003e\\u003c\\u002fextra\\u003e\",\"hovertext\":[\"Rajasthan\"],\"lat\":[74.2179],\"legendgroup\":\"Rajasthan\",\"lon\":[27.0238],\"marker\":{\"color\":\"#FECB52\",\"size\":[15.16],\"sizemode\":\"area\",\"sizeref\":0.189625,\"symbol\":\"circle\"},\"mode\":\"markers\",\"name\":\"Rajasthan\",\"showlegend\":true,\"type\":\"scattergeo\"},{\"geo\":\"geo\",\"hovertemplate\":\"\\u003cb\\u003e%{hovertext}\\u003c\\u002fb\\u003e\\u003cbr\\u003e\\u003cbr\\u003eRegion=Tamil Nadu\\u003cbr\\u003emonth=february\\u003cbr\\u003eEstimatedUnemploymentRate=%{marker.size}\\u003cbr\\u003elatitude=%{lat}\\u003cbr\\u003elongitude=%{lon}\\u003cextra\\u003e\\u003c\\u002fextra\\u003e\",\"hovertext\":[\"Tamil Nadu\"],\"lat\":[78.6569],\"legendgroup\":\"Tamil Nadu\",\"lon\":[11.1271],\"marker\":{\"color\":\"#EF553B\",\"size\":[2.09],\"sizemode\":\"area\",\"sizeref\":0.189625,\"symbol\":\"circle\"},\"mode\":\"markers\",\"name\":\"Tamil Nadu\",\"showlegend\":true,\"type\":\"scattergeo\"},{\"geo\":\"geo\",\"hovertemplate\":\"\\u003cb\\u003e%{hovertext}\\u003c\\u002fb\\u003e\\u003cbr\\u003e\\u003cbr\\u003eRegion=Telangana\\u003cbr\\u003emonth=february\\u003cbr\\u003eEstimatedUnemploymentRate=%{marker.size}\\u003cbr\\u003elatitude=%{lat}\\u003cbr\\u003elongitude=%{lon}\\u003cextra\\u003e\\u003c\\u002fextra\\u003e\",\"hovertext\":[\"Telangana\"],\"lat\":[79.0193],\"legendgroup\":\"Telangana\",\"lon\":[18.1124],\"marker\":{\"color\":\"#00cc96\",\"size\":[8.29],\"sizemode\":\"area\",\"sizeref\":0.189625,\"symbol\":\"circle\"},\"mode\":\"markers\",\"name\":\"Telangana\",\"showlegend\":true,\"type\":\"scattergeo\"},{\"geo\":\"geo\",\"hovertemplate\":\"\\u003cb\\u003e%{hovertext}\\u003c\\u002fb\\u003e\\u003cbr\\u003e\\u003cbr\\u003eRegion=Tripura\\u003cbr\\u003emonth=february\\u003cbr\\u003eEstimatedUnemploymentRate=%{marker.size}\\u003cbr\\u003elatitude=%{lat}\\u003cbr\\u003elongitude=%{lon}\\u003cextra\\u003e\\u003c\\u002fextra\\u003e\",\"hovertext\":[\"Tripura\"],\"lat\":[91.9882],\"legendgroup\":\"Tripura\",\"lon\":[23.9408],\"marker\":{\"color\":\"#ab63fa\",\"size\":[28.4],\"sizemode\":\"area\",\"sizeref\":0.189625,\"symbol\":\"circle\"},\"mode\":\"markers\",\"name\":\"Tripura\",\"showlegend\":true,\"type\":\"scattergeo\"},{\"geo\":\"geo\",\"hovertemplate\":\"\\u003cb\\u003e%{hovertext}\\u003c\\u002fb\\u003e\\u003cbr\\u003e\\u003cbr\\u003eRegion=Uttar Pradesh\\u003cbr\\u003emonth=february\\u003cbr\\u003eEstimatedUnemploymentRate=%{marker.size}\\u003cbr\\u003elatitude=%{lat}\\u003cbr\\u003elongitude=%{lon}\\u003cextra\\u003e\\u003c\\u002fextra\\u003e\",\"hovertext\":[\"Uttar Pradesh\"],\"lat\":[80.9462],\"legendgroup\":\"Uttar Pradesh\",\"lon\":[26.8467],\"marker\":{\"color\":\"#FFA15A\",\"size\":[8.98],\"sizemode\":\"area\",\"sizeref\":0.189625,\"symbol\":\"circle\"},\"mode\":\"markers\",\"name\":\"Uttar Pradesh\",\"showlegend\":true,\"type\":\"scattergeo\"},{\"geo\":\"geo\",\"hovertemplate\":\"\\u003cb\\u003e%{hovertext}\\u003c\\u002fb\\u003e\\u003cbr\\u003e\\u003cbr\\u003eRegion=Uttarakhand\\u003cbr\\u003emonth=february\\u003cbr\\u003eEstimatedUnemploymentRate=%{marker.size}\\u003cbr\\u003elatitude=%{lat}\\u003cbr\\u003elongitude=%{lon}\\u003cextra\\u003e\\u003c\\u002fextra\\u003e\",\"hovertext\":[\"Uttarakhand\"],\"lat\":[79.0193],\"legendgroup\":\"Uttarakhand\",\"lon\":[30.0668],\"marker\":{\"color\":\"#19d3f3\",\"size\":[4.99],\"sizemode\":\"area\",\"sizeref\":0.189625,\"symbol\":\"circle\"},\"mode\":\"markers\",\"name\":\"Uttarakhand\",\"showlegend\":true,\"type\":\"scattergeo\"},{\"geo\":\"geo\",\"hovertemplate\":\"\\u003cb\\u003e%{hovertext}\\u003c\\u002fb\\u003e\\u003cbr\\u003e\\u003cbr\\u003eRegion=West Bengal\\u003cbr\\u003emonth=february\\u003cbr\\u003eEstimatedUnemploymentRate=%{marker.size}\\u003cbr\\u003elatitude=%{lat}\\u003cbr\\u003elongitude=%{lon}\\u003cextra\\u003e\\u003c\\u002fextra\\u003e\",\"hovertext\":[\"West Bengal\"],\"lat\":[87.855],\"legendgroup\":\"West Bengal\",\"lon\":[22.9868],\"marker\":{\"color\":\"#FF6692\",\"size\":[4.92],\"sizemode\":\"area\",\"sizeref\":0.189625,\"symbol\":\"circle\"},\"mode\":\"markers\",\"name\":\"West Bengal\",\"showlegend\":true,\"type\":\"scattergeo\"}],\"name\":\"february\"},{\"data\":[{\"geo\":\"geo\",\"hovertemplate\":\"\\u003cb\\u003e%{hovertext}\\u003c\\u002fb\\u003e\\u003cbr\\u003e\\u003cbr\\u003eRegion=Andhra Pradesh\\u003cbr\\u003emonth=march\\u003cbr\\u003eEstimatedUnemploymentRate=%{marker.size}\\u003cbr\\u003elatitude=%{lat}\\u003cbr\\u003elongitude=%{lon}\\u003cextra\\u003e\\u003c\\u002fextra\\u003e\",\"hovertext\":[\"Andhra Pradesh\"],\"lat\":[79.74],\"legendgroup\":\"Andhra Pradesh\",\"lon\":[15.9129],\"marker\":{\"color\":\"#636efa\",\"size\":[5.79],\"sizemode\":\"area\",\"sizeref\":0.189625,\"symbol\":\"circle\"},\"mode\":\"markers\",\"name\":\"Andhra Pradesh\",\"showlegend\":true,\"type\":\"scattergeo\"},{\"geo\":\"geo\",\"hovertemplate\":\"\\u003cb\\u003e%{hovertext}\\u003c\\u002fb\\u003e\\u003cbr\\u003e\\u003cbr\\u003eRegion=Assam\\u003cbr\\u003emonth=march\\u003cbr\\u003eEstimatedUnemploymentRate=%{marker.size}\\u003cbr\\u003elatitude=%{lat}\\u003cbr\\u003elongitude=%{lon}\\u003cextra\\u003e\\u003c\\u002fextra\\u003e\",\"hovertext\":[\"Assam\"],\"lat\":[92.9376],\"legendgroup\":\"Assam\",\"lon\":[26.2006],\"marker\":{\"color\":\"#EF553B\",\"size\":[4.77],\"sizemode\":\"area\",\"sizeref\":0.189625,\"symbol\":\"circle\"},\"mode\":\"markers\",\"name\":\"Assam\",\"showlegend\":true,\"type\":\"scattergeo\"},{\"geo\":\"geo\",\"hovertemplate\":\"\\u003cb\\u003e%{hovertext}\\u003c\\u002fb\\u003e\\u003cbr\\u003e\\u003cbr\\u003eRegion=Bihar\\u003cbr\\u003emonth=march\\u003cbr\\u003eEstimatedUnemploymentRate=%{marker.size}\\u003cbr\\u003elatitude=%{lat}\\u003cbr\\u003elongitude=%{lon}\\u003cextra\\u003e\\u003c\\u002fextra\\u003e\",\"hovertext\":[\"Bihar\"],\"lat\":[85.3131],\"legendgroup\":\"Bihar\",\"lon\":[25.0961],\"marker\":{\"color\":\"#00cc96\",\"size\":[15.43],\"sizemode\":\"area\",\"sizeref\":0.189625,\"symbol\":\"circle\"},\"mode\":\"markers\",\"name\":\"Bihar\",\"showlegend\":true,\"type\":\"scattergeo\"},{\"geo\":\"geo\",\"hovertemplate\":\"\\u003cb\\u003e%{hovertext}\\u003c\\u002fb\\u003e\\u003cbr\\u003e\\u003cbr\\u003eRegion=Chhattisgarh\\u003cbr\\u003emonth=march\\u003cbr\\u003eEstimatedUnemploymentRate=%{marker.size}\\u003cbr\\u003elatitude=%{lat}\\u003cbr\\u003elongitude=%{lon}\\u003cextra\\u003e\\u003c\\u002fextra\\u003e\",\"hovertext\":[\"Chhattisgarh\"],\"lat\":[81.8661],\"legendgroup\":\"Chhattisgarh\",\"lon\":[21.2787],\"marker\":{\"color\":\"#ab63fa\",\"size\":[7.54],\"sizemode\":\"area\",\"sizeref\":0.189625,\"symbol\":\"circle\"},\"mode\":\"markers\",\"name\":\"Chhattisgarh\",\"showlegend\":true,\"type\":\"scattergeo\"},{\"geo\":\"geo\",\"hovertemplate\":\"\\u003cb\\u003e%{hovertext}\\u003c\\u002fb\\u003e\\u003cbr\\u003e\\u003cbr\\u003eRegion=Delhi\\u003cbr\\u003emonth=march\\u003cbr\\u003eEstimatedUnemploymentRate=%{marker.size}\\u003cbr\\u003elatitude=%{lat}\\u003cbr\\u003elongitude=%{lon}\\u003cextra\\u003e\\u003c\\u002fextra\\u003e\",\"hovertext\":[\"Delhi\"],\"lat\":[77.1025],\"legendgroup\":\"Delhi\",\"lon\":[28.7041],\"marker\":{\"color\":\"#FFA15A\",\"size\":[17.04],\"sizemode\":\"area\",\"sizeref\":0.189625,\"symbol\":\"circle\"},\"mode\":\"markers\",\"name\":\"Delhi\",\"showlegend\":true,\"type\":\"scattergeo\"},{\"geo\":\"geo\",\"hovertemplate\":\"\\u003cb\\u003e%{hovertext}\\u003c\\u002fb\\u003e\\u003cbr\\u003e\\u003cbr\\u003eRegion=Goa\\u003cbr\\u003emonth=march\\u003cbr\\u003eEstimatedUnemploymentRate=%{marker.size}\\u003cbr\\u003elatitude=%{lat}\\u003cbr\\u003elongitude=%{lon}\\u003cextra\\u003e\\u003c\\u002fextra\\u003e\",\"hovertext\":[\"Goa\"],\"lat\":[74.124],\"legendgroup\":\"Goa\",\"lon\":[15.2993],\"marker\":{\"color\":\"#19d3f3\",\"size\":[5.25],\"sizemode\":\"area\",\"sizeref\":0.189625,\"symbol\":\"circle\"},\"mode\":\"markers\",\"name\":\"Goa\",\"showlegend\":true,\"type\":\"scattergeo\"},{\"geo\":\"geo\",\"hovertemplate\":\"\\u003cb\\u003e%{hovertext}\\u003c\\u002fb\\u003e\\u003cbr\\u003e\\u003cbr\\u003eRegion=Gujarat\\u003cbr\\u003emonth=march\\u003cbr\\u003eEstimatedUnemploymentRate=%{marker.size}\\u003cbr\\u003elatitude=%{lat}\\u003cbr\\u003elongitude=%{lon}\\u003cextra\\u003e\\u003c\\u002fextra\\u003e\",\"hovertext\":[\"Gujarat\"],\"lat\":[71.1924],\"legendgroup\":\"Gujarat\",\"lon\":[22.2587],\"marker\":{\"color\":\"#FF6692\",\"size\":[6.66],\"sizemode\":\"area\",\"sizeref\":0.189625,\"symbol\":\"circle\"},\"mode\":\"markers\",\"name\":\"Gujarat\",\"showlegend\":true,\"type\":\"scattergeo\"},{\"geo\":\"geo\",\"hovertemplate\":\"\\u003cb\\u003e%{hovertext}\\u003c\\u002fb\\u003e\\u003cbr\\u003e\\u003cbr\\u003eRegion=Haryana\\u003cbr\\u003emonth=march\\u003cbr\\u003eEstimatedUnemploymentRate=%{marker.size}\\u003cbr\\u003elatitude=%{lat}\\u003cbr\\u003elongitude=%{lon}\\u003cextra\\u003e\\u003c\\u002fextra\\u003e\",\"hovertext\":[\"Haryana\"],\"lat\":[76.0856],\"legendgroup\":\"Haryana\",\"lon\":[29.0588],\"marker\":{\"color\":\"#B6E880\",\"size\":[25.05],\"sizemode\":\"area\",\"sizeref\":0.189625,\"symbol\":\"circle\"},\"mode\":\"markers\",\"name\":\"Haryana\",\"showlegend\":true,\"type\":\"scattergeo\"},{\"geo\":\"geo\",\"hovertemplate\":\"\\u003cb\\u003e%{hovertext}\\u003c\\u002fb\\u003e\\u003cbr\\u003e\\u003cbr\\u003eRegion=Himachal Pradesh\\u003cbr\\u003emonth=march\\u003cbr\\u003eEstimatedUnemploymentRate=%{marker.size}\\u003cbr\\u003elatitude=%{lat}\\u003cbr\\u003elongitude=%{lon}\\u003cextra\\u003e\\u003c\\u002fextra\\u003e\",\"hovertext\":[\"Himachal Pradesh\"],\"lat\":[77.1734],\"legendgroup\":\"Himachal Pradesh\",\"lon\":[31.1048],\"marker\":{\"color\":\"#FF97FF\",\"size\":[18.76],\"sizemode\":\"area\",\"sizeref\":0.189625,\"symbol\":\"circle\"},\"mode\":\"markers\",\"name\":\"Himachal Pradesh\",\"showlegend\":true,\"type\":\"scattergeo\"},{\"geo\":\"geo\",\"hovertemplate\":\"\\u003cb\\u003e%{hovertext}\\u003c\\u002fb\\u003e\\u003cbr\\u003e\\u003cbr\\u003eRegion=Jammu & Kashmir\\u003cbr\\u003emonth=march\\u003cbr\\u003eEstimatedUnemploymentRate=%{marker.size}\\u003cbr\\u003elatitude=%{lat}\\u003cbr\\u003elongitude=%{lon}\\u003cextra\\u003e\\u003c\\u002fextra\\u003e\",\"hovertext\":[\"Jammu & Kashmir\"],\"lat\":[76.5762],\"legendgroup\":\"Jammu & Kashmir\",\"lon\":[33.7782],\"marker\":{\"color\":\"#FECB52\",\"size\":[15.5],\"sizemode\":\"area\",\"sizeref\":0.189625,\"symbol\":\"circle\"},\"mode\":\"markers\",\"name\":\"Jammu & Kashmir\",\"showlegend\":true,\"type\":\"scattergeo\"},{\"geo\":\"geo\",\"hovertemplate\":\"\\u003cb\\u003e%{hovertext}\\u003c\\u002fb\\u003e\\u003cbr\\u003e\\u003cbr\\u003eRegion=Jharkhand\\u003cbr\\u003emonth=march\\u003cbr\\u003eEstimatedUnemploymentRate=%{marker.size}\\u003cbr\\u003elatitude=%{lat}\\u003cbr\\u003elongitude=%{lon}\\u003cextra\\u003e\\u003c\\u002fextra\\u003e\",\"hovertext\":[\"Jharkhand\"],\"lat\":[85.2799],\"legendgroup\":\"Jharkhand\",\"lon\":[23.6102],\"marker\":{\"color\":\"#636efa\",\"size\":[8.23],\"sizemode\":\"area\",\"sizeref\":0.189625,\"symbol\":\"circle\"},\"mode\":\"markers\",\"name\":\"Jharkhand\",\"showlegend\":true,\"type\":\"scattergeo\"},{\"geo\":\"geo\",\"hovertemplate\":\"\\u003cb\\u003e%{hovertext}\\u003c\\u002fb\\u003e\\u003cbr\\u003e\\u003cbr\\u003eRegion=Karnataka\\u003cbr\\u003emonth=march\\u003cbr\\u003eEstimatedUnemploymentRate=%{marker.size}\\u003cbr\\u003elatitude=%{lat}\\u003cbr\\u003elongitude=%{lon}\\u003cextra\\u003e\\u003c\\u002fextra\\u003e\",\"hovertext\":[\"Karnataka\"],\"lat\":[75.7139],\"legendgroup\":\"Karnataka\",\"lon\":[15.3173],\"marker\":{\"color\":\"#EF553B\",\"size\":[3.46],\"sizemode\":\"area\",\"sizeref\":0.189625,\"symbol\":\"circle\"},\"mode\":\"markers\",\"name\":\"Karnataka\",\"showlegend\":true,\"type\":\"scattergeo\"},{\"geo\":\"geo\",\"hovertemplate\":\"\\u003cb\\u003e%{hovertext}\\u003c\\u002fb\\u003e\\u003cbr\\u003e\\u003cbr\\u003eRegion=Kerala\\u003cbr\\u003emonth=march\\u003cbr\\u003eEstimatedUnemploymentRate=%{marker.size}\\u003cbr\\u003elatitude=%{lat}\\u003cbr\\u003elongitude=%{lon}\\u003cextra\\u003e\\u003c\\u002fextra\\u003e\",\"hovertext\":[\"Kerala\"],\"lat\":[76.2711],\"legendgroup\":\"Kerala\",\"lon\":[10.8505],\"marker\":{\"color\":\"#00cc96\",\"size\":[8.99],\"sizemode\":\"area\",\"sizeref\":0.189625,\"symbol\":\"circle\"},\"mode\":\"markers\",\"name\":\"Kerala\",\"showlegend\":true,\"type\":\"scattergeo\"},{\"geo\":\"geo\",\"hovertemplate\":\"\\u003cb\\u003e%{hovertext}\\u003c\\u002fb\\u003e\\u003cbr\\u003e\\u003cbr\\u003eRegion=Madhya Pradesh\\u003cbr\\u003emonth=march\\u003cbr\\u003eEstimatedUnemploymentRate=%{marker.size}\\u003cbr\\u003elatitude=%{lat}\\u003cbr\\u003elongitude=%{lon}\\u003cextra\\u003e\\u003c\\u002fextra\\u003e\",\"hovertext\":[\"Madhya Pradesh\"],\"lat\":[78.6569],\"legendgroup\":\"Madhya Pradesh\",\"lon\":[22.9734],\"marker\":{\"color\":\"#ab63fa\",\"size\":[2.22],\"sizemode\":\"area\",\"sizeref\":0.189625,\"symbol\":\"circle\"},\"mode\":\"markers\",\"name\":\"Madhya Pradesh\",\"showlegend\":true,\"type\":\"scattergeo\"},{\"geo\":\"geo\",\"hovertemplate\":\"\\u003cb\\u003e%{hovertext}\\u003c\\u002fb\\u003e\\u003cbr\\u003e\\u003cbr\\u003eRegion=Maharashtra\\u003cbr\\u003emonth=march\\u003cbr\\u003eEstimatedUnemploymentRate=%{marker.size}\\u003cbr\\u003elatitude=%{lat}\\u003cbr\\u003elongitude=%{lon}\\u003cextra\\u003e\\u003c\\u002fextra\\u003e\",\"hovertext\":[\"Maharashtra\"],\"lat\":[75.7139],\"legendgroup\":\"Maharashtra\",\"lon\":[19.7515],\"marker\":{\"color\":\"#FFA15A\",\"size\":[5.79],\"sizemode\":\"area\",\"sizeref\":0.189625,\"symbol\":\"circle\"},\"mode\":\"markers\",\"name\":\"Maharashtra\",\"showlegend\":true,\"type\":\"scattergeo\"},{\"geo\":\"geo\",\"hovertemplate\":\"\\u003cb\\u003e%{hovertext}\\u003c\\u002fb\\u003e\\u003cbr\\u003e\\u003cbr\\u003eRegion=Meghalaya\\u003cbr\\u003emonth=march\\u003cbr\\u003eEstimatedUnemploymentRate=%{marker.size}\\u003cbr\\u003elatitude=%{lat}\\u003cbr\\u003elongitude=%{lon}\\u003cextra\\u003e\\u003c\\u002fextra\\u003e\",\"hovertext\":[\"Meghalaya\"],\"lat\":[91.3662],\"legendgroup\":\"Meghalaya\",\"lon\":[25.467],\"marker\":{\"color\":\"#19d3f3\",\"size\":[1.58],\"sizemode\":\"area\",\"sizeref\":0.189625,\"symbol\":\"circle\"},\"mode\":\"markers\",\"name\":\"Meghalaya\",\"showlegend\":true,\"type\":\"scattergeo\"},{\"geo\":\"geo\",\"hovertemplate\":\"\\u003cb\\u003e%{hovertext}\\u003c\\u002fb\\u003e\\u003cbr\\u003e\\u003cbr\\u003eRegion=Odisha\\u003cbr\\u003emonth=march\\u003cbr\\u003eEstimatedUnemploymentRate=%{marker.size}\\u003cbr\\u003elatitude=%{lat}\\u003cbr\\u003elongitude=%{lon}\\u003cextra\\u003e\\u003c\\u002fextra\\u003e\",\"hovertext\":[\"Odisha\"],\"lat\":[85.0985],\"legendgroup\":\"Odisha\",\"lon\":[20.9517],\"marker\":{\"color\":\"#FF6692\",\"size\":[13.08],\"sizemode\":\"area\",\"sizeref\":0.189625,\"symbol\":\"circle\"},\"mode\":\"markers\",\"name\":\"Odisha\",\"showlegend\":true,\"type\":\"scattergeo\"},{\"geo\":\"geo\",\"hovertemplate\":\"\\u003cb\\u003e%{hovertext}\\u003c\\u002fb\\u003e\\u003cbr\\u003e\\u003cbr\\u003eRegion=Puducherry\\u003cbr\\u003emonth=march\\u003cbr\\u003eEstimatedUnemploymentRate=%{marker.size}\\u003cbr\\u003elatitude=%{lat}\\u003cbr\\u003elongitude=%{lon}\\u003cextra\\u003e\\u003c\\u002fextra\\u003e\",\"hovertext\":[\"Puducherry\"],\"lat\":[79.8083],\"legendgroup\":\"Puducherry\",\"lon\":[11.9416],\"marker\":{\"color\":\"#B6E880\",\"size\":[1.2],\"sizemode\":\"area\",\"sizeref\":0.189625,\"symbol\":\"circle\"},\"mode\":\"markers\",\"name\":\"Puducherry\",\"showlegend\":true,\"type\":\"scattergeo\"},{\"geo\":\"geo\",\"hovertemplate\":\"\\u003cb\\u003e%{hovertext}\\u003c\\u002fb\\u003e\\u003cbr\\u003e\\u003cbr\\u003eRegion=Punjab\\u003cbr\\u003emonth=march\\u003cbr\\u003eEstimatedUnemploymentRate=%{marker.size}\\u003cbr\\u003elatitude=%{lat}\\u003cbr\\u003elongitude=%{lon}\\u003cextra\\u003e\\u003c\\u002fextra\\u003e\",\"hovertext\":[\"Punjab\"],\"lat\":[75.3412],\"legendgroup\":\"Punjab\",\"lon\":[31.1471],\"marker\":{\"color\":\"#FF97FF\",\"size\":[10.32],\"sizemode\":\"area\",\"sizeref\":0.189625,\"symbol\":\"circle\"},\"mode\":\"markers\",\"name\":\"Punjab\",\"showlegend\":true,\"type\":\"scattergeo\"},{\"geo\":\"geo\",\"hovertemplate\":\"\\u003cb\\u003e%{hovertext}\\u003c\\u002fb\\u003e\\u003cbr\\u003e\\u003cbr\\u003eRegion=Rajasthan\\u003cbr\\u003emonth=march\\u003cbr\\u003eEstimatedUnemploymentRate=%{marker.size}\\u003cbr\\u003elatitude=%{lat}\\u003cbr\\u003elongitude=%{lon}\\u003cextra\\u003e\\u003c\\u002fextra\\u003e\",\"hovertext\":[\"Rajasthan\"],\"lat\":[74.2179],\"legendgroup\":\"Rajasthan\",\"lon\":[27.0238],\"marker\":{\"color\":\"#FECB52\",\"size\":[11.9],\"sizemode\":\"area\",\"sizeref\":0.189625,\"symbol\":\"circle\"},\"mode\":\"markers\",\"name\":\"Rajasthan\",\"showlegend\":true,\"type\":\"scattergeo\"},{\"geo\":\"geo\",\"hovertemplate\":\"\\u003cb\\u003e%{hovertext}\\u003c\\u002fb\\u003e\\u003cbr\\u003e\\u003cbr\\u003eRegion=Sikkim\\u003cbr\\u003emonth=march\\u003cbr\\u003eEstimatedUnemploymentRate=%{marker.size}\\u003cbr\\u003elatitude=%{lat}\\u003cbr\\u003elongitude=%{lon}\\u003cextra\\u003e\\u003c\\u002fextra\\u003e\",\"hovertext\":[\"Sikkim\"],\"lat\":[88.5122],\"legendgroup\":\"Sikkim\",\"lon\":[27.533],\"marker\":{\"color\":\"#636efa\",\"size\":[23.57],\"sizemode\":\"area\",\"sizeref\":0.189625,\"symbol\":\"circle\"},\"mode\":\"markers\",\"name\":\"Sikkim\",\"showlegend\":true,\"type\":\"scattergeo\"},{\"geo\":\"geo\",\"hovertemplate\":\"\\u003cb\\u003e%{hovertext}\\u003c\\u002fb\\u003e\\u003cbr\\u003e\\u003cbr\\u003eRegion=Tamil Nadu\\u003cbr\\u003emonth=march\\u003cbr\\u003eEstimatedUnemploymentRate=%{marker.size}\\u003cbr\\u003elatitude=%{lat}\\u003cbr\\u003elongitude=%{lon}\\u003cextra\\u003e\\u003c\\u002fextra\\u003e\",\"hovertext\":[\"Tamil Nadu\"],\"lat\":[78.6569],\"legendgroup\":\"Tamil Nadu\",\"lon\":[11.1271],\"marker\":{\"color\":\"#EF553B\",\"size\":[6.4],\"sizemode\":\"area\",\"sizeref\":0.189625,\"symbol\":\"circle\"},\"mode\":\"markers\",\"name\":\"Tamil Nadu\",\"showlegend\":true,\"type\":\"scattergeo\"},{\"geo\":\"geo\",\"hovertemplate\":\"\\u003cb\\u003e%{hovertext}\\u003c\\u002fb\\u003e\\u003cbr\\u003e\\u003cbr\\u003eRegion=Telangana\\u003cbr\\u003emonth=march\\u003cbr\\u003eEstimatedUnemploymentRate=%{marker.size}\\u003cbr\\u003elatitude=%{lat}\\u003cbr\\u003elongitude=%{lon}\\u003cextra\\u003e\\u003c\\u002fextra\\u003e\",\"hovertext\":[\"Telangana\"],\"lat\":[79.0193],\"legendgroup\":\"Telangana\",\"lon\":[18.1124],\"marker\":{\"color\":\"#00cc96\",\"size\":[5.77],\"sizemode\":\"area\",\"sizeref\":0.189625,\"symbol\":\"circle\"},\"mode\":\"markers\",\"name\":\"Telangana\",\"showlegend\":true,\"type\":\"scattergeo\"},{\"geo\":\"geo\",\"hovertemplate\":\"\\u003cb\\u003e%{hovertext}\\u003c\\u002fb\\u003e\\u003cbr\\u003e\\u003cbr\\u003eRegion=Tripura\\u003cbr\\u003emonth=march\\u003cbr\\u003eEstimatedUnemploymentRate=%{marker.size}\\u003cbr\\u003elatitude=%{lat}\\u003cbr\\u003elongitude=%{lon}\\u003cextra\\u003e\\u003c\\u002fextra\\u003e\",\"hovertext\":[\"Tripura\"],\"lat\":[91.9882],\"legendgroup\":\"Tripura\",\"lon\":[23.9408],\"marker\":{\"color\":\"#ab63fa\",\"size\":[29.95],\"sizemode\":\"area\",\"sizeref\":0.189625,\"symbol\":\"circle\"},\"mode\":\"markers\",\"name\":\"Tripura\",\"showlegend\":true,\"type\":\"scattergeo\"},{\"geo\":\"geo\",\"hovertemplate\":\"\\u003cb\\u003e%{hovertext}\\u003c\\u002fb\\u003e\\u003cbr\\u003e\\u003cbr\\u003eRegion=Uttar Pradesh\\u003cbr\\u003emonth=march\\u003cbr\\u003eEstimatedUnemploymentRate=%{marker.size}\\u003cbr\\u003elatitude=%{lat}\\u003cbr\\u003elongitude=%{lon}\\u003cextra\\u003e\\u003c\\u002fextra\\u003e\",\"hovertext\":[\"Uttar Pradesh\"],\"lat\":[80.9462],\"legendgroup\":\"Uttar Pradesh\",\"lon\":[26.8467],\"marker\":{\"color\":\"#FFA15A\",\"size\":[10.11],\"sizemode\":\"area\",\"sizeref\":0.189625,\"symbol\":\"circle\"},\"mode\":\"markers\",\"name\":\"Uttar Pradesh\",\"showlegend\":true,\"type\":\"scattergeo\"},{\"geo\":\"geo\",\"hovertemplate\":\"\\u003cb\\u003e%{hovertext}\\u003c\\u002fb\\u003e\\u003cbr\\u003e\\u003cbr\\u003eRegion=Uttarakhand\\u003cbr\\u003emonth=march\\u003cbr\\u003eEstimatedUnemploymentRate=%{marker.size}\\u003cbr\\u003elatitude=%{lat}\\u003cbr\\u003elongitude=%{lon}\\u003cextra\\u003e\\u003c\\u002fextra\\u003e\",\"hovertext\":[\"Uttarakhand\"],\"lat\":[79.0193],\"legendgroup\":\"Uttarakhand\",\"lon\":[30.0668],\"marker\":{\"color\":\"#19d3f3\",\"size\":[19.85],\"sizemode\":\"area\",\"sizeref\":0.189625,\"symbol\":\"circle\"},\"mode\":\"markers\",\"name\":\"Uttarakhand\",\"showlegend\":true,\"type\":\"scattergeo\"},{\"geo\":\"geo\",\"hovertemplate\":\"\\u003cb\\u003e%{hovertext}\\u003c\\u002fb\\u003e\\u003cbr\\u003e\\u003cbr\\u003eRegion=West Bengal\\u003cbr\\u003emonth=march\\u003cbr\\u003eEstimatedUnemploymentRate=%{marker.size}\\u003cbr\\u003elatitude=%{lat}\\u003cbr\\u003elongitude=%{lon}\\u003cextra\\u003e\\u003c\\u002fextra\\u003e\",\"hovertext\":[\"West Bengal\"],\"lat\":[87.855],\"legendgroup\":\"West Bengal\",\"lon\":[22.9868],\"marker\":{\"color\":\"#FF6692\",\"size\":[6.92],\"sizemode\":\"area\",\"sizeref\":0.189625,\"symbol\":\"circle\"},\"mode\":\"markers\",\"name\":\"West Bengal\",\"showlegend\":true,\"type\":\"scattergeo\"}],\"name\":\"march\"},{\"data\":[{\"geo\":\"geo\",\"hovertemplate\":\"\\u003cb\\u003e%{hovertext}\\u003c\\u002fb\\u003e\\u003cbr\\u003e\\u003cbr\\u003eRegion=Andhra Pradesh\\u003cbr\\u003emonth=april\\u003cbr\\u003eEstimatedUnemploymentRate=%{marker.size}\\u003cbr\\u003elatitude=%{lat}\\u003cbr\\u003elongitude=%{lon}\\u003cextra\\u003e\\u003c\\u002fextra\\u003e\",\"hovertext\":[\"Andhra Pradesh\"],\"lat\":[79.74],\"legendgroup\":\"Andhra Pradesh\",\"lon\":[15.9129],\"marker\":{\"color\":\"#636efa\",\"size\":[20.51],\"sizemode\":\"area\",\"sizeref\":0.189625,\"symbol\":\"circle\"},\"mode\":\"markers\",\"name\":\"Andhra Pradesh\",\"showlegend\":true,\"type\":\"scattergeo\"},{\"geo\":\"geo\",\"hovertemplate\":\"\\u003cb\\u003e%{hovertext}\\u003c\\u002fb\\u003e\\u003cbr\\u003e\\u003cbr\\u003eRegion=Assam\\u003cbr\\u003emonth=april\\u003cbr\\u003eEstimatedUnemploymentRate=%{marker.size}\\u003cbr\\u003elatitude=%{lat}\\u003cbr\\u003elongitude=%{lon}\\u003cextra\\u003e\\u003c\\u002fextra\\u003e\",\"hovertext\":[\"Assam\"],\"lat\":[92.9376],\"legendgroup\":\"Assam\",\"lon\":[26.2006],\"marker\":{\"color\":\"#EF553B\",\"size\":[11.06],\"sizemode\":\"area\",\"sizeref\":0.189625,\"symbol\":\"circle\"},\"mode\":\"markers\",\"name\":\"Assam\",\"showlegend\":true,\"type\":\"scattergeo\"},{\"geo\":\"geo\",\"hovertemplate\":\"\\u003cb\\u003e%{hovertext}\\u003c\\u002fb\\u003e\\u003cbr\\u003e\\u003cbr\\u003eRegion=Bihar\\u003cbr\\u003emonth=april\\u003cbr\\u003eEstimatedUnemploymentRate=%{marker.size}\\u003cbr\\u003elatitude=%{lat}\\u003cbr\\u003elongitude=%{lon}\\u003cextra\\u003e\\u003c\\u002fextra\\u003e\",\"hovertext\":[\"Bihar\"],\"lat\":[85.3131],\"legendgroup\":\"Bihar\",\"lon\":[25.0961],\"marker\":{\"color\":\"#00cc96\",\"size\":[46.64],\"sizemode\":\"area\",\"sizeref\":0.189625,\"symbol\":\"circle\"},\"mode\":\"markers\",\"name\":\"Bihar\",\"showlegend\":true,\"type\":\"scattergeo\"},{\"geo\":\"geo\",\"hovertemplate\":\"\\u003cb\\u003e%{hovertext}\\u003c\\u002fb\\u003e\\u003cbr\\u003e\\u003cbr\\u003eRegion=Chhattisgarh\\u003cbr\\u003emonth=april\\u003cbr\\u003eEstimatedUnemploymentRate=%{marker.size}\\u003cbr\\u003elatitude=%{lat}\\u003cbr\\u003elongitude=%{lon}\\u003cextra\\u003e\\u003c\\u002fextra\\u003e\",\"hovertext\":[\"Chhattisgarh\"],\"lat\":[81.8661],\"legendgroup\":\"Chhattisgarh\",\"lon\":[21.2787],\"marker\":{\"color\":\"#ab63fa\",\"size\":[3.41],\"sizemode\":\"area\",\"sizeref\":0.189625,\"symbol\":\"circle\"},\"mode\":\"markers\",\"name\":\"Chhattisgarh\",\"showlegend\":true,\"type\":\"scattergeo\"},{\"geo\":\"geo\",\"hovertemplate\":\"\\u003cb\\u003e%{hovertext}\\u003c\\u002fb\\u003e\\u003cbr\\u003e\\u003cbr\\u003eRegion=Delhi\\u003cbr\\u003emonth=april\\u003cbr\\u003eEstimatedUnemploymentRate=%{marker.size}\\u003cbr\\u003elatitude=%{lat}\\u003cbr\\u003elongitude=%{lon}\\u003cextra\\u003e\\u003c\\u002fextra\\u003e\",\"hovertext\":[\"Delhi\"],\"lat\":[77.1025],\"legendgroup\":\"Delhi\",\"lon\":[28.7041],\"marker\":{\"color\":\"#FFA15A\",\"size\":[16.68],\"sizemode\":\"area\",\"sizeref\":0.189625,\"symbol\":\"circle\"},\"mode\":\"markers\",\"name\":\"Delhi\",\"showlegend\":true,\"type\":\"scattergeo\"},{\"geo\":\"geo\",\"hovertemplate\":\"\\u003cb\\u003e%{hovertext}\\u003c\\u002fb\\u003e\\u003cbr\\u003e\\u003cbr\\u003eRegion=Goa\\u003cbr\\u003emonth=april\\u003cbr\\u003eEstimatedUnemploymentRate=%{marker.size}\\u003cbr\\u003elatitude=%{lat}\\u003cbr\\u003elongitude=%{lon}\\u003cextra\\u003e\\u003c\\u002fextra\\u003e\",\"hovertext\":[\"Goa\"],\"lat\":[74.124],\"legendgroup\":\"Goa\",\"lon\":[15.2993],\"marker\":{\"color\":\"#19d3f3\",\"size\":[13.31],\"sizemode\":\"area\",\"sizeref\":0.189625,\"symbol\":\"circle\"},\"mode\":\"markers\",\"name\":\"Goa\",\"showlegend\":true,\"type\":\"scattergeo\"},{\"geo\":\"geo\",\"hovertemplate\":\"\\u003cb\\u003e%{hovertext}\\u003c\\u002fb\\u003e\\u003cbr\\u003e\\u003cbr\\u003eRegion=Gujarat\\u003cbr\\u003emonth=april\\u003cbr\\u003eEstimatedUnemploymentRate=%{marker.size}\\u003cbr\\u003elatitude=%{lat}\\u003cbr\\u003elongitude=%{lon}\\u003cextra\\u003e\\u003c\\u002fextra\\u003e\",\"hovertext\":[\"Gujarat\"],\"lat\":[71.1924],\"legendgroup\":\"Gujarat\",\"lon\":[22.2587],\"marker\":{\"color\":\"#FF6692\",\"size\":[18.71],\"sizemode\":\"area\",\"sizeref\":0.189625,\"symbol\":\"circle\"},\"mode\":\"markers\",\"name\":\"Gujarat\",\"showlegend\":true,\"type\":\"scattergeo\"},{\"geo\":\"geo\",\"hovertemplate\":\"\\u003cb\\u003e%{hovertext}\\u003c\\u002fb\\u003e\\u003cbr\\u003e\\u003cbr\\u003eRegion=Haryana\\u003cbr\\u003emonth=april\\u003cbr\\u003eEstimatedUnemploymentRate=%{marker.size}\\u003cbr\\u003elatitude=%{lat}\\u003cbr\\u003elongitude=%{lon}\\u003cextra\\u003e\\u003c\\u002fextra\\u003e\",\"hovertext\":[\"Haryana\"],\"lat\":[76.0856],\"legendgroup\":\"Haryana\",\"lon\":[29.0588],\"marker\":{\"color\":\"#B6E880\",\"size\":[43.22],\"sizemode\":\"area\",\"sizeref\":0.189625,\"symbol\":\"circle\"},\"mode\":\"markers\",\"name\":\"Haryana\",\"showlegend\":true,\"type\":\"scattergeo\"},{\"geo\":\"geo\",\"hovertemplate\":\"\\u003cb\\u003e%{hovertext}\\u003c\\u002fb\\u003e\\u003cbr\\u003e\\u003cbr\\u003eRegion=Himachal Pradesh\\u003cbr\\u003emonth=april\\u003cbr\\u003eEstimatedUnemploymentRate=%{marker.size}\\u003cbr\\u003elatitude=%{lat}\\u003cbr\\u003elongitude=%{lon}\\u003cextra\\u003e\\u003c\\u002fextra\\u003e\",\"hovertext\":[\"Himachal Pradesh\"],\"lat\":[77.1734],\"legendgroup\":\"Himachal Pradesh\",\"lon\":[31.1048],\"marker\":{\"color\":\"#FF97FF\",\"size\":[2.2],\"sizemode\":\"area\",\"sizeref\":0.189625,\"symbol\":\"circle\"},\"mode\":\"markers\",\"name\":\"Himachal Pradesh\",\"showlegend\":true,\"type\":\"scattergeo\"},{\"geo\":\"geo\",\"hovertemplate\":\"\\u003cb\\u003e%{hovertext}\\u003c\\u002fb\\u003e\\u003cbr\\u003e\\u003cbr\\u003eRegion=Jharkhand\\u003cbr\\u003emonth=april\\u003cbr\\u003eEstimatedUnemploymentRate=%{marker.size}\\u003cbr\\u003elatitude=%{lat}\\u003cbr\\u003elongitude=%{lon}\\u003cextra\\u003e\\u003c\\u002fextra\\u003e\",\"hovertext\":[\"Jharkhand\"],\"lat\":[85.2799],\"legendgroup\":\"Jharkhand\",\"lon\":[23.6102],\"marker\":{\"color\":\"#636efa\",\"size\":[47.09],\"sizemode\":\"area\",\"sizeref\":0.189625,\"symbol\":\"circle\"},\"mode\":\"markers\",\"name\":\"Jharkhand\",\"showlegend\":true,\"type\":\"scattergeo\"},{\"geo\":\"geo\",\"hovertemplate\":\"\\u003cb\\u003e%{hovertext}\\u003c\\u002fb\\u003e\\u003cbr\\u003e\\u003cbr\\u003eRegion=Karnataka\\u003cbr\\u003emonth=april\\u003cbr\\u003eEstimatedUnemploymentRate=%{marker.size}\\u003cbr\\u003elatitude=%{lat}\\u003cbr\\u003elongitude=%{lon}\\u003cextra\\u003e\\u003c\\u002fextra\\u003e\",\"hovertext\":[\"Karnataka\"],\"lat\":[75.7139],\"legendgroup\":\"Karnataka\",\"lon\":[15.3173],\"marker\":{\"color\":\"#EF553B\",\"size\":[29.84],\"sizemode\":\"area\",\"sizeref\":0.189625,\"symbol\":\"circle\"},\"mode\":\"markers\",\"name\":\"Karnataka\",\"showlegend\":true,\"type\":\"scattergeo\"},{\"geo\":\"geo\",\"hovertemplate\":\"\\u003cb\\u003e%{hovertext}\\u003c\\u002fb\\u003e\\u003cbr\\u003e\\u003cbr\\u003eRegion=Kerala\\u003cbr\\u003emonth=april\\u003cbr\\u003eEstimatedUnemploymentRate=%{marker.size}\\u003cbr\\u003elatitude=%{lat}\\u003cbr\\u003elongitude=%{lon}\\u003cextra\\u003e\\u003c\\u002fextra\\u003e\",\"hovertext\":[\"Kerala\"],\"lat\":[76.2711],\"legendgroup\":\"Kerala\",\"lon\":[10.8505],\"marker\":{\"color\":\"#00cc96\",\"size\":[16.99],\"sizemode\":\"area\",\"sizeref\":0.189625,\"symbol\":\"circle\"},\"mode\":\"markers\",\"name\":\"Kerala\",\"showlegend\":true,\"type\":\"scattergeo\"},{\"geo\":\"geo\",\"hovertemplate\":\"\\u003cb\\u003e%{hovertext}\\u003c\\u002fb\\u003e\\u003cbr\\u003e\\u003cbr\\u003eRegion=Madhya Pradesh\\u003cbr\\u003emonth=april\\u003cbr\\u003eEstimatedUnemploymentRate=%{marker.size}\\u003cbr\\u003elatitude=%{lat}\\u003cbr\\u003elongitude=%{lon}\\u003cextra\\u003e\\u003c\\u002fextra\\u003e\",\"hovertext\":[\"Madhya Pradesh\"],\"lat\":[78.6569],\"legendgroup\":\"Madhya Pradesh\",\"lon\":[22.9734],\"marker\":{\"color\":\"#ab63fa\",\"size\":[12.36],\"sizemode\":\"area\",\"sizeref\":0.189625,\"symbol\":\"circle\"},\"mode\":\"markers\",\"name\":\"Madhya Pradesh\",\"showlegend\":true,\"type\":\"scattergeo\"},{\"geo\":\"geo\",\"hovertemplate\":\"\\u003cb\\u003e%{hovertext}\\u003c\\u002fb\\u003e\\u003cbr\\u003e\\u003cbr\\u003eRegion=Maharashtra\\u003cbr\\u003emonth=april\\u003cbr\\u003eEstimatedUnemploymentRate=%{marker.size}\\u003cbr\\u003elatitude=%{lat}\\u003cbr\\u003elongitude=%{lon}\\u003cextra\\u003e\\u003c\\u002fextra\\u003e\",\"hovertext\":[\"Maharashtra\"],\"lat\":[75.7139],\"legendgroup\":\"Maharashtra\",\"lon\":[19.7515],\"marker\":{\"color\":\"#FFA15A\",\"size\":[20.9],\"sizemode\":\"area\",\"sizeref\":0.189625,\"symbol\":\"circle\"},\"mode\":\"markers\",\"name\":\"Maharashtra\",\"showlegend\":true,\"type\":\"scattergeo\"},{\"geo\":\"geo\",\"hovertemplate\":\"\\u003cb\\u003e%{hovertext}\\u003c\\u002fb\\u003e\\u003cbr\\u003e\\u003cbr\\u003eRegion=Meghalaya\\u003cbr\\u003emonth=april\\u003cbr\\u003eEstimatedUnemploymentRate=%{marker.size}\\u003cbr\\u003elatitude=%{lat}\\u003cbr\\u003elongitude=%{lon}\\u003cextra\\u003e\\u003c\\u002fextra\\u003e\",\"hovertext\":[\"Meghalaya\"],\"lat\":[91.3662],\"legendgroup\":\"Meghalaya\",\"lon\":[25.467],\"marker\":{\"color\":\"#19d3f3\",\"size\":[10.03],\"sizemode\":\"area\",\"sizeref\":0.189625,\"symbol\":\"circle\"},\"mode\":\"markers\",\"name\":\"Meghalaya\",\"showlegend\":true,\"type\":\"scattergeo\"},{\"geo\":\"geo\",\"hovertemplate\":\"\\u003cb\\u003e%{hovertext}\\u003c\\u002fb\\u003e\\u003cbr\\u003e\\u003cbr\\u003eRegion=Odisha\\u003cbr\\u003emonth=april\\u003cbr\\u003eEstimatedUnemploymentRate=%{marker.size}\\u003cbr\\u003elatitude=%{lat}\\u003cbr\\u003elongitude=%{lon}\\u003cextra\\u003e\\u003c\\u002fextra\\u003e\",\"hovertext\":[\"Odisha\"],\"lat\":[85.0985],\"legendgroup\":\"Odisha\",\"lon\":[20.9517],\"marker\":{\"color\":\"#FF6692\",\"size\":[23.76],\"sizemode\":\"area\",\"sizeref\":0.189625,\"symbol\":\"circle\"},\"mode\":\"markers\",\"name\":\"Odisha\",\"showlegend\":true,\"type\":\"scattergeo\"},{\"geo\":\"geo\",\"hovertemplate\":\"\\u003cb\\u003e%{hovertext}\\u003c\\u002fb\\u003e\\u003cbr\\u003e\\u003cbr\\u003eRegion=Puducherry\\u003cbr\\u003emonth=april\\u003cbr\\u003eEstimatedUnemploymentRate=%{marker.size}\\u003cbr\\u003elatitude=%{lat}\\u003cbr\\u003elongitude=%{lon}\\u003cextra\\u003e\\u003c\\u002fextra\\u003e\",\"hovertext\":[\"Puducherry\"],\"lat\":[79.8083],\"legendgroup\":\"Puducherry\",\"lon\":[11.9416],\"marker\":{\"color\":\"#B6E880\",\"size\":[75.85],\"sizemode\":\"area\",\"sizeref\":0.189625,\"symbol\":\"circle\"},\"mode\":\"markers\",\"name\":\"Puducherry\",\"showlegend\":true,\"type\":\"scattergeo\"},{\"geo\":\"geo\",\"hovertemplate\":\"\\u003cb\\u003e%{hovertext}\\u003c\\u002fb\\u003e\\u003cbr\\u003e\\u003cbr\\u003eRegion=Punjab\\u003cbr\\u003emonth=april\\u003cbr\\u003eEstimatedUnemploymentRate=%{marker.size}\\u003cbr\\u003elatitude=%{lat}\\u003cbr\\u003elongitude=%{lon}\\u003cextra\\u003e\\u003c\\u002fextra\\u003e\",\"hovertext\":[\"Punjab\"],\"lat\":[75.3412],\"legendgroup\":\"Punjab\",\"lon\":[31.1471],\"marker\":{\"color\":\"#FF97FF\",\"size\":[2.86],\"sizemode\":\"area\",\"sizeref\":0.189625,\"symbol\":\"circle\"},\"mode\":\"markers\",\"name\":\"Punjab\",\"showlegend\":true,\"type\":\"scattergeo\"},{\"geo\":\"geo\",\"hovertemplate\":\"\\u003cb\\u003e%{hovertext}\\u003c\\u002fb\\u003e\\u003cbr\\u003e\\u003cbr\\u003eRegion=Rajasthan\\u003cbr\\u003emonth=april\\u003cbr\\u003eEstimatedUnemploymentRate=%{marker.size}\\u003cbr\\u003elatitude=%{lat}\\u003cbr\\u003elongitude=%{lon}\\u003cextra\\u003e\\u003c\\u002fextra\\u003e\",\"hovertext\":[\"Rajasthan\"],\"lat\":[74.2179],\"legendgroup\":\"Rajasthan\",\"lon\":[27.0238],\"marker\":{\"color\":\"#FECB52\",\"size\":[17.7],\"sizemode\":\"area\",\"sizeref\":0.189625,\"symbol\":\"circle\"},\"mode\":\"markers\",\"name\":\"Rajasthan\",\"showlegend\":true,\"type\":\"scattergeo\"},{\"geo\":\"geo\",\"hovertemplate\":\"\\u003cb\\u003e%{hovertext}\\u003c\\u002fb\\u003e\\u003cbr\\u003e\\u003cbr\\u003eRegion=Sikkim\\u003cbr\\u003emonth=april\\u003cbr\\u003eEstimatedUnemploymentRate=%{marker.size}\\u003cbr\\u003elatitude=%{lat}\\u003cbr\\u003elongitude=%{lon}\\u003cextra\\u003e\\u003c\\u002fextra\\u003e\",\"hovertext\":[\"Sikkim\"],\"lat\":[88.5122],\"legendgroup\":\"Sikkim\",\"lon\":[27.533],\"marker\":{\"color\":\"#636efa\",\"size\":[2.28],\"sizemode\":\"area\",\"sizeref\":0.189625,\"symbol\":\"circle\"},\"mode\":\"markers\",\"name\":\"Sikkim\",\"showlegend\":true,\"type\":\"scattergeo\"},{\"geo\":\"geo\",\"hovertemplate\":\"\\u003cb\\u003e%{hovertext}\\u003c\\u002fb\\u003e\\u003cbr\\u003e\\u003cbr\\u003eRegion=Tamil Nadu\\u003cbr\\u003emonth=april\\u003cbr\\u003eEstimatedUnemploymentRate=%{marker.size}\\u003cbr\\u003elatitude=%{lat}\\u003cbr\\u003elongitude=%{lon}\\u003cextra\\u003e\\u003c\\u002fextra\\u003e\",\"hovertext\":[\"Tamil Nadu\"],\"lat\":[78.6569],\"legendgroup\":\"Tamil Nadu\",\"lon\":[11.1271],\"marker\":{\"color\":\"#EF553B\",\"size\":[49.83],\"sizemode\":\"area\",\"sizeref\":0.189625,\"symbol\":\"circle\"},\"mode\":\"markers\",\"name\":\"Tamil Nadu\",\"showlegend\":true,\"type\":\"scattergeo\"},{\"geo\":\"geo\",\"hovertemplate\":\"\\u003cb\\u003e%{hovertext}\\u003c\\u002fb\\u003e\\u003cbr\\u003e\\u003cbr\\u003eRegion=Telangana\\u003cbr\\u003emonth=april\\u003cbr\\u003eEstimatedUnemploymentRate=%{marker.size}\\u003cbr\\u003elatitude=%{lat}\\u003cbr\\u003elongitude=%{lon}\\u003cextra\\u003e\\u003c\\u002fextra\\u003e\",\"hovertext\":[\"Telangana\"],\"lat\":[79.0193],\"legendgroup\":\"Telangana\",\"lon\":[18.1124],\"marker\":{\"color\":\"#00cc96\",\"size\":[6.25],\"sizemode\":\"area\",\"sizeref\":0.189625,\"symbol\":\"circle\"},\"mode\":\"markers\",\"name\":\"Telangana\",\"showlegend\":true,\"type\":\"scattergeo\"},{\"geo\":\"geo\",\"hovertemplate\":\"\\u003cb\\u003e%{hovertext}\\u003c\\u002fb\\u003e\\u003cbr\\u003e\\u003cbr\\u003eRegion=Tripura\\u003cbr\\u003emonth=april\\u003cbr\\u003eEstimatedUnemploymentRate=%{marker.size}\\u003cbr\\u003elatitude=%{lat}\\u003cbr\\u003elongitude=%{lon}\\u003cextra\\u003e\\u003c\\u002fextra\\u003e\",\"hovertext\":[\"Tripura\"],\"lat\":[91.9882],\"legendgroup\":\"Tripura\",\"lon\":[23.9408],\"marker\":{\"color\":\"#ab63fa\",\"size\":[41.23],\"sizemode\":\"area\",\"sizeref\":0.189625,\"symbol\":\"circle\"},\"mode\":\"markers\",\"name\":\"Tripura\",\"showlegend\":true,\"type\":\"scattergeo\"},{\"geo\":\"geo\",\"hovertemplate\":\"\\u003cb\\u003e%{hovertext}\\u003c\\u002fb\\u003e\\u003cbr\\u003e\\u003cbr\\u003eRegion=Uttar Pradesh\\u003cbr\\u003emonth=april\\u003cbr\\u003eEstimatedUnemploymentRate=%{marker.size}\\u003cbr\\u003elatitude=%{lat}\\u003cbr\\u003elongitude=%{lon}\\u003cextra\\u003e\\u003c\\u002fextra\\u003e\",\"hovertext\":[\"Uttar Pradesh\"],\"lat\":[80.9462],\"legendgroup\":\"Uttar Pradesh\",\"lon\":[26.8467],\"marker\":{\"color\":\"#FFA15A\",\"size\":[21.54],\"sizemode\":\"area\",\"sizeref\":0.189625,\"symbol\":\"circle\"},\"mode\":\"markers\",\"name\":\"Uttar Pradesh\",\"showlegend\":true,\"type\":\"scattergeo\"},{\"geo\":\"geo\",\"hovertemplate\":\"\\u003cb\\u003e%{hovertext}\\u003c\\u002fb\\u003e\\u003cbr\\u003e\\u003cbr\\u003eRegion=Uttarakhand\\u003cbr\\u003emonth=april\\u003cbr\\u003eEstimatedUnemploymentRate=%{marker.size}\\u003cbr\\u003elatitude=%{lat}\\u003cbr\\u003elongitude=%{lon}\\u003cextra\\u003e\\u003c\\u002fextra\\u003e\",\"hovertext\":[\"Uttarakhand\"],\"lat\":[79.0193],\"legendgroup\":\"Uttarakhand\",\"lon\":[30.0668],\"marker\":{\"color\":\"#19d3f3\",\"size\":[6.48],\"sizemode\":\"area\",\"sizeref\":0.189625,\"symbol\":\"circle\"},\"mode\":\"markers\",\"name\":\"Uttarakhand\",\"showlegend\":true,\"type\":\"scattergeo\"},{\"geo\":\"geo\",\"hovertemplate\":\"\\u003cb\\u003e%{hovertext}\\u003c\\u002fb\\u003e\\u003cbr\\u003e\\u003cbr\\u003eRegion=West Bengal\\u003cbr\\u003emonth=april\\u003cbr\\u003eEstimatedUnemploymentRate=%{marker.size}\\u003cbr\\u003elatitude=%{lat}\\u003cbr\\u003elongitude=%{lon}\\u003cextra\\u003e\\u003c\\u002fextra\\u003e\",\"hovertext\":[\"West Bengal\"],\"lat\":[87.855],\"legendgroup\":\"West Bengal\",\"lon\":[22.9868],\"marker\":{\"color\":\"#FF6692\",\"size\":[17.41],\"sizemode\":\"area\",\"sizeref\":0.189625,\"symbol\":\"circle\"},\"mode\":\"markers\",\"name\":\"West Bengal\",\"showlegend\":true,\"type\":\"scattergeo\"}],\"name\":\"april\"},{\"data\":[{\"geo\":\"geo\",\"hovertemplate\":\"\\u003cb\\u003e%{hovertext}\\u003c\\u002fb\\u003e\\u003cbr\\u003e\\u003cbr\\u003eRegion=Andhra Pradesh\\u003cbr\\u003emonth=may\\u003cbr\\u003eEstimatedUnemploymentRate=%{marker.size}\\u003cbr\\u003elatitude=%{lat}\\u003cbr\\u003elongitude=%{lon}\\u003cextra\\u003e\\u003c\\u002fextra\\u003e\",\"hovertext\":[\"Andhra Pradesh\"],\"lat\":[79.74],\"legendgroup\":\"Andhra Pradesh\",\"lon\":[15.9129],\"marker\":{\"color\":\"#636efa\",\"size\":[17.43],\"sizemode\":\"area\",\"sizeref\":0.189625,\"symbol\":\"circle\"},\"mode\":\"markers\",\"name\":\"Andhra Pradesh\",\"showlegend\":true,\"type\":\"scattergeo\"},{\"geo\":\"geo\",\"hovertemplate\":\"\\u003cb\\u003e%{hovertext}\\u003c\\u002fb\\u003e\\u003cbr\\u003e\\u003cbr\\u003eRegion=Assam\\u003cbr\\u003emonth=may\\u003cbr\\u003eEstimatedUnemploymentRate=%{marker.size}\\u003cbr\\u003elatitude=%{lat}\\u003cbr\\u003elongitude=%{lon}\\u003cextra\\u003e\\u003c\\u002fextra\\u003e\",\"hovertext\":[\"Assam\"],\"lat\":[92.9376],\"legendgroup\":\"Assam\",\"lon\":[26.2006],\"marker\":{\"color\":\"#EF553B\",\"size\":[9.55],\"sizemode\":\"area\",\"sizeref\":0.189625,\"symbol\":\"circle\"},\"mode\":\"markers\",\"name\":\"Assam\",\"showlegend\":true,\"type\":\"scattergeo\"},{\"geo\":\"geo\",\"hovertemplate\":\"\\u003cb\\u003e%{hovertext}\\u003c\\u002fb\\u003e\\u003cbr\\u003e\\u003cbr\\u003eRegion=Bihar\\u003cbr\\u003emonth=may\\u003cbr\\u003eEstimatedUnemploymentRate=%{marker.size}\\u003cbr\\u003elatitude=%{lat}\\u003cbr\\u003elongitude=%{lon}\\u003cextra\\u003e\\u003c\\u002fextra\\u003e\",\"hovertext\":[\"Bihar\"],\"lat\":[85.3131],\"legendgroup\":\"Bihar\",\"lon\":[25.0961],\"marker\":{\"color\":\"#00cc96\",\"size\":[45.96],\"sizemode\":\"area\",\"sizeref\":0.189625,\"symbol\":\"circle\"},\"mode\":\"markers\",\"name\":\"Bihar\",\"showlegend\":true,\"type\":\"scattergeo\"},{\"geo\":\"geo\",\"hovertemplate\":\"\\u003cb\\u003e%{hovertext}\\u003c\\u002fb\\u003e\\u003cbr\\u003e\\u003cbr\\u003eRegion=Chhattisgarh\\u003cbr\\u003emonth=may\\u003cbr\\u003eEstimatedUnemploymentRate=%{marker.size}\\u003cbr\\u003elatitude=%{lat}\\u003cbr\\u003elongitude=%{lon}\\u003cextra\\u003e\\u003c\\u002fextra\\u003e\",\"hovertext\":[\"Chhattisgarh\"],\"lat\":[81.8661],\"legendgroup\":\"Chhattisgarh\",\"lon\":[21.2787],\"marker\":{\"color\":\"#ab63fa\",\"size\":[10.5],\"sizemode\":\"area\",\"sizeref\":0.189625,\"symbol\":\"circle\"},\"mode\":\"markers\",\"name\":\"Chhattisgarh\",\"showlegend\":true,\"type\":\"scattergeo\"},{\"geo\":\"geo\",\"hovertemplate\":\"\\u003cb\\u003e%{hovertext}\\u003c\\u002fb\\u003e\\u003cbr\\u003e\\u003cbr\\u003eRegion=Delhi\\u003cbr\\u003emonth=may\\u003cbr\\u003eEstimatedUnemploymentRate=%{marker.size}\\u003cbr\\u003elatitude=%{lat}\\u003cbr\\u003elongitude=%{lon}\\u003cextra\\u003e\\u003c\\u002fextra\\u003e\",\"hovertext\":[\"Delhi\"],\"lat\":[77.1025],\"legendgroup\":\"Delhi\",\"lon\":[28.7041],\"marker\":{\"color\":\"#FFA15A\",\"size\":[42.27],\"sizemode\":\"area\",\"sizeref\":0.189625,\"symbol\":\"circle\"},\"mode\":\"markers\",\"name\":\"Delhi\",\"showlegend\":true,\"type\":\"scattergeo\"},{\"geo\":\"geo\",\"hovertemplate\":\"\\u003cb\\u003e%{hovertext}\\u003c\\u002fb\\u003e\\u003cbr\\u003e\\u003cbr\\u003eRegion=Goa\\u003cbr\\u003emonth=may\\u003cbr\\u003eEstimatedUnemploymentRate=%{marker.size}\\u003cbr\\u003elatitude=%{lat}\\u003cbr\\u003elongitude=%{lon}\\u003cextra\\u003e\\u003c\\u002fextra\\u003e\",\"hovertext\":[\"Goa\"],\"lat\":[74.124],\"legendgroup\":\"Goa\",\"lon\":[15.2993],\"marker\":{\"color\":\"#19d3f3\",\"size\":[21.25],\"sizemode\":\"area\",\"sizeref\":0.189625,\"symbol\":\"circle\"},\"mode\":\"markers\",\"name\":\"Goa\",\"showlegend\":true,\"type\":\"scattergeo\"},{\"geo\":\"geo\",\"hovertemplate\":\"\\u003cb\\u003e%{hovertext}\\u003c\\u002fb\\u003e\\u003cbr\\u003e\\u003cbr\\u003eRegion=Gujarat\\u003cbr\\u003emonth=may\\u003cbr\\u003eEstimatedUnemploymentRate=%{marker.size}\\u003cbr\\u003elatitude=%{lat}\\u003cbr\\u003elongitude=%{lon}\\u003cextra\\u003e\\u003c\\u002fextra\\u003e\",\"hovertext\":[\"Gujarat\"],\"lat\":[71.1924],\"legendgroup\":\"Gujarat\",\"lon\":[22.2587],\"marker\":{\"color\":\"#FF6692\",\"size\":[12.11],\"sizemode\":\"area\",\"sizeref\":0.189625,\"symbol\":\"circle\"},\"mode\":\"markers\",\"name\":\"Gujarat\",\"showlegend\":true,\"type\":\"scattergeo\"},{\"geo\":\"geo\",\"hovertemplate\":\"\\u003cb\\u003e%{hovertext}\\u003c\\u002fb\\u003e\\u003cbr\\u003e\\u003cbr\\u003eRegion=Haryana\\u003cbr\\u003emonth=may\\u003cbr\\u003eEstimatedUnemploymentRate=%{marker.size}\\u003cbr\\u003elatitude=%{lat}\\u003cbr\\u003elongitude=%{lon}\\u003cextra\\u003e\\u003c\\u002fextra\\u003e\",\"hovertext\":[\"Haryana\"],\"lat\":[76.0856],\"legendgroup\":\"Haryana\",\"lon\":[29.0588],\"marker\":{\"color\":\"#B6E880\",\"size\":[29.02],\"sizemode\":\"area\",\"sizeref\":0.189625,\"symbol\":\"circle\"},\"mode\":\"markers\",\"name\":\"Haryana\",\"showlegend\":true,\"type\":\"scattergeo\"},{\"geo\":\"geo\",\"hovertemplate\":\"\\u003cb\\u003e%{hovertext}\\u003c\\u002fb\\u003e\\u003cbr\\u003e\\u003cbr\\u003eRegion=Himachal Pradesh\\u003cbr\\u003emonth=may\\u003cbr\\u003eEstimatedUnemploymentRate=%{marker.size}\\u003cbr\\u003elatitude=%{lat}\\u003cbr\\u003elongitude=%{lon}\\u003cextra\\u003e\\u003c\\u002fextra\\u003e\",\"hovertext\":[\"Himachal Pradesh\"],\"lat\":[77.1734],\"legendgroup\":\"Himachal Pradesh\",\"lon\":[31.1048],\"marker\":{\"color\":\"#FF97FF\",\"size\":[26.95],\"sizemode\":\"area\",\"sizeref\":0.189625,\"symbol\":\"circle\"},\"mode\":\"markers\",\"name\":\"Himachal Pradesh\",\"showlegend\":true,\"type\":\"scattergeo\"},{\"geo\":\"geo\",\"hovertemplate\":\"\\u003cb\\u003e%{hovertext}\\u003c\\u002fb\\u003e\\u003cbr\\u003e\\u003cbr\\u003eRegion=Jammu & Kashmir\\u003cbr\\u003emonth=may\\u003cbr\\u003eEstimatedUnemploymentRate=%{marker.size}\\u003cbr\\u003elatitude=%{lat}\\u003cbr\\u003elongitude=%{lon}\\u003cextra\\u003e\\u003c\\u002fextra\\u003e\",\"hovertext\":[\"Jammu & Kashmir\"],\"lat\":[76.5762],\"legendgroup\":\"Jammu & Kashmir\",\"lon\":[33.7782],\"marker\":{\"color\":\"#FECB52\",\"size\":[18.74],\"sizemode\":\"area\",\"sizeref\":0.189625,\"symbol\":\"circle\"},\"mode\":\"markers\",\"name\":\"Jammu & Kashmir\",\"showlegend\":true,\"type\":\"scattergeo\"},{\"geo\":\"geo\",\"hovertemplate\":\"\\u003cb\\u003e%{hovertext}\\u003c\\u002fb\\u003e\\u003cbr\\u003e\\u003cbr\\u003eRegion=Jharkhand\\u003cbr\\u003emonth=may\\u003cbr\\u003eEstimatedUnemploymentRate=%{marker.size}\\u003cbr\\u003elatitude=%{lat}\\u003cbr\\u003elongitude=%{lon}\\u003cextra\\u003e\\u003c\\u002fextra\\u003e\",\"hovertext\":[\"Jharkhand\"],\"lat\":[85.2799],\"legendgroup\":\"Jharkhand\",\"lon\":[23.6102],\"marker\":{\"color\":\"#636efa\",\"size\":[59.23],\"sizemode\":\"area\",\"sizeref\":0.189625,\"symbol\":\"circle\"},\"mode\":\"markers\",\"name\":\"Jharkhand\",\"showlegend\":true,\"type\":\"scattergeo\"},{\"geo\":\"geo\",\"hovertemplate\":\"\\u003cb\\u003e%{hovertext}\\u003c\\u002fb\\u003e\\u003cbr\\u003e\\u003cbr\\u003eRegion=Karnataka\\u003cbr\\u003emonth=may\\u003cbr\\u003eEstimatedUnemploymentRate=%{marker.size}\\u003cbr\\u003elatitude=%{lat}\\u003cbr\\u003elongitude=%{lon}\\u003cextra\\u003e\\u003c\\u002fextra\\u003e\",\"hovertext\":[\"Karnataka\"],\"lat\":[75.7139],\"legendgroup\":\"Karnataka\",\"lon\":[15.3173],\"marker\":{\"color\":\"#EF553B\",\"size\":[19.97],\"sizemode\":\"area\",\"sizeref\":0.189625,\"symbol\":\"circle\"},\"mode\":\"markers\",\"name\":\"Karnataka\",\"showlegend\":true,\"type\":\"scattergeo\"},{\"geo\":\"geo\",\"hovertemplate\":\"\\u003cb\\u003e%{hovertext}\\u003c\\u002fb\\u003e\\u003cbr\\u003e\\u003cbr\\u003eRegion=Kerala\\u003cbr\\u003emonth=may\\u003cbr\\u003eEstimatedUnemploymentRate=%{marker.size}\\u003cbr\\u003elatitude=%{lat}\\u003cbr\\u003elongitude=%{lon}\\u003cextra\\u003e\\u003c\\u002fextra\\u003e\",\"hovertext\":[\"Kerala\"],\"lat\":[76.2711],\"legendgroup\":\"Kerala\",\"lon\":[10.8505],\"marker\":{\"color\":\"#00cc96\",\"size\":[17.88],\"sizemode\":\"area\",\"sizeref\":0.189625,\"symbol\":\"circle\"},\"mode\":\"markers\",\"name\":\"Kerala\",\"showlegend\":true,\"type\":\"scattergeo\"},{\"geo\":\"geo\",\"hovertemplate\":\"\\u003cb\\u003e%{hovertext}\\u003c\\u002fb\\u003e\\u003cbr\\u003e\\u003cbr\\u003eRegion=Madhya Pradesh\\u003cbr\\u003emonth=may\\u003cbr\\u003eEstimatedUnemploymentRate=%{marker.size}\\u003cbr\\u003elatitude=%{lat}\\u003cbr\\u003elongitude=%{lon}\\u003cextra\\u003e\\u003c\\u002fextra\\u003e\",\"hovertext\":[\"Madhya Pradesh\"],\"lat\":[78.6569],\"legendgroup\":\"Madhya Pradesh\",\"lon\":[22.9734],\"marker\":{\"color\":\"#ab63fa\",\"size\":[21.98],\"sizemode\":\"area\",\"sizeref\":0.189625,\"symbol\":\"circle\"},\"mode\":\"markers\",\"name\":\"Madhya Pradesh\",\"showlegend\":true,\"type\":\"scattergeo\"},{\"geo\":\"geo\",\"hovertemplate\":\"\\u003cb\\u003e%{hovertext}\\u003c\\u002fb\\u003e\\u003cbr\\u003e\\u003cbr\\u003eRegion=Maharashtra\\u003cbr\\u003emonth=may\\u003cbr\\u003eEstimatedUnemploymentRate=%{marker.size}\\u003cbr\\u003elatitude=%{lat}\\u003cbr\\u003elongitude=%{lon}\\u003cextra\\u003e\\u003c\\u002fextra\\u003e\",\"hovertext\":[\"Maharashtra\"],\"lat\":[75.7139],\"legendgroup\":\"Maharashtra\",\"lon\":[19.7515],\"marker\":{\"color\":\"#FFA15A\",\"size\":[15.46],\"sizemode\":\"area\",\"sizeref\":0.189625,\"symbol\":\"circle\"},\"mode\":\"markers\",\"name\":\"Maharashtra\",\"showlegend\":true,\"type\":\"scattergeo\"},{\"geo\":\"geo\",\"hovertemplate\":\"\\u003cb\\u003e%{hovertext}\\u003c\\u002fb\\u003e\\u003cbr\\u003e\\u003cbr\\u003eRegion=Meghalaya\\u003cbr\\u003emonth=may\\u003cbr\\u003eEstimatedUnemploymentRate=%{marker.size}\\u003cbr\\u003elatitude=%{lat}\\u003cbr\\u003elongitude=%{lon}\\u003cextra\\u003e\\u003c\\u002fextra\\u003e\",\"hovertext\":[\"Meghalaya\"],\"lat\":[91.3662],\"legendgroup\":\"Meghalaya\",\"lon\":[25.467],\"marker\":{\"color\":\"#19d3f3\",\"size\":[5.92],\"sizemode\":\"area\",\"sizeref\":0.189625,\"symbol\":\"circle\"},\"mode\":\"markers\",\"name\":\"Meghalaya\",\"showlegend\":true,\"type\":\"scattergeo\"},{\"geo\":\"geo\",\"hovertemplate\":\"\\u003cb\\u003e%{hovertext}\\u003c\\u002fb\\u003e\\u003cbr\\u003e\\u003cbr\\u003eRegion=Odisha\\u003cbr\\u003emonth=may\\u003cbr\\u003eEstimatedUnemploymentRate=%{marker.size}\\u003cbr\\u003elatitude=%{lat}\\u003cbr\\u003elongitude=%{lon}\\u003cextra\\u003e\\u003c\\u002fextra\\u003e\",\"hovertext\":[\"Odisha\"],\"lat\":[85.0985],\"legendgroup\":\"Odisha\",\"lon\":[20.9517],\"marker\":{\"color\":\"#FF6692\",\"size\":[11.41],\"sizemode\":\"area\",\"sizeref\":0.189625,\"symbol\":\"circle\"},\"mode\":\"markers\",\"name\":\"Odisha\",\"showlegend\":true,\"type\":\"scattergeo\"},{\"geo\":\"geo\",\"hovertemplate\":\"\\u003cb\\u003e%{hovertext}\\u003c\\u002fb\\u003e\\u003cbr\\u003e\\u003cbr\\u003eRegion=Puducherry\\u003cbr\\u003emonth=may\\u003cbr\\u003eEstimatedUnemploymentRate=%{marker.size}\\u003cbr\\u003elatitude=%{lat}\\u003cbr\\u003elongitude=%{lon}\\u003cextra\\u003e\\u003c\\u002fextra\\u003e\",\"hovertext\":[\"Puducherry\"],\"lat\":[79.8083],\"legendgroup\":\"Puducherry\",\"lon\":[11.9416],\"marker\":{\"color\":\"#B6E880\",\"size\":[58.19],\"sizemode\":\"area\",\"sizeref\":0.189625,\"symbol\":\"circle\"},\"mode\":\"markers\",\"name\":\"Puducherry\",\"showlegend\":true,\"type\":\"scattergeo\"},{\"geo\":\"geo\",\"hovertemplate\":\"\\u003cb\\u003e%{hovertext}\\u003c\\u002fb\\u003e\\u003cbr\\u003e\\u003cbr\\u003eRegion=Punjab\\u003cbr\\u003emonth=may\\u003cbr\\u003eEstimatedUnemploymentRate=%{marker.size}\\u003cbr\\u003elatitude=%{lat}\\u003cbr\\u003elongitude=%{lon}\\u003cextra\\u003e\\u003c\\u002fextra\\u003e\",\"hovertext\":[\"Punjab\"],\"lat\":[75.3412],\"legendgroup\":\"Punjab\",\"lon\":[31.1471],\"marker\":{\"color\":\"#FF97FF\",\"size\":[28.33],\"sizemode\":\"area\",\"sizeref\":0.189625,\"symbol\":\"circle\"},\"mode\":\"markers\",\"name\":\"Punjab\",\"showlegend\":true,\"type\":\"scattergeo\"},{\"geo\":\"geo\",\"hovertemplate\":\"\\u003cb\\u003e%{hovertext}\\u003c\\u002fb\\u003e\\u003cbr\\u003e\\u003cbr\\u003eRegion=Rajasthan\\u003cbr\\u003emonth=may\\u003cbr\\u003eEstimatedUnemploymentRate=%{marker.size}\\u003cbr\\u003elatitude=%{lat}\\u003cbr\\u003elongitude=%{lon}\\u003cextra\\u003e\\u003c\\u002fextra\\u003e\",\"hovertext\":[\"Rajasthan\"],\"lat\":[74.2179],\"legendgroup\":\"Rajasthan\",\"lon\":[27.0238],\"marker\":{\"color\":\"#FECB52\",\"size\":[15.74],\"sizemode\":\"area\",\"sizeref\":0.189625,\"symbol\":\"circle\"},\"mode\":\"markers\",\"name\":\"Rajasthan\",\"showlegend\":true,\"type\":\"scattergeo\"},{\"geo\":\"geo\",\"hovertemplate\":\"\\u003cb\\u003e%{hovertext}\\u003c\\u002fb\\u003e\\u003cbr\\u003e\\u003cbr\\u003eRegion=Sikkim\\u003cbr\\u003emonth=may\\u003cbr\\u003eEstimatedUnemploymentRate=%{marker.size}\\u003cbr\\u003elatitude=%{lat}\\u003cbr\\u003elongitude=%{lon}\\u003cextra\\u003e\\u003c\\u002fextra\\u003e\",\"hovertext\":[\"Sikkim\"],\"lat\":[88.5122],\"legendgroup\":\"Sikkim\",\"lon\":[27.533],\"marker\":{\"color\":\"#636efa\",\"size\":[24.51],\"sizemode\":\"area\",\"sizeref\":0.189625,\"symbol\":\"circle\"},\"mode\":\"markers\",\"name\":\"Sikkim\",\"showlegend\":true,\"type\":\"scattergeo\"},{\"geo\":\"geo\",\"hovertemplate\":\"\\u003cb\\u003e%{hovertext}\\u003c\\u002fb\\u003e\\u003cbr\\u003e\\u003cbr\\u003eRegion=Tamil Nadu\\u003cbr\\u003emonth=may\\u003cbr\\u003eEstimatedUnemploymentRate=%{marker.size}\\u003cbr\\u003elatitude=%{lat}\\u003cbr\\u003elongitude=%{lon}\\u003cextra\\u003e\\u003c\\u002fextra\\u003e\",\"hovertext\":[\"Tamil Nadu\"],\"lat\":[78.6569],\"legendgroup\":\"Tamil Nadu\",\"lon\":[11.1271],\"marker\":{\"color\":\"#EF553B\",\"size\":[33.16],\"sizemode\":\"area\",\"sizeref\":0.189625,\"symbol\":\"circle\"},\"mode\":\"markers\",\"name\":\"Tamil Nadu\",\"showlegend\":true,\"type\":\"scattergeo\"},{\"geo\":\"geo\",\"hovertemplate\":\"\\u003cb\\u003e%{hovertext}\\u003c\\u002fb\\u003e\\u003cbr\\u003e\\u003cbr\\u003eRegion=Telangana\\u003cbr\\u003emonth=may\\u003cbr\\u003eEstimatedUnemploymentRate=%{marker.size}\\u003cbr\\u003elatitude=%{lat}\\u003cbr\\u003elongitude=%{lon}\\u003cextra\\u003e\\u003c\\u002fextra\\u003e\",\"hovertext\":[\"Telangana\"],\"lat\":[79.0193],\"legendgroup\":\"Telangana\",\"lon\":[18.1124],\"marker\":{\"color\":\"#00cc96\",\"size\":[14.7],\"sizemode\":\"area\",\"sizeref\":0.189625,\"symbol\":\"circle\"},\"mode\":\"markers\",\"name\":\"Telangana\",\"showlegend\":true,\"type\":\"scattergeo\"},{\"geo\":\"geo\",\"hovertemplate\":\"\\u003cb\\u003e%{hovertext}\\u003c\\u002fb\\u003e\\u003cbr\\u003e\\u003cbr\\u003eRegion=Tripura\\u003cbr\\u003emonth=may\\u003cbr\\u003eEstimatedUnemploymentRate=%{marker.size}\\u003cbr\\u003elatitude=%{lat}\\u003cbr\\u003elongitude=%{lon}\\u003cextra\\u003e\\u003c\\u002fextra\\u003e\",\"hovertext\":[\"Tripura\"],\"lat\":[91.9882],\"legendgroup\":\"Tripura\",\"lon\":[23.9408],\"marker\":{\"color\":\"#ab63fa\",\"size\":[21.51],\"sizemode\":\"area\",\"sizeref\":0.189625,\"symbol\":\"circle\"},\"mode\":\"markers\",\"name\":\"Tripura\",\"showlegend\":true,\"type\":\"scattergeo\"},{\"geo\":\"geo\",\"hovertemplate\":\"\\u003cb\\u003e%{hovertext}\\u003c\\u002fb\\u003e\\u003cbr\\u003e\\u003cbr\\u003eRegion=Uttar Pradesh\\u003cbr\\u003emonth=may\\u003cbr\\u003eEstimatedUnemploymentRate=%{marker.size}\\u003cbr\\u003elatitude=%{lat}\\u003cbr\\u003elongitude=%{lon}\\u003cextra\\u003e\\u003c\\u002fextra\\u003e\",\"hovertext\":[\"Uttar Pradesh\"],\"lat\":[80.9462],\"legendgroup\":\"Uttar Pradesh\",\"lon\":[26.8467],\"marker\":{\"color\":\"#FFA15A\",\"size\":[20.41],\"sizemode\":\"area\",\"sizeref\":0.189625,\"symbol\":\"circle\"},\"mode\":\"markers\",\"name\":\"Uttar Pradesh\",\"showlegend\":true,\"type\":\"scattergeo\"},{\"geo\":\"geo\",\"hovertemplate\":\"\\u003cb\\u003e%{hovertext}\\u003c\\u002fb\\u003e\\u003cbr\\u003e\\u003cbr\\u003eRegion=Uttarakhand\\u003cbr\\u003emonth=may\\u003cbr\\u003eEstimatedUnemploymentRate=%{marker.size}\\u003cbr\\u003elatitude=%{lat}\\u003cbr\\u003elongitude=%{lon}\\u003cextra\\u003e\\u003c\\u002fextra\\u003e\",\"hovertext\":[\"Uttarakhand\"],\"lat\":[79.0193],\"legendgroup\":\"Uttarakhand\",\"lon\":[30.0668],\"marker\":{\"color\":\"#19d3f3\",\"size\":[8.01],\"sizemode\":\"area\",\"sizeref\":0.189625,\"symbol\":\"circle\"},\"mode\":\"markers\",\"name\":\"Uttarakhand\",\"showlegend\":true,\"type\":\"scattergeo\"},{\"geo\":\"geo\",\"hovertemplate\":\"\\u003cb\\u003e%{hovertext}\\u003c\\u002fb\\u003e\\u003cbr\\u003e\\u003cbr\\u003eRegion=West Bengal\\u003cbr\\u003emonth=may\\u003cbr\\u003eEstimatedUnemploymentRate=%{marker.size}\\u003cbr\\u003elatitude=%{lat}\\u003cbr\\u003elongitude=%{lon}\\u003cextra\\u003e\\u003c\\u002fextra\\u003e\",\"hovertext\":[\"West Bengal\"],\"lat\":[87.855],\"legendgroup\":\"West Bengal\",\"lon\":[22.9868],\"marker\":{\"color\":\"#FF6692\",\"size\":[17.41],\"sizemode\":\"area\",\"sizeref\":0.189625,\"symbol\":\"circle\"},\"mode\":\"markers\",\"name\":\"West Bengal\",\"showlegend\":true,\"type\":\"scattergeo\"}],\"name\":\"may\"},{\"data\":[{\"geo\":\"geo\",\"hovertemplate\":\"\\u003cb\\u003e%{hovertext}\\u003c\\u002fb\\u003e\\u003cbr\\u003e\\u003cbr\\u003eRegion=Andhra Pradesh\\u003cbr\\u003emonth=june\\u003cbr\\u003eEstimatedUnemploymentRate=%{marker.size}\\u003cbr\\u003elatitude=%{lat}\\u003cbr\\u003elongitude=%{lon}\\u003cextra\\u003e\\u003c\\u002fextra\\u003e\",\"hovertext\":[\"Andhra Pradesh\"],\"lat\":[79.74],\"legendgroup\":\"Andhra Pradesh\",\"lon\":[15.9129],\"marker\":{\"color\":\"#636efa\",\"size\":[3.31],\"sizemode\":\"area\",\"sizeref\":0.189625,\"symbol\":\"circle\"},\"mode\":\"markers\",\"name\":\"Andhra Pradesh\",\"showlegend\":true,\"type\":\"scattergeo\"},{\"geo\":\"geo\",\"hovertemplate\":\"\\u003cb\\u003e%{hovertext}\\u003c\\u002fb\\u003e\\u003cbr\\u003e\\u003cbr\\u003eRegion=Assam\\u003cbr\\u003emonth=june\\u003cbr\\u003eEstimatedUnemploymentRate=%{marker.size}\\u003cbr\\u003elatitude=%{lat}\\u003cbr\\u003elongitude=%{lon}\\u003cextra\\u003e\\u003c\\u002fextra\\u003e\",\"hovertext\":[\"Assam\"],\"lat\":[92.9376],\"legendgroup\":\"Assam\",\"lon\":[26.2006],\"marker\":{\"color\":\"#EF553B\",\"size\":[0.6],\"sizemode\":\"area\",\"sizeref\":0.189625,\"symbol\":\"circle\"},\"mode\":\"markers\",\"name\":\"Assam\",\"showlegend\":true,\"type\":\"scattergeo\"},{\"geo\":\"geo\",\"hovertemplate\":\"\\u003cb\\u003e%{hovertext}\\u003c\\u002fb\\u003e\\u003cbr\\u003e\\u003cbr\\u003eRegion=Bihar\\u003cbr\\u003emonth=june\\u003cbr\\u003eEstimatedUnemploymentRate=%{marker.size}\\u003cbr\\u003elatitude=%{lat}\\u003cbr\\u003elongitude=%{lon}\\u003cextra\\u003e\\u003c\\u002fextra\\u003e\",\"hovertext\":[\"Bihar\"],\"lat\":[85.3131],\"legendgroup\":\"Bihar\",\"lon\":[25.0961],\"marker\":{\"color\":\"#00cc96\",\"size\":[17.82],\"sizemode\":\"area\",\"sizeref\":0.189625,\"symbol\":\"circle\"},\"mode\":\"markers\",\"name\":\"Bihar\",\"showlegend\":true,\"type\":\"scattergeo\"},{\"geo\":\"geo\",\"hovertemplate\":\"\\u003cb\\u003e%{hovertext}\\u003c\\u002fb\\u003e\\u003cbr\\u003e\\u003cbr\\u003eRegion=Chhattisgarh\\u003cbr\\u003emonth=june\\u003cbr\\u003eEstimatedUnemploymentRate=%{marker.size}\\u003cbr\\u003elatitude=%{lat}\\u003cbr\\u003elongitude=%{lon}\\u003cextra\\u003e\\u003c\\u002fextra\\u003e\",\"hovertext\":[\"Chhattisgarh\"],\"lat\":[81.8661],\"legendgroup\":\"Chhattisgarh\",\"lon\":[21.2787],\"marker\":{\"color\":\"#ab63fa\",\"size\":[14.23],\"sizemode\":\"area\",\"sizeref\":0.189625,\"symbol\":\"circle\"},\"mode\":\"markers\",\"name\":\"Chhattisgarh\",\"showlegend\":true,\"type\":\"scattergeo\"},{\"geo\":\"geo\",\"hovertemplate\":\"\\u003cb\\u003e%{hovertext}\\u003c\\u002fb\\u003e\\u003cbr\\u003e\\u003cbr\\u003eRegion=Delhi\\u003cbr\\u003emonth=june\\u003cbr\\u003eEstimatedUnemploymentRate=%{marker.size}\\u003cbr\\u003elatitude=%{lat}\\u003cbr\\u003elongitude=%{lon}\\u003cextra\\u003e\\u003c\\u002fextra\\u003e\",\"hovertext\":[\"Delhi\"],\"lat\":[77.1025],\"legendgroup\":\"Delhi\",\"lon\":[28.7041],\"marker\":{\"color\":\"#FFA15A\",\"size\":[18.19],\"sizemode\":\"area\",\"sizeref\":0.189625,\"symbol\":\"circle\"},\"mode\":\"markers\",\"name\":\"Delhi\",\"showlegend\":true,\"type\":\"scattergeo\"},{\"geo\":\"geo\",\"hovertemplate\":\"\\u003cb\\u003e%{hovertext}\\u003c\\u002fb\\u003e\\u003cbr\\u003e\\u003cbr\\u003eRegion=Goa\\u003cbr\\u003emonth=june\\u003cbr\\u003eEstimatedUnemploymentRate=%{marker.size}\\u003cbr\\u003elatitude=%{lat}\\u003cbr\\u003elongitude=%{lon}\\u003cextra\\u003e\\u003c\\u002fextra\\u003e\",\"hovertext\":[\"Goa\"],\"lat\":[74.124],\"legendgroup\":\"Goa\",\"lon\":[15.2993],\"marker\":{\"color\":\"#19d3f3\",\"size\":[9.96],\"sizemode\":\"area\",\"sizeref\":0.189625,\"symbol\":\"circle\"},\"mode\":\"markers\",\"name\":\"Goa\",\"showlegend\":true,\"type\":\"scattergeo\"},{\"geo\":\"geo\",\"hovertemplate\":\"\\u003cb\\u003e%{hovertext}\\u003c\\u002fb\\u003e\\u003cbr\\u003e\\u003cbr\\u003eRegion=Gujarat\\u003cbr\\u003emonth=june\\u003cbr\\u003eEstimatedUnemploymentRate=%{marker.size}\\u003cbr\\u003elatitude=%{lat}\\u003cbr\\u003elongitude=%{lon}\\u003cextra\\u003e\\u003c\\u002fextra\\u003e\",\"hovertext\":[\"Gujarat\"],\"lat\":[71.1924],\"legendgroup\":\"Gujarat\",\"lon\":[22.2587],\"marker\":{\"color\":\"#FF6692\",\"size\":[3.2],\"sizemode\":\"area\",\"sizeref\":0.189625,\"symbol\":\"circle\"},\"mode\":\"markers\",\"name\":\"Gujarat\",\"showlegend\":true,\"type\":\"scattergeo\"},{\"geo\":\"geo\",\"hovertemplate\":\"\\u003cb\\u003e%{hovertext}\\u003c\\u002fb\\u003e\\u003cbr\\u003e\\u003cbr\\u003eRegion=Haryana\\u003cbr\\u003emonth=june\\u003cbr\\u003eEstimatedUnemploymentRate=%{marker.size}\\u003cbr\\u003elatitude=%{lat}\\u003cbr\\u003elongitude=%{lon}\\u003cextra\\u003e\\u003c\\u002fextra\\u003e\",\"hovertext\":[\"Haryana\"],\"lat\":[76.0856],\"legendgroup\":\"Haryana\",\"lon\":[29.0588],\"marker\":{\"color\":\"#B6E880\",\"size\":[26.7],\"sizemode\":\"area\",\"sizeref\":0.189625,\"symbol\":\"circle\"},\"mode\":\"markers\",\"name\":\"Haryana\",\"showlegend\":true,\"type\":\"scattergeo\"},{\"geo\":\"geo\",\"hovertemplate\":\"\\u003cb\\u003e%{hovertext}\\u003c\\u002fb\\u003e\\u003cbr\\u003e\\u003cbr\\u003eRegion=Himachal Pradesh\\u003cbr\\u003emonth=june\\u003cbr\\u003eEstimatedUnemploymentRate=%{marker.size}\\u003cbr\\u003elatitude=%{lat}\\u003cbr\\u003elongitude=%{lon}\\u003cextra\\u003e\\u003c\\u002fextra\\u003e\",\"hovertext\":[\"Himachal Pradesh\"],\"lat\":[77.1734],\"legendgroup\":\"Himachal Pradesh\",\"lon\":[31.1048],\"marker\":{\"color\":\"#FF97FF\",\"size\":[13.47],\"sizemode\":\"area\",\"sizeref\":0.189625,\"symbol\":\"circle\"},\"mode\":\"markers\",\"name\":\"Himachal Pradesh\",\"showlegend\":true,\"type\":\"scattergeo\"},{\"geo\":\"geo\",\"hovertemplate\":\"\\u003cb\\u003e%{hovertext}\\u003c\\u002fb\\u003e\\u003cbr\\u003e\\u003cbr\\u003eRegion=Jammu & Kashmir\\u003cbr\\u003emonth=june\\u003cbr\\u003eEstimatedUnemploymentRate=%{marker.size}\\u003cbr\\u003elatitude=%{lat}\\u003cbr\\u003elongitude=%{lon}\\u003cextra\\u003e\\u003c\\u002fextra\\u003e\",\"hovertext\":[\"Jammu & Kashmir\"],\"lat\":[76.5762],\"legendgroup\":\"Jammu & Kashmir\",\"lon\":[33.7782],\"marker\":{\"color\":\"#FECB52\",\"size\":[17.92],\"sizemode\":\"area\",\"sizeref\":0.189625,\"symbol\":\"circle\"},\"mode\":\"markers\",\"name\":\"Jammu & Kashmir\",\"showlegend\":true,\"type\":\"scattergeo\"},{\"geo\":\"geo\",\"hovertemplate\":\"\\u003cb\\u003e%{hovertext}\\u003c\\u002fb\\u003e\\u003cbr\\u003e\\u003cbr\\u003eRegion=Jharkhand\\u003cbr\\u003emonth=june\\u003cbr\\u003eEstimatedUnemploymentRate=%{marker.size}\\u003cbr\\u003elatitude=%{lat}\\u003cbr\\u003elongitude=%{lon}\\u003cextra\\u003e\\u003c\\u002fextra\\u003e\",\"hovertext\":[\"Jharkhand\"],\"lat\":[85.2799],\"legendgroup\":\"Jharkhand\",\"lon\":[23.6102],\"marker\":{\"color\":\"#636efa\",\"size\":[20.95],\"sizemode\":\"area\",\"sizeref\":0.189625,\"symbol\":\"circle\"},\"mode\":\"markers\",\"name\":\"Jharkhand\",\"showlegend\":true,\"type\":\"scattergeo\"},{\"geo\":\"geo\",\"hovertemplate\":\"\\u003cb\\u003e%{hovertext}\\u003c\\u002fb\\u003e\\u003cbr\\u003e\\u003cbr\\u003eRegion=Karnataka\\u003cbr\\u003emonth=june\\u003cbr\\u003eEstimatedUnemploymentRate=%{marker.size}\\u003cbr\\u003elatitude=%{lat}\\u003cbr\\u003elongitude=%{lon}\\u003cextra\\u003e\\u003c\\u002fextra\\u003e\",\"hovertext\":[\"Karnataka\"],\"lat\":[75.7139],\"legendgroup\":\"Karnataka\",\"lon\":[15.3173],\"marker\":{\"color\":\"#EF553B\",\"size\":[8.44],\"sizemode\":\"area\",\"sizeref\":0.189625,\"symbol\":\"circle\"},\"mode\":\"markers\",\"name\":\"Karnataka\",\"showlegend\":true,\"type\":\"scattergeo\"},{\"geo\":\"geo\",\"hovertemplate\":\"\\u003cb\\u003e%{hovertext}\\u003c\\u002fb\\u003e\\u003cbr\\u003e\\u003cbr\\u003eRegion=Kerala\\u003cbr\\u003emonth=june\\u003cbr\\u003eEstimatedUnemploymentRate=%{marker.size}\\u003cbr\\u003elatitude=%{lat}\\u003cbr\\u003elongitude=%{lon}\\u003cextra\\u003e\\u003c\\u002fextra\\u003e\",\"hovertext\":[\"Kerala\"],\"lat\":[76.2711],\"legendgroup\":\"Kerala\",\"lon\":[10.8505],\"marker\":{\"color\":\"#00cc96\",\"size\":[9.71],\"sizemode\":\"area\",\"sizeref\":0.189625,\"symbol\":\"circle\"},\"mode\":\"markers\",\"name\":\"Kerala\",\"showlegend\":true,\"type\":\"scattergeo\"},{\"geo\":\"geo\",\"hovertemplate\":\"\\u003cb\\u003e%{hovertext}\\u003c\\u002fb\\u003e\\u003cbr\\u003e\\u003cbr\\u003eRegion=Madhya Pradesh\\u003cbr\\u003emonth=june\\u003cbr\\u003eEstimatedUnemploymentRate=%{marker.size}\\u003cbr\\u003elatitude=%{lat}\\u003cbr\\u003elongitude=%{lon}\\u003cextra\\u003e\\u003c\\u002fextra\\u003e\",\"hovertext\":[\"Madhya Pradesh\"],\"lat\":[78.6569],\"legendgroup\":\"Madhya Pradesh\",\"lon\":[22.9734],\"marker\":{\"color\":\"#ab63fa\",\"size\":[6.48],\"sizemode\":\"area\",\"sizeref\":0.189625,\"symbol\":\"circle\"},\"mode\":\"markers\",\"name\":\"Madhya Pradesh\",\"showlegend\":true,\"type\":\"scattergeo\"},{\"geo\":\"geo\",\"hovertemplate\":\"\\u003cb\\u003e%{hovertext}\\u003c\\u002fb\\u003e\\u003cbr\\u003e\\u003cbr\\u003eRegion=Maharashtra\\u003cbr\\u003emonth=june\\u003cbr\\u003eEstimatedUnemploymentRate=%{marker.size}\\u003cbr\\u003elatitude=%{lat}\\u003cbr\\u003elongitude=%{lon}\\u003cextra\\u003e\\u003c\\u002fextra\\u003e\",\"hovertext\":[\"Maharashtra\"],\"lat\":[75.7139],\"legendgroup\":\"Maharashtra\",\"lon\":[19.7515],\"marker\":{\"color\":\"#FFA15A\",\"size\":[9.23],\"sizemode\":\"area\",\"sizeref\":0.189625,\"symbol\":\"circle\"},\"mode\":\"markers\",\"name\":\"Maharashtra\",\"showlegend\":true,\"type\":\"scattergeo\"},{\"geo\":\"geo\",\"hovertemplate\":\"\\u003cb\\u003e%{hovertext}\\u003c\\u002fb\\u003e\\u003cbr\\u003e\\u003cbr\\u003eRegion=Meghalaya\\u003cbr\\u003emonth=june\\u003cbr\\u003eEstimatedUnemploymentRate=%{marker.size}\\u003cbr\\u003elatitude=%{lat}\\u003cbr\\u003elongitude=%{lon}\\u003cextra\\u003e\\u003c\\u002fextra\\u003e\",\"hovertext\":[\"Meghalaya\"],\"lat\":[91.3662],\"legendgroup\":\"Meghalaya\",\"lon\":[25.467],\"marker\":{\"color\":\"#19d3f3\",\"size\":[1.15],\"sizemode\":\"area\",\"sizeref\":0.189625,\"symbol\":\"circle\"},\"mode\":\"markers\",\"name\":\"Meghalaya\",\"showlegend\":true,\"type\":\"scattergeo\"},{\"geo\":\"geo\",\"hovertemplate\":\"\\u003cb\\u003e%{hovertext}\\u003c\\u002fb\\u003e\\u003cbr\\u003e\\u003cbr\\u003eRegion=Odisha\\u003cbr\\u003emonth=june\\u003cbr\\u003eEstimatedUnemploymentRate=%{marker.size}\\u003cbr\\u003elatitude=%{lat}\\u003cbr\\u003elongitude=%{lon}\\u003cextra\\u003e\\u003c\\u002fextra\\u003e\",\"hovertext\":[\"Odisha\"],\"lat\":[85.0985],\"legendgroup\":\"Odisha\",\"lon\":[20.9517],\"marker\":{\"color\":\"#FF6692\",\"size\":[3.77],\"sizemode\":\"area\",\"sizeref\":0.189625,\"symbol\":\"circle\"},\"mode\":\"markers\",\"name\":\"Odisha\",\"showlegend\":true,\"type\":\"scattergeo\"},{\"geo\":\"geo\",\"hovertemplate\":\"\\u003cb\\u003e%{hovertext}\\u003c\\u002fb\\u003e\\u003cbr\\u003e\\u003cbr\\u003eRegion=Puducherry\\u003cbr\\u003emonth=june\\u003cbr\\u003eEstimatedUnemploymentRate=%{marker.size}\\u003cbr\\u003elatitude=%{lat}\\u003cbr\\u003elongitude=%{lon}\\u003cextra\\u003e\\u003c\\u002fextra\\u003e\",\"hovertext\":[\"Puducherry\"],\"lat\":[79.8083],\"legendgroup\":\"Puducherry\",\"lon\":[11.9416],\"marker\":{\"color\":\"#B6E880\",\"size\":[4.24],\"sizemode\":\"area\",\"sizeref\":0.189625,\"symbol\":\"circle\"},\"mode\":\"markers\",\"name\":\"Puducherry\",\"showlegend\":true,\"type\":\"scattergeo\"},{\"geo\":\"geo\",\"hovertemplate\":\"\\u003cb\\u003e%{hovertext}\\u003c\\u002fb\\u003e\\u003cbr\\u003e\\u003cbr\\u003eRegion=Punjab\\u003cbr\\u003emonth=june\\u003cbr\\u003eEstimatedUnemploymentRate=%{marker.size}\\u003cbr\\u003elatitude=%{lat}\\u003cbr\\u003elongitude=%{lon}\\u003cextra\\u003e\\u003c\\u002fextra\\u003e\",\"hovertext\":[\"Punjab\"],\"lat\":[75.3412],\"legendgroup\":\"Punjab\",\"lon\":[31.1471],\"marker\":{\"color\":\"#FF97FF\",\"size\":[16.55],\"sizemode\":\"area\",\"sizeref\":0.189625,\"symbol\":\"circle\"},\"mode\":\"markers\",\"name\":\"Punjab\",\"showlegend\":true,\"type\":\"scattergeo\"},{\"geo\":\"geo\",\"hovertemplate\":\"\\u003cb\\u003e%{hovertext}\\u003c\\u002fb\\u003e\\u003cbr\\u003e\\u003cbr\\u003eRegion=Rajasthan\\u003cbr\\u003emonth=june\\u003cbr\\u003eEstimatedUnemploymentRate=%{marker.size}\\u003cbr\\u003elatitude=%{lat}\\u003cbr\\u003elongitude=%{lon}\\u003cextra\\u003e\\u003c\\u002fextra\\u003e\",\"hovertext\":[\"Rajasthan\"],\"lat\":[74.2179],\"legendgroup\":\"Rajasthan\",\"lon\":[27.0238],\"marker\":{\"color\":\"#FECB52\",\"size\":[14.39],\"sizemode\":\"area\",\"sizeref\":0.189625,\"symbol\":\"circle\"},\"mode\":\"markers\",\"name\":\"Rajasthan\",\"showlegend\":true,\"type\":\"scattergeo\"},{\"geo\":\"geo\",\"hovertemplate\":\"\\u003cb\\u003e%{hovertext}\\u003c\\u002fb\\u003e\\u003cbr\\u003e\\u003cbr\\u003eRegion=Sikkim\\u003cbr\\u003emonth=june\\u003cbr\\u003eEstimatedUnemploymentRate=%{marker.size}\\u003cbr\\u003elatitude=%{lat}\\u003cbr\\u003elongitude=%{lon}\\u003cextra\\u003e\\u003c\\u002fextra\\u003e\",\"hovertext\":[\"Sikkim\"],\"lat\":[88.5122],\"legendgroup\":\"Sikkim\",\"lon\":[27.533],\"marker\":{\"color\":\"#636efa\",\"size\":[4.46],\"sizemode\":\"area\",\"sizeref\":0.189625,\"symbol\":\"circle\"},\"mode\":\"markers\",\"name\":\"Sikkim\",\"showlegend\":true,\"type\":\"scattergeo\"},{\"geo\":\"geo\",\"hovertemplate\":\"\\u003cb\\u003e%{hovertext}\\u003c\\u002fb\\u003e\\u003cbr\\u003e\\u003cbr\\u003eRegion=Tamil Nadu\\u003cbr\\u003emonth=june\\u003cbr\\u003eEstimatedUnemploymentRate=%{marker.size}\\u003cbr\\u003elatitude=%{lat}\\u003cbr\\u003elongitude=%{lon}\\u003cextra\\u003e\\u003c\\u002fextra\\u003e\",\"hovertext\":[\"Tamil Nadu\"],\"lat\":[78.6569],\"legendgroup\":\"Tamil Nadu\",\"lon\":[11.1271],\"marker\":{\"color\":\"#EF553B\",\"size\":[12.2],\"sizemode\":\"area\",\"sizeref\":0.189625,\"symbol\":\"circle\"},\"mode\":\"markers\",\"name\":\"Tamil Nadu\",\"showlegend\":true,\"type\":\"scattergeo\"},{\"geo\":\"geo\",\"hovertemplate\":\"\\u003cb\\u003e%{hovertext}\\u003c\\u002fb\\u003e\\u003cbr\\u003e\\u003cbr\\u003eRegion=Telangana\\u003cbr\\u003emonth=june\\u003cbr\\u003eEstimatedUnemploymentRate=%{marker.size}\\u003cbr\\u003elatitude=%{lat}\\u003cbr\\u003elongitude=%{lon}\\u003cextra\\u003e\\u003c\\u002fextra\\u003e\",\"hovertext\":[\"Telangana\"],\"lat\":[79.0193],\"legendgroup\":\"Telangana\",\"lon\":[18.1124],\"marker\":{\"color\":\"#00cc96\",\"size\":[10.55],\"sizemode\":\"area\",\"sizeref\":0.189625,\"symbol\":\"circle\"},\"mode\":\"markers\",\"name\":\"Telangana\",\"showlegend\":true,\"type\":\"scattergeo\"},{\"geo\":\"geo\",\"hovertemplate\":\"\\u003cb\\u003e%{hovertext}\\u003c\\u002fb\\u003e\\u003cbr\\u003e\\u003cbr\\u003eRegion=Tripura\\u003cbr\\u003emonth=june\\u003cbr\\u003eEstimatedUnemploymentRate=%{marker.size}\\u003cbr\\u003elatitude=%{lat}\\u003cbr\\u003elongitude=%{lon}\\u003cextra\\u003e\\u003c\\u002fextra\\u003e\",\"hovertext\":[\"Tripura\"],\"lat\":[91.9882],\"legendgroup\":\"Tripura\",\"lon\":[23.9408],\"marker\":{\"color\":\"#ab63fa\",\"size\":[21.71],\"sizemode\":\"area\",\"sizeref\":0.189625,\"symbol\":\"circle\"},\"mode\":\"markers\",\"name\":\"Tripura\",\"showlegend\":true,\"type\":\"scattergeo\"},{\"geo\":\"geo\",\"hovertemplate\":\"\\u003cb\\u003e%{hovertext}\\u003c\\u002fb\\u003e\\u003cbr\\u003e\\u003cbr\\u003eRegion=Uttar Pradesh\\u003cbr\\u003emonth=june\\u003cbr\\u003eEstimatedUnemploymentRate=%{marker.size}\\u003cbr\\u003elatitude=%{lat}\\u003cbr\\u003elongitude=%{lon}\\u003cextra\\u003e\\u003c\\u002fextra\\u003e\",\"hovertext\":[\"Uttar Pradesh\"],\"lat\":[80.9462],\"legendgroup\":\"Uttar Pradesh\",\"lon\":[26.8467],\"marker\":{\"color\":\"#FFA15A\",\"size\":[9.47],\"sizemode\":\"area\",\"sizeref\":0.189625,\"symbol\":\"circle\"},\"mode\":\"markers\",\"name\":\"Uttar Pradesh\",\"showlegend\":true,\"type\":\"scattergeo\"},{\"geo\":\"geo\",\"hovertemplate\":\"\\u003cb\\u003e%{hovertext}\\u003c\\u002fb\\u003e\\u003cbr\\u003e\\u003cbr\\u003eRegion=Uttarakhand\\u003cbr\\u003emonth=june\\u003cbr\\u003eEstimatedUnemploymentRate=%{marker.size}\\u003cbr\\u003elatitude=%{lat}\\u003cbr\\u003elongitude=%{lon}\\u003cextra\\u003e\\u003c\\u002fextra\\u003e\",\"hovertext\":[\"Uttarakhand\"],\"lat\":[79.0193],\"legendgroup\":\"Uttarakhand\",\"lon\":[30.0668],\"marker\":{\"color\":\"#19d3f3\",\"size\":[8.61],\"sizemode\":\"area\",\"sizeref\":0.189625,\"symbol\":\"circle\"},\"mode\":\"markers\",\"name\":\"Uttarakhand\",\"showlegend\":true,\"type\":\"scattergeo\"},{\"geo\":\"geo\",\"hovertemplate\":\"\\u003cb\\u003e%{hovertext}\\u003c\\u002fb\\u003e\\u003cbr\\u003e\\u003cbr\\u003eRegion=West Bengal\\u003cbr\\u003emonth=june\\u003cbr\\u003eEstimatedUnemploymentRate=%{marker.size}\\u003cbr\\u003elatitude=%{lat}\\u003cbr\\u003elongitude=%{lon}\\u003cextra\\u003e\\u003c\\u002fextra\\u003e\",\"hovertext\":[\"West Bengal\"],\"lat\":[87.855],\"legendgroup\":\"West Bengal\",\"lon\":[22.9868],\"marker\":{\"color\":\"#FF6692\",\"size\":[7.29],\"sizemode\":\"area\",\"sizeref\":0.189625,\"symbol\":\"circle\"},\"mode\":\"markers\",\"name\":\"West Bengal\",\"showlegend\":true,\"type\":\"scattergeo\"}],\"name\":\"june\"},{\"data\":[{\"geo\":\"geo\",\"hovertemplate\":\"\\u003cb\\u003e%{hovertext}\\u003c\\u002fb\\u003e\\u003cbr\\u003e\\u003cbr\\u003eRegion=Andhra Pradesh\\u003cbr\\u003emonth=july\\u003cbr\\u003eEstimatedUnemploymentRate=%{marker.size}\\u003cbr\\u003elatitude=%{lat}\\u003cbr\\u003elongitude=%{lon}\\u003cextra\\u003e\\u003c\\u002fextra\\u003e\",\"hovertext\":[\"Andhra Pradesh\"],\"lat\":[79.74],\"legendgroup\":\"Andhra Pradesh\",\"lon\":[15.9129],\"marker\":{\"color\":\"#636efa\",\"size\":[8.34],\"sizemode\":\"area\",\"sizeref\":0.189625,\"symbol\":\"circle\"},\"mode\":\"markers\",\"name\":\"Andhra Pradesh\",\"showlegend\":true,\"type\":\"scattergeo\"},{\"geo\":\"geo\",\"hovertemplate\":\"\\u003cb\\u003e%{hovertext}\\u003c\\u002fb\\u003e\\u003cbr\\u003e\\u003cbr\\u003eRegion=Assam\\u003cbr\\u003emonth=july\\u003cbr\\u003eEstimatedUnemploymentRate=%{marker.size}\\u003cbr\\u003elatitude=%{lat}\\u003cbr\\u003elongitude=%{lon}\\u003cextra\\u003e\\u003c\\u002fextra\\u003e\",\"hovertext\":[\"Assam\"],\"lat\":[92.9376],\"legendgroup\":\"Assam\",\"lon\":[26.2006],\"marker\":{\"color\":\"#EF553B\",\"size\":[3.77],\"sizemode\":\"area\",\"sizeref\":0.189625,\"symbol\":\"circle\"},\"mode\":\"markers\",\"name\":\"Assam\",\"showlegend\":true,\"type\":\"scattergeo\"},{\"geo\":\"geo\",\"hovertemplate\":\"\\u003cb\\u003e%{hovertext}\\u003c\\u002fb\\u003e\\u003cbr\\u003e\\u003cbr\\u003eRegion=Bihar\\u003cbr\\u003emonth=july\\u003cbr\\u003eEstimatedUnemploymentRate=%{marker.size}\\u003cbr\\u003elatitude=%{lat}\\u003cbr\\u003elongitude=%{lon}\\u003cextra\\u003e\\u003c\\u002fextra\\u003e\",\"hovertext\":[\"Bihar\"],\"lat\":[85.3131],\"legendgroup\":\"Bihar\",\"lon\":[25.0961],\"marker\":{\"color\":\"#00cc96\",\"size\":[12.79],\"sizemode\":\"area\",\"sizeref\":0.189625,\"symbol\":\"circle\"},\"mode\":\"markers\",\"name\":\"Bihar\",\"showlegend\":true,\"type\":\"scattergeo\"},{\"geo\":\"geo\",\"hovertemplate\":\"\\u003cb\\u003e%{hovertext}\\u003c\\u002fb\\u003e\\u003cbr\\u003e\\u003cbr\\u003eRegion=Chhattisgarh\\u003cbr\\u003emonth=july\\u003cbr\\u003eEstimatedUnemploymentRate=%{marker.size}\\u003cbr\\u003elatitude=%{lat}\\u003cbr\\u003elongitude=%{lon}\\u003cextra\\u003e\\u003c\\u002fextra\\u003e\",\"hovertext\":[\"Chhattisgarh\"],\"lat\":[81.8661],\"legendgroup\":\"Chhattisgarh\",\"lon\":[21.2787],\"marker\":{\"color\":\"#ab63fa\",\"size\":[10.27],\"sizemode\":\"area\",\"sizeref\":0.189625,\"symbol\":\"circle\"},\"mode\":\"markers\",\"name\":\"Chhattisgarh\",\"showlegend\":true,\"type\":\"scattergeo\"},{\"geo\":\"geo\",\"hovertemplate\":\"\\u003cb\\u003e%{hovertext}\\u003c\\u002fb\\u003e\\u003cbr\\u003e\\u003cbr\\u003eRegion=Delhi\\u003cbr\\u003emonth=july\\u003cbr\\u003eEstimatedUnemploymentRate=%{marker.size}\\u003cbr\\u003elatitude=%{lat}\\u003cbr\\u003elongitude=%{lon}\\u003cextra\\u003e\\u003c\\u002fextra\\u003e\",\"hovertext\":[\"Delhi\"],\"lat\":[77.1025],\"legendgroup\":\"Delhi\",\"lon\":[28.7041],\"marker\":{\"color\":\"#FFA15A\",\"size\":[20.3],\"sizemode\":\"area\",\"sizeref\":0.189625,\"symbol\":\"circle\"},\"mode\":\"markers\",\"name\":\"Delhi\",\"showlegend\":true,\"type\":\"scattergeo\"},{\"geo\":\"geo\",\"hovertemplate\":\"\\u003cb\\u003e%{hovertext}\\u003c\\u002fb\\u003e\\u003cbr\\u003e\\u003cbr\\u003eRegion=Goa\\u003cbr\\u003emonth=july\\u003cbr\\u003eEstimatedUnemploymentRate=%{marker.size}\\u003cbr\\u003elatitude=%{lat}\\u003cbr\\u003elongitude=%{lon}\\u003cextra\\u003e\\u003c\\u002fextra\\u003e\",\"hovertext\":[\"Goa\"],\"lat\":[74.124],\"legendgroup\":\"Goa\",\"lon\":[15.2993],\"marker\":{\"color\":\"#19d3f3\",\"size\":[17.07],\"sizemode\":\"area\",\"sizeref\":0.189625,\"symbol\":\"circle\"},\"mode\":\"markers\",\"name\":\"Goa\",\"showlegend\":true,\"type\":\"scattergeo\"},{\"geo\":\"geo\",\"hovertemplate\":\"\\u003cb\\u003e%{hovertext}\\u003c\\u002fb\\u003e\\u003cbr\\u003e\\u003cbr\\u003eRegion=Gujarat\\u003cbr\\u003emonth=july\\u003cbr\\u003eEstimatedUnemploymentRate=%{marker.size}\\u003cbr\\u003elatitude=%{lat}\\u003cbr\\u003elongitude=%{lon}\\u003cextra\\u003e\\u003c\\u002fextra\\u003e\",\"hovertext\":[\"Gujarat\"],\"lat\":[71.1924],\"legendgroup\":\"Gujarat\",\"lon\":[22.2587],\"marker\":{\"color\":\"#FF6692\",\"size\":[1.84],\"sizemode\":\"area\",\"sizeref\":0.189625,\"symbol\":\"circle\"},\"mode\":\"markers\",\"name\":\"Gujarat\",\"showlegend\":true,\"type\":\"scattergeo\"},{\"geo\":\"geo\",\"hovertemplate\":\"\\u003cb\\u003e%{hovertext}\\u003c\\u002fb\\u003e\\u003cbr\\u003e\\u003cbr\\u003eRegion=Haryana\\u003cbr\\u003emonth=july\\u003cbr\\u003eEstimatedUnemploymentRate=%{marker.size}\\u003cbr\\u003elatitude=%{lat}\\u003cbr\\u003elongitude=%{lon}\\u003cextra\\u003e\\u003c\\u002fextra\\u003e\",\"hovertext\":[\"Haryana\"],\"lat\":[76.0856],\"legendgroup\":\"Haryana\",\"lon\":[29.0588],\"marker\":{\"color\":\"#B6E880\",\"size\":[24.18],\"sizemode\":\"area\",\"sizeref\":0.189625,\"symbol\":\"circle\"},\"mode\":\"markers\",\"name\":\"Haryana\",\"showlegend\":true,\"type\":\"scattergeo\"},{\"geo\":\"geo\",\"hovertemplate\":\"\\u003cb\\u003e%{hovertext}\\u003c\\u002fb\\u003e\\u003cbr\\u003e\\u003cbr\\u003eRegion=Himachal Pradesh\\u003cbr\\u003emonth=july\\u003cbr\\u003eEstimatedUnemploymentRate=%{marker.size}\\u003cbr\\u003elatitude=%{lat}\\u003cbr\\u003elongitude=%{lon}\\u003cextra\\u003e\\u003c\\u002fextra\\u003e\",\"hovertext\":[\"Himachal Pradesh\"],\"lat\":[77.1734],\"legendgroup\":\"Himachal Pradesh\",\"lon\":[31.1048],\"marker\":{\"color\":\"#FF97FF\",\"size\":[24.31],\"sizemode\":\"area\",\"sizeref\":0.189625,\"symbol\":\"circle\"},\"mode\":\"markers\",\"name\":\"Himachal Pradesh\",\"showlegend\":true,\"type\":\"scattergeo\"},{\"geo\":\"geo\",\"hovertemplate\":\"\\u003cb\\u003e%{hovertext}\\u003c\\u002fb\\u003e\\u003cbr\\u003e\\u003cbr\\u003eRegion=Jammu & Kashmir\\u003cbr\\u003emonth=july\\u003cbr\\u003eEstimatedUnemploymentRate=%{marker.size}\\u003cbr\\u003elatitude=%{lat}\\u003cbr\\u003elongitude=%{lon}\\u003cextra\\u003e\\u003c\\u002fextra\\u003e\",\"hovertext\":[\"Jammu & Kashmir\"],\"lat\":[76.5762],\"legendgroup\":\"Jammu & Kashmir\",\"lon\":[33.7782],\"marker\":{\"color\":\"#FECB52\",\"size\":[10.88],\"sizemode\":\"area\",\"sizeref\":0.189625,\"symbol\":\"circle\"},\"mode\":\"markers\",\"name\":\"Jammu & Kashmir\",\"showlegend\":true,\"type\":\"scattergeo\"},{\"geo\":\"geo\",\"hovertemplate\":\"\\u003cb\\u003e%{hovertext}\\u003c\\u002fb\\u003e\\u003cbr\\u003e\\u003cbr\\u003eRegion=Jharkhand\\u003cbr\\u003emonth=july\\u003cbr\\u003eEstimatedUnemploymentRate=%{marker.size}\\u003cbr\\u003elatitude=%{lat}\\u003cbr\\u003elongitude=%{lon}\\u003cextra\\u003e\\u003c\\u002fextra\\u003e\",\"hovertext\":[\"Jharkhand\"],\"lat\":[85.2799],\"legendgroup\":\"Jharkhand\",\"lon\":[23.6102],\"marker\":{\"color\":\"#636efa\",\"size\":[7.63],\"sizemode\":\"area\",\"sizeref\":0.189625,\"symbol\":\"circle\"},\"mode\":\"markers\",\"name\":\"Jharkhand\",\"showlegend\":true,\"type\":\"scattergeo\"},{\"geo\":\"geo\",\"hovertemplate\":\"\\u003cb\\u003e%{hovertext}\\u003c\\u002fb\\u003e\\u003cbr\\u003e\\u003cbr\\u003eRegion=Karnataka\\u003cbr\\u003emonth=july\\u003cbr\\u003eEstimatedUnemploymentRate=%{marker.size}\\u003cbr\\u003elatitude=%{lat}\\u003cbr\\u003elongitude=%{lon}\\u003cextra\\u003e\\u003c\\u002fextra\\u003e\",\"hovertext\":[\"Karnataka\"],\"lat\":[75.7139],\"legendgroup\":\"Karnataka\",\"lon\":[15.3173],\"marker\":{\"color\":\"#EF553B\",\"size\":[4.01],\"sizemode\":\"area\",\"sizeref\":0.189625,\"symbol\":\"circle\"},\"mode\":\"markers\",\"name\":\"Karnataka\",\"showlegend\":true,\"type\":\"scattergeo\"},{\"geo\":\"geo\",\"hovertemplate\":\"\\u003cb\\u003e%{hovertext}\\u003c\\u002fb\\u003e\\u003cbr\\u003e\\u003cbr\\u003eRegion=Kerala\\u003cbr\\u003emonth=july\\u003cbr\\u003eEstimatedUnemploymentRate=%{marker.size}\\u003cbr\\u003elatitude=%{lat}\\u003cbr\\u003elongitude=%{lon}\\u003cextra\\u003e\\u003c\\u002fextra\\u003e\",\"hovertext\":[\"Kerala\"],\"lat\":[76.2711],\"legendgroup\":\"Kerala\",\"lon\":[10.8505],\"marker\":{\"color\":\"#00cc96\",\"size\":[7.09],\"sizemode\":\"area\",\"sizeref\":0.189625,\"symbol\":\"circle\"},\"mode\":\"markers\",\"name\":\"Kerala\",\"showlegend\":true,\"type\":\"scattergeo\"},{\"geo\":\"geo\",\"hovertemplate\":\"\\u003cb\\u003e%{hovertext}\\u003c\\u002fb\\u003e\\u003cbr\\u003e\\u003cbr\\u003eRegion=Madhya Pradesh\\u003cbr\\u003emonth=july\\u003cbr\\u003eEstimatedUnemploymentRate=%{marker.size}\\u003cbr\\u003elatitude=%{lat}\\u003cbr\\u003elongitude=%{lon}\\u003cextra\\u003e\\u003c\\u002fextra\\u003e\",\"hovertext\":[\"Madhya Pradesh\"],\"lat\":[78.6569],\"legendgroup\":\"Madhya Pradesh\",\"lon\":[22.9734],\"marker\":{\"color\":\"#ab63fa\",\"size\":[5.08],\"sizemode\":\"area\",\"sizeref\":0.189625,\"symbol\":\"circle\"},\"mode\":\"markers\",\"name\":\"Madhya Pradesh\",\"showlegend\":true,\"type\":\"scattergeo\"},{\"geo\":\"geo\",\"hovertemplate\":\"\\u003cb\\u003e%{hovertext}\\u003c\\u002fb\\u003e\\u003cbr\\u003e\\u003cbr\\u003eRegion=Maharashtra\\u003cbr\\u003emonth=july\\u003cbr\\u003eEstimatedUnemploymentRate=%{marker.size}\\u003cbr\\u003elatitude=%{lat}\\u003cbr\\u003elongitude=%{lon}\\u003cextra\\u003e\\u003c\\u002fextra\\u003e\",\"hovertext\":[\"Maharashtra\"],\"lat\":[75.7139],\"legendgroup\":\"Maharashtra\",\"lon\":[19.7515],\"marker\":{\"color\":\"#FFA15A\",\"size\":[3.89],\"sizemode\":\"area\",\"sizeref\":0.189625,\"symbol\":\"circle\"},\"mode\":\"markers\",\"name\":\"Maharashtra\",\"showlegend\":true,\"type\":\"scattergeo\"},{\"geo\":\"geo\",\"hovertemplate\":\"\\u003cb\\u003e%{hovertext}\\u003c\\u002fb\\u003e\\u003cbr\\u003e\\u003cbr\\u003eRegion=Meghalaya\\u003cbr\\u003emonth=july\\u003cbr\\u003eEstimatedUnemploymentRate=%{marker.size}\\u003cbr\\u003elatitude=%{lat}\\u003cbr\\u003elongitude=%{lon}\\u003cextra\\u003e\\u003c\\u002fextra\\u003e\",\"hovertext\":[\"Meghalaya\"],\"lat\":[91.3662],\"legendgroup\":\"Meghalaya\",\"lon\":[25.467],\"marker\":{\"color\":\"#19d3f3\",\"size\":[2.1],\"sizemode\":\"area\",\"sizeref\":0.189625,\"symbol\":\"circle\"},\"mode\":\"markers\",\"name\":\"Meghalaya\",\"showlegend\":true,\"type\":\"scattergeo\"},{\"geo\":\"geo\",\"hovertemplate\":\"\\u003cb\\u003e%{hovertext}\\u003c\\u002fb\\u003e\\u003cbr\\u003e\\u003cbr\\u003eRegion=Odisha\\u003cbr\\u003emonth=july\\u003cbr\\u003eEstimatedUnemploymentRate=%{marker.size}\\u003cbr\\u003elatitude=%{lat}\\u003cbr\\u003elongitude=%{lon}\\u003cextra\\u003e\\u003c\\u002fextra\\u003e\",\"hovertext\":[\"Odisha\"],\"lat\":[85.0985],\"legendgroup\":\"Odisha\",\"lon\":[20.9517],\"marker\":{\"color\":\"#FF6692\",\"size\":[1.88],\"sizemode\":\"area\",\"sizeref\":0.189625,\"symbol\":\"circle\"},\"mode\":\"markers\",\"name\":\"Odisha\",\"showlegend\":true,\"type\":\"scattergeo\"},{\"geo\":\"geo\",\"hovertemplate\":\"\\u003cb\\u003e%{hovertext}\\u003c\\u002fb\\u003e\\u003cbr\\u003e\\u003cbr\\u003eRegion=Puducherry\\u003cbr\\u003emonth=july\\u003cbr\\u003eEstimatedUnemploymentRate=%{marker.size}\\u003cbr\\u003elatitude=%{lat}\\u003cbr\\u003elongitude=%{lon}\\u003cextra\\u003e\\u003c\\u002fextra\\u003e\",\"hovertext\":[\"Puducherry\"],\"lat\":[79.8083],\"legendgroup\":\"Puducherry\",\"lon\":[11.9416],\"marker\":{\"color\":\"#B6E880\",\"size\":[15.47],\"sizemode\":\"area\",\"sizeref\":0.189625,\"symbol\":\"circle\"},\"mode\":\"markers\",\"name\":\"Puducherry\",\"showlegend\":true,\"type\":\"scattergeo\"},{\"geo\":\"geo\",\"hovertemplate\":\"\\u003cb\\u003e%{hovertext}\\u003c\\u002fb\\u003e\\u003cbr\\u003e\\u003cbr\\u003eRegion=Punjab\\u003cbr\\u003emonth=july\\u003cbr\\u003eEstimatedUnemploymentRate=%{marker.size}\\u003cbr\\u003elatitude=%{lat}\\u003cbr\\u003elongitude=%{lon}\\u003cextra\\u003e\\u003c\\u002fextra\\u003e\",\"hovertext\":[\"Punjab\"],\"lat\":[75.3412],\"legendgroup\":\"Punjab\",\"lon\":[31.1471],\"marker\":{\"color\":\"#FF97FF\",\"size\":[9.19],\"sizemode\":\"area\",\"sizeref\":0.189625,\"symbol\":\"circle\"},\"mode\":\"markers\",\"name\":\"Punjab\",\"showlegend\":true,\"type\":\"scattergeo\"},{\"geo\":\"geo\",\"hovertemplate\":\"\\u003cb\\u003e%{hovertext}\\u003c\\u002fb\\u003e\\u003cbr\\u003e\\u003cbr\\u003eRegion=Rajasthan\\u003cbr\\u003emonth=july\\u003cbr\\u003eEstimatedUnemploymentRate=%{marker.size}\\u003cbr\\u003elatitude=%{lat}\\u003cbr\\u003elongitude=%{lon}\\u003cextra\\u003e\\u003c\\u002fextra\\u003e\",\"hovertext\":[\"Rajasthan\"],\"lat\":[74.2179],\"legendgroup\":\"Rajasthan\",\"lon\":[27.0238],\"marker\":{\"color\":\"#FECB52\",\"size\":[15.81],\"sizemode\":\"area\",\"sizeref\":0.189625,\"symbol\":\"circle\"},\"mode\":\"markers\",\"name\":\"Rajasthan\",\"showlegend\":true,\"type\":\"scattergeo\"},{\"geo\":\"geo\",\"hovertemplate\":\"\\u003cb\\u003e%{hovertext}\\u003c\\u002fb\\u003e\\u003cbr\\u003e\\u003cbr\\u003eRegion=Sikkim\\u003cbr\\u003emonth=july\\u003cbr\\u003eEstimatedUnemploymentRate=%{marker.size}\\u003cbr\\u003elatitude=%{lat}\\u003cbr\\u003elongitude=%{lon}\\u003cextra\\u003e\\u003c\\u002fextra\\u003e\",\"hovertext\":[\"Sikkim\"],\"lat\":[88.5122],\"legendgroup\":\"Sikkim\",\"lon\":[27.533],\"marker\":{\"color\":\"#636efa\",\"size\":[4.45],\"sizemode\":\"area\",\"sizeref\":0.189625,\"symbol\":\"circle\"},\"mode\":\"markers\",\"name\":\"Sikkim\",\"showlegend\":true,\"type\":\"scattergeo\"},{\"geo\":\"geo\",\"hovertemplate\":\"\\u003cb\\u003e%{hovertext}\\u003c\\u002fb\\u003e\\u003cbr\\u003e\\u003cbr\\u003eRegion=Tamil Nadu\\u003cbr\\u003emonth=july\\u003cbr\\u003eEstimatedUnemploymentRate=%{marker.size}\\u003cbr\\u003elatitude=%{lat}\\u003cbr\\u003elongitude=%{lon}\\u003cextra\\u003e\\u003c\\u002fextra\\u003e\",\"hovertext\":[\"Tamil Nadu\"],\"lat\":[78.6569],\"legendgroup\":\"Tamil Nadu\",\"lon\":[11.1271],\"marker\":{\"color\":\"#EF553B\",\"size\":[6.81],\"sizemode\":\"area\",\"sizeref\":0.189625,\"symbol\":\"circle\"},\"mode\":\"markers\",\"name\":\"Tamil Nadu\",\"showlegend\":true,\"type\":\"scattergeo\"},{\"geo\":\"geo\",\"hovertemplate\":\"\\u003cb\\u003e%{hovertext}\\u003c\\u002fb\\u003e\\u003cbr\\u003e\\u003cbr\\u003eRegion=Telangana\\u003cbr\\u003emonth=july\\u003cbr\\u003eEstimatedUnemploymentRate=%{marker.size}\\u003cbr\\u003elatitude=%{lat}\\u003cbr\\u003elongitude=%{lon}\\u003cextra\\u003e\\u003c\\u002fextra\\u003e\",\"hovertext\":[\"Telangana\"],\"lat\":[79.0193],\"legendgroup\":\"Telangana\",\"lon\":[18.1124],\"marker\":{\"color\":\"#00cc96\",\"size\":[5.36],\"sizemode\":\"area\",\"sizeref\":0.189625,\"symbol\":\"circle\"},\"mode\":\"markers\",\"name\":\"Telangana\",\"showlegend\":true,\"type\":\"scattergeo\"},{\"geo\":\"geo\",\"hovertemplate\":\"\\u003cb\\u003e%{hovertext}\\u003c\\u002fb\\u003e\\u003cbr\\u003e\\u003cbr\\u003eRegion=Tripura\\u003cbr\\u003emonth=july\\u003cbr\\u003eEstimatedUnemploymentRate=%{marker.size}\\u003cbr\\u003elatitude=%{lat}\\u003cbr\\u003elongitude=%{lon}\\u003cextra\\u003e\\u003c\\u002fextra\\u003e\",\"hovertext\":[\"Tripura\"],\"lat\":[91.9882],\"legendgroup\":\"Tripura\",\"lon\":[23.9408],\"marker\":{\"color\":\"#ab63fa\",\"size\":[18.24],\"sizemode\":\"area\",\"sizeref\":0.189625,\"symbol\":\"circle\"},\"mode\":\"markers\",\"name\":\"Tripura\",\"showlegend\":true,\"type\":\"scattergeo\"},{\"geo\":\"geo\",\"hovertemplate\":\"\\u003cb\\u003e%{hovertext}\\u003c\\u002fb\\u003e\\u003cbr\\u003e\\u003cbr\\u003eRegion=Uttar Pradesh\\u003cbr\\u003emonth=july\\u003cbr\\u003eEstimatedUnemploymentRate=%{marker.size}\\u003cbr\\u003elatitude=%{lat}\\u003cbr\\u003elongitude=%{lon}\\u003cextra\\u003e\\u003c\\u002fextra\\u003e\",\"hovertext\":[\"Uttar Pradesh\"],\"lat\":[80.9462],\"legendgroup\":\"Uttar Pradesh\",\"lon\":[26.8467],\"marker\":{\"color\":\"#FFA15A\",\"size\":[5.56],\"sizemode\":\"area\",\"sizeref\":0.189625,\"symbol\":\"circle\"},\"mode\":\"markers\",\"name\":\"Uttar Pradesh\",\"showlegend\":true,\"type\":\"scattergeo\"},{\"geo\":\"geo\",\"hovertemplate\":\"\\u003cb\\u003e%{hovertext}\\u003c\\u002fb\\u003e\\u003cbr\\u003e\\u003cbr\\u003eRegion=Uttarakhand\\u003cbr\\u003emonth=july\\u003cbr\\u003eEstimatedUnemploymentRate=%{marker.size}\\u003cbr\\u003elatitude=%{lat}\\u003cbr\\u003elongitude=%{lon}\\u003cextra\\u003e\\u003c\\u002fextra\\u003e\",\"hovertext\":[\"Uttarakhand\"],\"lat\":[79.0193],\"legendgroup\":\"Uttarakhand\",\"lon\":[30.0668],\"marker\":{\"color\":\"#19d3f3\",\"size\":[12.38],\"sizemode\":\"area\",\"sizeref\":0.189625,\"symbol\":\"circle\"},\"mode\":\"markers\",\"name\":\"Uttarakhand\",\"showlegend\":true,\"type\":\"scattergeo\"},{\"geo\":\"geo\",\"hovertemplate\":\"\\u003cb\\u003e%{hovertext}\\u003c\\u002fb\\u003e\\u003cbr\\u003e\\u003cbr\\u003eRegion=West Bengal\\u003cbr\\u003emonth=july\\u003cbr\\u003eEstimatedUnemploymentRate=%{marker.size}\\u003cbr\\u003elatitude=%{lat}\\u003cbr\\u003elongitude=%{lon}\\u003cextra\\u003e\\u003c\\u002fextra\\u003e\",\"hovertext\":[\"West Bengal\"],\"lat\":[87.855],\"legendgroup\":\"West Bengal\",\"lon\":[22.9868],\"marker\":{\"color\":\"#FF6692\",\"size\":[6.83],\"sizemode\":\"area\",\"sizeref\":0.189625,\"symbol\":\"circle\"},\"mode\":\"markers\",\"name\":\"West Bengal\",\"showlegend\":true,\"type\":\"scattergeo\"}],\"name\":\"july\"},{\"data\":[{\"geo\":\"geo\",\"hovertemplate\":\"\\u003cb\\u003e%{hovertext}\\u003c\\u002fb\\u003e\\u003cbr\\u003e\\u003cbr\\u003eRegion=Andhra Pradesh\\u003cbr\\u003emonth=august\\u003cbr\\u003eEstimatedUnemploymentRate=%{marker.size}\\u003cbr\\u003elatitude=%{lat}\\u003cbr\\u003elongitude=%{lon}\\u003cextra\\u003e\\u003c\\u002fextra\\u003e\",\"hovertext\":[\"Andhra Pradesh\"],\"lat\":[79.74],\"legendgroup\":\"Andhra Pradesh\",\"lon\":[15.9129],\"marker\":{\"color\":\"#636efa\",\"size\":[6.96],\"sizemode\":\"area\",\"sizeref\":0.189625,\"symbol\":\"circle\"},\"mode\":\"markers\",\"name\":\"Andhra Pradesh\",\"showlegend\":true,\"type\":\"scattergeo\"},{\"geo\":\"geo\",\"hovertemplate\":\"\\u003cb\\u003e%{hovertext}\\u003c\\u002fb\\u003e\\u003cbr\\u003e\\u003cbr\\u003eRegion=Assam\\u003cbr\\u003emonth=august\\u003cbr\\u003eEstimatedUnemploymentRate=%{marker.size}\\u003cbr\\u003elatitude=%{lat}\\u003cbr\\u003elongitude=%{lon}\\u003cextra\\u003e\\u003c\\u002fextra\\u003e\",\"hovertext\":[\"Assam\"],\"lat\":[92.9376],\"legendgroup\":\"Assam\",\"lon\":[26.2006],\"marker\":{\"color\":\"#EF553B\",\"size\":[5.53],\"sizemode\":\"area\",\"sizeref\":0.189625,\"symbol\":\"circle\"},\"mode\":\"markers\",\"name\":\"Assam\",\"showlegend\":true,\"type\":\"scattergeo\"},{\"geo\":\"geo\",\"hovertemplate\":\"\\u003cb\\u003e%{hovertext}\\u003c\\u002fb\\u003e\\u003cbr\\u003e\\u003cbr\\u003eRegion=Bihar\\u003cbr\\u003emonth=august\\u003cbr\\u003eEstimatedUnemploymentRate=%{marker.size}\\u003cbr\\u003elatitude=%{lat}\\u003cbr\\u003elongitude=%{lon}\\u003cextra\\u003e\\u003c\\u002fextra\\u003e\",\"hovertext\":[\"Bihar\"],\"lat\":[85.3131],\"legendgroup\":\"Bihar\",\"lon\":[25.0961],\"marker\":{\"color\":\"#00cc96\",\"size\":[13.44],\"sizemode\":\"area\",\"sizeref\":0.189625,\"symbol\":\"circle\"},\"mode\":\"markers\",\"name\":\"Bihar\",\"showlegend\":true,\"type\":\"scattergeo\"},{\"geo\":\"geo\",\"hovertemplate\":\"\\u003cb\\u003e%{hovertext}\\u003c\\u002fb\\u003e\\u003cbr\\u003e\\u003cbr\\u003eRegion=Chhattisgarh\\u003cbr\\u003emonth=august\\u003cbr\\u003eEstimatedUnemploymentRate=%{marker.size}\\u003cbr\\u003elatitude=%{lat}\\u003cbr\\u003elongitude=%{lon}\\u003cextra\\u003e\\u003c\\u002fextra\\u003e\",\"hovertext\":[\"Chhattisgarh\"],\"lat\":[81.8661],\"legendgroup\":\"Chhattisgarh\",\"lon\":[21.2787],\"marker\":{\"color\":\"#ab63fa\",\"size\":[5.63],\"sizemode\":\"area\",\"sizeref\":0.189625,\"symbol\":\"circle\"},\"mode\":\"markers\",\"name\":\"Chhattisgarh\",\"showlegend\":true,\"type\":\"scattergeo\"},{\"geo\":\"geo\",\"hovertemplate\":\"\\u003cb\\u003e%{hovertext}\\u003c\\u002fb\\u003e\\u003cbr\\u003e\\u003cbr\\u003eRegion=Delhi\\u003cbr\\u003emonth=august\\u003cbr\\u003eEstimatedUnemploymentRate=%{marker.size}\\u003cbr\\u003elatitude=%{lat}\\u003cbr\\u003elongitude=%{lon}\\u003cextra\\u003e\\u003c\\u002fextra\\u003e\",\"hovertext\":[\"Delhi\"],\"lat\":[77.1025],\"legendgroup\":\"Delhi\",\"lon\":[28.7041],\"marker\":{\"color\":\"#FFA15A\",\"size\":[13.79],\"sizemode\":\"area\",\"sizeref\":0.189625,\"symbol\":\"circle\"},\"mode\":\"markers\",\"name\":\"Delhi\",\"showlegend\":true,\"type\":\"scattergeo\"},{\"geo\":\"geo\",\"hovertemplate\":\"\\u003cb\\u003e%{hovertext}\\u003c\\u002fb\\u003e\\u003cbr\\u003e\\u003cbr\\u003eRegion=Goa\\u003cbr\\u003emonth=august\\u003cbr\\u003eEstimatedUnemploymentRate=%{marker.size}\\u003cbr\\u003elatitude=%{lat}\\u003cbr\\u003elongitude=%{lon}\\u003cextra\\u003e\\u003c\\u002fextra\\u003e\",\"hovertext\":[\"Goa\"],\"lat\":[74.124],\"legendgroup\":\"Goa\",\"lon\":[15.2993],\"marker\":{\"color\":\"#19d3f3\",\"size\":[16.21],\"sizemode\":\"area\",\"sizeref\":0.189625,\"symbol\":\"circle\"},\"mode\":\"markers\",\"name\":\"Goa\",\"showlegend\":true,\"type\":\"scattergeo\"},{\"geo\":\"geo\",\"hovertemplate\":\"\\u003cb\\u003e%{hovertext}\\u003c\\u002fb\\u003e\\u003cbr\\u003e\\u003cbr\\u003eRegion=Gujarat\\u003cbr\\u003emonth=august\\u003cbr\\u003eEstimatedUnemploymentRate=%{marker.size}\\u003cbr\\u003elatitude=%{lat}\\u003cbr\\u003elongitude=%{lon}\\u003cextra\\u003e\\u003c\\u002fextra\\u003e\",\"hovertext\":[\"Gujarat\"],\"lat\":[71.1924],\"legendgroup\":\"Gujarat\",\"lon\":[22.2587],\"marker\":{\"color\":\"#FF6692\",\"size\":[1.87],\"sizemode\":\"area\",\"sizeref\":0.189625,\"symbol\":\"circle\"},\"mode\":\"markers\",\"name\":\"Gujarat\",\"showlegend\":true,\"type\":\"scattergeo\"},{\"geo\":\"geo\",\"hovertemplate\":\"\\u003cb\\u003e%{hovertext}\\u003c\\u002fb\\u003e\\u003cbr\\u003e\\u003cbr\\u003eRegion=Haryana\\u003cbr\\u003emonth=august\\u003cbr\\u003eEstimatedUnemploymentRate=%{marker.size}\\u003cbr\\u003elatitude=%{lat}\\u003cbr\\u003elongitude=%{lon}\\u003cextra\\u003e\\u003c\\u002fextra\\u003e\",\"hovertext\":[\"Haryana\"],\"lat\":[76.0856],\"legendgroup\":\"Haryana\",\"lon\":[29.0588],\"marker\":{\"color\":\"#B6E880\",\"size\":[33.5],\"sizemode\":\"area\",\"sizeref\":0.189625,\"symbol\":\"circle\"},\"mode\":\"markers\",\"name\":\"Haryana\",\"showlegend\":true,\"type\":\"scattergeo\"},{\"geo\":\"geo\",\"hovertemplate\":\"\\u003cb\\u003e%{hovertext}\\u003c\\u002fb\\u003e\\u003cbr\\u003e\\u003cbr\\u003eRegion=Himachal Pradesh\\u003cbr\\u003emonth=august\\u003cbr\\u003eEstimatedUnemploymentRate=%{marker.size}\\u003cbr\\u003elatitude=%{lat}\\u003cbr\\u003elongitude=%{lon}\\u003cextra\\u003e\\u003c\\u002fextra\\u003e\",\"hovertext\":[\"Himachal Pradesh\"],\"lat\":[77.1734],\"legendgroup\":\"Himachal Pradesh\",\"lon\":[31.1048],\"marker\":{\"color\":\"#FF97FF\",\"size\":[15.79],\"sizemode\":\"area\",\"sizeref\":0.189625,\"symbol\":\"circle\"},\"mode\":\"markers\",\"name\":\"Himachal Pradesh\",\"showlegend\":true,\"type\":\"scattergeo\"},{\"geo\":\"geo\",\"hovertemplate\":\"\\u003cb\\u003e%{hovertext}\\u003c\\u002fb\\u003e\\u003cbr\\u003e\\u003cbr\\u003eRegion=Jammu & Kashmir\\u003cbr\\u003emonth=august\\u003cbr\\u003eEstimatedUnemploymentRate=%{marker.size}\\u003cbr\\u003elatitude=%{lat}\\u003cbr\\u003elongitude=%{lon}\\u003cextra\\u003e\\u003c\\u002fextra\\u003e\",\"hovertext\":[\"Jammu & Kashmir\"],\"lat\":[76.5762],\"legendgroup\":\"Jammu & Kashmir\",\"lon\":[33.7782],\"marker\":{\"color\":\"#FECB52\",\"size\":[11.09],\"sizemode\":\"area\",\"sizeref\":0.189625,\"symbol\":\"circle\"},\"mode\":\"markers\",\"name\":\"Jammu & Kashmir\",\"showlegend\":true,\"type\":\"scattergeo\"},{\"geo\":\"geo\",\"hovertemplate\":\"\\u003cb\\u003e%{hovertext}\\u003c\\u002fb\\u003e\\u003cbr\\u003e\\u003cbr\\u003eRegion=Jharkhand\\u003cbr\\u003emonth=august\\u003cbr\\u003eEstimatedUnemploymentRate=%{marker.size}\\u003cbr\\u003elatitude=%{lat}\\u003cbr\\u003elongitude=%{lon}\\u003cextra\\u003e\\u003c\\u002fextra\\u003e\",\"hovertext\":[\"Jharkhand\"],\"lat\":[85.2799],\"legendgroup\":\"Jharkhand\",\"lon\":[23.6102],\"marker\":{\"color\":\"#636efa\",\"size\":[9.76],\"sizemode\":\"area\",\"sizeref\":0.189625,\"symbol\":\"circle\"},\"mode\":\"markers\",\"name\":\"Jharkhand\",\"showlegend\":true,\"type\":\"scattergeo\"},{\"geo\":\"geo\",\"hovertemplate\":\"\\u003cb\\u003e%{hovertext}\\u003c\\u002fb\\u003e\\u003cbr\\u003e\\u003cbr\\u003eRegion=Karnataka\\u003cbr\\u003emonth=august\\u003cbr\\u003eEstimatedUnemploymentRate=%{marker.size}\\u003cbr\\u003elatitude=%{lat}\\u003cbr\\u003elongitude=%{lon}\\u003cextra\\u003e\\u003c\\u002fextra\\u003e\",\"hovertext\":[\"Karnataka\"],\"lat\":[75.7139],\"legendgroup\":\"Karnataka\",\"lon\":[15.3173],\"marker\":{\"color\":\"#EF553B\",\"size\":[0.5],\"sizemode\":\"area\",\"sizeref\":0.189625,\"symbol\":\"circle\"},\"mode\":\"markers\",\"name\":\"Karnataka\",\"showlegend\":true,\"type\":\"scattergeo\"},{\"geo\":\"geo\",\"hovertemplate\":\"\\u003cb\\u003e%{hovertext}\\u003c\\u002fb\\u003e\\u003cbr\\u003e\\u003cbr\\u003eRegion=Kerala\\u003cbr\\u003emonth=august\\u003cbr\\u003eEstimatedUnemploymentRate=%{marker.size}\\u003cbr\\u003elatitude=%{lat}\\u003cbr\\u003elongitude=%{lon}\\u003cextra\\u003e\\u003c\\u002fextra\\u003e\",\"hovertext\":[\"Kerala\"],\"lat\":[76.2711],\"legendgroup\":\"Kerala\",\"lon\":[10.8505],\"marker\":{\"color\":\"#00cc96\",\"size\":[10.98],\"sizemode\":\"area\",\"sizeref\":0.189625,\"symbol\":\"circle\"},\"mode\":\"markers\",\"name\":\"Kerala\",\"showlegend\":true,\"type\":\"scattergeo\"},{\"geo\":\"geo\",\"hovertemplate\":\"\\u003cb\\u003e%{hovertext}\\u003c\\u002fb\\u003e\\u003cbr\\u003e\\u003cbr\\u003eRegion=Madhya Pradesh\\u003cbr\\u003emonth=august\\u003cbr\\u003eEstimatedUnemploymentRate=%{marker.size}\\u003cbr\\u003elatitude=%{lat}\\u003cbr\\u003elongitude=%{lon}\\u003cextra\\u003e\\u003c\\u002fextra\\u003e\",\"hovertext\":[\"Madhya Pradesh\"],\"lat\":[78.6569],\"legendgroup\":\"Madhya Pradesh\",\"lon\":[22.9734],\"marker\":{\"color\":\"#ab63fa\",\"size\":[4.7],\"sizemode\":\"area\",\"sizeref\":0.189625,\"symbol\":\"circle\"},\"mode\":\"markers\",\"name\":\"Madhya Pradesh\",\"showlegend\":true,\"type\":\"scattergeo\"},{\"geo\":\"geo\",\"hovertemplate\":\"\\u003cb\\u003e%{hovertext}\\u003c\\u002fb\\u003e\\u003cbr\\u003e\\u003cbr\\u003eRegion=Maharashtra\\u003cbr\\u003emonth=august\\u003cbr\\u003eEstimatedUnemploymentRate=%{marker.size}\\u003cbr\\u003elatitude=%{lat}\\u003cbr\\u003elongitude=%{lon}\\u003cextra\\u003e\\u003c\\u002fextra\\u003e\",\"hovertext\":[\"Maharashtra\"],\"lat\":[75.7139],\"legendgroup\":\"Maharashtra\",\"lon\":[19.7515],\"marker\":{\"color\":\"#FFA15A\",\"size\":[6.23],\"sizemode\":\"area\",\"sizeref\":0.189625,\"symbol\":\"circle\"},\"mode\":\"markers\",\"name\":\"Maharashtra\",\"showlegend\":true,\"type\":\"scattergeo\"},{\"geo\":\"geo\",\"hovertemplate\":\"\\u003cb\\u003e%{hovertext}\\u003c\\u002fb\\u003e\\u003cbr\\u003e\\u003cbr\\u003eRegion=Meghalaya\\u003cbr\\u003emonth=august\\u003cbr\\u003eEstimatedUnemploymentRate=%{marker.size}\\u003cbr\\u003elatitude=%{lat}\\u003cbr\\u003elongitude=%{lon}\\u003cextra\\u003e\\u003c\\u002fextra\\u003e\",\"hovertext\":[\"Meghalaya\"],\"lat\":[91.3662],\"legendgroup\":\"Meghalaya\",\"lon\":[25.467],\"marker\":{\"color\":\"#19d3f3\",\"size\":[3.74],\"sizemode\":\"area\",\"sizeref\":0.189625,\"symbol\":\"circle\"},\"mode\":\"markers\",\"name\":\"Meghalaya\",\"showlegend\":true,\"type\":\"scattergeo\"},{\"geo\":\"geo\",\"hovertemplate\":\"\\u003cb\\u003e%{hovertext}\\u003c\\u002fb\\u003e\\u003cbr\\u003e\\u003cbr\\u003eRegion=Odisha\\u003cbr\\u003emonth=august\\u003cbr\\u003eEstimatedUnemploymentRate=%{marker.size}\\u003cbr\\u003elatitude=%{lat}\\u003cbr\\u003elongitude=%{lon}\\u003cextra\\u003e\\u003c\\u002fextra\\u003e\",\"hovertext\":[\"Odisha\"],\"lat\":[85.0985],\"legendgroup\":\"Odisha\",\"lon\":[20.9517],\"marker\":{\"color\":\"#FF6692\",\"size\":[1.42],\"sizemode\":\"area\",\"sizeref\":0.189625,\"symbol\":\"circle\"},\"mode\":\"markers\",\"name\":\"Odisha\",\"showlegend\":true,\"type\":\"scattergeo\"},{\"geo\":\"geo\",\"hovertemplate\":\"\\u003cb\\u003e%{hovertext}\\u003c\\u002fb\\u003e\\u003cbr\\u003e\\u003cbr\\u003eRegion=Puducherry\\u003cbr\\u003emonth=august\\u003cbr\\u003eEstimatedUnemploymentRate=%{marker.size}\\u003cbr\\u003elatitude=%{lat}\\u003cbr\\u003elongitude=%{lon}\\u003cextra\\u003e\\u003c\\u002fextra\\u003e\",\"hovertext\":[\"Puducherry\"],\"lat\":[79.8083],\"legendgroup\":\"Puducherry\",\"lon\":[11.9416],\"marker\":{\"color\":\"#B6E880\",\"size\":[5.05],\"sizemode\":\"area\",\"sizeref\":0.189625,\"symbol\":\"circle\"},\"mode\":\"markers\",\"name\":\"Puducherry\",\"showlegend\":true,\"type\":\"scattergeo\"},{\"geo\":\"geo\",\"hovertemplate\":\"\\u003cb\\u003e%{hovertext}\\u003c\\u002fb\\u003e\\u003cbr\\u003e\\u003cbr\\u003eRegion=Punjab\\u003cbr\\u003emonth=august\\u003cbr\\u003eEstimatedUnemploymentRate=%{marker.size}\\u003cbr\\u003elatitude=%{lat}\\u003cbr\\u003elongitude=%{lon}\\u003cextra\\u003e\\u003c\\u002fextra\\u003e\",\"hovertext\":[\"Punjab\"],\"lat\":[75.3412],\"legendgroup\":\"Punjab\",\"lon\":[31.1471],\"marker\":{\"color\":\"#FF97FF\",\"size\":[10.99],\"sizemode\":\"area\",\"sizeref\":0.189625,\"symbol\":\"circle\"},\"mode\":\"markers\",\"name\":\"Punjab\",\"showlegend\":true,\"type\":\"scattergeo\"},{\"geo\":\"geo\",\"hovertemplate\":\"\\u003cb\\u003e%{hovertext}\\u003c\\u002fb\\u003e\\u003cbr\\u003e\\u003cbr\\u003eRegion=Rajasthan\\u003cbr\\u003emonth=august\\u003cbr\\u003eEstimatedUnemploymentRate=%{marker.size}\\u003cbr\\u003elatitude=%{lat}\\u003cbr\\u003elongitude=%{lon}\\u003cextra\\u003e\\u003c\\u002fextra\\u003e\",\"hovertext\":[\"Rajasthan\"],\"lat\":[74.2179],\"legendgroup\":\"Rajasthan\",\"lon\":[27.0238],\"marker\":{\"color\":\"#FECB52\",\"size\":[17.51],\"sizemode\":\"area\",\"sizeref\":0.189625,\"symbol\":\"circle\"},\"mode\":\"markers\",\"name\":\"Rajasthan\",\"showlegend\":true,\"type\":\"scattergeo\"},{\"geo\":\"geo\",\"hovertemplate\":\"\\u003cb\\u003e%{hovertext}\\u003c\\u002fb\\u003e\\u003cbr\\u003e\\u003cbr\\u003eRegion=Sikkim\\u003cbr\\u003emonth=august\\u003cbr\\u003eEstimatedUnemploymentRate=%{marker.size}\\u003cbr\\u003elatitude=%{lat}\\u003cbr\\u003elongitude=%{lon}\\u003cextra\\u003e\\u003c\\u002fextra\\u003e\",\"hovertext\":[\"Sikkim\"],\"lat\":[88.5122],\"legendgroup\":\"Sikkim\",\"lon\":[27.533],\"marker\":{\"color\":\"#636efa\",\"size\":[12.49],\"sizemode\":\"area\",\"sizeref\":0.189625,\"symbol\":\"circle\"},\"mode\":\"markers\",\"name\":\"Sikkim\",\"showlegend\":true,\"type\":\"scattergeo\"},{\"geo\":\"geo\",\"hovertemplate\":\"\\u003cb\\u003e%{hovertext}\\u003c\\u002fb\\u003e\\u003cbr\\u003e\\u003cbr\\u003eRegion=Tamil Nadu\\u003cbr\\u003emonth=august\\u003cbr\\u003eEstimatedUnemploymentRate=%{marker.size}\\u003cbr\\u003elatitude=%{lat}\\u003cbr\\u003elongitude=%{lon}\\u003cextra\\u003e\\u003c\\u002fextra\\u003e\",\"hovertext\":[\"Tamil Nadu\"],\"lat\":[78.6569],\"legendgroup\":\"Tamil Nadu\",\"lon\":[11.1271],\"marker\":{\"color\":\"#EF553B\",\"size\":[2.65],\"sizemode\":\"area\",\"sizeref\":0.189625,\"symbol\":\"circle\"},\"mode\":\"markers\",\"name\":\"Tamil Nadu\",\"showlegend\":true,\"type\":\"scattergeo\"},{\"geo\":\"geo\",\"hovertemplate\":\"\\u003cb\\u003e%{hovertext}\\u003c\\u002fb\\u003e\\u003cbr\\u003e\\u003cbr\\u003eRegion=Telangana\\u003cbr\\u003emonth=august\\u003cbr\\u003eEstimatedUnemploymentRate=%{marker.size}\\u003cbr\\u003elatitude=%{lat}\\u003cbr\\u003elongitude=%{lon}\\u003cextra\\u003e\\u003c\\u002fextra\\u003e\",\"hovertext\":[\"Telangana\"],\"lat\":[79.0193],\"legendgroup\":\"Telangana\",\"lon\":[18.1124],\"marker\":{\"color\":\"#00cc96\",\"size\":[5.79],\"sizemode\":\"area\",\"sizeref\":0.189625,\"symbol\":\"circle\"},\"mode\":\"markers\",\"name\":\"Telangana\",\"showlegend\":true,\"type\":\"scattergeo\"},{\"geo\":\"geo\",\"hovertemplate\":\"\\u003cb\\u003e%{hovertext}\\u003c\\u002fb\\u003e\\u003cbr\\u003e\\u003cbr\\u003eRegion=Tripura\\u003cbr\\u003emonth=august\\u003cbr\\u003eEstimatedUnemploymentRate=%{marker.size}\\u003cbr\\u003elatitude=%{lat}\\u003cbr\\u003elongitude=%{lon}\\u003cextra\\u003e\\u003c\\u002fextra\\u003e\",\"hovertext\":[\"Tripura\"],\"lat\":[91.9882],\"legendgroup\":\"Tripura\",\"lon\":[23.9408],\"marker\":{\"color\":\"#ab63fa\",\"size\":[27.92],\"sizemode\":\"area\",\"sizeref\":0.189625,\"symbol\":\"circle\"},\"mode\":\"markers\",\"name\":\"Tripura\",\"showlegend\":true,\"type\":\"scattergeo\"},{\"geo\":\"geo\",\"hovertemplate\":\"\\u003cb\\u003e%{hovertext}\\u003c\\u002fb\\u003e\\u003cbr\\u003e\\u003cbr\\u003eRegion=Uttar Pradesh\\u003cbr\\u003emonth=august\\u003cbr\\u003eEstimatedUnemploymentRate=%{marker.size}\\u003cbr\\u003elatitude=%{lat}\\u003cbr\\u003elongitude=%{lon}\\u003cextra\\u003e\\u003c\\u002fextra\\u003e\",\"hovertext\":[\"Uttar Pradesh\"],\"lat\":[80.9462],\"legendgroup\":\"Uttar Pradesh\",\"lon\":[26.8467],\"marker\":{\"color\":\"#FFA15A\",\"size\":[5.79],\"sizemode\":\"area\",\"sizeref\":0.189625,\"symbol\":\"circle\"},\"mode\":\"markers\",\"name\":\"Uttar Pradesh\",\"showlegend\":true,\"type\":\"scattergeo\"},{\"geo\":\"geo\",\"hovertemplate\":\"\\u003cb\\u003e%{hovertext}\\u003c\\u002fb\\u003e\\u003cbr\\u003e\\u003cbr\\u003eRegion=Uttarakhand\\u003cbr\\u003emonth=august\\u003cbr\\u003eEstimatedUnemploymentRate=%{marker.size}\\u003cbr\\u003elatitude=%{lat}\\u003cbr\\u003elongitude=%{lon}\\u003cextra\\u003e\\u003c\\u002fextra\\u003e\",\"hovertext\":[\"Uttarakhand\"],\"lat\":[79.0193],\"legendgroup\":\"Uttarakhand\",\"lon\":[30.0668],\"marker\":{\"color\":\"#19d3f3\",\"size\":[14.26],\"sizemode\":\"area\",\"sizeref\":0.189625,\"symbol\":\"circle\"},\"mode\":\"markers\",\"name\":\"Uttarakhand\",\"showlegend\":true,\"type\":\"scattergeo\"},{\"geo\":\"geo\",\"hovertemplate\":\"\\u003cb\\u003e%{hovertext}\\u003c\\u002fb\\u003e\\u003cbr\\u003e\\u003cbr\\u003eRegion=West Bengal\\u003cbr\\u003emonth=august\\u003cbr\\u003eEstimatedUnemploymentRate=%{marker.size}\\u003cbr\\u003elatitude=%{lat}\\u003cbr\\u003elongitude=%{lon}\\u003cextra\\u003e\\u003c\\u002fextra\\u003e\",\"hovertext\":[\"West Bengal\"],\"lat\":[87.855],\"legendgroup\":\"West Bengal\",\"lon\":[22.9868],\"marker\":{\"color\":\"#FF6692\",\"size\":[14.87],\"sizemode\":\"area\",\"sizeref\":0.189625,\"symbol\":\"circle\"},\"mode\":\"markers\",\"name\":\"West Bengal\",\"showlegend\":true,\"type\":\"scattergeo\"}],\"name\":\"august\"},{\"data\":[{\"geo\":\"geo\",\"hovertemplate\":\"\\u003cb\\u003e%{hovertext}\\u003c\\u002fb\\u003e\\u003cbr\\u003e\\u003cbr\\u003eRegion=Andhra Pradesh\\u003cbr\\u003emonth=september\\u003cbr\\u003eEstimatedUnemploymentRate=%{marker.size}\\u003cbr\\u003elatitude=%{lat}\\u003cbr\\u003elongitude=%{lon}\\u003cextra\\u003e\\u003c\\u002fextra\\u003e\",\"hovertext\":[\"Andhra Pradesh\"],\"lat\":[79.74],\"legendgroup\":\"Andhra Pradesh\",\"lon\":[15.9129],\"marker\":{\"color\":\"#636efa\",\"size\":[6.4],\"sizemode\":\"area\",\"sizeref\":0.189625,\"symbol\":\"circle\"},\"mode\":\"markers\",\"name\":\"Andhra Pradesh\",\"showlegend\":true,\"type\":\"scattergeo\"},{\"geo\":\"geo\",\"hovertemplate\":\"\\u003cb\\u003e%{hovertext}\\u003c\\u002fb\\u003e\\u003cbr\\u003e\\u003cbr\\u003eRegion=Assam\\u003cbr\\u003emonth=september\\u003cbr\\u003eEstimatedUnemploymentRate=%{marker.size}\\u003cbr\\u003elatitude=%{lat}\\u003cbr\\u003elongitude=%{lon}\\u003cextra\\u003e\\u003c\\u002fextra\\u003e\",\"hovertext\":[\"Assam\"],\"lat\":[92.9376],\"legendgroup\":\"Assam\",\"lon\":[26.2006],\"marker\":{\"color\":\"#EF553B\",\"size\":[1.19],\"sizemode\":\"area\",\"sizeref\":0.189625,\"symbol\":\"circle\"},\"mode\":\"markers\",\"name\":\"Assam\",\"showlegend\":true,\"type\":\"scattergeo\"},{\"geo\":\"geo\",\"hovertemplate\":\"\\u003cb\\u003e%{hovertext}\\u003c\\u002fb\\u003e\\u003cbr\\u003e\\u003cbr\\u003eRegion=Bihar\\u003cbr\\u003emonth=september\\u003cbr\\u003eEstimatedUnemploymentRate=%{marker.size}\\u003cbr\\u003elatitude=%{lat}\\u003cbr\\u003elongitude=%{lon}\\u003cextra\\u003e\\u003c\\u002fextra\\u003e\",\"hovertext\":[\"Bihar\"],\"lat\":[85.3131],\"legendgroup\":\"Bihar\",\"lon\":[25.0961],\"marker\":{\"color\":\"#00cc96\",\"size\":[11.91],\"sizemode\":\"area\",\"sizeref\":0.189625,\"symbol\":\"circle\"},\"mode\":\"markers\",\"name\":\"Bihar\",\"showlegend\":true,\"type\":\"scattergeo\"},{\"geo\":\"geo\",\"hovertemplate\":\"\\u003cb\\u003e%{hovertext}\\u003c\\u002fb\\u003e\\u003cbr\\u003e\\u003cbr\\u003eRegion=Chhattisgarh\\u003cbr\\u003emonth=september\\u003cbr\\u003eEstimatedUnemploymentRate=%{marker.size}\\u003cbr\\u003elatitude=%{lat}\\u003cbr\\u003elongitude=%{lon}\\u003cextra\\u003e\\u003c\\u002fextra\\u003e\",\"hovertext\":[\"Chhattisgarh\"],\"lat\":[81.8661],\"legendgroup\":\"Chhattisgarh\",\"lon\":[21.2787],\"marker\":{\"color\":\"#ab63fa\",\"size\":[1.96],\"sizemode\":\"area\",\"sizeref\":0.189625,\"symbol\":\"circle\"},\"mode\":\"markers\",\"name\":\"Chhattisgarh\",\"showlegend\":true,\"type\":\"scattergeo\"},{\"geo\":\"geo\",\"hovertemplate\":\"\\u003cb\\u003e%{hovertext}\\u003c\\u002fb\\u003e\\u003cbr\\u003e\\u003cbr\\u003eRegion=Delhi\\u003cbr\\u003emonth=september\\u003cbr\\u003eEstimatedUnemploymentRate=%{marker.size}\\u003cbr\\u003elatitude=%{lat}\\u003cbr\\u003elongitude=%{lon}\\u003cextra\\u003e\\u003c\\u002fextra\\u003e\",\"hovertext\":[\"Delhi\"],\"lat\":[77.1025],\"legendgroup\":\"Delhi\",\"lon\":[28.7041],\"marker\":{\"color\":\"#FFA15A\",\"size\":[12.53],\"sizemode\":\"area\",\"sizeref\":0.189625,\"symbol\":\"circle\"},\"mode\":\"markers\",\"name\":\"Delhi\",\"showlegend\":true,\"type\":\"scattergeo\"},{\"geo\":\"geo\",\"hovertemplate\":\"\\u003cb\\u003e%{hovertext}\\u003c\\u002fb\\u003e\\u003cbr\\u003e\\u003cbr\\u003eRegion=Goa\\u003cbr\\u003emonth=september\\u003cbr\\u003eEstimatedUnemploymentRate=%{marker.size}\\u003cbr\\u003elatitude=%{lat}\\u003cbr\\u003elongitude=%{lon}\\u003cextra\\u003e\\u003c\\u002fextra\\u003e\",\"hovertext\":[\"Goa\"],\"lat\":[74.124],\"legendgroup\":\"Goa\",\"lon\":[15.2993],\"marker\":{\"color\":\"#19d3f3\",\"size\":[15.38],\"sizemode\":\"area\",\"sizeref\":0.189625,\"symbol\":\"circle\"},\"mode\":\"markers\",\"name\":\"Goa\",\"showlegend\":true,\"type\":\"scattergeo\"},{\"geo\":\"geo\",\"hovertemplate\":\"\\u003cb\\u003e%{hovertext}\\u003c\\u002fb\\u003e\\u003cbr\\u003e\\u003cbr\\u003eRegion=Gujarat\\u003cbr\\u003emonth=september\\u003cbr\\u003eEstimatedUnemploymentRate=%{marker.size}\\u003cbr\\u003elatitude=%{lat}\\u003cbr\\u003elongitude=%{lon}\\u003cextra\\u003e\\u003c\\u002fextra\\u003e\",\"hovertext\":[\"Gujarat\"],\"lat\":[71.1924],\"legendgroup\":\"Gujarat\",\"lon\":[22.2587],\"marker\":{\"color\":\"#FF6692\",\"size\":[3.42],\"sizemode\":\"area\",\"sizeref\":0.189625,\"symbol\":\"circle\"},\"mode\":\"markers\",\"name\":\"Gujarat\",\"showlegend\":true,\"type\":\"scattergeo\"},{\"geo\":\"geo\",\"hovertemplate\":\"\\u003cb\\u003e%{hovertext}\\u003c\\u002fb\\u003e\\u003cbr\\u003e\\u003cbr\\u003eRegion=Haryana\\u003cbr\\u003emonth=september\\u003cbr\\u003eEstimatedUnemploymentRate=%{marker.size}\\u003cbr\\u003elatitude=%{lat}\\u003cbr\\u003elongitude=%{lon}\\u003cextra\\u003e\\u003c\\u002fextra\\u003e\",\"hovertext\":[\"Haryana\"],\"lat\":[76.0856],\"legendgroup\":\"Haryana\",\"lon\":[29.0588],\"marker\":{\"color\":\"#B6E880\",\"size\":[19.68],\"sizemode\":\"area\",\"sizeref\":0.189625,\"symbol\":\"circle\"},\"mode\":\"markers\",\"name\":\"Haryana\",\"showlegend\":true,\"type\":\"scattergeo\"},{\"geo\":\"geo\",\"hovertemplate\":\"\\u003cb\\u003e%{hovertext}\\u003c\\u002fb\\u003e\\u003cbr\\u003e\\u003cbr\\u003eRegion=Himachal Pradesh\\u003cbr\\u003emonth=september\\u003cbr\\u003eEstimatedUnemploymentRate=%{marker.size}\\u003cbr\\u003elatitude=%{lat}\\u003cbr\\u003elongitude=%{lon}\\u003cextra\\u003e\\u003c\\u002fextra\\u003e\",\"hovertext\":[\"Himachal Pradesh\"],\"lat\":[77.1734],\"legendgroup\":\"Himachal Pradesh\",\"lon\":[31.1048],\"marker\":{\"color\":\"#FF97FF\",\"size\":[12.04],\"sizemode\":\"area\",\"sizeref\":0.189625,\"symbol\":\"circle\"},\"mode\":\"markers\",\"name\":\"Himachal Pradesh\",\"showlegend\":true,\"type\":\"scattergeo\"},{\"geo\":\"geo\",\"hovertemplate\":\"\\u003cb\\u003e%{hovertext}\\u003c\\u002fb\\u003e\\u003cbr\\u003e\\u003cbr\\u003eRegion=Jammu & Kashmir\\u003cbr\\u003emonth=september\\u003cbr\\u003eEstimatedUnemploymentRate=%{marker.size}\\u003cbr\\u003elatitude=%{lat}\\u003cbr\\u003elongitude=%{lon}\\u003cextra\\u003e\\u003c\\u002fextra\\u003e\",\"hovertext\":[\"Jammu & Kashmir\"],\"lat\":[76.5762],\"legendgroup\":\"Jammu & Kashmir\",\"lon\":[33.7782],\"marker\":{\"color\":\"#FECB52\",\"size\":[16.17],\"sizemode\":\"area\",\"sizeref\":0.189625,\"symbol\":\"circle\"},\"mode\":\"markers\",\"name\":\"Jammu & Kashmir\",\"showlegend\":true,\"type\":\"scattergeo\"},{\"geo\":\"geo\",\"hovertemplate\":\"\\u003cb\\u003e%{hovertext}\\u003c\\u002fb\\u003e\\u003cbr\\u003e\\u003cbr\\u003eRegion=Jharkhand\\u003cbr\\u003emonth=september\\u003cbr\\u003eEstimatedUnemploymentRate=%{marker.size}\\u003cbr\\u003elatitude=%{lat}\\u003cbr\\u003elongitude=%{lon}\\u003cextra\\u003e\\u003c\\u002fextra\\u003e\",\"hovertext\":[\"Jharkhand\"],\"lat\":[85.2799],\"legendgroup\":\"Jharkhand\",\"lon\":[23.6102],\"marker\":{\"color\":\"#636efa\",\"size\":[8.24],\"sizemode\":\"area\",\"sizeref\":0.189625,\"symbol\":\"circle\"},\"mode\":\"markers\",\"name\":\"Jharkhand\",\"showlegend\":true,\"type\":\"scattergeo\"},{\"geo\":\"geo\",\"hovertemplate\":\"\\u003cb\\u003e%{hovertext}\\u003c\\u002fb\\u003e\\u003cbr\\u003e\\u003cbr\\u003eRegion=Karnataka\\u003cbr\\u003emonth=september\\u003cbr\\u003eEstimatedUnemploymentRate=%{marker.size}\\u003cbr\\u003elatitude=%{lat}\\u003cbr\\u003elongitude=%{lon}\\u003cextra\\u003e\\u003c\\u002fextra\\u003e\",\"hovertext\":[\"Karnataka\"],\"lat\":[75.7139],\"legendgroup\":\"Karnataka\",\"lon\":[15.3173],\"marker\":{\"color\":\"#EF553B\",\"size\":[2.41],\"sizemode\":\"area\",\"sizeref\":0.189625,\"symbol\":\"circle\"},\"mode\":\"markers\",\"name\":\"Karnataka\",\"showlegend\":true,\"type\":\"scattergeo\"},{\"geo\":\"geo\",\"hovertemplate\":\"\\u003cb\\u003e%{hovertext}\\u003c\\u002fb\\u003e\\u003cbr\\u003e\\u003cbr\\u003eRegion=Kerala\\u003cbr\\u003emonth=september\\u003cbr\\u003eEstimatedUnemploymentRate=%{marker.size}\\u003cbr\\u003elatitude=%{lat}\\u003cbr\\u003elongitude=%{lon}\\u003cextra\\u003e\\u003c\\u002fextra\\u003e\",\"hovertext\":[\"Kerala\"],\"lat\":[76.2711],\"legendgroup\":\"Kerala\",\"lon\":[10.8505],\"marker\":{\"color\":\"#00cc96\",\"size\":[5.91],\"sizemode\":\"area\",\"sizeref\":0.189625,\"symbol\":\"circle\"},\"mode\":\"markers\",\"name\":\"Kerala\",\"showlegend\":true,\"type\":\"scattergeo\"},{\"geo\":\"geo\",\"hovertemplate\":\"\\u003cb\\u003e%{hovertext}\\u003c\\u002fb\\u003e\\u003cbr\\u003e\\u003cbr\\u003eRegion=Madhya Pradesh\\u003cbr\\u003emonth=september\\u003cbr\\u003eEstimatedUnemploymentRate=%{marker.size}\\u003cbr\\u003elatitude=%{lat}\\u003cbr\\u003elongitude=%{lon}\\u003cextra\\u003e\\u003c\\u002fextra\\u003e\",\"hovertext\":[\"Madhya Pradesh\"],\"lat\":[78.6569],\"legendgroup\":\"Madhya Pradesh\",\"lon\":[22.9734],\"marker\":{\"color\":\"#ab63fa\",\"size\":[3.91],\"sizemode\":\"area\",\"sizeref\":0.189625,\"symbol\":\"circle\"},\"mode\":\"markers\",\"name\":\"Madhya Pradesh\",\"showlegend\":true,\"type\":\"scattergeo\"},{\"geo\":\"geo\",\"hovertemplate\":\"\\u003cb\\u003e%{hovertext}\\u003c\\u002fb\\u003e\\u003cbr\\u003e\\u003cbr\\u003eRegion=Maharashtra\\u003cbr\\u003emonth=september\\u003cbr\\u003eEstimatedUnemploymentRate=%{marker.size}\\u003cbr\\u003elatitude=%{lat}\\u003cbr\\u003elongitude=%{lon}\\u003cextra\\u003e\\u003c\\u002fextra\\u003e\",\"hovertext\":[\"Maharashtra\"],\"lat\":[75.7139],\"legendgroup\":\"Maharashtra\",\"lon\":[19.7515],\"marker\":{\"color\":\"#FFA15A\",\"size\":[4.55],\"sizemode\":\"area\",\"sizeref\":0.189625,\"symbol\":\"circle\"},\"mode\":\"markers\",\"name\":\"Maharashtra\",\"showlegend\":true,\"type\":\"scattergeo\"},{\"geo\":\"geo\",\"hovertemplate\":\"\\u003cb\\u003e%{hovertext}\\u003c\\u002fb\\u003e\\u003cbr\\u003e\\u003cbr\\u003eRegion=Meghalaya\\u003cbr\\u003emonth=september\\u003cbr\\u003eEstimatedUnemploymentRate=%{marker.size}\\u003cbr\\u003elatitude=%{lat}\\u003cbr\\u003elongitude=%{lon}\\u003cextra\\u003e\\u003c\\u002fextra\\u003e\",\"hovertext\":[\"Meghalaya\"],\"lat\":[91.3662],\"legendgroup\":\"Meghalaya\",\"lon\":[25.467],\"marker\":{\"color\":\"#19d3f3\",\"size\":[4.29],\"sizemode\":\"area\",\"sizeref\":0.189625,\"symbol\":\"circle\"},\"mode\":\"markers\",\"name\":\"Meghalaya\",\"showlegend\":true,\"type\":\"scattergeo\"},{\"geo\":\"geo\",\"hovertemplate\":\"\\u003cb\\u003e%{hovertext}\\u003c\\u002fb\\u003e\\u003cbr\\u003e\\u003cbr\\u003eRegion=Odisha\\u003cbr\\u003emonth=september\\u003cbr\\u003eEstimatedUnemploymentRate=%{marker.size}\\u003cbr\\u003elatitude=%{lat}\\u003cbr\\u003elongitude=%{lon}\\u003cextra\\u003e\\u003c\\u002fextra\\u003e\",\"hovertext\":[\"Odisha\"],\"lat\":[85.0985],\"legendgroup\":\"Odisha\",\"lon\":[20.9517],\"marker\":{\"color\":\"#FF6692\",\"size\":[2.1],\"sizemode\":\"area\",\"sizeref\":0.189625,\"symbol\":\"circle\"},\"mode\":\"markers\",\"name\":\"Odisha\",\"showlegend\":true,\"type\":\"scattergeo\"},{\"geo\":\"geo\",\"hovertemplate\":\"\\u003cb\\u003e%{hovertext}\\u003c\\u002fb\\u003e\\u003cbr\\u003e\\u003cbr\\u003eRegion=Puducherry\\u003cbr\\u003emonth=september\\u003cbr\\u003eEstimatedUnemploymentRate=%{marker.size}\\u003cbr\\u003elatitude=%{lat}\\u003cbr\\u003elongitude=%{lon}\\u003cextra\\u003e\\u003c\\u002fextra\\u003e\",\"hovertext\":[\"Puducherry\"],\"lat\":[79.8083],\"legendgroup\":\"Puducherry\",\"lon\":[11.9416],\"marker\":{\"color\":\"#B6E880\",\"size\":[10.9],\"sizemode\":\"area\",\"sizeref\":0.189625,\"symbol\":\"circle\"},\"mode\":\"markers\",\"name\":\"Puducherry\",\"showlegend\":true,\"type\":\"scattergeo\"},{\"geo\":\"geo\",\"hovertemplate\":\"\\u003cb\\u003e%{hovertext}\\u003c\\u002fb\\u003e\\u003cbr\\u003e\\u003cbr\\u003eRegion=Punjab\\u003cbr\\u003emonth=september\\u003cbr\\u003eEstimatedUnemploymentRate=%{marker.size}\\u003cbr\\u003elatitude=%{lat}\\u003cbr\\u003elongitude=%{lon}\\u003cextra\\u003e\\u003c\\u002fextra\\u003e\",\"hovertext\":[\"Punjab\"],\"lat\":[75.3412],\"legendgroup\":\"Punjab\",\"lon\":[31.1471],\"marker\":{\"color\":\"#FF97FF\",\"size\":[9.61],\"sizemode\":\"area\",\"sizeref\":0.189625,\"symbol\":\"circle\"},\"mode\":\"markers\",\"name\":\"Punjab\",\"showlegend\":true,\"type\":\"scattergeo\"},{\"geo\":\"geo\",\"hovertemplate\":\"\\u003cb\\u003e%{hovertext}\\u003c\\u002fb\\u003e\\u003cbr\\u003e\\u003cbr\\u003eRegion=Rajasthan\\u003cbr\\u003emonth=september\\u003cbr\\u003eEstimatedUnemploymentRate=%{marker.size}\\u003cbr\\u003elatitude=%{lat}\\u003cbr\\u003elongitude=%{lon}\\u003cextra\\u003e\\u003c\\u002fextra\\u003e\",\"hovertext\":[\"Rajasthan\"],\"lat\":[74.2179],\"legendgroup\":\"Rajasthan\",\"lon\":[27.0238],\"marker\":{\"color\":\"#FECB52\",\"size\":[15.35],\"sizemode\":\"area\",\"sizeref\":0.189625,\"symbol\":\"circle\"},\"mode\":\"markers\",\"name\":\"Rajasthan\",\"showlegend\":true,\"type\":\"scattergeo\"},{\"geo\":\"geo\",\"hovertemplate\":\"\\u003cb\\u003e%{hovertext}\\u003c\\u002fb\\u003e\\u003cbr\\u003e\\u003cbr\\u003eRegion=Sikkim\\u003cbr\\u003emonth=september\\u003cbr\\u003eEstimatedUnemploymentRate=%{marker.size}\\u003cbr\\u003elatitude=%{lat}\\u003cbr\\u003elongitude=%{lon}\\u003cextra\\u003e\\u003c\\u002fextra\\u003e\",\"hovertext\":[\"Sikkim\"],\"lat\":[88.5122],\"legendgroup\":\"Sikkim\",\"lon\":[27.533],\"marker\":{\"color\":\"#636efa\",\"size\":[5.7],\"sizemode\":\"area\",\"sizeref\":0.189625,\"symbol\":\"circle\"},\"mode\":\"markers\",\"name\":\"Sikkim\",\"showlegend\":true,\"type\":\"scattergeo\"},{\"geo\":\"geo\",\"hovertemplate\":\"\\u003cb\\u003e%{hovertext}\\u003c\\u002fb\\u003e\\u003cbr\\u003e\\u003cbr\\u003eRegion=Tamil Nadu\\u003cbr\\u003emonth=september\\u003cbr\\u003eEstimatedUnemploymentRate=%{marker.size}\\u003cbr\\u003elatitude=%{lat}\\u003cbr\\u003elongitude=%{lon}\\u003cextra\\u003e\\u003c\\u002fextra\\u003e\",\"hovertext\":[\"Tamil Nadu\"],\"lat\":[78.6569],\"legendgroup\":\"Tamil Nadu\",\"lon\":[11.1271],\"marker\":{\"color\":\"#EF553B\",\"size\":[5.0],\"sizemode\":\"area\",\"sizeref\":0.189625,\"symbol\":\"circle\"},\"mode\":\"markers\",\"name\":\"Tamil Nadu\",\"showlegend\":true,\"type\":\"scattergeo\"},{\"geo\":\"geo\",\"hovertemplate\":\"\\u003cb\\u003e%{hovertext}\\u003c\\u002fb\\u003e\\u003cbr\\u003e\\u003cbr\\u003eRegion=Telangana\\u003cbr\\u003emonth=september\\u003cbr\\u003eEstimatedUnemploymentRate=%{marker.size}\\u003cbr\\u003elatitude=%{lat}\\u003cbr\\u003elongitude=%{lon}\\u003cextra\\u003e\\u003c\\u002fextra\\u003e\",\"hovertext\":[\"Telangana\"],\"lat\":[79.0193],\"legendgroup\":\"Telangana\",\"lon\":[18.1124],\"marker\":{\"color\":\"#00cc96\",\"size\":[3.27],\"sizemode\":\"area\",\"sizeref\":0.189625,\"symbol\":\"circle\"},\"mode\":\"markers\",\"name\":\"Telangana\",\"showlegend\":true,\"type\":\"scattergeo\"},{\"geo\":\"geo\",\"hovertemplate\":\"\\u003cb\\u003e%{hovertext}\\u003c\\u002fb\\u003e\\u003cbr\\u003e\\u003cbr\\u003eRegion=Tripura\\u003cbr\\u003emonth=september\\u003cbr\\u003eEstimatedUnemploymentRate=%{marker.size}\\u003cbr\\u003elatitude=%{lat}\\u003cbr\\u003elongitude=%{lon}\\u003cextra\\u003e\\u003c\\u002fextra\\u003e\",\"hovertext\":[\"Tripura\"],\"lat\":[91.9882],\"legendgroup\":\"Tripura\",\"lon\":[23.9408],\"marker\":{\"color\":\"#ab63fa\",\"size\":[17.35],\"sizemode\":\"area\",\"sizeref\":0.189625,\"symbol\":\"circle\"},\"mode\":\"markers\",\"name\":\"Tripura\",\"showlegend\":true,\"type\":\"scattergeo\"},{\"geo\":\"geo\",\"hovertemplate\":\"\\u003cb\\u003e%{hovertext}\\u003c\\u002fb\\u003e\\u003cbr\\u003e\\u003cbr\\u003eRegion=Uttar Pradesh\\u003cbr\\u003emonth=september\\u003cbr\\u003eEstimatedUnemploymentRate=%{marker.size}\\u003cbr\\u003elatitude=%{lat}\\u003cbr\\u003elongitude=%{lon}\\u003cextra\\u003e\\u003c\\u002fextra\\u003e\",\"hovertext\":[\"Uttar Pradesh\"],\"lat\":[80.9462],\"legendgroup\":\"Uttar Pradesh\",\"lon\":[26.8467],\"marker\":{\"color\":\"#FFA15A\",\"size\":[4.18],\"sizemode\":\"area\",\"sizeref\":0.189625,\"symbol\":\"circle\"},\"mode\":\"markers\",\"name\":\"Uttar Pradesh\",\"showlegend\":true,\"type\":\"scattergeo\"},{\"geo\":\"geo\",\"hovertemplate\":\"\\u003cb\\u003e%{hovertext}\\u003c\\u002fb\\u003e\\u003cbr\\u003e\\u003cbr\\u003eRegion=Uttarakhand\\u003cbr\\u003emonth=september\\u003cbr\\u003eEstimatedUnemploymentRate=%{marker.size}\\u003cbr\\u003elatitude=%{lat}\\u003cbr\\u003elongitude=%{lon}\\u003cextra\\u003e\\u003c\\u002fextra\\u003e\",\"hovertext\":[\"Uttarakhand\"],\"lat\":[79.0193],\"legendgroup\":\"Uttarakhand\",\"lon\":[30.0668],\"marker\":{\"color\":\"#19d3f3\",\"size\":[22.26],\"sizemode\":\"area\",\"sizeref\":0.189625,\"symbol\":\"circle\"},\"mode\":\"markers\",\"name\":\"Uttarakhand\",\"showlegend\":true,\"type\":\"scattergeo\"},{\"geo\":\"geo\",\"hovertemplate\":\"\\u003cb\\u003e%{hovertext}\\u003c\\u002fb\\u003e\\u003cbr\\u003e\\u003cbr\\u003eRegion=West Bengal\\u003cbr\\u003emonth=september\\u003cbr\\u003eEstimatedUnemploymentRate=%{marker.size}\\u003cbr\\u003elatitude=%{lat}\\u003cbr\\u003elongitude=%{lon}\\u003cextra\\u003e\\u003c\\u002fextra\\u003e\",\"hovertext\":[\"West Bengal\"],\"lat\":[87.855],\"legendgroup\":\"West Bengal\",\"lon\":[22.9868],\"marker\":{\"color\":\"#FF6692\",\"size\":[9.35],\"sizemode\":\"area\",\"sizeref\":0.189625,\"symbol\":\"circle\"},\"mode\":\"markers\",\"name\":\"West Bengal\",\"showlegend\":true,\"type\":\"scattergeo\"}],\"name\":\"september\"},{\"data\":[{\"geo\":\"geo\",\"hovertemplate\":\"\\u003cb\\u003e%{hovertext}\\u003c\\u002fb\\u003e\\u003cbr\\u003e\\u003cbr\\u003eRegion=Andhra Pradesh\\u003cbr\\u003emonth=october\\u003cbr\\u003eEstimatedUnemploymentRate=%{marker.size}\\u003cbr\\u003elatitude=%{lat}\\u003cbr\\u003elongitude=%{lon}\\u003cextra\\u003e\\u003c\\u002fextra\\u003e\",\"hovertext\":[\"Andhra Pradesh\"],\"lat\":[79.74],\"legendgroup\":\"Andhra Pradesh\",\"lon\":[15.9129],\"marker\":{\"color\":\"#636efa\",\"size\":[6.59],\"sizemode\":\"area\",\"sizeref\":0.189625,\"symbol\":\"circle\"},\"mode\":\"markers\",\"name\":\"Andhra Pradesh\",\"showlegend\":true,\"type\":\"scattergeo\"},{\"geo\":\"geo\",\"hovertemplate\":\"\\u003cb\\u003e%{hovertext}\\u003c\\u002fb\\u003e\\u003cbr\\u003e\\u003cbr\\u003eRegion=Assam\\u003cbr\\u003emonth=october\\u003cbr\\u003eEstimatedUnemploymentRate=%{marker.size}\\u003cbr\\u003elatitude=%{lat}\\u003cbr\\u003elongitude=%{lon}\\u003cextra\\u003e\\u003c\\u002fextra\\u003e\",\"hovertext\":[\"Assam\"],\"lat\":[92.9376],\"legendgroup\":\"Assam\",\"lon\":[26.2006],\"marker\":{\"color\":\"#EF553B\",\"size\":[3.02],\"sizemode\":\"area\",\"sizeref\":0.189625,\"symbol\":\"circle\"},\"mode\":\"markers\",\"name\":\"Assam\",\"showlegend\":true,\"type\":\"scattergeo\"},{\"geo\":\"geo\",\"hovertemplate\":\"\\u003cb\\u003e%{hovertext}\\u003c\\u002fb\\u003e\\u003cbr\\u003e\\u003cbr\\u003eRegion=Bihar\\u003cbr\\u003emonth=october\\u003cbr\\u003eEstimatedUnemploymentRate=%{marker.size}\\u003cbr\\u003elatitude=%{lat}\\u003cbr\\u003elongitude=%{lon}\\u003cextra\\u003e\\u003c\\u002fextra\\u003e\",\"hovertext\":[\"Bihar\"],\"lat\":[85.3131],\"legendgroup\":\"Bihar\",\"lon\":[25.0961],\"marker\":{\"color\":\"#00cc96\",\"size\":[9.82],\"sizemode\":\"area\",\"sizeref\":0.189625,\"symbol\":\"circle\"},\"mode\":\"markers\",\"name\":\"Bihar\",\"showlegend\":true,\"type\":\"scattergeo\"},{\"geo\":\"geo\",\"hovertemplate\":\"\\u003cb\\u003e%{hovertext}\\u003c\\u002fb\\u003e\\u003cbr\\u003e\\u003cbr\\u003eRegion=Chhattisgarh\\u003cbr\\u003emonth=october\\u003cbr\\u003eEstimatedUnemploymentRate=%{marker.size}\\u003cbr\\u003elatitude=%{lat}\\u003cbr\\u003elongitude=%{lon}\\u003cextra\\u003e\\u003c\\u002fextra\\u003e\",\"hovertext\":[\"Chhattisgarh\"],\"lat\":[81.8661],\"legendgroup\":\"Chhattisgarh\",\"lon\":[21.2787],\"marker\":{\"color\":\"#ab63fa\",\"size\":[6.62],\"sizemode\":\"area\",\"sizeref\":0.189625,\"symbol\":\"circle\"},\"mode\":\"markers\",\"name\":\"Chhattisgarh\",\"showlegend\":true,\"type\":\"scattergeo\"},{\"geo\":\"geo\",\"hovertemplate\":\"\\u003cb\\u003e%{hovertext}\\u003c\\u002fb\\u003e\\u003cbr\\u003e\\u003cbr\\u003eRegion=Delhi\\u003cbr\\u003emonth=october\\u003cbr\\u003eEstimatedUnemploymentRate=%{marker.size}\\u003cbr\\u003elatitude=%{lat}\\u003cbr\\u003elongitude=%{lon}\\u003cextra\\u003e\\u003c\\u002fextra\\u003e\",\"hovertext\":[\"Delhi\"],\"lat\":[77.1025],\"legendgroup\":\"Delhi\",\"lon\":[28.7041],\"marker\":{\"color\":\"#FFA15A\",\"size\":[6.27],\"sizemode\":\"area\",\"sizeref\":0.189625,\"symbol\":\"circle\"},\"mode\":\"markers\",\"name\":\"Delhi\",\"showlegend\":true,\"type\":\"scattergeo\"},{\"geo\":\"geo\",\"hovertemplate\":\"\\u003cb\\u003e%{hovertext}\\u003c\\u002fb\\u003e\\u003cbr\\u003e\\u003cbr\\u003eRegion=Goa\\u003cbr\\u003emonth=october\\u003cbr\\u003eEstimatedUnemploymentRate=%{marker.size}\\u003cbr\\u003elatitude=%{lat}\\u003cbr\\u003elongitude=%{lon}\\u003cextra\\u003e\\u003c\\u002fextra\\u003e\",\"hovertext\":[\"Goa\"],\"lat\":[74.124],\"legendgroup\":\"Goa\",\"lon\":[15.2993],\"marker\":{\"color\":\"#19d3f3\",\"size\":[11.54],\"sizemode\":\"area\",\"sizeref\":0.189625,\"symbol\":\"circle\"},\"mode\":\"markers\",\"name\":\"Goa\",\"showlegend\":true,\"type\":\"scattergeo\"},{\"geo\":\"geo\",\"hovertemplate\":\"\\u003cb\\u003e%{hovertext}\\u003c\\u002fb\\u003e\\u003cbr\\u003e\\u003cbr\\u003eRegion=Gujarat\\u003cbr\\u003emonth=october\\u003cbr\\u003eEstimatedUnemploymentRate=%{marker.size}\\u003cbr\\u003elatitude=%{lat}\\u003cbr\\u003elongitude=%{lon}\\u003cextra\\u003e\\u003c\\u002fextra\\u003e\",\"hovertext\":[\"Gujarat\"],\"lat\":[71.1924],\"legendgroup\":\"Gujarat\",\"lon\":[22.2587],\"marker\":{\"color\":\"#FF6692\",\"size\":[4.03],\"sizemode\":\"area\",\"sizeref\":0.189625,\"symbol\":\"circle\"},\"mode\":\"markers\",\"name\":\"Gujarat\",\"showlegend\":true,\"type\":\"scattergeo\"},{\"geo\":\"geo\",\"hovertemplate\":\"\\u003cb\\u003e%{hovertext}\\u003c\\u002fb\\u003e\\u003cbr\\u003e\\u003cbr\\u003eRegion=Haryana\\u003cbr\\u003emonth=october\\u003cbr\\u003eEstimatedUnemploymentRate=%{marker.size}\\u003cbr\\u003elatitude=%{lat}\\u003cbr\\u003elongitude=%{lon}\\u003cextra\\u003e\\u003c\\u002fextra\\u003e\",\"hovertext\":[\"Haryana\"],\"lat\":[76.0856],\"legendgroup\":\"Haryana\",\"lon\":[29.0588],\"marker\":{\"color\":\"#B6E880\",\"size\":[27.31],\"sizemode\":\"area\",\"sizeref\":0.189625,\"symbol\":\"circle\"},\"mode\":\"markers\",\"name\":\"Haryana\",\"showlegend\":true,\"type\":\"scattergeo\"},{\"geo\":\"geo\",\"hovertemplate\":\"\\u003cb\\u003e%{hovertext}\\u003c\\u002fb\\u003e\\u003cbr\\u003e\\u003cbr\\u003eRegion=Himachal Pradesh\\u003cbr\\u003emonth=october\\u003cbr\\u003eEstimatedUnemploymentRate=%{marker.size}\\u003cbr\\u003elatitude=%{lat}\\u003cbr\\u003elongitude=%{lon}\\u003cextra\\u003e\\u003c\\u002fextra\\u003e\",\"hovertext\":[\"Himachal Pradesh\"],\"lat\":[77.1734],\"legendgroup\":\"Himachal Pradesh\",\"lon\":[31.1048],\"marker\":{\"color\":\"#FF97FF\",\"size\":[13.46],\"sizemode\":\"area\",\"sizeref\":0.189625,\"symbol\":\"circle\"},\"mode\":\"markers\",\"name\":\"Himachal Pradesh\",\"showlegend\":true,\"type\":\"scattergeo\"},{\"geo\":\"geo\",\"hovertemplate\":\"\\u003cb\\u003e%{hovertext}\\u003c\\u002fb\\u003e\\u003cbr\\u003e\\u003cbr\\u003eRegion=Jammu & Kashmir\\u003cbr\\u003emonth=october\\u003cbr\\u003eEstimatedUnemploymentRate=%{marker.size}\\u003cbr\\u003elatitude=%{lat}\\u003cbr\\u003elongitude=%{lon}\\u003cextra\\u003e\\u003c\\u002fextra\\u003e\",\"hovertext\":[\"Jammu & Kashmir\"],\"lat\":[76.5762],\"legendgroup\":\"Jammu & Kashmir\",\"lon\":[33.7782],\"marker\":{\"color\":\"#FECB52\",\"size\":[16.14],\"sizemode\":\"area\",\"sizeref\":0.189625,\"symbol\":\"circle\"},\"mode\":\"markers\",\"name\":\"Jammu & Kashmir\",\"showlegend\":true,\"type\":\"scattergeo\"},{\"geo\":\"geo\",\"hovertemplate\":\"\\u003cb\\u003e%{hovertext}\\u003c\\u002fb\\u003e\\u003cbr\\u003e\\u003cbr\\u003eRegion=Jharkhand\\u003cbr\\u003emonth=october\\u003cbr\\u003eEstimatedUnemploymentRate=%{marker.size}\\u003cbr\\u003elatitude=%{lat}\\u003cbr\\u003elongitude=%{lon}\\u003cextra\\u003e\\u003c\\u002fextra\\u003e\",\"hovertext\":[\"Jharkhand\"],\"lat\":[85.2799],\"legendgroup\":\"Jharkhand\",\"lon\":[23.6102],\"marker\":{\"color\":\"#636efa\",\"size\":[11.8],\"sizemode\":\"area\",\"sizeref\":0.189625,\"symbol\":\"circle\"},\"mode\":\"markers\",\"name\":\"Jharkhand\",\"showlegend\":true,\"type\":\"scattergeo\"},{\"geo\":\"geo\",\"hovertemplate\":\"\\u003cb\\u003e%{hovertext}\\u003c\\u002fb\\u003e\\u003cbr\\u003e\\u003cbr\\u003eRegion=Karnataka\\u003cbr\\u003emonth=october\\u003cbr\\u003eEstimatedUnemploymentRate=%{marker.size}\\u003cbr\\u003elatitude=%{lat}\\u003cbr\\u003elongitude=%{lon}\\u003cextra\\u003e\\u003c\\u002fextra\\u003e\",\"hovertext\":[\"Karnataka\"],\"lat\":[75.7139],\"legendgroup\":\"Karnataka\",\"lon\":[15.3173],\"marker\":{\"color\":\"#EF553B\",\"size\":[1.58],\"sizemode\":\"area\",\"sizeref\":0.189625,\"symbol\":\"circle\"},\"mode\":\"markers\",\"name\":\"Karnataka\",\"showlegend\":true,\"type\":\"scattergeo\"},{\"geo\":\"geo\",\"hovertemplate\":\"\\u003cb\\u003e%{hovertext}\\u003c\\u002fb\\u003e\\u003cbr\\u003e\\u003cbr\\u003eRegion=Kerala\\u003cbr\\u003emonth=october\\u003cbr\\u003eEstimatedUnemploymentRate=%{marker.size}\\u003cbr\\u003elatitude=%{lat}\\u003cbr\\u003elongitude=%{lon}\\u003cextra\\u003e\\u003c\\u002fextra\\u003e\",\"hovertext\":[\"Kerala\"],\"lat\":[76.2711],\"legendgroup\":\"Kerala\",\"lon\":[10.8505],\"marker\":{\"color\":\"#00cc96\",\"size\":[3.88],\"sizemode\":\"area\",\"sizeref\":0.189625,\"symbol\":\"circle\"},\"mode\":\"markers\",\"name\":\"Kerala\",\"showlegend\":true,\"type\":\"scattergeo\"},{\"geo\":\"geo\",\"hovertemplate\":\"\\u003cb\\u003e%{hovertext}\\u003c\\u002fb\\u003e\\u003cbr\\u003e\\u003cbr\\u003eRegion=Madhya Pradesh\\u003cbr\\u003emonth=october\\u003cbr\\u003eEstimatedUnemploymentRate=%{marker.size}\\u003cbr\\u003elatitude=%{lat}\\u003cbr\\u003elongitude=%{lon}\\u003cextra\\u003e\\u003c\\u002fextra\\u003e\",\"hovertext\":[\"Madhya Pradesh\"],\"lat\":[78.6569],\"legendgroup\":\"Madhya Pradesh\",\"lon\":[22.9734],\"marker\":{\"color\":\"#ab63fa\",\"size\":[3.13],\"sizemode\":\"area\",\"sizeref\":0.189625,\"symbol\":\"circle\"},\"mode\":\"markers\",\"name\":\"Madhya Pradesh\",\"showlegend\":true,\"type\":\"scattergeo\"},{\"geo\":\"geo\",\"hovertemplate\":\"\\u003cb\\u003e%{hovertext}\\u003c\\u002fb\\u003e\\u003cbr\\u003e\\u003cbr\\u003eRegion=Maharashtra\\u003cbr\\u003emonth=october\\u003cbr\\u003eEstimatedUnemploymentRate=%{marker.size}\\u003cbr\\u003elatitude=%{lat}\\u003cbr\\u003elongitude=%{lon}\\u003cextra\\u003e\\u003c\\u002fextra\\u003e\",\"hovertext\":[\"Maharashtra\"],\"lat\":[75.7139],\"legendgroup\":\"Maharashtra\",\"lon\":[19.7515],\"marker\":{\"color\":\"#FFA15A\",\"size\":[4.1],\"sizemode\":\"area\",\"sizeref\":0.189625,\"symbol\":\"circle\"},\"mode\":\"markers\",\"name\":\"Maharashtra\",\"showlegend\":true,\"type\":\"scattergeo\"},{\"geo\":\"geo\",\"hovertemplate\":\"\\u003cb\\u003e%{hovertext}\\u003c\\u002fb\\u003e\\u003cbr\\u003e\\u003cbr\\u003eRegion=Meghalaya\\u003cbr\\u003emonth=october\\u003cbr\\u003eEstimatedUnemploymentRate=%{marker.size}\\u003cbr\\u003elatitude=%{lat}\\u003cbr\\u003elongitude=%{lon}\\u003cextra\\u003e\\u003c\\u002fextra\\u003e\",\"hovertext\":[\"Meghalaya\"],\"lat\":[91.3662],\"legendgroup\":\"Meghalaya\",\"lon\":[25.467],\"marker\":{\"color\":\"#19d3f3\",\"size\":[4.6],\"sizemode\":\"area\",\"sizeref\":0.189625,\"symbol\":\"circle\"},\"mode\":\"markers\",\"name\":\"Meghalaya\",\"showlegend\":true,\"type\":\"scattergeo\"},{\"geo\":\"geo\",\"hovertemplate\":\"\\u003cb\\u003e%{hovertext}\\u003c\\u002fb\\u003e\\u003cbr\\u003e\\u003cbr\\u003eRegion=Odisha\\u003cbr\\u003emonth=october\\u003cbr\\u003eEstimatedUnemploymentRate=%{marker.size}\\u003cbr\\u003elatitude=%{lat}\\u003cbr\\u003elongitude=%{lon}\\u003cextra\\u003e\\u003c\\u002fextra\\u003e\",\"hovertext\":[\"Odisha\"],\"lat\":[85.0985],\"legendgroup\":\"Odisha\",\"lon\":[20.9517],\"marker\":{\"color\":\"#FF6692\",\"size\":[2.18],\"sizemode\":\"area\",\"sizeref\":0.189625,\"symbol\":\"circle\"},\"mode\":\"markers\",\"name\":\"Odisha\",\"showlegend\":true,\"type\":\"scattergeo\"},{\"geo\":\"geo\",\"hovertemplate\":\"\\u003cb\\u003e%{hovertext}\\u003c\\u002fb\\u003e\\u003cbr\\u003e\\u003cbr\\u003eRegion=Puducherry\\u003cbr\\u003emonth=october\\u003cbr\\u003eEstimatedUnemploymentRate=%{marker.size}\\u003cbr\\u003elatitude=%{lat}\\u003cbr\\u003elongitude=%{lon}\\u003cextra\\u003e\\u003c\\u002fextra\\u003e\",\"hovertext\":[\"Puducherry\"],\"lat\":[79.8083],\"legendgroup\":\"Puducherry\",\"lon\":[11.9416],\"marker\":{\"color\":\"#B6E880\",\"size\":[6.18],\"sizemode\":\"area\",\"sizeref\":0.189625,\"symbol\":\"circle\"},\"mode\":\"markers\",\"name\":\"Puducherry\",\"showlegend\":true,\"type\":\"scattergeo\"},{\"geo\":\"geo\",\"hovertemplate\":\"\\u003cb\\u003e%{hovertext}\\u003c\\u002fb\\u003e\\u003cbr\\u003e\\u003cbr\\u003eRegion=Punjab\\u003cbr\\u003emonth=october\\u003cbr\\u003eEstimatedUnemploymentRate=%{marker.size}\\u003cbr\\u003elatitude=%{lat}\\u003cbr\\u003elongitude=%{lon}\\u003cextra\\u003e\\u003c\\u002fextra\\u003e\",\"hovertext\":[\"Punjab\"],\"lat\":[75.3412],\"legendgroup\":\"Punjab\",\"lon\":[31.1471],\"marker\":{\"color\":\"#FF97FF\",\"size\":[9.88],\"sizemode\":\"area\",\"sizeref\":0.189625,\"symbol\":\"circle\"},\"mode\":\"markers\",\"name\":\"Punjab\",\"showlegend\":true,\"type\":\"scattergeo\"},{\"geo\":\"geo\",\"hovertemplate\":\"\\u003cb\\u003e%{hovertext}\\u003c\\u002fb\\u003e\\u003cbr\\u003e\\u003cbr\\u003eRegion=Rajasthan\\u003cbr\\u003emonth=october\\u003cbr\\u003eEstimatedUnemploymentRate=%{marker.size}\\u003cbr\\u003elatitude=%{lat}\\u003cbr\\u003elongitude=%{lon}\\u003cextra\\u003e\\u003c\\u002fextra\\u003e\",\"hovertext\":[\"Rajasthan\"],\"lat\":[74.2179],\"legendgroup\":\"Rajasthan\",\"lon\":[27.0238],\"marker\":{\"color\":\"#FECB52\",\"size\":[24.15],\"sizemode\":\"area\",\"sizeref\":0.189625,\"symbol\":\"circle\"},\"mode\":\"markers\",\"name\":\"Rajasthan\",\"showlegend\":true,\"type\":\"scattergeo\"},{\"geo\":\"geo\",\"hovertemplate\":\"\\u003cb\\u003e%{hovertext}\\u003c\\u002fb\\u003e\\u003cbr\\u003e\\u003cbr\\u003eRegion=Sikkim\\u003cbr\\u003emonth=october\\u003cbr\\u003eEstimatedUnemploymentRate=%{marker.size}\\u003cbr\\u003elatitude=%{lat}\\u003cbr\\u003elongitude=%{lon}\\u003cextra\\u003e\\u003c\\u002fextra\\u003e\",\"hovertext\":[\"Sikkim\"],\"lat\":[88.5122],\"legendgroup\":\"Sikkim\",\"lon\":[27.533],\"marker\":{\"color\":\"#636efa\",\"size\":[0.88],\"sizemode\":\"area\",\"sizeref\":0.189625,\"symbol\":\"circle\"},\"mode\":\"markers\",\"name\":\"Sikkim\",\"showlegend\":true,\"type\":\"scattergeo\"},{\"geo\":\"geo\",\"hovertemplate\":\"\\u003cb\\u003e%{hovertext}\\u003c\\u002fb\\u003e\\u003cbr\\u003e\\u003cbr\\u003eRegion=Tamil Nadu\\u003cbr\\u003emonth=october\\u003cbr\\u003eEstimatedUnemploymentRate=%{marker.size}\\u003cbr\\u003elatitude=%{lat}\\u003cbr\\u003elongitude=%{lon}\\u003cextra\\u003e\\u003c\\u002fextra\\u003e\",\"hovertext\":[\"Tamil Nadu\"],\"lat\":[78.6569],\"legendgroup\":\"Tamil Nadu\",\"lon\":[11.1271],\"marker\":{\"color\":\"#EF553B\",\"size\":[2.16],\"sizemode\":\"area\",\"sizeref\":0.189625,\"symbol\":\"circle\"},\"mode\":\"markers\",\"name\":\"Tamil Nadu\",\"showlegend\":true,\"type\":\"scattergeo\"},{\"geo\":\"geo\",\"hovertemplate\":\"\\u003cb\\u003e%{hovertext}\\u003c\\u002fb\\u003e\\u003cbr\\u003e\\u003cbr\\u003eRegion=Telangana\\u003cbr\\u003emonth=october\\u003cbr\\u003eEstimatedUnemploymentRate=%{marker.size}\\u003cbr\\u003elatitude=%{lat}\\u003cbr\\u003elongitude=%{lon}\\u003cextra\\u003e\\u003c\\u002fextra\\u003e\",\"hovertext\":[\"Telangana\"],\"lat\":[79.0193],\"legendgroup\":\"Telangana\",\"lon\":[18.1124],\"marker\":{\"color\":\"#00cc96\",\"size\":[2.86],\"sizemode\":\"area\",\"sizeref\":0.189625,\"symbol\":\"circle\"},\"mode\":\"markers\",\"name\":\"Telangana\",\"showlegend\":true,\"type\":\"scattergeo\"},{\"geo\":\"geo\",\"hovertemplate\":\"\\u003cb\\u003e%{hovertext}\\u003c\\u002fb\\u003e\\u003cbr\\u003e\\u003cbr\\u003eRegion=Tripura\\u003cbr\\u003emonth=october\\u003cbr\\u003eEstimatedUnemploymentRate=%{marker.size}\\u003cbr\\u003elatitude=%{lat}\\u003cbr\\u003elongitude=%{lon}\\u003cextra\\u003e\\u003c\\u002fextra\\u003e\",\"hovertext\":[\"Tripura\"],\"lat\":[91.9882],\"legendgroup\":\"Tripura\",\"lon\":[23.9408],\"marker\":{\"color\":\"#ab63fa\",\"size\":[11.57],\"sizemode\":\"area\",\"sizeref\":0.189625,\"symbol\":\"circle\"},\"mode\":\"markers\",\"name\":\"Tripura\",\"showlegend\":true,\"type\":\"scattergeo\"},{\"geo\":\"geo\",\"hovertemplate\":\"\\u003cb\\u003e%{hovertext}\\u003c\\u002fb\\u003e\\u003cbr\\u003e\\u003cbr\\u003eRegion=Uttar Pradesh\\u003cbr\\u003emonth=october\\u003cbr\\u003eEstimatedUnemploymentRate=%{marker.size}\\u003cbr\\u003elatitude=%{lat}\\u003cbr\\u003elongitude=%{lon}\\u003cextra\\u003e\\u003c\\u002fextra\\u003e\",\"hovertext\":[\"Uttar Pradesh\"],\"lat\":[80.9462],\"legendgroup\":\"Uttar Pradesh\",\"lon\":[26.8467],\"marker\":{\"color\":\"#FFA15A\",\"size\":[3.75],\"sizemode\":\"area\",\"sizeref\":0.189625,\"symbol\":\"circle\"},\"mode\":\"markers\",\"name\":\"Uttar Pradesh\",\"showlegend\":true,\"type\":\"scattergeo\"},{\"geo\":\"geo\",\"hovertemplate\":\"\\u003cb\\u003e%{hovertext}\\u003c\\u002fb\\u003e\\u003cbr\\u003e\\u003cbr\\u003eRegion=Uttarakhand\\u003cbr\\u003emonth=october\\u003cbr\\u003eEstimatedUnemploymentRate=%{marker.size}\\u003cbr\\u003elatitude=%{lat}\\u003cbr\\u003elongitude=%{lon}\\u003cextra\\u003e\\u003c\\u002fextra\\u003e\",\"hovertext\":[\"Uttarakhand\"],\"lat\":[79.0193],\"legendgroup\":\"Uttarakhand\",\"lon\":[30.0668],\"marker\":{\"color\":\"#19d3f3\",\"size\":[9.23],\"sizemode\":\"area\",\"sizeref\":0.189625,\"symbol\":\"circle\"},\"mode\":\"markers\",\"name\":\"Uttarakhand\",\"showlegend\":true,\"type\":\"scattergeo\"},{\"geo\":\"geo\",\"hovertemplate\":\"\\u003cb\\u003e%{hovertext}\\u003c\\u002fb\\u003e\\u003cbr\\u003e\\u003cbr\\u003eRegion=West Bengal\\u003cbr\\u003emonth=october\\u003cbr\\u003eEstimatedUnemploymentRate=%{marker.size}\\u003cbr\\u003elatitude=%{lat}\\u003cbr\\u003elongitude=%{lon}\\u003cextra\\u003e\\u003c\\u002fextra\\u003e\",\"hovertext\":[\"West Bengal\"],\"lat\":[87.855],\"legendgroup\":\"West Bengal\",\"lon\":[22.9868],\"marker\":{\"color\":\"#FF6692\",\"size\":[9.98],\"sizemode\":\"area\",\"sizeref\":0.189625,\"symbol\":\"circle\"},\"mode\":\"markers\",\"name\":\"West Bengal\",\"showlegend\":true,\"type\":\"scattergeo\"}],\"name\":\"october\"}]);\n",
       "                        }).then(function(){\n",
       "                            \n",
       "var gd = document.getElementById('2597d790-c094-432c-9316-38ceeeecfa6e');\n",
       "var x = new MutationObserver(function (mutations, observer) {{\n",
       "        var display = window.getComputedStyle(gd).display;\n",
       "        if (!display || display === 'none') {{\n",
       "            console.log([gd, 'removed!']);\n",
       "            Plotly.purge(gd);\n",
       "            observer.disconnect();\n",
       "        }}\n",
       "}});\n",
       "\n",
       "// Listen for the removal of the full notebook cells\n",
       "var notebookContainer = gd.closest('#notebook-container');\n",
       "if (notebookContainer) {{\n",
       "    x.observe(notebookContainer, {childList: true});\n",
       "}}\n",
       "\n",
       "// Listen for the clearing of the current output cell\n",
       "var outputEl = gd.closest('.output');\n",
       "if (outputEl) {{\n",
       "    x.observe(outputEl, {childList: true});\n",
       "}}\n",
       "\n",
       "                        })                };                });            </script>        </div>"
      ]
     },
     "metadata": {},
     "output_type": "display_data"
    }
   ],
   "source": [
    "fig = px.scatter_geo(df,lat='latitude', lon='longitude', color='Region',\n",
    "                     hover_name='Region',size='EstimatedUnemploymentRate',animation_frame='month',scope='world',\n",
    "                     title='Earthquakes Around the World')\n",
    "fig.layout.updatemenus[0].buttons[0].args[1]['frame']['duration'] =3000\n",
    "fig.update_geos(lataxis_range=[1,100],lonaxis_range=[105,200],oceancolor='lightgrey',showocean=True)\n",
    "fig.show()"
   ]
  },
  {
   "cell_type": "code",
   "execution_count": null,
   "id": "e07a5ed3",
   "metadata": {},
   "outputs": [],
   "source": []
  },
  {
   "cell_type": "code",
   "execution_count": null,
   "id": "98496d74",
   "metadata": {},
   "outputs": [],
   "source": []
  },
  {
   "cell_type": "code",
   "execution_count": null,
   "id": "0b081da9",
   "metadata": {},
   "outputs": [],
   "source": []
  },
  {
   "cell_type": "code",
   "execution_count": null,
   "id": "0040afb0",
   "metadata": {},
   "outputs": [],
   "source": []
  },
  {
   "cell_type": "code",
   "execution_count": null,
   "id": "55e41de0",
   "metadata": {},
   "outputs": [],
   "source": []
  },
  {
   "cell_type": "code",
   "execution_count": null,
   "id": "863f61b4",
   "metadata": {},
   "outputs": [],
   "source": []
  },
  {
   "cell_type": "code",
   "execution_count": null,
   "id": "032615dc",
   "metadata": {},
   "outputs": [],
   "source": []
  },
  {
   "cell_type": "code",
   "execution_count": null,
   "id": "f366181f",
   "metadata": {},
   "outputs": [],
   "source": []
  },
  {
   "cell_type": "code",
   "execution_count": null,
   "id": "5203c252",
   "metadata": {},
   "outputs": [],
   "source": []
  },
  {
   "cell_type": "code",
   "execution_count": null,
   "id": "bdb8ea0d",
   "metadata": {},
   "outputs": [],
   "source": []
  },
  {
   "cell_type": "code",
   "execution_count": null,
   "id": "46ede5ad",
   "metadata": {},
   "outputs": [],
   "source": []
  },
  {
   "cell_type": "code",
   "execution_count": null,
   "id": "adea999b",
   "metadata": {},
   "outputs": [],
   "source": []
  },
  {
   "cell_type": "code",
   "execution_count": null,
   "id": "915f3f6c",
   "metadata": {},
   "outputs": [],
   "source": []
  },
  {
   "cell_type": "code",
   "execution_count": null,
   "id": "3aaa5c51",
   "metadata": {},
   "outputs": [],
   "source": []
  },
  {
   "cell_type": "code",
   "execution_count": null,
   "id": "b973e10c",
   "metadata": {},
   "outputs": [],
   "source": []
  },
  {
   "cell_type": "code",
   "execution_count": null,
   "id": "1d05aaef",
   "metadata": {},
   "outputs": [],
   "source": []
  },
  {
   "cell_type": "code",
   "execution_count": null,
   "id": "fff6b7a2",
   "metadata": {},
   "outputs": [],
   "source": []
  },
  {
   "cell_type": "code",
   "execution_count": 38,
   "id": "d9c8b30d",
   "metadata": {},
   "outputs": [],
   "source": [
    "#  ['africa', 'asia', 'europe', 'north america', 'south\n",
    "#             america', 'usa', 'world']\n"
   ]
  },
  {
   "cell_type": "code",
   "execution_count": 39,
   "id": "d6188d23",
   "metadata": {},
   "outputs": [],
   "source": [
    "import plotly.graph_objects as go\n",
    "# Example data\n",
    "locations = ['New York', 'Los Angeles', 'Chicago', 'Houston', 'Miami']\n",
    "latitudes = [40.7128, 34.0522, 41.8781, 29.7604, 25.7617]\n",
    "longitudes = [-74.0060, -118.2437, -87.6298, -95.3698, -80.1918]\n",
    "values = [100, 200, 50, 150, 75]\n"
   ]
  },
  {
   "cell_type": "code",
   "execution_count": 40,
   "id": "24291aa7",
   "metadata": {},
   "outputs": [],
   "source": [
    "trace = go.Scattergeo(\n",
    "    locationmode='USA-states',  # Specify the location mode (e.g., USA states)\n",
    "    lon=longitudes,            # Longitude data\n",
    "    lat=latitudes,             # Latitude data\n",
    "    text=locations,            # Text to display when hovering over points\n",
    "    mode='markers',            # Display points as markers\n",
    "    marker=dict(\n",
    "        size=values,            # Marker size based on some data\n",
    "        color='blue',           # Marker color\n",
    "        opacity=0.7             # Marker opacity\n",
    "    )\n",
    ")"
   ]
  },
  {
   "cell_type": "code",
   "execution_count": 41,
   "id": "a91e0481",
   "metadata": {},
   "outputs": [],
   "source": [
    "layout = go.Layout(\n",
    "    title='Scatter Geo Plot',\n",
    "    geo=dict(\n",
    "        scope='usa',  # Set the scope of the map (e.g., 'usa', 'world', etc.)\n",
    "    )\n",
    ")"
   ]
  },
  {
   "cell_type": "code",
   "execution_count": 42,
   "id": "e77cca3e",
   "metadata": {},
   "outputs": [
    {
     "data": {
      "application/vnd.plotly.v1+json": {
       "config": {
        "plotlyServerURL": "https://plot.ly"
       },
       "data": [
        {
         "lat": [
          40.7128,
          34.0522,
          41.8781,
          29.7604,
          25.7617
         ],
         "locationmode": "USA-states",
         "lon": [
          -74.006,
          -118.2437,
          -87.6298,
          -95.3698,
          -80.1918
         ],
         "marker": {
          "color": "blue",
          "opacity": 0.7,
          "size": [
           100,
           200,
           50,
           150,
           75
          ]
         },
         "mode": "markers",
         "text": [
          "New York",
          "Los Angeles",
          "Chicago",
          "Houston",
          "Miami"
         ],
         "type": "scattergeo"
        }
       ],
       "layout": {
        "geo": {
         "scope": "usa"
        },
        "template": {
         "data": {
          "bar": [
           {
            "error_x": {
             "color": "#2a3f5f"
            },
            "error_y": {
             "color": "#2a3f5f"
            },
            "marker": {
             "line": {
              "color": "#E5ECF6",
              "width": 0.5
             },
             "pattern": {
              "fillmode": "overlay",
              "size": 10,
              "solidity": 0.2
             }
            },
            "type": "bar"
           }
          ],
          "barpolar": [
           {
            "marker": {
             "line": {
              "color": "#E5ECF6",
              "width": 0.5
             },
             "pattern": {
              "fillmode": "overlay",
              "size": 10,
              "solidity": 0.2
             }
            },
            "type": "barpolar"
           }
          ],
          "carpet": [
           {
            "aaxis": {
             "endlinecolor": "#2a3f5f",
             "gridcolor": "white",
             "linecolor": "white",
             "minorgridcolor": "white",
             "startlinecolor": "#2a3f5f"
            },
            "baxis": {
             "endlinecolor": "#2a3f5f",
             "gridcolor": "white",
             "linecolor": "white",
             "minorgridcolor": "white",
             "startlinecolor": "#2a3f5f"
            },
            "type": "carpet"
           }
          ],
          "choropleth": [
           {
            "colorbar": {
             "outlinewidth": 0,
             "ticks": ""
            },
            "type": "choropleth"
           }
          ],
          "contour": [
           {
            "colorbar": {
             "outlinewidth": 0,
             "ticks": ""
            },
            "colorscale": [
             [
              0,
              "#0d0887"
             ],
             [
              0.1111111111111111,
              "#46039f"
             ],
             [
              0.2222222222222222,
              "#7201a8"
             ],
             [
              0.3333333333333333,
              "#9c179e"
             ],
             [
              0.4444444444444444,
              "#bd3786"
             ],
             [
              0.5555555555555556,
              "#d8576b"
             ],
             [
              0.6666666666666666,
              "#ed7953"
             ],
             [
              0.7777777777777778,
              "#fb9f3a"
             ],
             [
              0.8888888888888888,
              "#fdca26"
             ],
             [
              1,
              "#f0f921"
             ]
            ],
            "type": "contour"
           }
          ],
          "contourcarpet": [
           {
            "colorbar": {
             "outlinewidth": 0,
             "ticks": ""
            },
            "type": "contourcarpet"
           }
          ],
          "heatmap": [
           {
            "colorbar": {
             "outlinewidth": 0,
             "ticks": ""
            },
            "colorscale": [
             [
              0,
              "#0d0887"
             ],
             [
              0.1111111111111111,
              "#46039f"
             ],
             [
              0.2222222222222222,
              "#7201a8"
             ],
             [
              0.3333333333333333,
              "#9c179e"
             ],
             [
              0.4444444444444444,
              "#bd3786"
             ],
             [
              0.5555555555555556,
              "#d8576b"
             ],
             [
              0.6666666666666666,
              "#ed7953"
             ],
             [
              0.7777777777777778,
              "#fb9f3a"
             ],
             [
              0.8888888888888888,
              "#fdca26"
             ],
             [
              1,
              "#f0f921"
             ]
            ],
            "type": "heatmap"
           }
          ],
          "heatmapgl": [
           {
            "colorbar": {
             "outlinewidth": 0,
             "ticks": ""
            },
            "colorscale": [
             [
              0,
              "#0d0887"
             ],
             [
              0.1111111111111111,
              "#46039f"
             ],
             [
              0.2222222222222222,
              "#7201a8"
             ],
             [
              0.3333333333333333,
              "#9c179e"
             ],
             [
              0.4444444444444444,
              "#bd3786"
             ],
             [
              0.5555555555555556,
              "#d8576b"
             ],
             [
              0.6666666666666666,
              "#ed7953"
             ],
             [
              0.7777777777777778,
              "#fb9f3a"
             ],
             [
              0.8888888888888888,
              "#fdca26"
             ],
             [
              1,
              "#f0f921"
             ]
            ],
            "type": "heatmapgl"
           }
          ],
          "histogram": [
           {
            "marker": {
             "pattern": {
              "fillmode": "overlay",
              "size": 10,
              "solidity": 0.2
             }
            },
            "type": "histogram"
           }
          ],
          "histogram2d": [
           {
            "colorbar": {
             "outlinewidth": 0,
             "ticks": ""
            },
            "colorscale": [
             [
              0,
              "#0d0887"
             ],
             [
              0.1111111111111111,
              "#46039f"
             ],
             [
              0.2222222222222222,
              "#7201a8"
             ],
             [
              0.3333333333333333,
              "#9c179e"
             ],
             [
              0.4444444444444444,
              "#bd3786"
             ],
             [
              0.5555555555555556,
              "#d8576b"
             ],
             [
              0.6666666666666666,
              "#ed7953"
             ],
             [
              0.7777777777777778,
              "#fb9f3a"
             ],
             [
              0.8888888888888888,
              "#fdca26"
             ],
             [
              1,
              "#f0f921"
             ]
            ],
            "type": "histogram2d"
           }
          ],
          "histogram2dcontour": [
           {
            "colorbar": {
             "outlinewidth": 0,
             "ticks": ""
            },
            "colorscale": [
             [
              0,
              "#0d0887"
             ],
             [
              0.1111111111111111,
              "#46039f"
             ],
             [
              0.2222222222222222,
              "#7201a8"
             ],
             [
              0.3333333333333333,
              "#9c179e"
             ],
             [
              0.4444444444444444,
              "#bd3786"
             ],
             [
              0.5555555555555556,
              "#d8576b"
             ],
             [
              0.6666666666666666,
              "#ed7953"
             ],
             [
              0.7777777777777778,
              "#fb9f3a"
             ],
             [
              0.8888888888888888,
              "#fdca26"
             ],
             [
              1,
              "#f0f921"
             ]
            ],
            "type": "histogram2dcontour"
           }
          ],
          "mesh3d": [
           {
            "colorbar": {
             "outlinewidth": 0,
             "ticks": ""
            },
            "type": "mesh3d"
           }
          ],
          "parcoords": [
           {
            "line": {
             "colorbar": {
              "outlinewidth": 0,
              "ticks": ""
             }
            },
            "type": "parcoords"
           }
          ],
          "pie": [
           {
            "automargin": true,
            "type": "pie"
           }
          ],
          "scatter": [
           {
            "fillpattern": {
             "fillmode": "overlay",
             "size": 10,
             "solidity": 0.2
            },
            "type": "scatter"
           }
          ],
          "scatter3d": [
           {
            "line": {
             "colorbar": {
              "outlinewidth": 0,
              "ticks": ""
             }
            },
            "marker": {
             "colorbar": {
              "outlinewidth": 0,
              "ticks": ""
             }
            },
            "type": "scatter3d"
           }
          ],
          "scattercarpet": [
           {
            "marker": {
             "colorbar": {
              "outlinewidth": 0,
              "ticks": ""
             }
            },
            "type": "scattercarpet"
           }
          ],
          "scattergeo": [
           {
            "marker": {
             "colorbar": {
              "outlinewidth": 0,
              "ticks": ""
             }
            },
            "type": "scattergeo"
           }
          ],
          "scattergl": [
           {
            "marker": {
             "colorbar": {
              "outlinewidth": 0,
              "ticks": ""
             }
            },
            "type": "scattergl"
           }
          ],
          "scattermapbox": [
           {
            "marker": {
             "colorbar": {
              "outlinewidth": 0,
              "ticks": ""
             }
            },
            "type": "scattermapbox"
           }
          ],
          "scatterpolar": [
           {
            "marker": {
             "colorbar": {
              "outlinewidth": 0,
              "ticks": ""
             }
            },
            "type": "scatterpolar"
           }
          ],
          "scatterpolargl": [
           {
            "marker": {
             "colorbar": {
              "outlinewidth": 0,
              "ticks": ""
             }
            },
            "type": "scatterpolargl"
           }
          ],
          "scatterternary": [
           {
            "marker": {
             "colorbar": {
              "outlinewidth": 0,
              "ticks": ""
             }
            },
            "type": "scatterternary"
           }
          ],
          "surface": [
           {
            "colorbar": {
             "outlinewidth": 0,
             "ticks": ""
            },
            "colorscale": [
             [
              0,
              "#0d0887"
             ],
             [
              0.1111111111111111,
              "#46039f"
             ],
             [
              0.2222222222222222,
              "#7201a8"
             ],
             [
              0.3333333333333333,
              "#9c179e"
             ],
             [
              0.4444444444444444,
              "#bd3786"
             ],
             [
              0.5555555555555556,
              "#d8576b"
             ],
             [
              0.6666666666666666,
              "#ed7953"
             ],
             [
              0.7777777777777778,
              "#fb9f3a"
             ],
             [
              0.8888888888888888,
              "#fdca26"
             ],
             [
              1,
              "#f0f921"
             ]
            ],
            "type": "surface"
           }
          ],
          "table": [
           {
            "cells": {
             "fill": {
              "color": "#EBF0F8"
             },
             "line": {
              "color": "white"
             }
            },
            "header": {
             "fill": {
              "color": "#C8D4E3"
             },
             "line": {
              "color": "white"
             }
            },
            "type": "table"
           }
          ]
         },
         "layout": {
          "annotationdefaults": {
           "arrowcolor": "#2a3f5f",
           "arrowhead": 0,
           "arrowwidth": 1
          },
          "autotypenumbers": "strict",
          "coloraxis": {
           "colorbar": {
            "outlinewidth": 0,
            "ticks": ""
           }
          },
          "colorscale": {
           "diverging": [
            [
             0,
             "#8e0152"
            ],
            [
             0.1,
             "#c51b7d"
            ],
            [
             0.2,
             "#de77ae"
            ],
            [
             0.3,
             "#f1b6da"
            ],
            [
             0.4,
             "#fde0ef"
            ],
            [
             0.5,
             "#f7f7f7"
            ],
            [
             0.6,
             "#e6f5d0"
            ],
            [
             0.7,
             "#b8e186"
            ],
            [
             0.8,
             "#7fbc41"
            ],
            [
             0.9,
             "#4d9221"
            ],
            [
             1,
             "#276419"
            ]
           ],
           "sequential": [
            [
             0,
             "#0d0887"
            ],
            [
             0.1111111111111111,
             "#46039f"
            ],
            [
             0.2222222222222222,
             "#7201a8"
            ],
            [
             0.3333333333333333,
             "#9c179e"
            ],
            [
             0.4444444444444444,
             "#bd3786"
            ],
            [
             0.5555555555555556,
             "#d8576b"
            ],
            [
             0.6666666666666666,
             "#ed7953"
            ],
            [
             0.7777777777777778,
             "#fb9f3a"
            ],
            [
             0.8888888888888888,
             "#fdca26"
            ],
            [
             1,
             "#f0f921"
            ]
           ],
           "sequentialminus": [
            [
             0,
             "#0d0887"
            ],
            [
             0.1111111111111111,
             "#46039f"
            ],
            [
             0.2222222222222222,
             "#7201a8"
            ],
            [
             0.3333333333333333,
             "#9c179e"
            ],
            [
             0.4444444444444444,
             "#bd3786"
            ],
            [
             0.5555555555555556,
             "#d8576b"
            ],
            [
             0.6666666666666666,
             "#ed7953"
            ],
            [
             0.7777777777777778,
             "#fb9f3a"
            ],
            [
             0.8888888888888888,
             "#fdca26"
            ],
            [
             1,
             "#f0f921"
            ]
           ]
          },
          "colorway": [
           "#636efa",
           "#EF553B",
           "#00cc96",
           "#ab63fa",
           "#FFA15A",
           "#19d3f3",
           "#FF6692",
           "#B6E880",
           "#FF97FF",
           "#FECB52"
          ],
          "font": {
           "color": "#2a3f5f"
          },
          "geo": {
           "bgcolor": "white",
           "lakecolor": "white",
           "landcolor": "#E5ECF6",
           "showlakes": true,
           "showland": true,
           "subunitcolor": "white"
          },
          "hoverlabel": {
           "align": "left"
          },
          "hovermode": "closest",
          "mapbox": {
           "style": "light"
          },
          "paper_bgcolor": "white",
          "plot_bgcolor": "#E5ECF6",
          "polar": {
           "angularaxis": {
            "gridcolor": "white",
            "linecolor": "white",
            "ticks": ""
           },
           "bgcolor": "#E5ECF6",
           "radialaxis": {
            "gridcolor": "white",
            "linecolor": "white",
            "ticks": ""
           }
          },
          "scene": {
           "xaxis": {
            "backgroundcolor": "#E5ECF6",
            "gridcolor": "white",
            "gridwidth": 2,
            "linecolor": "white",
            "showbackground": true,
            "ticks": "",
            "zerolinecolor": "white"
           },
           "yaxis": {
            "backgroundcolor": "#E5ECF6",
            "gridcolor": "white",
            "gridwidth": 2,
            "linecolor": "white",
            "showbackground": true,
            "ticks": "",
            "zerolinecolor": "white"
           },
           "zaxis": {
            "backgroundcolor": "#E5ECF6",
            "gridcolor": "white",
            "gridwidth": 2,
            "linecolor": "white",
            "showbackground": true,
            "ticks": "",
            "zerolinecolor": "white"
           }
          },
          "shapedefaults": {
           "line": {
            "color": "#2a3f5f"
           }
          },
          "ternary": {
           "aaxis": {
            "gridcolor": "white",
            "linecolor": "white",
            "ticks": ""
           },
           "baxis": {
            "gridcolor": "white",
            "linecolor": "white",
            "ticks": ""
           },
           "bgcolor": "#E5ECF6",
           "caxis": {
            "gridcolor": "white",
            "linecolor": "white",
            "ticks": ""
           }
          },
          "title": {
           "x": 0.05
          },
          "xaxis": {
           "automargin": true,
           "gridcolor": "white",
           "linecolor": "white",
           "ticks": "",
           "title": {
            "standoff": 15
           },
           "zerolinecolor": "white",
           "zerolinewidth": 2
          },
          "yaxis": {
           "automargin": true,
           "gridcolor": "white",
           "linecolor": "white",
           "ticks": "",
           "title": {
            "standoff": 15
           },
           "zerolinecolor": "white",
           "zerolinewidth": 2
          }
         }
        },
        "title": {
         "text": "Scatter Geo Plot"
        }
       }
      },
      "text/html": [
       "<div>                            <div id=\"8b755c38-ea18-45d2-bebb-3982da6fa17b\" class=\"plotly-graph-div\" style=\"height:525px; width:100%;\"></div>            <script type=\"text/javascript\">                require([\"plotly\"], function(Plotly) {                    window.PLOTLYENV=window.PLOTLYENV || {};                                    if (document.getElementById(\"8b755c38-ea18-45d2-bebb-3982da6fa17b\")) {                    Plotly.newPlot(                        \"8b755c38-ea18-45d2-bebb-3982da6fa17b\",                        [{\"lat\":[40.7128,34.0522,41.8781,29.7604,25.7617],\"locationmode\":\"USA-states\",\"lon\":[-74.006,-118.2437,-87.6298,-95.3698,-80.1918],\"marker\":{\"color\":\"blue\",\"opacity\":0.7,\"size\":[100,200,50,150,75]},\"mode\":\"markers\",\"text\":[\"New York\",\"Los Angeles\",\"Chicago\",\"Houston\",\"Miami\"],\"type\":\"scattergeo\"}],                        {\"geo\":{\"scope\":\"usa\"},\"title\":{\"text\":\"Scatter Geo Plot\"},\"template\":{\"data\":{\"histogram2dcontour\":[{\"type\":\"histogram2dcontour\",\"colorbar\":{\"outlinewidth\":0,\"ticks\":\"\"},\"colorscale\":[[0.0,\"#0d0887\"],[0.1111111111111111,\"#46039f\"],[0.2222222222222222,\"#7201a8\"],[0.3333333333333333,\"#9c179e\"],[0.4444444444444444,\"#bd3786\"],[0.5555555555555556,\"#d8576b\"],[0.6666666666666666,\"#ed7953\"],[0.7777777777777778,\"#fb9f3a\"],[0.8888888888888888,\"#fdca26\"],[1.0,\"#f0f921\"]]}],\"choropleth\":[{\"type\":\"choropleth\",\"colorbar\":{\"outlinewidth\":0,\"ticks\":\"\"}}],\"histogram2d\":[{\"type\":\"histogram2d\",\"colorbar\":{\"outlinewidth\":0,\"ticks\":\"\"},\"colorscale\":[[0.0,\"#0d0887\"],[0.1111111111111111,\"#46039f\"],[0.2222222222222222,\"#7201a8\"],[0.3333333333333333,\"#9c179e\"],[0.4444444444444444,\"#bd3786\"],[0.5555555555555556,\"#d8576b\"],[0.6666666666666666,\"#ed7953\"],[0.7777777777777778,\"#fb9f3a\"],[0.8888888888888888,\"#fdca26\"],[1.0,\"#f0f921\"]]}],\"heatmap\":[{\"type\":\"heatmap\",\"colorbar\":{\"outlinewidth\":0,\"ticks\":\"\"},\"colorscale\":[[0.0,\"#0d0887\"],[0.1111111111111111,\"#46039f\"],[0.2222222222222222,\"#7201a8\"],[0.3333333333333333,\"#9c179e\"],[0.4444444444444444,\"#bd3786\"],[0.5555555555555556,\"#d8576b\"],[0.6666666666666666,\"#ed7953\"],[0.7777777777777778,\"#fb9f3a\"],[0.8888888888888888,\"#fdca26\"],[1.0,\"#f0f921\"]]}],\"heatmapgl\":[{\"type\":\"heatmapgl\",\"colorbar\":{\"outlinewidth\":0,\"ticks\":\"\"},\"colorscale\":[[0.0,\"#0d0887\"],[0.1111111111111111,\"#46039f\"],[0.2222222222222222,\"#7201a8\"],[0.3333333333333333,\"#9c179e\"],[0.4444444444444444,\"#bd3786\"],[0.5555555555555556,\"#d8576b\"],[0.6666666666666666,\"#ed7953\"],[0.7777777777777778,\"#fb9f3a\"],[0.8888888888888888,\"#fdca26\"],[1.0,\"#f0f921\"]]}],\"contourcarpet\":[{\"type\":\"contourcarpet\",\"colorbar\":{\"outlinewidth\":0,\"ticks\":\"\"}}],\"contour\":[{\"type\":\"contour\",\"colorbar\":{\"outlinewidth\":0,\"ticks\":\"\"},\"colorscale\":[[0.0,\"#0d0887\"],[0.1111111111111111,\"#46039f\"],[0.2222222222222222,\"#7201a8\"],[0.3333333333333333,\"#9c179e\"],[0.4444444444444444,\"#bd3786\"],[0.5555555555555556,\"#d8576b\"],[0.6666666666666666,\"#ed7953\"],[0.7777777777777778,\"#fb9f3a\"],[0.8888888888888888,\"#fdca26\"],[1.0,\"#f0f921\"]]}],\"surface\":[{\"type\":\"surface\",\"colorbar\":{\"outlinewidth\":0,\"ticks\":\"\"},\"colorscale\":[[0.0,\"#0d0887\"],[0.1111111111111111,\"#46039f\"],[0.2222222222222222,\"#7201a8\"],[0.3333333333333333,\"#9c179e\"],[0.4444444444444444,\"#bd3786\"],[0.5555555555555556,\"#d8576b\"],[0.6666666666666666,\"#ed7953\"],[0.7777777777777778,\"#fb9f3a\"],[0.8888888888888888,\"#fdca26\"],[1.0,\"#f0f921\"]]}],\"mesh3d\":[{\"type\":\"mesh3d\",\"colorbar\":{\"outlinewidth\":0,\"ticks\":\"\"}}],\"scatter\":[{\"fillpattern\":{\"fillmode\":\"overlay\",\"size\":10,\"solidity\":0.2},\"type\":\"scatter\"}],\"parcoords\":[{\"type\":\"parcoords\",\"line\":{\"colorbar\":{\"outlinewidth\":0,\"ticks\":\"\"}}}],\"scatterpolargl\":[{\"type\":\"scatterpolargl\",\"marker\":{\"colorbar\":{\"outlinewidth\":0,\"ticks\":\"\"}}}],\"bar\":[{\"error_x\":{\"color\":\"#2a3f5f\"},\"error_y\":{\"color\":\"#2a3f5f\"},\"marker\":{\"line\":{\"color\":\"#E5ECF6\",\"width\":0.5},\"pattern\":{\"fillmode\":\"overlay\",\"size\":10,\"solidity\":0.2}},\"type\":\"bar\"}],\"scattergeo\":[{\"type\":\"scattergeo\",\"marker\":{\"colorbar\":{\"outlinewidth\":0,\"ticks\":\"\"}}}],\"scatterpolar\":[{\"type\":\"scatterpolar\",\"marker\":{\"colorbar\":{\"outlinewidth\":0,\"ticks\":\"\"}}}],\"histogram\":[{\"marker\":{\"pattern\":{\"fillmode\":\"overlay\",\"size\":10,\"solidity\":0.2}},\"type\":\"histogram\"}],\"scattergl\":[{\"type\":\"scattergl\",\"marker\":{\"colorbar\":{\"outlinewidth\":0,\"ticks\":\"\"}}}],\"scatter3d\":[{\"type\":\"scatter3d\",\"line\":{\"colorbar\":{\"outlinewidth\":0,\"ticks\":\"\"}},\"marker\":{\"colorbar\":{\"outlinewidth\":0,\"ticks\":\"\"}}}],\"scattermapbox\":[{\"type\":\"scattermapbox\",\"marker\":{\"colorbar\":{\"outlinewidth\":0,\"ticks\":\"\"}}}],\"scatterternary\":[{\"type\":\"scatterternary\",\"marker\":{\"colorbar\":{\"outlinewidth\":0,\"ticks\":\"\"}}}],\"scattercarpet\":[{\"type\":\"scattercarpet\",\"marker\":{\"colorbar\":{\"outlinewidth\":0,\"ticks\":\"\"}}}],\"carpet\":[{\"aaxis\":{\"endlinecolor\":\"#2a3f5f\",\"gridcolor\":\"white\",\"linecolor\":\"white\",\"minorgridcolor\":\"white\",\"startlinecolor\":\"#2a3f5f\"},\"baxis\":{\"endlinecolor\":\"#2a3f5f\",\"gridcolor\":\"white\",\"linecolor\":\"white\",\"minorgridcolor\":\"white\",\"startlinecolor\":\"#2a3f5f\"},\"type\":\"carpet\"}],\"table\":[{\"cells\":{\"fill\":{\"color\":\"#EBF0F8\"},\"line\":{\"color\":\"white\"}},\"header\":{\"fill\":{\"color\":\"#C8D4E3\"},\"line\":{\"color\":\"white\"}},\"type\":\"table\"}],\"barpolar\":[{\"marker\":{\"line\":{\"color\":\"#E5ECF6\",\"width\":0.5},\"pattern\":{\"fillmode\":\"overlay\",\"size\":10,\"solidity\":0.2}},\"type\":\"barpolar\"}],\"pie\":[{\"automargin\":true,\"type\":\"pie\"}]},\"layout\":{\"autotypenumbers\":\"strict\",\"colorway\":[\"#636efa\",\"#EF553B\",\"#00cc96\",\"#ab63fa\",\"#FFA15A\",\"#19d3f3\",\"#FF6692\",\"#B6E880\",\"#FF97FF\",\"#FECB52\"],\"font\":{\"color\":\"#2a3f5f\"},\"hovermode\":\"closest\",\"hoverlabel\":{\"align\":\"left\"},\"paper_bgcolor\":\"white\",\"plot_bgcolor\":\"#E5ECF6\",\"polar\":{\"bgcolor\":\"#E5ECF6\",\"angularaxis\":{\"gridcolor\":\"white\",\"linecolor\":\"white\",\"ticks\":\"\"},\"radialaxis\":{\"gridcolor\":\"white\",\"linecolor\":\"white\",\"ticks\":\"\"}},\"ternary\":{\"bgcolor\":\"#E5ECF6\",\"aaxis\":{\"gridcolor\":\"white\",\"linecolor\":\"white\",\"ticks\":\"\"},\"baxis\":{\"gridcolor\":\"white\",\"linecolor\":\"white\",\"ticks\":\"\"},\"caxis\":{\"gridcolor\":\"white\",\"linecolor\":\"white\",\"ticks\":\"\"}},\"coloraxis\":{\"colorbar\":{\"outlinewidth\":0,\"ticks\":\"\"}},\"colorscale\":{\"sequential\":[[0.0,\"#0d0887\"],[0.1111111111111111,\"#46039f\"],[0.2222222222222222,\"#7201a8\"],[0.3333333333333333,\"#9c179e\"],[0.4444444444444444,\"#bd3786\"],[0.5555555555555556,\"#d8576b\"],[0.6666666666666666,\"#ed7953\"],[0.7777777777777778,\"#fb9f3a\"],[0.8888888888888888,\"#fdca26\"],[1.0,\"#f0f921\"]],\"sequentialminus\":[[0.0,\"#0d0887\"],[0.1111111111111111,\"#46039f\"],[0.2222222222222222,\"#7201a8\"],[0.3333333333333333,\"#9c179e\"],[0.4444444444444444,\"#bd3786\"],[0.5555555555555556,\"#d8576b\"],[0.6666666666666666,\"#ed7953\"],[0.7777777777777778,\"#fb9f3a\"],[0.8888888888888888,\"#fdca26\"],[1.0,\"#f0f921\"]],\"diverging\":[[0,\"#8e0152\"],[0.1,\"#c51b7d\"],[0.2,\"#de77ae\"],[0.3,\"#f1b6da\"],[0.4,\"#fde0ef\"],[0.5,\"#f7f7f7\"],[0.6,\"#e6f5d0\"],[0.7,\"#b8e186\"],[0.8,\"#7fbc41\"],[0.9,\"#4d9221\"],[1,\"#276419\"]]},\"xaxis\":{\"gridcolor\":\"white\",\"linecolor\":\"white\",\"ticks\":\"\",\"title\":{\"standoff\":15},\"zerolinecolor\":\"white\",\"automargin\":true,\"zerolinewidth\":2},\"yaxis\":{\"gridcolor\":\"white\",\"linecolor\":\"white\",\"ticks\":\"\",\"title\":{\"standoff\":15},\"zerolinecolor\":\"white\",\"automargin\":true,\"zerolinewidth\":2},\"scene\":{\"xaxis\":{\"backgroundcolor\":\"#E5ECF6\",\"gridcolor\":\"white\",\"linecolor\":\"white\",\"showbackground\":true,\"ticks\":\"\",\"zerolinecolor\":\"white\",\"gridwidth\":2},\"yaxis\":{\"backgroundcolor\":\"#E5ECF6\",\"gridcolor\":\"white\",\"linecolor\":\"white\",\"showbackground\":true,\"ticks\":\"\",\"zerolinecolor\":\"white\",\"gridwidth\":2},\"zaxis\":{\"backgroundcolor\":\"#E5ECF6\",\"gridcolor\":\"white\",\"linecolor\":\"white\",\"showbackground\":true,\"ticks\":\"\",\"zerolinecolor\":\"white\",\"gridwidth\":2}},\"shapedefaults\":{\"line\":{\"color\":\"#2a3f5f\"}},\"annotationdefaults\":{\"arrowcolor\":\"#2a3f5f\",\"arrowhead\":0,\"arrowwidth\":1},\"geo\":{\"bgcolor\":\"white\",\"landcolor\":\"#E5ECF6\",\"subunitcolor\":\"white\",\"showland\":true,\"showlakes\":true,\"lakecolor\":\"white\"},\"title\":{\"x\":0.05},\"mapbox\":{\"style\":\"light\"}}}},                        {\"responsive\": true}                    ).then(function(){\n",
       "                            \n",
       "var gd = document.getElementById('8b755c38-ea18-45d2-bebb-3982da6fa17b');\n",
       "var x = new MutationObserver(function (mutations, observer) {{\n",
       "        var display = window.getComputedStyle(gd).display;\n",
       "        if (!display || display === 'none') {{\n",
       "            console.log([gd, 'removed!']);\n",
       "            Plotly.purge(gd);\n",
       "            observer.disconnect();\n",
       "        }}\n",
       "}});\n",
       "\n",
       "// Listen for the removal of the full notebook cells\n",
       "var notebookContainer = gd.closest('#notebook-container');\n",
       "if (notebookContainer) {{\n",
       "    x.observe(notebookContainer, {childList: true});\n",
       "}}\n",
       "\n",
       "// Listen for the clearing of the current output cell\n",
       "var outputEl = gd.closest('.output');\n",
       "if (outputEl) {{\n",
       "    x.observe(outputEl, {childList: true});\n",
       "}}\n",
       "\n",
       "                        })                };                });            </script>        </div>"
      ]
     },
     "metadata": {},
     "output_type": "display_data"
    }
   ],
   "source": [
    "fig = go.Figure(data=[trace], layout=layout)\n",
    "fig.show()"
   ]
  },
  {
   "cell_type": "code",
   "execution_count": null,
   "id": "e9c93315",
   "metadata": {},
   "outputs": [],
   "source": []
  },
  {
   "cell_type": "code",
   "execution_count": null,
   "id": "8187420d",
   "metadata": {},
   "outputs": [],
   "source": []
  },
  {
   "cell_type": "code",
   "execution_count": null,
   "id": "4427eabe",
   "metadata": {},
   "outputs": [],
   "source": []
  }
 ],
 "metadata": {
  "kernelspec": {
   "display_name": "Python 3 (ipykernel)",
   "language": "python",
   "name": "python3"
  },
  "language_info": {
   "codemirror_mode": {
    "name": "ipython",
    "version": 3
   },
   "file_extension": ".py",
   "mimetype": "text/x-python",
   "name": "python",
   "nbconvert_exporter": "python",
   "pygments_lexer": "ipython3",
   "version": "3.10.12"
  }
 },
 "nbformat": 4,
 "nbformat_minor": 5
}
